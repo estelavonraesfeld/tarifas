{
 "cells": [
  {
   "cell_type": "markdown",
   "metadata": {},
   "source": [
    "¡Hola Estela! Como te va?\n",
    "\n",
    "Mi nombre es Emanuel Fitta! Un gusto conocerte, seré tu revisor en este proyecto.\n",
    "\n",
    "A continuación un poco sobre la modalidad de revisión que usaremos:\n",
    "\n",
    "Cuando enccuentro un error por primera vez, simplemente lo señalaré, te dejaré encontrarlo y arreglarlo tú cuenta. Además, a lo largo del texto iré haciendo algunas observaciones sobre mejora en tu código y también haré comentarios sobre tus percepciones sobre el tema. Pero si aún no puedes realizar esta tarea, te daré una pista más precisa en la próxima iteración y también algunos ejemplos prácticos. Estaré abierto a comentarios y discusiones sobre el tema.\n",
    "\n",
    "Encontrará mis comentarios a continuación: **no los mueva, modifique ni elimine**.\n",
    "\n",
    "Puedes encontrar mis comentarios en cuadros verdes, amarillos o rojos como este:\n",
    "\n",
    "<div class=\"alert alert-block alert-success\">\n",
    "<b>Comentario del revisor.</b> <a class=\"tocSkip\"></a>\n",
    "\n",
    "Exito. Todo se ha hecho de forma exitosa.\n",
    "</div>\n",
    "\n",
    "<div class=\"alert alert-block alert-warning\">\n",
    "<b>Comentario del revisor.</b> <a class=\"tocSkip\"></a>\n",
    "\n",
    "Observación. Algunas recomendaciones.\n",
    "</div>\n",
    "\n",
    "<div class=\"alert alert-block alert-danger\">\n",
    "\n",
    "<b>Comentario del revisor.</b> <a class=\"tocSkip\"></a>\n",
    "\n",
    "Necesita arreglos. Este apartado necesita algunas correcciones. El trabajo no puede ser aceptado con comentarios rojos. \n",
    "</div>\n",
    "\n",
    "Puedes responder utilizando esto:\n",
    "\n",
    "<div class=\"alert alert-block alert-info\">\n",
    "<b>Respuesta de estudiante.</b> <a class=\"tocSkip\"></a>\n",
    "</div>"
   ]
  },
  {
   "cell_type": "code",
   "execution_count": null,
   "metadata": {},
   "outputs": [],
   "source": []
  },
  {
   "cell_type": "markdown",
   "metadata": {},
   "source": [
    "<div class=\"alert alert-block alert-success\">\n",
    "<b>Review General. (Iteración 3) </b> <a class=\"tocSkip\"></a>\n",
    "\n",
    "Muy bien Estela! Ahora se ve mucho mejor. Veo que has realizado todos los cambios, te felicito por eso.\n",
    "    \n",
    "Te deseo mucho éxito en tu carrera profesional! Vas por un muy buen camino!"
   ]
  },
  {
   "cell_type": "markdown",
   "metadata": {},
   "source": [
    "<div class=\"alert alert-block alert-warning\">\n",
    "<b>Review General. (Iteración 2) </b> <a class=\"tocSkip\"></a>\n",
    "\n",
    "Veo que atendiste muchas de las sugerencias que te coloqué, te agradezco por ello, se nota el esfuerzo que estás poniendo en el trabajo. Aún hay algunos detalles que te he colocado, muchos de estos tienen que ver con los nuevos gráficos que has agregado. Así como el último test en donde estás obteniendo un valor nulo como pval, lo que probablemente significa que algo no se realizó de manera correcta. Se que puede ser complicado esto, pero por favor, te pido paciencia, lo estás haciendo muy bien. "
   ]
  },
  {
   "cell_type": "markdown",
   "metadata": {},
   "source": [
    "<div class=\"alert alert-block alert-warning\">\n",
    "<b>Review General. (Iteración 1) </b> <a class=\"tocSkip\"></a>\n",
    "\n",
    "Antes que nada Estela, quiero darte la bienvenida a este mundo de los datos y de los análisis. También quiero felicitarte porque realmente hiciste un gran trabajo, se puede notar que estás adquiriendo las habilidades necesarias para ser una gran análista.\n",
    "    \n",
    "Por otro lado hay algunos detalles que quisiera recomendarte hacer y que pienso pueden aportarte mucho en tu carrera profesional. Estas observaciones las irás encontrando a lo largo del notebook.\n",
    "    \n",
    "No te preocupes, se que podría ser abrumador, pero estamos aquí para apoyarte y si tienes alguna duda, comentalo en tu siguiente respuesta e intentaré apoyarte. "
   ]
  },
  {
   "cell_type": "markdown",
   "metadata": {
    "id": "3rYiDeEH0q0f"
   },
   "source": [
    "# ¿Cuál es la mejor tarifa?\n",
    "\n",
    "Trabajas como analista para el operador de telecomunicaciones Megaline. La empresa ofrece a sus clientes dos tarifas de prepago, Surf y Ultimate. El departamento comercial quiere saber cuál de las tarifas genera más ingresos para poder ajustar el presupuesto de publicidad.\n",
    "\n",
    "Vas a realizar un análisis preliminar de las tarifas basado en una selección de clientes relativamente pequeña. Tendrás los datos de 500 clientes de Megaline: quiénes son los clientes, de dónde son, qué tarifa usan, así como la cantidad de llamadas que hicieron y los mensajes de texto que enviaron en 2018. Tu trabajo es analizar el comportamiento de los clientes y determinar qué tarifa de prepago genera más ingresos."
   ]
  },
  {
   "cell_type": "markdown",
   "metadata": {
    "id": "VNddPNRQ0q0w"
   },
   "source": [
    "[Te proporcionamos algunos comentarios para orientarte mientras completas este proyecto. Pero debes asegurarte de eliminar todos los comentarios entre corchetes antes de entregar tu proyecto.]\n",
    "\n",
    "[Antes de sumergirte en el análisis de datos, explica por tu propia cuenta el propósito del proyecto y las acciones que planeas realizar.]\n",
    "\n",
    "[Ten en cuenta que estudiar, modificar y analizar datos es un proceso iterativo. Es normal volver a los pasos anteriores y corregirlos/ampliarlos para permitir nuevos pasos.]"
   ]
  },
  {
   "cell_type": "markdown",
   "metadata": {
    "id": "MQi4IPy70q0y"
   },
   "source": [
    "## Inicialización"
   ]
  },
  {
   "cell_type": "code",
   "execution_count": 1,
   "metadata": {
    "id": "MtYIuBxu0q0z"
   },
   "outputs": [],
   "source": [
    "from scipy import stats as st\n",
    "import pandas as pd \n",
    "import numpy as np \n",
    "from matplotlib import pyplot as plt\n",
    "\n"
   ]
  },
  {
   "cell_type": "markdown",
   "metadata": {
    "id": "4ysWWC5i0q00"
   },
   "source": [
    "## Cargar datos"
   ]
  },
  {
   "cell_type": "code",
   "execution_count": 2,
   "metadata": {
    "id": "CCqPW7rS0q01"
   },
   "outputs": [],
   "source": [
    "calls = pd.read_csv('/datasets/megaline_calls.csv')\n",
    "internet = pd.read_csv('/datasets/megaline_internet.csv') \n",
    "messages = pd.read_csv('/datasets/megaline_messages.csv')\n",
    "plans = pd.read_csv('/datasets/megaline_plans.csv')\n",
    "users = pd.read_csv('/datasets/megaline_users.csv')\n",
    "    \n"
   ]
  },
  {
   "cell_type": "markdown",
   "metadata": {},
   "source": [
    "<div class=\"alert alert-block alert-success\">\n",
    "<b>Comentario del revisor. (Iteración 1) </b> <a class=\"tocSkip\"></a>\n",
    "\n",
    "Bien! Dado que las columnas están separadas por comma, no es necesario especificar un separador en el parámetro sep de pd.read_csv."
   ]
  },
  {
   "cell_type": "markdown",
   "metadata": {
    "id": "69qqoJ3r0q01"
   },
   "source": [
    "## Preparar los datos"
   ]
  },
  {
   "cell_type": "markdown",
   "metadata": {
    "id": "vUuZw80S0q01"
   },
   "source": [
    "[Los datos para este proyecto se dividen en varias tablas. Explora cada una para tener una comprensión inicial de los datos. Si es necesario, haz las correcciones requeridas en cada tabla.]"
   ]
  },
  {
   "cell_type": "markdown",
   "metadata": {
    "id": "ohBhimvH0q01"
   },
   "source": [
    "## Tarifas"
   ]
  },
  {
   "cell_type": "code",
   "execution_count": 3,
   "metadata": {
    "id": "GptqP3Q40q02"
   },
   "outputs": [
    {
     "name": "stdout",
     "output_type": "stream",
     "text": [
      "<class 'pandas.core.frame.DataFrame'>\n",
      "RangeIndex: 2 entries, 0 to 1\n",
      "Data columns (total 8 columns):\n",
      " #   Column                 Non-Null Count  Dtype  \n",
      "---  ------                 --------------  -----  \n",
      " 0   messages_included      2 non-null      int64  \n",
      " 1   mb_per_month_included  2 non-null      int64  \n",
      " 2   minutes_included       2 non-null      int64  \n",
      " 3   usd_monthly_pay        2 non-null      int64  \n",
      " 4   usd_per_gb             2 non-null      int64  \n",
      " 5   usd_per_message        2 non-null      float64\n",
      " 6   usd_per_minute         2 non-null      float64\n",
      " 7   plan_name              2 non-null      object \n",
      "dtypes: float64(2), int64(5), object(1)\n",
      "memory usage: 256.0+ bytes\n"
     ]
    },
    {
     "data": {
      "text/html": [
       "<div>\n",
       "<style scoped>\n",
       "    .dataframe tbody tr th:only-of-type {\n",
       "        vertical-align: middle;\n",
       "    }\n",
       "\n",
       "    .dataframe tbody tr th {\n",
       "        vertical-align: top;\n",
       "    }\n",
       "\n",
       "    .dataframe thead th {\n",
       "        text-align: right;\n",
       "    }\n",
       "</style>\n",
       "<table border=\"1\" class=\"dataframe\">\n",
       "  <thead>\n",
       "    <tr style=\"text-align: right;\">\n",
       "      <th></th>\n",
       "      <th>messages_included</th>\n",
       "      <th>mb_per_month_included</th>\n",
       "      <th>minutes_included</th>\n",
       "      <th>usd_monthly_pay</th>\n",
       "      <th>usd_per_gb</th>\n",
       "      <th>usd_per_message</th>\n",
       "      <th>usd_per_minute</th>\n",
       "    </tr>\n",
       "  </thead>\n",
       "  <tbody>\n",
       "    <tr>\n",
       "      <th>count</th>\n",
       "      <td>2.000000</td>\n",
       "      <td>2.000000</td>\n",
       "      <td>2.000000</td>\n",
       "      <td>2.000000</td>\n",
       "      <td>2.00000</td>\n",
       "      <td>2.000000</td>\n",
       "      <td>2.000000</td>\n",
       "    </tr>\n",
       "    <tr>\n",
       "      <th>mean</th>\n",
       "      <td>525.000000</td>\n",
       "      <td>23040.000000</td>\n",
       "      <td>1750.000000</td>\n",
       "      <td>45.000000</td>\n",
       "      <td>8.50000</td>\n",
       "      <td>0.020000</td>\n",
       "      <td>0.020000</td>\n",
       "    </tr>\n",
       "    <tr>\n",
       "      <th>std</th>\n",
       "      <td>671.751442</td>\n",
       "      <td>10861.160159</td>\n",
       "      <td>1767.766953</td>\n",
       "      <td>35.355339</td>\n",
       "      <td>2.12132</td>\n",
       "      <td>0.014142</td>\n",
       "      <td>0.014142</td>\n",
       "    </tr>\n",
       "    <tr>\n",
       "      <th>min</th>\n",
       "      <td>50.000000</td>\n",
       "      <td>15360.000000</td>\n",
       "      <td>500.000000</td>\n",
       "      <td>20.000000</td>\n",
       "      <td>7.00000</td>\n",
       "      <td>0.010000</td>\n",
       "      <td>0.010000</td>\n",
       "    </tr>\n",
       "    <tr>\n",
       "      <th>25%</th>\n",
       "      <td>287.500000</td>\n",
       "      <td>19200.000000</td>\n",
       "      <td>1125.000000</td>\n",
       "      <td>32.500000</td>\n",
       "      <td>7.75000</td>\n",
       "      <td>0.015000</td>\n",
       "      <td>0.015000</td>\n",
       "    </tr>\n",
       "    <tr>\n",
       "      <th>50%</th>\n",
       "      <td>525.000000</td>\n",
       "      <td>23040.000000</td>\n",
       "      <td>1750.000000</td>\n",
       "      <td>45.000000</td>\n",
       "      <td>8.50000</td>\n",
       "      <td>0.020000</td>\n",
       "      <td>0.020000</td>\n",
       "    </tr>\n",
       "    <tr>\n",
       "      <th>75%</th>\n",
       "      <td>762.500000</td>\n",
       "      <td>26880.000000</td>\n",
       "      <td>2375.000000</td>\n",
       "      <td>57.500000</td>\n",
       "      <td>9.25000</td>\n",
       "      <td>0.025000</td>\n",
       "      <td>0.025000</td>\n",
       "    </tr>\n",
       "    <tr>\n",
       "      <th>max</th>\n",
       "      <td>1000.000000</td>\n",
       "      <td>30720.000000</td>\n",
       "      <td>3000.000000</td>\n",
       "      <td>70.000000</td>\n",
       "      <td>10.00000</td>\n",
       "      <td>0.030000</td>\n",
       "      <td>0.030000</td>\n",
       "    </tr>\n",
       "  </tbody>\n",
       "</table>\n",
       "</div>"
      ],
      "text/plain": [
       "       messages_included  mb_per_month_included  minutes_included  \\\n",
       "count           2.000000               2.000000          2.000000   \n",
       "mean          525.000000           23040.000000       1750.000000   \n",
       "std           671.751442           10861.160159       1767.766953   \n",
       "min            50.000000           15360.000000        500.000000   \n",
       "25%           287.500000           19200.000000       1125.000000   \n",
       "50%           525.000000           23040.000000       1750.000000   \n",
       "75%           762.500000           26880.000000       2375.000000   \n",
       "max          1000.000000           30720.000000       3000.000000   \n",
       "\n",
       "       usd_monthly_pay  usd_per_gb  usd_per_message  usd_per_minute  \n",
       "count         2.000000     2.00000         2.000000        2.000000  \n",
       "mean         45.000000     8.50000         0.020000        0.020000  \n",
       "std          35.355339     2.12132         0.014142        0.014142  \n",
       "min          20.000000     7.00000         0.010000        0.010000  \n",
       "25%          32.500000     7.75000         0.015000        0.015000  \n",
       "50%          45.000000     8.50000         0.020000        0.020000  \n",
       "75%          57.500000     9.25000         0.025000        0.025000  \n",
       "max          70.000000    10.00000         0.030000        0.030000  "
      ]
     },
     "execution_count": 3,
     "metadata": {},
     "output_type": "execute_result"
    }
   ],
   "source": [
    "plans.info()\n",
    "\n",
    "plans.describe()\n"
   ]
  },
  {
   "cell_type": "code",
   "execution_count": 4,
   "metadata": {
    "id": "64xzjwL70q02"
   },
   "outputs": [
    {
     "name": "stdout",
     "output_type": "stream",
     "text": [
      "   messages_included  mb_per_month_included  minutes_included  \\\n",
      "0                 50                  15360               500   \n",
      "1               1000                  30720              3000   \n",
      "\n",
      "   usd_monthly_pay  usd_per_gb  usd_per_message  usd_per_minute plan_name  \n",
      "0               20          10             0.03            0.03      surf  \n",
      "1               70           7             0.01            0.01  ultimate  \n"
     ]
    }
   ],
   "source": [
    "print(plans.head())# Imprime una muestra de los datos para las tarifas\n",
    "\n"
   ]
  },
  {
   "cell_type": "markdown",
   "metadata": {
    "id": "mEc_3_hs0q02"
   },
   "source": [
    "[Describe lo que ves y observas en la información general y en la muestra de datos impresa para el precio de datos anterior. ¿Hay algún problema (tipos de datos no adecuados, datos ausentes, etc.) que pudieran necesitar investigación y cambios adicionales? ¿Cómo se puede arreglar?]\n",
    "\n",
    "Este dataframe nos da la información de los planes que ofrece la empresa. Podemos ver que el dataframe esta completo. no tiene valores nulos y casi todos sus valores son entros excepto los precios de minuto y mensajes que llevan decimales, ya que son centavos "
   ]
  },
  {
   "cell_type": "markdown",
   "metadata": {},
   "source": [
    "<div class=\"alert alert-block alert-warning\">\n",
    "<b>Comentario del revisor. (Iteración 1) </b> <a class=\"tocSkip\"></a>\n",
    "\n",
    "Ooops Estela, creo que por acá se te fue responder estas preguntas. Es un detalle, a todos nos pasa! Pero ten cuidado en futuros análisis. Es importante responderlas, pues con ellas profundizamos en el aprendizaje."
   ]
  },
  {
   "cell_type": "markdown",
   "metadata": {
    "id": "R3C05i1l0q03"
   },
   "source": [
    "## Corregir datos"
   ]
  },
  {
   "cell_type": "markdown",
   "metadata": {
    "id": "bIi8StZI0q03"
   },
   "source": [
    "[Corrige los problemas obvios con los datos basándote en las observaciones iniciales.]"
   ]
  },
  {
   "cell_type": "code",
   "execution_count": 5,
   "metadata": {
    "id": "Y7SVmjGn0q03"
   },
   "outputs": [
    {
     "data": {
      "text/plain": [
       "0"
      ]
     },
     "execution_count": 5,
     "metadata": {},
     "output_type": "execute_result"
    }
   ],
   "source": [
    "plans.duplicated().sum()\n",
    "#no hay valores duplicados ni ausentes"
   ]
  },
  {
   "cell_type": "markdown",
   "metadata": {},
   "source": [
    "<div class=\"alert alert-block alert-success\">\n",
    "<b>Comentario del revisor. (Iteración 1) </b> <a class=\"tocSkip\"></a>\n",
    "\n",
    "Muy bien! Con esto te aseguras que no existan valores duplicados."
   ]
  },
  {
   "cell_type": "markdown",
   "metadata": {
    "id": "LJir7bml0q03"
   },
   "source": [
    "## Enriquecer los datos"
   ]
  },
  {
   "cell_type": "markdown",
   "metadata": {
    "id": "eqADpCfg0q04"
   },
   "source": [
    "[Agrega factores adicionales a los datos si crees que pudieran ser útiles.]"
   ]
  },
  {
   "cell_type": "code",
   "execution_count": 6,
   "metadata": {
    "id": "gfcIEuXV0q04"
   },
   "outputs": [
    {
     "name": "stdout",
     "output_type": "stream",
     "text": [
      "0    1\n",
      "1    1\n",
      "Name: usd_per_message, dtype: int64\n",
      "0    1\n",
      "1    1\n",
      "Name: usd_per_minute, dtype: int64\n"
     ]
    }
   ],
   "source": [
    "#convertir los datos float a enteros, ya que la compania redondea las tarifas a números enteros. No hay valores ausentes y tampoco duplicados\n",
    "plans['usd_per_message'] = np.ceil(plans['usd_per_message']).round().astype(int)\n",
    "print(plans['usd_per_message'])\n",
    "plans['usd_per_minute'] = np.ceil(plans['usd_per_minute']).round().astype(int)\n",
    "print(plans['usd_per_minute'])"
   ]
  },
  {
   "cell_type": "code",
   "execution_count": null,
   "metadata": {},
   "outputs": [],
   "source": []
  },
  {
   "cell_type": "markdown",
   "metadata": {},
   "source": [
    "<div class=\"alert alert-block alert-warning\">\n",
    "<b>Comentario del revisor. (Iteración 1) </b> <a class=\"tocSkip\"></a>\n",
    "\n",
    "Cuidado Estela! Esto tal vez no resulte tan efectivo. Como puedes ver con esto obtienes que el costo por mensaje y el costo por minuto de los dos únicos planes es de 1 usd. En este caso, lo mejor tal vez, sería dejarlo como se encuentran originalmente. Pero por ejemplo ¿Qué opinas de transformar de mb a gb? \n",
    "    \n",
    "<div class=\"alert alert-block alert-info\">\n",
    "<b>El redondeo lo hice ya que en las indicaciones inciales dice que los precios se cobran en enteros. PO rejemplo, si usaba 3.23 min, se redondea y se lo cobraría los 4 min. Y la conversión de mg a gb la hice en el dataframe de internet en el que también hice el redonde por la misma razón.</b> <a class=\"tocSkip\"></a>\n",
    "</div>"
   ]
  },
  {
   "cell_type": "markdown",
   "metadata": {
    "id": "1n2X6WXf0q04"
   },
   "source": [
    "## Usuarios/as"
   ]
  },
  {
   "cell_type": "code",
   "execution_count": 7,
   "metadata": {
    "id": "2NgjWFqx0q05"
   },
   "outputs": [
    {
     "name": "stdout",
     "output_type": "stream",
     "text": [
      "<class 'pandas.core.frame.DataFrame'>\n",
      "RangeIndex: 500 entries, 0 to 499\n",
      "Data columns (total 8 columns):\n",
      " #   Column      Non-Null Count  Dtype \n",
      "---  ------      --------------  ----- \n",
      " 0   user_id     500 non-null    int64 \n",
      " 1   first_name  500 non-null    object\n",
      " 2   last_name   500 non-null    object\n",
      " 3   age         500 non-null    int64 \n",
      " 4   city        500 non-null    object\n",
      " 5   reg_date    500 non-null    object\n",
      " 6   plan        500 non-null    object\n",
      " 7   churn_date  34 non-null     object\n",
      "dtypes: int64(2), object(6)\n",
      "memory usage: 31.4+ KB\n"
     ]
    },
    {
     "data": {
      "text/html": [
       "<div>\n",
       "<style scoped>\n",
       "    .dataframe tbody tr th:only-of-type {\n",
       "        vertical-align: middle;\n",
       "    }\n",
       "\n",
       "    .dataframe tbody tr th {\n",
       "        vertical-align: top;\n",
       "    }\n",
       "\n",
       "    .dataframe thead th {\n",
       "        text-align: right;\n",
       "    }\n",
       "</style>\n",
       "<table border=\"1\" class=\"dataframe\">\n",
       "  <thead>\n",
       "    <tr style=\"text-align: right;\">\n",
       "      <th></th>\n",
       "      <th>user_id</th>\n",
       "      <th>age</th>\n",
       "    </tr>\n",
       "  </thead>\n",
       "  <tbody>\n",
       "    <tr>\n",
       "      <th>count</th>\n",
       "      <td>500.000000</td>\n",
       "      <td>500.000000</td>\n",
       "    </tr>\n",
       "    <tr>\n",
       "      <th>mean</th>\n",
       "      <td>1249.500000</td>\n",
       "      <td>45.486000</td>\n",
       "    </tr>\n",
       "    <tr>\n",
       "      <th>std</th>\n",
       "      <td>144.481833</td>\n",
       "      <td>16.972269</td>\n",
       "    </tr>\n",
       "    <tr>\n",
       "      <th>min</th>\n",
       "      <td>1000.000000</td>\n",
       "      <td>18.000000</td>\n",
       "    </tr>\n",
       "    <tr>\n",
       "      <th>25%</th>\n",
       "      <td>1124.750000</td>\n",
       "      <td>30.000000</td>\n",
       "    </tr>\n",
       "    <tr>\n",
       "      <th>50%</th>\n",
       "      <td>1249.500000</td>\n",
       "      <td>46.000000</td>\n",
       "    </tr>\n",
       "    <tr>\n",
       "      <th>75%</th>\n",
       "      <td>1374.250000</td>\n",
       "      <td>61.000000</td>\n",
       "    </tr>\n",
       "    <tr>\n",
       "      <th>max</th>\n",
       "      <td>1499.000000</td>\n",
       "      <td>75.000000</td>\n",
       "    </tr>\n",
       "  </tbody>\n",
       "</table>\n",
       "</div>"
      ],
      "text/plain": [
       "           user_id         age\n",
       "count   500.000000  500.000000\n",
       "mean   1249.500000   45.486000\n",
       "std     144.481833   16.972269\n",
       "min    1000.000000   18.000000\n",
       "25%    1124.750000   30.000000\n",
       "50%    1249.500000   46.000000\n",
       "75%    1374.250000   61.000000\n",
       "max    1499.000000   75.000000"
      ]
     },
     "execution_count": 7,
     "metadata": {},
     "output_type": "execute_result"
    }
   ],
   "source": [
    "users.info()\n",
    "users.describe() # Imprime la información general/resumida sobre el DataFrame de usuarios\n",
    "\n"
   ]
  },
  {
   "cell_type": "code",
   "execution_count": 8,
   "metadata": {
    "id": "1IN1L9uh0q05"
   },
   "outputs": [
    {
     "data": {
      "text/html": [
       "<div>\n",
       "<style scoped>\n",
       "    .dataframe tbody tr th:only-of-type {\n",
       "        vertical-align: middle;\n",
       "    }\n",
       "\n",
       "    .dataframe tbody tr th {\n",
       "        vertical-align: top;\n",
       "    }\n",
       "\n",
       "    .dataframe thead th {\n",
       "        text-align: right;\n",
       "    }\n",
       "</style>\n",
       "<table border=\"1\" class=\"dataframe\">\n",
       "  <thead>\n",
       "    <tr style=\"text-align: right;\">\n",
       "      <th></th>\n",
       "      <th>user_id</th>\n",
       "      <th>first_name</th>\n",
       "      <th>last_name</th>\n",
       "      <th>age</th>\n",
       "      <th>city</th>\n",
       "      <th>reg_date</th>\n",
       "      <th>plan</th>\n",
       "      <th>churn_date</th>\n",
       "    </tr>\n",
       "  </thead>\n",
       "  <tbody>\n",
       "    <tr>\n",
       "      <th>0</th>\n",
       "      <td>1000</td>\n",
       "      <td>Anamaria</td>\n",
       "      <td>Bauer</td>\n",
       "      <td>45</td>\n",
       "      <td>Atlanta-Sandy Springs-Roswell, GA MSA</td>\n",
       "      <td>2018-12-24</td>\n",
       "      <td>ultimate</td>\n",
       "      <td>NaN</td>\n",
       "    </tr>\n",
       "    <tr>\n",
       "      <th>1</th>\n",
       "      <td>1001</td>\n",
       "      <td>Mickey</td>\n",
       "      <td>Wilkerson</td>\n",
       "      <td>28</td>\n",
       "      <td>Seattle-Tacoma-Bellevue, WA MSA</td>\n",
       "      <td>2018-08-13</td>\n",
       "      <td>surf</td>\n",
       "      <td>NaN</td>\n",
       "    </tr>\n",
       "    <tr>\n",
       "      <th>2</th>\n",
       "      <td>1002</td>\n",
       "      <td>Carlee</td>\n",
       "      <td>Hoffman</td>\n",
       "      <td>36</td>\n",
       "      <td>Las Vegas-Henderson-Paradise, NV MSA</td>\n",
       "      <td>2018-10-21</td>\n",
       "      <td>surf</td>\n",
       "      <td>NaN</td>\n",
       "    </tr>\n",
       "    <tr>\n",
       "      <th>3</th>\n",
       "      <td>1003</td>\n",
       "      <td>Reynaldo</td>\n",
       "      <td>Jenkins</td>\n",
       "      <td>52</td>\n",
       "      <td>Tulsa, OK MSA</td>\n",
       "      <td>2018-01-28</td>\n",
       "      <td>surf</td>\n",
       "      <td>NaN</td>\n",
       "    </tr>\n",
       "    <tr>\n",
       "      <th>4</th>\n",
       "      <td>1004</td>\n",
       "      <td>Leonila</td>\n",
       "      <td>Thompson</td>\n",
       "      <td>40</td>\n",
       "      <td>Seattle-Tacoma-Bellevue, WA MSA</td>\n",
       "      <td>2018-05-23</td>\n",
       "      <td>surf</td>\n",
       "      <td>NaN</td>\n",
       "    </tr>\n",
       "    <tr>\n",
       "      <th>5</th>\n",
       "      <td>1005</td>\n",
       "      <td>Livia</td>\n",
       "      <td>Shields</td>\n",
       "      <td>31</td>\n",
       "      <td>Dallas-Fort Worth-Arlington, TX MSA</td>\n",
       "      <td>2018-11-29</td>\n",
       "      <td>surf</td>\n",
       "      <td>NaN</td>\n",
       "    </tr>\n",
       "    <tr>\n",
       "      <th>6</th>\n",
       "      <td>1006</td>\n",
       "      <td>Jesusa</td>\n",
       "      <td>Bradford</td>\n",
       "      <td>73</td>\n",
       "      <td>San Francisco-Oakland-Berkeley, CA MSA</td>\n",
       "      <td>2018-11-27</td>\n",
       "      <td>ultimate</td>\n",
       "      <td>2018-12-18</td>\n",
       "    </tr>\n",
       "    <tr>\n",
       "      <th>7</th>\n",
       "      <td>1007</td>\n",
       "      <td>Eusebio</td>\n",
       "      <td>Welch</td>\n",
       "      <td>42</td>\n",
       "      <td>Grand Rapids-Kentwood, MI MSA</td>\n",
       "      <td>2018-07-11</td>\n",
       "      <td>surf</td>\n",
       "      <td>NaN</td>\n",
       "    </tr>\n",
       "    <tr>\n",
       "      <th>8</th>\n",
       "      <td>1008</td>\n",
       "      <td>Emely</td>\n",
       "      <td>Hoffman</td>\n",
       "      <td>53</td>\n",
       "      <td>Orlando-Kissimmee-Sanford, FL MSA</td>\n",
       "      <td>2018-08-03</td>\n",
       "      <td>ultimate</td>\n",
       "      <td>NaN</td>\n",
       "    </tr>\n",
       "    <tr>\n",
       "      <th>9</th>\n",
       "      <td>1009</td>\n",
       "      <td>Gerry</td>\n",
       "      <td>Little</td>\n",
       "      <td>19</td>\n",
       "      <td>San Jose-Sunnyvale-Santa Clara, CA MSA</td>\n",
       "      <td>2018-04-22</td>\n",
       "      <td>surf</td>\n",
       "      <td>NaN</td>\n",
       "    </tr>\n",
       "    <tr>\n",
       "      <th>10</th>\n",
       "      <td>1010</td>\n",
       "      <td>Wilber</td>\n",
       "      <td>Blair</td>\n",
       "      <td>52</td>\n",
       "      <td>Dallas-Fort Worth-Arlington, TX MSA</td>\n",
       "      <td>2018-03-09</td>\n",
       "      <td>surf</td>\n",
       "      <td>NaN</td>\n",
       "    </tr>\n",
       "    <tr>\n",
       "      <th>11</th>\n",
       "      <td>1011</td>\n",
       "      <td>Halina</td>\n",
       "      <td>Henry</td>\n",
       "      <td>73</td>\n",
       "      <td>Cleveland-Elyria, OH MSA</td>\n",
       "      <td>2018-01-18</td>\n",
       "      <td>ultimate</td>\n",
       "      <td>NaN</td>\n",
       "    </tr>\n",
       "    <tr>\n",
       "      <th>12</th>\n",
       "      <td>1012</td>\n",
       "      <td>Jonelle</td>\n",
       "      <td>Mcbride</td>\n",
       "      <td>59</td>\n",
       "      <td>Chicago-Naperville-Elgin, IL-IN-WI MSA</td>\n",
       "      <td>2018-06-28</td>\n",
       "      <td>surf</td>\n",
       "      <td>2018-11-16</td>\n",
       "    </tr>\n",
       "    <tr>\n",
       "      <th>13</th>\n",
       "      <td>1013</td>\n",
       "      <td>Nicolas</td>\n",
       "      <td>Snider</td>\n",
       "      <td>50</td>\n",
       "      <td>Knoxville, TN MSA</td>\n",
       "      <td>2018-12-01</td>\n",
       "      <td>ultimate</td>\n",
       "      <td>NaN</td>\n",
       "    </tr>\n",
       "    <tr>\n",
       "      <th>14</th>\n",
       "      <td>1014</td>\n",
       "      <td>Edmundo</td>\n",
       "      <td>Simon</td>\n",
       "      <td>61</td>\n",
       "      <td>New York-Newark-Jersey City, NY-NJ-PA MSA</td>\n",
       "      <td>2018-11-25</td>\n",
       "      <td>surf</td>\n",
       "      <td>NaN</td>\n",
       "    </tr>\n",
       "    <tr>\n",
       "      <th>15</th>\n",
       "      <td>1015</td>\n",
       "      <td>Beata</td>\n",
       "      <td>Carpenter</td>\n",
       "      <td>26</td>\n",
       "      <td>Pittsburgh, PA MSA</td>\n",
       "      <td>2018-12-05</td>\n",
       "      <td>surf</td>\n",
       "      <td>NaN</td>\n",
       "    </tr>\n",
       "    <tr>\n",
       "      <th>16</th>\n",
       "      <td>1016</td>\n",
       "      <td>Jann</td>\n",
       "      <td>Salinas</td>\n",
       "      <td>30</td>\n",
       "      <td>Fresno, CA MSA</td>\n",
       "      <td>2018-10-25</td>\n",
       "      <td>surf</td>\n",
       "      <td>NaN</td>\n",
       "    </tr>\n",
       "    <tr>\n",
       "      <th>17</th>\n",
       "      <td>1017</td>\n",
       "      <td>Boris</td>\n",
       "      <td>Gates</td>\n",
       "      <td>61</td>\n",
       "      <td>Washington-Arlington-Alexandria, DC-VA-MD-WV MSA</td>\n",
       "      <td>2018-08-26</td>\n",
       "      <td>surf</td>\n",
       "      <td>NaN</td>\n",
       "    </tr>\n",
       "    <tr>\n",
       "      <th>18</th>\n",
       "      <td>1018</td>\n",
       "      <td>Dennis</td>\n",
       "      <td>Grimes</td>\n",
       "      <td>70</td>\n",
       "      <td>Indianapolis-Carmel-Anderson, IN MSA</td>\n",
       "      <td>2018-10-17</td>\n",
       "      <td>surf</td>\n",
       "      <td>NaN</td>\n",
       "    </tr>\n",
       "    <tr>\n",
       "      <th>19</th>\n",
       "      <td>1019</td>\n",
       "      <td>Shizue</td>\n",
       "      <td>Landry</td>\n",
       "      <td>34</td>\n",
       "      <td>Jacksonville, FL MSA</td>\n",
       "      <td>2018-01-16</td>\n",
       "      <td>surf</td>\n",
       "      <td>NaN</td>\n",
       "    </tr>\n",
       "  </tbody>\n",
       "</table>\n",
       "</div>"
      ],
      "text/plain": [
       "    user_id first_name  last_name  age  \\\n",
       "0      1000   Anamaria      Bauer   45   \n",
       "1      1001     Mickey  Wilkerson   28   \n",
       "2      1002     Carlee    Hoffman   36   \n",
       "3      1003   Reynaldo    Jenkins   52   \n",
       "4      1004    Leonila   Thompson   40   \n",
       "5      1005      Livia    Shields   31   \n",
       "6      1006     Jesusa   Bradford   73   \n",
       "7      1007    Eusebio      Welch   42   \n",
       "8      1008      Emely    Hoffman   53   \n",
       "9      1009      Gerry     Little   19   \n",
       "10     1010     Wilber      Blair   52   \n",
       "11     1011     Halina      Henry   73   \n",
       "12     1012    Jonelle    Mcbride   59   \n",
       "13     1013    Nicolas     Snider   50   \n",
       "14     1014    Edmundo      Simon   61   \n",
       "15     1015      Beata  Carpenter   26   \n",
       "16     1016       Jann    Salinas   30   \n",
       "17     1017      Boris      Gates   61   \n",
       "18     1018     Dennis     Grimes   70   \n",
       "19     1019     Shizue     Landry   34   \n",
       "\n",
       "                                                city    reg_date      plan  \\\n",
       "0              Atlanta-Sandy Springs-Roswell, GA MSA  2018-12-24  ultimate   \n",
       "1                    Seattle-Tacoma-Bellevue, WA MSA  2018-08-13      surf   \n",
       "2               Las Vegas-Henderson-Paradise, NV MSA  2018-10-21      surf   \n",
       "3                                      Tulsa, OK MSA  2018-01-28      surf   \n",
       "4                    Seattle-Tacoma-Bellevue, WA MSA  2018-05-23      surf   \n",
       "5                Dallas-Fort Worth-Arlington, TX MSA  2018-11-29      surf   \n",
       "6             San Francisco-Oakland-Berkeley, CA MSA  2018-11-27  ultimate   \n",
       "7                      Grand Rapids-Kentwood, MI MSA  2018-07-11      surf   \n",
       "8                  Orlando-Kissimmee-Sanford, FL MSA  2018-08-03  ultimate   \n",
       "9             San Jose-Sunnyvale-Santa Clara, CA MSA  2018-04-22      surf   \n",
       "10               Dallas-Fort Worth-Arlington, TX MSA  2018-03-09      surf   \n",
       "11                          Cleveland-Elyria, OH MSA  2018-01-18  ultimate   \n",
       "12            Chicago-Naperville-Elgin, IL-IN-WI MSA  2018-06-28      surf   \n",
       "13                                 Knoxville, TN MSA  2018-12-01  ultimate   \n",
       "14         New York-Newark-Jersey City, NY-NJ-PA MSA  2018-11-25      surf   \n",
       "15                                Pittsburgh, PA MSA  2018-12-05      surf   \n",
       "16                                    Fresno, CA MSA  2018-10-25      surf   \n",
       "17  Washington-Arlington-Alexandria, DC-VA-MD-WV MSA  2018-08-26      surf   \n",
       "18              Indianapolis-Carmel-Anderson, IN MSA  2018-10-17      surf   \n",
       "19                              Jacksonville, FL MSA  2018-01-16      surf   \n",
       "\n",
       "    churn_date  \n",
       "0          NaN  \n",
       "1          NaN  \n",
       "2          NaN  \n",
       "3          NaN  \n",
       "4          NaN  \n",
       "5          NaN  \n",
       "6   2018-12-18  \n",
       "7          NaN  \n",
       "8          NaN  \n",
       "9          NaN  \n",
       "10         NaN  \n",
       "11         NaN  \n",
       "12  2018-11-16  \n",
       "13         NaN  \n",
       "14         NaN  \n",
       "15         NaN  \n",
       "16         NaN  \n",
       "17         NaN  \n",
       "18         NaN  \n",
       "19         NaN  "
      ]
     },
     "execution_count": 8,
     "metadata": {},
     "output_type": "execute_result"
    }
   ],
   "source": [
    "users.head(20)# Imprime una muestra de datos para usuarios\n",
    "\n"
   ]
  },
  {
   "cell_type": "markdown",
   "metadata": {
    "id": "dCZoUq4f0q06"
   },
   "source": [
    "[Describe lo que ves y observas en la información general y en la muestra de datos impresa para el precio de datos anterior. ¿Hay algún problema (tipos de datos no adecuados, datos ausentes, etc.) que pudieran necesitar investigación y cambios adicionales? ¿Cómo se puede arreglar?]\n",
    "\n",
    "hay valores ausentes en la columna de churn_date, hay que rellenar los valores ausentes\n",
    "es necesario revisar si hay duplicados que revisar si hay duplicados"
   ]
  },
  {
   "cell_type": "markdown",
   "metadata": {},
   "source": [
    "<div class=\"alert alert-block alert-success\">\n",
    "<b>Comentario del revisor. (Iteración 1) </b> <a class=\"tocSkip\"></a>\n",
    "\n",
    "Muy buena observación! Es importante decidir que haremos con los valores nulos. Te felicito por esa anotación:"
   ]
  },
  {
   "cell_type": "markdown",
   "metadata": {
    "id": "BX5FQh_I0q06"
   },
   "source": [
    "### Corregir los datos"
   ]
  },
  {
   "cell_type": "markdown",
   "metadata": {
    "id": "8OdKMwJv0q06"
   },
   "source": [
    "[Corrige los problemas obvios con los datos basándote en las observaciones iniciales.]"
   ]
  },
  {
   "cell_type": "code",
   "execution_count": 9,
   "metadata": {
    "id": "yUqX-K0C0q07"
   },
   "outputs": [
    {
     "data": {
      "text/plain": [
       "0"
      ]
     },
     "execution_count": 9,
     "metadata": {},
     "output_type": "execute_result"
    }
   ],
   "source": [
    "users.duplicated().sum()\n",
    "\n"
   ]
  },
  {
   "cell_type": "markdown",
   "metadata": {},
   "source": [
    "<div class=\"alert alert-block alert-warning\">\n",
    "<b>Comentario del revisor. (Iteración 1) </b> <a class=\"tocSkip\"></a>\n",
    "\n",
    "Mira Estela, con lo que muestras aquí, te aseguras de que no existan duplicados. Muy bien por eso! Pero que tal si por acá hacemos lo siguiente: cambiar a formato fecha las columnas con este tipo de dato? \n",
    "    \n",
    "<div class=\"alert alert-block alert-info\">\n",
    "<b>la modificación de la fecha la hice en la siguiente celda.</b> <a class=\"tocSkip\"></a>\n",
    "</div>"
   ]
  },
  {
   "cell_type": "markdown",
   "metadata": {
    "id": "ycwuARJp0q07"
   },
   "source": [
    "### Enriquecer los datos"
   ]
  },
  {
   "cell_type": "markdown",
   "metadata": {
    "id": "96NIh4CJ0q08"
   },
   "source": [
    "[Agrega factores adicionales a los datos si crees que pudieran ser útiles.]"
   ]
  },
  {
   "cell_type": "code",
   "execution_count": 10,
   "metadata": {
    "id": "iq0AaBS90q08"
   },
   "outputs": [
    {
     "name": "stdout",
     "output_type": "stream",
     "text": [
      "0     NaT\n",
      "1     NaT\n",
      "2     NaT\n",
      "3     NaT\n",
      "4     NaT\n",
      "       ..\n",
      "495   NaT\n",
      "496   NaT\n",
      "497   NaT\n",
      "498   NaT\n",
      "499   NaT\n",
      "Name: churn_date, Length: 500, dtype: datetime64[ns]\n"
     ]
    }
   ],
   "source": [
    "users['churn_date'] = pd.to_datetime(users['churn_date'], errors='coerce')\n",
    "print(users['churn_date'])"
   ]
  },
  {
   "cell_type": "markdown",
   "metadata": {
    "id": "o7MeKCid0q08"
   },
   "source": [
    "## Llamadas"
   ]
  },
  {
   "cell_type": "code",
   "execution_count": 11,
   "metadata": {
    "id": "6dDlnoDm0q08"
   },
   "outputs": [
    {
     "name": "stdout",
     "output_type": "stream",
     "text": [
      "<class 'pandas.core.frame.DataFrame'>\n",
      "RangeIndex: 137735 entries, 0 to 137734\n",
      "Data columns (total 4 columns):\n",
      " #   Column     Non-Null Count   Dtype  \n",
      "---  ------     --------------   -----  \n",
      " 0   id         137735 non-null  object \n",
      " 1   user_id    137735 non-null  int64  \n",
      " 2   call_date  137735 non-null  object \n",
      " 3   duration   137735 non-null  float64\n",
      "dtypes: float64(1), int64(1), object(2)\n",
      "memory usage: 4.2+ MB\n"
     ]
    },
    {
     "data": {
      "text/html": [
       "<div>\n",
       "<style scoped>\n",
       "    .dataframe tbody tr th:only-of-type {\n",
       "        vertical-align: middle;\n",
       "    }\n",
       "\n",
       "    .dataframe tbody tr th {\n",
       "        vertical-align: top;\n",
       "    }\n",
       "\n",
       "    .dataframe thead th {\n",
       "        text-align: right;\n",
       "    }\n",
       "</style>\n",
       "<table border=\"1\" class=\"dataframe\">\n",
       "  <thead>\n",
       "    <tr style=\"text-align: right;\">\n",
       "      <th></th>\n",
       "      <th>user_id</th>\n",
       "      <th>duration</th>\n",
       "    </tr>\n",
       "  </thead>\n",
       "  <tbody>\n",
       "    <tr>\n",
       "      <th>count</th>\n",
       "      <td>137735.000000</td>\n",
       "      <td>137735.000000</td>\n",
       "    </tr>\n",
       "    <tr>\n",
       "      <th>mean</th>\n",
       "      <td>1247.658046</td>\n",
       "      <td>6.745927</td>\n",
       "    </tr>\n",
       "    <tr>\n",
       "      <th>std</th>\n",
       "      <td>139.416268</td>\n",
       "      <td>5.839241</td>\n",
       "    </tr>\n",
       "    <tr>\n",
       "      <th>min</th>\n",
       "      <td>1000.000000</td>\n",
       "      <td>0.000000</td>\n",
       "    </tr>\n",
       "    <tr>\n",
       "      <th>25%</th>\n",
       "      <td>1128.000000</td>\n",
       "      <td>1.290000</td>\n",
       "    </tr>\n",
       "    <tr>\n",
       "      <th>50%</th>\n",
       "      <td>1247.000000</td>\n",
       "      <td>5.980000</td>\n",
       "    </tr>\n",
       "    <tr>\n",
       "      <th>75%</th>\n",
       "      <td>1365.000000</td>\n",
       "      <td>10.690000</td>\n",
       "    </tr>\n",
       "    <tr>\n",
       "      <th>max</th>\n",
       "      <td>1499.000000</td>\n",
       "      <td>37.600000</td>\n",
       "    </tr>\n",
       "  </tbody>\n",
       "</table>\n",
       "</div>"
      ],
      "text/plain": [
       "             user_id       duration\n",
       "count  137735.000000  137735.000000\n",
       "mean     1247.658046       6.745927\n",
       "std       139.416268       5.839241\n",
       "min      1000.000000       0.000000\n",
       "25%      1128.000000       1.290000\n",
       "50%      1247.000000       5.980000\n",
       "75%      1365.000000      10.690000\n",
       "max      1499.000000      37.600000"
      ]
     },
     "execution_count": 11,
     "metadata": {},
     "output_type": "execute_result"
    }
   ],
   "source": [
    "calls.info()\n",
    "calls.describe()# Imprime la información general/resumida sobre el DataFrame de las llamadas\n",
    "\n"
   ]
  },
  {
   "cell_type": "code",
   "execution_count": 12,
   "metadata": {
    "id": "kuh1vlNB0q09"
   },
   "outputs": [
    {
     "data": {
      "text/html": [
       "<div>\n",
       "<style scoped>\n",
       "    .dataframe tbody tr th:only-of-type {\n",
       "        vertical-align: middle;\n",
       "    }\n",
       "\n",
       "    .dataframe tbody tr th {\n",
       "        vertical-align: top;\n",
       "    }\n",
       "\n",
       "    .dataframe thead th {\n",
       "        text-align: right;\n",
       "    }\n",
       "</style>\n",
       "<table border=\"1\" class=\"dataframe\">\n",
       "  <thead>\n",
       "    <tr style=\"text-align: right;\">\n",
       "      <th></th>\n",
       "      <th>id</th>\n",
       "      <th>user_id</th>\n",
       "      <th>call_date</th>\n",
       "      <th>duration</th>\n",
       "    </tr>\n",
       "  </thead>\n",
       "  <tbody>\n",
       "    <tr>\n",
       "      <th>0</th>\n",
       "      <td>1000_93</td>\n",
       "      <td>1000</td>\n",
       "      <td>2018-12-27</td>\n",
       "      <td>8.52</td>\n",
       "    </tr>\n",
       "    <tr>\n",
       "      <th>1</th>\n",
       "      <td>1000_145</td>\n",
       "      <td>1000</td>\n",
       "      <td>2018-12-27</td>\n",
       "      <td>13.66</td>\n",
       "    </tr>\n",
       "    <tr>\n",
       "      <th>2</th>\n",
       "      <td>1000_247</td>\n",
       "      <td>1000</td>\n",
       "      <td>2018-12-27</td>\n",
       "      <td>14.48</td>\n",
       "    </tr>\n",
       "    <tr>\n",
       "      <th>3</th>\n",
       "      <td>1000_309</td>\n",
       "      <td>1000</td>\n",
       "      <td>2018-12-28</td>\n",
       "      <td>5.76</td>\n",
       "    </tr>\n",
       "    <tr>\n",
       "      <th>4</th>\n",
       "      <td>1000_380</td>\n",
       "      <td>1000</td>\n",
       "      <td>2018-12-30</td>\n",
       "      <td>4.22</td>\n",
       "    </tr>\n",
       "    <tr>\n",
       "      <th>5</th>\n",
       "      <td>1000_388</td>\n",
       "      <td>1000</td>\n",
       "      <td>2018-12-31</td>\n",
       "      <td>2.20</td>\n",
       "    </tr>\n",
       "    <tr>\n",
       "      <th>6</th>\n",
       "      <td>1000_510</td>\n",
       "      <td>1000</td>\n",
       "      <td>2018-12-27</td>\n",
       "      <td>5.75</td>\n",
       "    </tr>\n",
       "    <tr>\n",
       "      <th>7</th>\n",
       "      <td>1000_521</td>\n",
       "      <td>1000</td>\n",
       "      <td>2018-12-28</td>\n",
       "      <td>14.18</td>\n",
       "    </tr>\n",
       "    <tr>\n",
       "      <th>8</th>\n",
       "      <td>1000_530</td>\n",
       "      <td>1000</td>\n",
       "      <td>2018-12-28</td>\n",
       "      <td>5.77</td>\n",
       "    </tr>\n",
       "    <tr>\n",
       "      <th>9</th>\n",
       "      <td>1000_544</td>\n",
       "      <td>1000</td>\n",
       "      <td>2018-12-26</td>\n",
       "      <td>4.40</td>\n",
       "    </tr>\n",
       "    <tr>\n",
       "      <th>10</th>\n",
       "      <td>1000_693</td>\n",
       "      <td>1000</td>\n",
       "      <td>2018-12-31</td>\n",
       "      <td>4.31</td>\n",
       "    </tr>\n",
       "    <tr>\n",
       "      <th>11</th>\n",
       "      <td>1000_705</td>\n",
       "      <td>1000</td>\n",
       "      <td>2018-12-31</td>\n",
       "      <td>12.78</td>\n",
       "    </tr>\n",
       "    <tr>\n",
       "      <th>12</th>\n",
       "      <td>1000_735</td>\n",
       "      <td>1000</td>\n",
       "      <td>2018-12-29</td>\n",
       "      <td>1.70</td>\n",
       "    </tr>\n",
       "    <tr>\n",
       "      <th>13</th>\n",
       "      <td>1000_778</td>\n",
       "      <td>1000</td>\n",
       "      <td>2018-12-28</td>\n",
       "      <td>3.29</td>\n",
       "    </tr>\n",
       "    <tr>\n",
       "      <th>14</th>\n",
       "      <td>1000_826</td>\n",
       "      <td>1000</td>\n",
       "      <td>2018-12-26</td>\n",
       "      <td>9.96</td>\n",
       "    </tr>\n",
       "    <tr>\n",
       "      <th>15</th>\n",
       "      <td>1000_842</td>\n",
       "      <td>1000</td>\n",
       "      <td>2018-12-27</td>\n",
       "      <td>5.85</td>\n",
       "    </tr>\n",
       "    <tr>\n",
       "      <th>16</th>\n",
       "      <td>1001_0</td>\n",
       "      <td>1001</td>\n",
       "      <td>2018-09-06</td>\n",
       "      <td>10.06</td>\n",
       "    </tr>\n",
       "    <tr>\n",
       "      <th>17</th>\n",
       "      <td>1001_1</td>\n",
       "      <td>1001</td>\n",
       "      <td>2018-10-12</td>\n",
       "      <td>1.00</td>\n",
       "    </tr>\n",
       "    <tr>\n",
       "      <th>18</th>\n",
       "      <td>1001_2</td>\n",
       "      <td>1001</td>\n",
       "      <td>2018-10-17</td>\n",
       "      <td>15.83</td>\n",
       "    </tr>\n",
       "    <tr>\n",
       "      <th>19</th>\n",
       "      <td>1001_4</td>\n",
       "      <td>1001</td>\n",
       "      <td>2018-12-05</td>\n",
       "      <td>0.00</td>\n",
       "    </tr>\n",
       "  </tbody>\n",
       "</table>\n",
       "</div>"
      ],
      "text/plain": [
       "          id  user_id   call_date  duration\n",
       "0    1000_93     1000  2018-12-27      8.52\n",
       "1   1000_145     1000  2018-12-27     13.66\n",
       "2   1000_247     1000  2018-12-27     14.48\n",
       "3   1000_309     1000  2018-12-28      5.76\n",
       "4   1000_380     1000  2018-12-30      4.22\n",
       "5   1000_388     1000  2018-12-31      2.20\n",
       "6   1000_510     1000  2018-12-27      5.75\n",
       "7   1000_521     1000  2018-12-28     14.18\n",
       "8   1000_530     1000  2018-12-28      5.77\n",
       "9   1000_544     1000  2018-12-26      4.40\n",
       "10  1000_693     1000  2018-12-31      4.31\n",
       "11  1000_705     1000  2018-12-31     12.78\n",
       "12  1000_735     1000  2018-12-29      1.70\n",
       "13  1000_778     1000  2018-12-28      3.29\n",
       "14  1000_826     1000  2018-12-26      9.96\n",
       "15  1000_842     1000  2018-12-27      5.85\n",
       "16    1001_0     1001  2018-09-06     10.06\n",
       "17    1001_1     1001  2018-10-12      1.00\n",
       "18    1001_2     1001  2018-10-17     15.83\n",
       "19    1001_4     1001  2018-12-05      0.00"
      ]
     },
     "execution_count": 12,
     "metadata": {},
     "output_type": "execute_result"
    }
   ],
   "source": [
    "calls.head(20)# Imprime una muestra de datos para las llamadas\n",
    "\n"
   ]
  },
  {
   "cell_type": "markdown",
   "metadata": {
    "id": "DOAxYJSx0q09"
   },
   "source": [
    "[Describe lo que ves y observas en la información general y en la muestra de datos impresa para el precio de datos anterior. ¿Hay algún problema (tipos de datos no adecuados, datos ausentes, etc.) que pudieran necesitar investigación y cambios adicionales? ¿Cómo se puede arreglar?]\n",
    "\n",
    "No se encuentra ningún dato ausente, hay que revisar si hay duplicados y redondear la duración de llamadas a enteros"
   ]
  },
  {
   "cell_type": "markdown",
   "metadata": {
    "id": "S7hzxmbX0q0-"
   },
   "source": [
    "### Corregir los datos"
   ]
  },
  {
   "cell_type": "markdown",
   "metadata": {
    "id": "YxWyAjD20q0-"
   },
   "source": [
    "[Corrige los problemas obvios con los datos basándote en las observaciones iniciales.]"
   ]
  },
  {
   "cell_type": "code",
   "execution_count": 13,
   "metadata": {
    "id": "S2r8xA4f0q0-"
   },
   "outputs": [
    {
     "name": "stdout",
     "output_type": "stream",
     "text": [
      "0        2018-12-27\n",
      "1        2018-12-27\n",
      "2        2018-12-27\n",
      "3        2018-12-28\n",
      "4        2018-12-30\n",
      "            ...    \n",
      "137730   2018-11-21\n",
      "137731   2018-10-20\n",
      "137732   2018-09-21\n",
      "137733   2018-10-10\n",
      "137734   2018-12-29\n",
      "Name: call_date, Length: 137735, dtype: datetime64[ns]\n"
     ]
    }
   ],
   "source": [
    "calls['call_date'] = pd.to_datetime(calls['call_date'], errors='coerce')\n",
    "print(calls['call_date'])"
   ]
  },
  {
   "cell_type": "markdown",
   "metadata": {},
   "source": [
    "<div class=\"alert alert-block alert-success\">\n",
    "<b>Comentario del revisor. (Iteración 2) </b> <a class=\"tocSkip\"></a>\n",
    "\n",
    "Muy bien! "
   ]
  },
  {
   "cell_type": "markdown",
   "metadata": {},
   "source": [
    "<div class=\"alert alert-block alert-warning\">\n",
    "<b>Comentario del revisor. (Iteración 1) </b> <a class=\"tocSkip\"></a>\n",
    "\n",
    "Mira Estela, con lo que muestras aquí, te aseguras de que no existan duplicados. Muy bien por eso! Pero que tal si por acá hacemos lo siguiente: cambiar a formato fecha las columnas con este tipo de dato? "
   ]
  },
  {
   "cell_type": "markdown",
   "metadata": {
    "id": "KrMgTrlG0q0_"
   },
   "source": [
    "### Enriquecer los datos"
   ]
  },
  {
   "cell_type": "markdown",
   "metadata": {
    "id": "a9MbmEvE0q0_"
   },
   "source": [
    "[Agrega factores adicionales a los datos si crees que pudieran ser útiles.]"
   ]
  },
  {
   "cell_type": "code",
   "execution_count": 14,
   "metadata": {
    "id": "iZ1avpA_0q0_"
   },
   "outputs": [
    {
     "name": "stdout",
     "output_type": "stream",
     "text": [
      "0          9\n",
      "1         14\n",
      "2         15\n",
      "3          6\n",
      "4          5\n",
      "          ..\n",
      "137730     9\n",
      "137731    11\n",
      "137732     9\n",
      "137733     1\n",
      "137734    14\n",
      "Name: duration, Length: 137735, dtype: int64\n"
     ]
    }
   ],
   "source": [
    "calls['duration'] = np.ceil(calls['duration']).round().astype(int)\n",
    "print(calls['duration'])"
   ]
  },
  {
   "cell_type": "code",
   "execution_count": 15,
   "metadata": {},
   "outputs": [],
   "source": [
    "calls['call_date'] = pd.to_datetime(calls['call_date'])\n",
    "calls['month'] = calls['call_date'].dt.month"
   ]
  },
  {
   "cell_type": "markdown",
   "metadata": {},
   "source": [
    "<div class=\"alert alert-block alert-success\">\n",
    "<b>Comentario del revisor. (Iteración 1) </b> <a class=\"tocSkip\"></a>\n",
    "\n",
    "Muy bien Estela! En este caso es mucho más adecuado realizar el redondeo! "
   ]
  },
  {
   "cell_type": "markdown",
   "metadata": {
    "id": "mOUZSi180q0_"
   },
   "source": [
    "## Mensajes"
   ]
  },
  {
   "cell_type": "code",
   "execution_count": 16,
   "metadata": {
    "id": "R-bYJpdV0q1A"
   },
   "outputs": [
    {
     "name": "stdout",
     "output_type": "stream",
     "text": [
      "<class 'pandas.core.frame.DataFrame'>\n",
      "RangeIndex: 76051 entries, 0 to 76050\n",
      "Data columns (total 3 columns):\n",
      " #   Column        Non-Null Count  Dtype \n",
      "---  ------        --------------  ----- \n",
      " 0   id            76051 non-null  object\n",
      " 1   user_id       76051 non-null  int64 \n",
      " 2   message_date  76051 non-null  object\n",
      "dtypes: int64(1), object(2)\n",
      "memory usage: 1.7+ MB\n"
     ]
    },
    {
     "data": {
      "text/html": [
       "<div>\n",
       "<style scoped>\n",
       "    .dataframe tbody tr th:only-of-type {\n",
       "        vertical-align: middle;\n",
       "    }\n",
       "\n",
       "    .dataframe tbody tr th {\n",
       "        vertical-align: top;\n",
       "    }\n",
       "\n",
       "    .dataframe thead th {\n",
       "        text-align: right;\n",
       "    }\n",
       "</style>\n",
       "<table border=\"1\" class=\"dataframe\">\n",
       "  <thead>\n",
       "    <tr style=\"text-align: right;\">\n",
       "      <th></th>\n",
       "      <th>user_id</th>\n",
       "    </tr>\n",
       "  </thead>\n",
       "  <tbody>\n",
       "    <tr>\n",
       "      <th>count</th>\n",
       "      <td>76051.000000</td>\n",
       "    </tr>\n",
       "    <tr>\n",
       "      <th>mean</th>\n",
       "      <td>1245.972768</td>\n",
       "    </tr>\n",
       "    <tr>\n",
       "      <th>std</th>\n",
       "      <td>139.843635</td>\n",
       "    </tr>\n",
       "    <tr>\n",
       "      <th>min</th>\n",
       "      <td>1000.000000</td>\n",
       "    </tr>\n",
       "    <tr>\n",
       "      <th>25%</th>\n",
       "      <td>1123.000000</td>\n",
       "    </tr>\n",
       "    <tr>\n",
       "      <th>50%</th>\n",
       "      <td>1251.000000</td>\n",
       "    </tr>\n",
       "    <tr>\n",
       "      <th>75%</th>\n",
       "      <td>1362.000000</td>\n",
       "    </tr>\n",
       "    <tr>\n",
       "      <th>max</th>\n",
       "      <td>1497.000000</td>\n",
       "    </tr>\n",
       "  </tbody>\n",
       "</table>\n",
       "</div>"
      ],
      "text/plain": [
       "            user_id\n",
       "count  76051.000000\n",
       "mean    1245.972768\n",
       "std      139.843635\n",
       "min     1000.000000\n",
       "25%     1123.000000\n",
       "50%     1251.000000\n",
       "75%     1362.000000\n",
       "max     1497.000000"
      ]
     },
     "execution_count": 16,
     "metadata": {},
     "output_type": "execute_result"
    }
   ],
   "source": [
    "messages.info()\n",
    "messages.describe() # Imprime la información general/resumida sobre el DataFrame de los mensajes\n",
    "\n"
   ]
  },
  {
   "cell_type": "code",
   "execution_count": 17,
   "metadata": {
    "id": "mCEl2iGE0q1A"
   },
   "outputs": [
    {
     "data": {
      "text/html": [
       "<div>\n",
       "<style scoped>\n",
       "    .dataframe tbody tr th:only-of-type {\n",
       "        vertical-align: middle;\n",
       "    }\n",
       "\n",
       "    .dataframe tbody tr th {\n",
       "        vertical-align: top;\n",
       "    }\n",
       "\n",
       "    .dataframe thead th {\n",
       "        text-align: right;\n",
       "    }\n",
       "</style>\n",
       "<table border=\"1\" class=\"dataframe\">\n",
       "  <thead>\n",
       "    <tr style=\"text-align: right;\">\n",
       "      <th></th>\n",
       "      <th>id</th>\n",
       "      <th>user_id</th>\n",
       "      <th>message_date</th>\n",
       "    </tr>\n",
       "  </thead>\n",
       "  <tbody>\n",
       "    <tr>\n",
       "      <th>0</th>\n",
       "      <td>1000_125</td>\n",
       "      <td>1000</td>\n",
       "      <td>2018-12-27</td>\n",
       "    </tr>\n",
       "    <tr>\n",
       "      <th>1</th>\n",
       "      <td>1000_160</td>\n",
       "      <td>1000</td>\n",
       "      <td>2018-12-31</td>\n",
       "    </tr>\n",
       "    <tr>\n",
       "      <th>2</th>\n",
       "      <td>1000_223</td>\n",
       "      <td>1000</td>\n",
       "      <td>2018-12-31</td>\n",
       "    </tr>\n",
       "    <tr>\n",
       "      <th>3</th>\n",
       "      <td>1000_251</td>\n",
       "      <td>1000</td>\n",
       "      <td>2018-12-27</td>\n",
       "    </tr>\n",
       "    <tr>\n",
       "      <th>4</th>\n",
       "      <td>1000_255</td>\n",
       "      <td>1000</td>\n",
       "      <td>2018-12-26</td>\n",
       "    </tr>\n",
       "    <tr>\n",
       "      <th>5</th>\n",
       "      <td>1000_346</td>\n",
       "      <td>1000</td>\n",
       "      <td>2018-12-29</td>\n",
       "    </tr>\n",
       "    <tr>\n",
       "      <th>6</th>\n",
       "      <td>1000_386</td>\n",
       "      <td>1000</td>\n",
       "      <td>2018-12-30</td>\n",
       "    </tr>\n",
       "    <tr>\n",
       "      <th>7</th>\n",
       "      <td>1000_413</td>\n",
       "      <td>1000</td>\n",
       "      <td>2018-12-31</td>\n",
       "    </tr>\n",
       "    <tr>\n",
       "      <th>8</th>\n",
       "      <td>1000_502</td>\n",
       "      <td>1000</td>\n",
       "      <td>2018-12-27</td>\n",
       "    </tr>\n",
       "    <tr>\n",
       "      <th>9</th>\n",
       "      <td>1000_525</td>\n",
       "      <td>1000</td>\n",
       "      <td>2018-12-28</td>\n",
       "    </tr>\n",
       "    <tr>\n",
       "      <th>10</th>\n",
       "      <td>1000_567</td>\n",
       "      <td>1000</td>\n",
       "      <td>2018-12-25</td>\n",
       "    </tr>\n",
       "    <tr>\n",
       "      <th>11</th>\n",
       "      <td>1001_1</td>\n",
       "      <td>1001</td>\n",
       "      <td>2018-11-14</td>\n",
       "    </tr>\n",
       "    <tr>\n",
       "      <th>12</th>\n",
       "      <td>1001_2</td>\n",
       "      <td>1001</td>\n",
       "      <td>2018-08-17</td>\n",
       "    </tr>\n",
       "    <tr>\n",
       "      <th>13</th>\n",
       "      <td>1001_5</td>\n",
       "      <td>1001</td>\n",
       "      <td>2018-12-05</td>\n",
       "    </tr>\n",
       "    <tr>\n",
       "      <th>14</th>\n",
       "      <td>1001_7</td>\n",
       "      <td>1001</td>\n",
       "      <td>2018-11-28</td>\n",
       "    </tr>\n",
       "    <tr>\n",
       "      <th>15</th>\n",
       "      <td>1001_9</td>\n",
       "      <td>1001</td>\n",
       "      <td>2018-10-23</td>\n",
       "    </tr>\n",
       "    <tr>\n",
       "      <th>16</th>\n",
       "      <td>1001_10</td>\n",
       "      <td>1001</td>\n",
       "      <td>2018-09-01</td>\n",
       "    </tr>\n",
       "    <tr>\n",
       "      <th>17</th>\n",
       "      <td>1001_11</td>\n",
       "      <td>1001</td>\n",
       "      <td>2018-11-18</td>\n",
       "    </tr>\n",
       "    <tr>\n",
       "      <th>18</th>\n",
       "      <td>1001_17</td>\n",
       "      <td>1001</td>\n",
       "      <td>2018-12-11</td>\n",
       "    </tr>\n",
       "    <tr>\n",
       "      <th>19</th>\n",
       "      <td>1001_18</td>\n",
       "      <td>1001</td>\n",
       "      <td>2018-10-01</td>\n",
       "    </tr>\n",
       "  </tbody>\n",
       "</table>\n",
       "</div>"
      ],
      "text/plain": [
       "          id  user_id message_date\n",
       "0   1000_125     1000   2018-12-27\n",
       "1   1000_160     1000   2018-12-31\n",
       "2   1000_223     1000   2018-12-31\n",
       "3   1000_251     1000   2018-12-27\n",
       "4   1000_255     1000   2018-12-26\n",
       "5   1000_346     1000   2018-12-29\n",
       "6   1000_386     1000   2018-12-30\n",
       "7   1000_413     1000   2018-12-31\n",
       "8   1000_502     1000   2018-12-27\n",
       "9   1000_525     1000   2018-12-28\n",
       "10  1000_567     1000   2018-12-25\n",
       "11    1001_1     1001   2018-11-14\n",
       "12    1001_2     1001   2018-08-17\n",
       "13    1001_5     1001   2018-12-05\n",
       "14    1001_7     1001   2018-11-28\n",
       "15    1001_9     1001   2018-10-23\n",
       "16   1001_10     1001   2018-09-01\n",
       "17   1001_11     1001   2018-11-18\n",
       "18   1001_17     1001   2018-12-11\n",
       "19   1001_18     1001   2018-10-01"
      ]
     },
     "execution_count": 17,
     "metadata": {},
     "output_type": "execute_result"
    }
   ],
   "source": [
    "messages.head(20)# Imprime una muestra de datos para los mensajes\n",
    "\n"
   ]
  },
  {
   "cell_type": "markdown",
   "metadata": {
    "id": "04xDj7KH0q1A"
   },
   "source": [
    "[Describe lo que ves y observas en la información general y en la muestra de datos impresa para el precio de datos anterior. ¿Hay algún problema (tipos de datos no adecuados, datos ausentes, etc.) que pudieran necesitar investigación y cambios adicionales? ¿Cómo se puede arreglar?]\n",
    "\n",
    "\n",
    "solo hay que revisar que no haya duplicados y ordenalos por fecha "
   ]
  },
  {
   "cell_type": "markdown",
   "metadata": {
    "id": "Sprfak900q1B"
   },
   "source": [
    "### Corregir los datos"
   ]
  },
  {
   "cell_type": "markdown",
   "metadata": {
    "id": "eGw7d9j10q1B"
   },
   "source": [
    "[Corrige los problemas obvios con los datos basándote en las observaciones iniciales.]"
   ]
  },
  {
   "cell_type": "code",
   "execution_count": 18,
   "metadata": {
    "id": "vsllvkoa0q1B"
   },
   "outputs": [
    {
     "name": "stdout",
     "output_type": "stream",
     "text": [
      "0       2018-12-27\n",
      "1       2018-12-31\n",
      "2       2018-12-31\n",
      "3       2018-12-27\n",
      "4       2018-12-26\n",
      "           ...    \n",
      "76046   2018-12-24\n",
      "76047   2018-12-24\n",
      "76048   2018-12-31\n",
      "76049   2018-12-24\n",
      "76050   2018-12-23\n",
      "Name: message_date, Length: 76051, dtype: datetime64[ns]\n"
     ]
    }
   ],
   "source": [
    "messages['message_date'] = pd.to_datetime(messages['message_date'], errors='coerce')\n",
    "print(messages['message_date'])"
   ]
  },
  {
   "cell_type": "markdown",
   "metadata": {},
   "source": [
    "<div class=\"alert alert-block alert-success\">\n",
    "<b>Comentario del revisor. (Iteración 2) </b> <a class=\"tocSkip\"></a>\n",
    "\n",
    "Excelente Estela!"
   ]
  },
  {
   "cell_type": "markdown",
   "metadata": {},
   "source": [
    "<div class=\"alert alert-block alert-warning\">\n",
    "<b>Comentario del revisor. (Iteración 1) </b> <a class=\"tocSkip\"></a>\n",
    "\n",
    "Mira Estela, con lo que muestras aquí, te aseguras de que no existan duplicados. Muy bien por eso! Pero que tal si por acá hacemos lo siguiente: cambiar a formato fecha las columnas con este tipo de dato? "
   ]
  },
  {
   "cell_type": "markdown",
   "metadata": {
    "id": "HvLid7iD0q1B"
   },
   "source": [
    "### Enriquecer los datos"
   ]
  },
  {
   "cell_type": "markdown",
   "metadata": {
    "id": "8nhPFKIe0q1C"
   },
   "source": [
    "[Agrega factores adicionales a los datos si crees que pudieran ser útiles.]"
   ]
  },
  {
   "cell_type": "code",
   "execution_count": 19,
   "metadata": {
    "id": "zYEXZac10q1C"
   },
   "outputs": [
    {
     "name": "stdout",
     "output_type": "stream",
     "text": [
      "0       2018-12-27\n",
      "1       2018-12-31\n",
      "2       2018-12-31\n",
      "3       2018-12-27\n",
      "4       2018-12-26\n",
      "           ...    \n",
      "76046   2018-12-24\n",
      "76047   2018-12-24\n",
      "76048   2018-12-31\n",
      "76049   2018-12-24\n",
      "76050   2018-12-23\n",
      "Name: message_date, Length: 76051, dtype: datetime64[ns]\n"
     ]
    }
   ],
   "source": [
    "messages['message_date'] = pd.to_datetime(messages['message_date']).sort_values(ascending=False)\n",
    "print(messages['message_date'])"
   ]
  },
  {
   "cell_type": "code",
   "execution_count": 20,
   "metadata": {},
   "outputs": [],
   "source": [
    "messages['message_date'] = pd.to_datetime(messages['message_date'])\n",
    "messages['month'] = messages['message_date'].dt.month"
   ]
  },
  {
   "cell_type": "markdown",
   "metadata": {},
   "source": [
    "<div class=\"alert alert-block alert-warning\">\n",
    "<b>Comentario del revisor. (Iteración 1) </b> <a class=\"tocSkip\"></a>\n",
    "\n",
    "Es una buena idea! Ordenar los datos por la fecha puede facilitar las visualizaciones en muchos casos. Sin embargo, toma en cuenta, que esto no cambia la estrucura de los datos."
   ]
  },
  {
   "cell_type": "markdown",
   "metadata": {
    "id": "bStkaxn40q1C"
   },
   "source": [
    "## Internet"
   ]
  },
  {
   "cell_type": "code",
   "execution_count": 21,
   "metadata": {
    "id": "e-Uz5qyn0q1C"
   },
   "outputs": [
    {
     "name": "stdout",
     "output_type": "stream",
     "text": [
      "<class 'pandas.core.frame.DataFrame'>\n",
      "RangeIndex: 104825 entries, 0 to 104824\n",
      "Data columns (total 4 columns):\n",
      " #   Column        Non-Null Count   Dtype  \n",
      "---  ------        --------------   -----  \n",
      " 0   id            104825 non-null  object \n",
      " 1   user_id       104825 non-null  int64  \n",
      " 2   session_date  104825 non-null  object \n",
      " 3   mb_used       104825 non-null  float64\n",
      "dtypes: float64(1), int64(1), object(2)\n",
      "memory usage: 3.2+ MB\n"
     ]
    },
    {
     "data": {
      "text/html": [
       "<div>\n",
       "<style scoped>\n",
       "    .dataframe tbody tr th:only-of-type {\n",
       "        vertical-align: middle;\n",
       "    }\n",
       "\n",
       "    .dataframe tbody tr th {\n",
       "        vertical-align: top;\n",
       "    }\n",
       "\n",
       "    .dataframe thead th {\n",
       "        text-align: right;\n",
       "    }\n",
       "</style>\n",
       "<table border=\"1\" class=\"dataframe\">\n",
       "  <thead>\n",
       "    <tr style=\"text-align: right;\">\n",
       "      <th></th>\n",
       "      <th>user_id</th>\n",
       "      <th>mb_used</th>\n",
       "    </tr>\n",
       "  </thead>\n",
       "  <tbody>\n",
       "    <tr>\n",
       "      <th>count</th>\n",
       "      <td>104825.000000</td>\n",
       "      <td>104825.000000</td>\n",
       "    </tr>\n",
       "    <tr>\n",
       "      <th>mean</th>\n",
       "      <td>1242.496361</td>\n",
       "      <td>366.713701</td>\n",
       "    </tr>\n",
       "    <tr>\n",
       "      <th>std</th>\n",
       "      <td>142.053913</td>\n",
       "      <td>277.170542</td>\n",
       "    </tr>\n",
       "    <tr>\n",
       "      <th>min</th>\n",
       "      <td>1000.000000</td>\n",
       "      <td>0.000000</td>\n",
       "    </tr>\n",
       "    <tr>\n",
       "      <th>25%</th>\n",
       "      <td>1122.000000</td>\n",
       "      <td>136.080000</td>\n",
       "    </tr>\n",
       "    <tr>\n",
       "      <th>50%</th>\n",
       "      <td>1236.000000</td>\n",
       "      <td>343.980000</td>\n",
       "    </tr>\n",
       "    <tr>\n",
       "      <th>75%</th>\n",
       "      <td>1367.000000</td>\n",
       "      <td>554.610000</td>\n",
       "    </tr>\n",
       "    <tr>\n",
       "      <th>max</th>\n",
       "      <td>1499.000000</td>\n",
       "      <td>1693.470000</td>\n",
       "    </tr>\n",
       "  </tbody>\n",
       "</table>\n",
       "</div>"
      ],
      "text/plain": [
       "             user_id        mb_used\n",
       "count  104825.000000  104825.000000\n",
       "mean     1242.496361     366.713701\n",
       "std       142.053913     277.170542\n",
       "min      1000.000000       0.000000\n",
       "25%      1122.000000     136.080000\n",
       "50%      1236.000000     343.980000\n",
       "75%      1367.000000     554.610000\n",
       "max      1499.000000    1693.470000"
      ]
     },
     "execution_count": 21,
     "metadata": {},
     "output_type": "execute_result"
    }
   ],
   "source": [
    "internet.info()\n",
    "internet.describe() # Imprime la información general/resumida sobre el DataFrame de internet\n",
    "\n"
   ]
  },
  {
   "cell_type": "code",
   "execution_count": 22,
   "metadata": {
    "id": "9r3x_XLw0q1C"
   },
   "outputs": [
    {
     "data": {
      "text/html": [
       "<div>\n",
       "<style scoped>\n",
       "    .dataframe tbody tr th:only-of-type {\n",
       "        vertical-align: middle;\n",
       "    }\n",
       "\n",
       "    .dataframe tbody tr th {\n",
       "        vertical-align: top;\n",
       "    }\n",
       "\n",
       "    .dataframe thead th {\n",
       "        text-align: right;\n",
       "    }\n",
       "</style>\n",
       "<table border=\"1\" class=\"dataframe\">\n",
       "  <thead>\n",
       "    <tr style=\"text-align: right;\">\n",
       "      <th></th>\n",
       "      <th>id</th>\n",
       "      <th>user_id</th>\n",
       "      <th>session_date</th>\n",
       "      <th>mb_used</th>\n",
       "    </tr>\n",
       "  </thead>\n",
       "  <tbody>\n",
       "    <tr>\n",
       "      <th>0</th>\n",
       "      <td>1000_13</td>\n",
       "      <td>1000</td>\n",
       "      <td>2018-12-29</td>\n",
       "      <td>89.86</td>\n",
       "    </tr>\n",
       "    <tr>\n",
       "      <th>1</th>\n",
       "      <td>1000_204</td>\n",
       "      <td>1000</td>\n",
       "      <td>2018-12-31</td>\n",
       "      <td>0.00</td>\n",
       "    </tr>\n",
       "    <tr>\n",
       "      <th>2</th>\n",
       "      <td>1000_379</td>\n",
       "      <td>1000</td>\n",
       "      <td>2018-12-28</td>\n",
       "      <td>660.40</td>\n",
       "    </tr>\n",
       "    <tr>\n",
       "      <th>3</th>\n",
       "      <td>1000_413</td>\n",
       "      <td>1000</td>\n",
       "      <td>2018-12-26</td>\n",
       "      <td>270.99</td>\n",
       "    </tr>\n",
       "    <tr>\n",
       "      <th>4</th>\n",
       "      <td>1000_442</td>\n",
       "      <td>1000</td>\n",
       "      <td>2018-12-27</td>\n",
       "      <td>880.22</td>\n",
       "    </tr>\n",
       "    <tr>\n",
       "      <th>5</th>\n",
       "      <td>1001_0</td>\n",
       "      <td>1001</td>\n",
       "      <td>2018-08-24</td>\n",
       "      <td>284.68</td>\n",
       "    </tr>\n",
       "    <tr>\n",
       "      <th>6</th>\n",
       "      <td>1001_3</td>\n",
       "      <td>1001</td>\n",
       "      <td>2018-12-09</td>\n",
       "      <td>656.04</td>\n",
       "    </tr>\n",
       "    <tr>\n",
       "      <th>7</th>\n",
       "      <td>1001_4</td>\n",
       "      <td>1001</td>\n",
       "      <td>2018-11-04</td>\n",
       "      <td>16.97</td>\n",
       "    </tr>\n",
       "    <tr>\n",
       "      <th>8</th>\n",
       "      <td>1001_10</td>\n",
       "      <td>1001</td>\n",
       "      <td>2018-11-27</td>\n",
       "      <td>135.18</td>\n",
       "    </tr>\n",
       "    <tr>\n",
       "      <th>9</th>\n",
       "      <td>1001_15</td>\n",
       "      <td>1001</td>\n",
       "      <td>2018-12-13</td>\n",
       "      <td>761.92</td>\n",
       "    </tr>\n",
       "    <tr>\n",
       "      <th>10</th>\n",
       "      <td>1001_16</td>\n",
       "      <td>1001</td>\n",
       "      <td>2018-10-28</td>\n",
       "      <td>501.53</td>\n",
       "    </tr>\n",
       "    <tr>\n",
       "      <th>11</th>\n",
       "      <td>1001_17</td>\n",
       "      <td>1001</td>\n",
       "      <td>2018-09-05</td>\n",
       "      <td>727.29</td>\n",
       "    </tr>\n",
       "    <tr>\n",
       "      <th>12</th>\n",
       "      <td>1001_24</td>\n",
       "      <td>1001</td>\n",
       "      <td>2018-09-05</td>\n",
       "      <td>622.03</td>\n",
       "    </tr>\n",
       "    <tr>\n",
       "      <th>13</th>\n",
       "      <td>1001_25</td>\n",
       "      <td>1001</td>\n",
       "      <td>2018-10-14</td>\n",
       "      <td>310.43</td>\n",
       "    </tr>\n",
       "    <tr>\n",
       "      <th>14</th>\n",
       "      <td>1001_26</td>\n",
       "      <td>1001</td>\n",
       "      <td>2018-09-17</td>\n",
       "      <td>0.00</td>\n",
       "    </tr>\n",
       "    <tr>\n",
       "      <th>15</th>\n",
       "      <td>1001_27</td>\n",
       "      <td>1001</td>\n",
       "      <td>2018-12-13</td>\n",
       "      <td>149.17</td>\n",
       "    </tr>\n",
       "    <tr>\n",
       "      <th>16</th>\n",
       "      <td>1001_28</td>\n",
       "      <td>1001</td>\n",
       "      <td>2018-10-17</td>\n",
       "      <td>0.00</td>\n",
       "    </tr>\n",
       "    <tr>\n",
       "      <th>17</th>\n",
       "      <td>1001_29</td>\n",
       "      <td>1001</td>\n",
       "      <td>2018-10-09</td>\n",
       "      <td>1067.99</td>\n",
       "    </tr>\n",
       "    <tr>\n",
       "      <th>18</th>\n",
       "      <td>1001_30</td>\n",
       "      <td>1001</td>\n",
       "      <td>2018-12-27</td>\n",
       "      <td>157.20</td>\n",
       "    </tr>\n",
       "    <tr>\n",
       "      <th>19</th>\n",
       "      <td>1001_33</td>\n",
       "      <td>1001</td>\n",
       "      <td>2018-09-27</td>\n",
       "      <td>236.40</td>\n",
       "    </tr>\n",
       "  </tbody>\n",
       "</table>\n",
       "</div>"
      ],
      "text/plain": [
       "          id  user_id session_date  mb_used\n",
       "0    1000_13     1000   2018-12-29    89.86\n",
       "1   1000_204     1000   2018-12-31     0.00\n",
       "2   1000_379     1000   2018-12-28   660.40\n",
       "3   1000_413     1000   2018-12-26   270.99\n",
       "4   1000_442     1000   2018-12-27   880.22\n",
       "5     1001_0     1001   2018-08-24   284.68\n",
       "6     1001_3     1001   2018-12-09   656.04\n",
       "7     1001_4     1001   2018-11-04    16.97\n",
       "8    1001_10     1001   2018-11-27   135.18\n",
       "9    1001_15     1001   2018-12-13   761.92\n",
       "10   1001_16     1001   2018-10-28   501.53\n",
       "11   1001_17     1001   2018-09-05   727.29\n",
       "12   1001_24     1001   2018-09-05   622.03\n",
       "13   1001_25     1001   2018-10-14   310.43\n",
       "14   1001_26     1001   2018-09-17     0.00\n",
       "15   1001_27     1001   2018-12-13   149.17\n",
       "16   1001_28     1001   2018-10-17     0.00\n",
       "17   1001_29     1001   2018-10-09  1067.99\n",
       "18   1001_30     1001   2018-12-27   157.20\n",
       "19   1001_33     1001   2018-09-27   236.40"
      ]
     },
     "execution_count": 22,
     "metadata": {},
     "output_type": "execute_result"
    }
   ],
   "source": [
    "internet.head(20)# Imprime una muestra de datos para el tráfico de internet\n",
    "\n"
   ]
  },
  {
   "cell_type": "markdown",
   "metadata": {
    "id": "EzOG5ik30q1D"
   },
   "source": [
    "\n",
    "[Describe lo que ves y observas en la información general y en la muestra de datos impresa para el precio de datos anterior. ¿Hay algún problema (tipos de datos no adecuados, datos ausentes, etc.) que pudieran necesitar investigación y cambios adicionales? ¿Cómo se puede arreglar?]\n",
    "\n",
    "Al igual que en los dataframes anteriores, hay que revisar que no existan valores duplicados, en la info ya se puede observar que no hay valores ausentes y que el tipo de datos esta correcto, lo unico que hay que modificar es la columna de mb_used, de megabytes a gigabytes. esto lo haremos dividiendo los datos de esa columnsa por 1024. ya que 1gb = 1024 mb"
   ]
  },
  {
   "cell_type": "markdown",
   "metadata": {
    "id": "yA0tkPFg0q1D"
   },
   "source": [
    "### Corregir los datos"
   ]
  },
  {
   "cell_type": "markdown",
   "metadata": {
    "id": "zlZMuIEK0q1D"
   },
   "source": [
    "[Corrige los problemas obvios con los datos basándote en las observaciones iniciales.]"
   ]
  },
  {
   "cell_type": "code",
   "execution_count": 23,
   "metadata": {
    "id": "zVeanzdd0q1E"
   },
   "outputs": [
    {
     "name": "stdout",
     "output_type": "stream",
     "text": [
      "0        2018-12-29\n",
      "1        2018-12-31\n",
      "2        2018-12-28\n",
      "3        2018-12-26\n",
      "4        2018-12-27\n",
      "            ...    \n",
      "104820   2018-10-20\n",
      "104821   2018-12-30\n",
      "104822   2018-09-22\n",
      "104823   2018-12-07\n",
      "104824   2018-12-24\n",
      "Name: session_date, Length: 104825, dtype: datetime64[ns]\n"
     ]
    }
   ],
   "source": [
    "internet['session_date'] = pd.to_datetime(internet['session_date'], errors='coerce')\n",
    "print(internet['session_date'])"
   ]
  },
  {
   "cell_type": "markdown",
   "metadata": {},
   "source": [
    "<div class=\"alert alert-block alert-success\">\n",
    "<b>Comentario del revisor. (Iteración 2) </b> <a class=\"tocSkip\"></a>\n",
    "\n",
    "Perfecto!"
   ]
  },
  {
   "cell_type": "markdown",
   "metadata": {},
   "source": [
    "<div class=\"alert alert-block alert-warning\">\n",
    "<b>Comentario del revisor. (Iteración 1) </b> <a class=\"tocSkip\"></a>\n",
    "\n",
    "Mira Estela, con lo que muestras aquí, te aseguras de que no existan duplicados. Muy bien por eso! Pero que tal si por acá hacemos lo siguiente: cambiar a formato fecha las columnas con este tipo de dato? "
   ]
  },
  {
   "cell_type": "markdown",
   "metadata": {
    "id": "e8_mLF4a0q1E"
   },
   "source": [
    "### Enriquecer los datos"
   ]
  },
  {
   "cell_type": "markdown",
   "metadata": {
    "id": "xhNdn2tE0q1E"
   },
   "source": [
    "[Agrega factores adicionales a los datos si crees que pudieran ser útiles.]"
   ]
  },
  {
   "cell_type": "code",
   "execution_count": 24,
   "metadata": {
    "id": "ESiYPIEK0q1E"
   },
   "outputs": [
    {
     "name": "stdout",
     "output_type": "stream",
     "text": [
      "0         1\n",
      "1         0\n",
      "2         1\n",
      "3         1\n",
      "4         1\n",
      "         ..\n",
      "104820    1\n",
      "104821    1\n",
      "104822    1\n",
      "104823    0\n",
      "104824    1\n",
      "Name: gb_used, Length: 104825, dtype: int64\n"
     ]
    }
   ],
   "source": [
    "internet['gb_used'] = np.ceil(internet['mb_used'] / 1024).round().astype(int)\n",
    "print(internet['gb_used'])\n"
   ]
  },
  {
   "cell_type": "code",
   "execution_count": 25,
   "metadata": {},
   "outputs": [],
   "source": [
    "internet['session_date'] = pd.to_datetime(internet['session_date'])\n",
    "internet['month'] = internet['session_date'].dt.month"
   ]
  },
  {
   "cell_type": "markdown",
   "metadata": {},
   "source": [
    "<div class=\"alert alert-block alert-success\">\n",
    "<b>Comentario del revisor. (Iteración 2) </b> <a class=\"tocSkip\"></a>\n",
    "\n"
   ]
  },
  {
   "cell_type": "markdown",
   "metadata": {},
   "source": [
    "<div class=\"alert alert-block alert-warning\">\n",
    "<b>Comentario del revisor. (Iteración 1) </b> <a class=\"tocSkip\"></a>\n",
    "\n",
    "Ten cuidado con esto, no siempre es adecuado redondear, pues puedes perder variabilidad en tus datos. Además por acá redondeas y vuelves a redondear. Te recomiendo observar tus datos y si la naturaleza de los datos se da para redondear adelante. Pero si vas perdiendo variabilidad, es mejor no hacerlo."
   ]
  },
  {
   "cell_type": "markdown",
   "metadata": {
    "id": "3UA2cqIW0q1E"
   },
   "source": [
    "## Estudiar las condiciones de las tarifas"
   ]
  },
  {
   "cell_type": "markdown",
   "metadata": {
    "id": "T86Sqltq0q1F"
   },
   "source": [
    "[Es sumamente importante entender cómo funcionan las tarifas, cómo se les cobra a los usuarios en función de su plan de suscripción. Así que te sugerimos imprimir la información de la tarifa para ver una vez más sus condiciones.]"
   ]
  },
  {
   "cell_type": "code",
   "execution_count": 26,
   "metadata": {
    "id": "i409op8p0q1F"
   },
   "outputs": [
    {
     "name": "stdout",
     "output_type": "stream",
     "text": [
      "Plan Surf\n",
      "pago mensual $20\n",
      "500 min al mes, 50 SMS, 15Gb\n",
      "si se esceden:1 min = 3 cent, 1 SMS = 3cent, 1GB = $10\n",
      "\n",
      "Plan Ultimate\n",
      "pago mensual $70\n",
      "3000 min al mes, 1000 SMS, 30Gb\n",
      "si se esceden:1 min =  1 cent, 1 SMS = 1cent, 1GB = $7\n",
      "\n"
     ]
    }
   ],
   "source": [
    "print('Plan Surf')\n",
    "print('pago mensual $20') \n",
    "print('500 min al mes, 50 SMS, 15Gb') \n",
    "print('si se esceden:1 min = 3 cent, 1 SMS = 3cent, 1GB = $10') \n",
    "print()\n",
    "print('Plan Ultimate')\n",
    "print('pago mensual $70') \n",
    "print('3000 min al mes, 1000 SMS, 30Gb') \n",
    "print('si se esceden:1 min =  1 cent, 1 SMS = 1cent, 1GB = $7') \n",
    "print()\n",
    "\n",
    "      # Imprime las condiciones de la tarifa y asegúrate de que te quedan claras \n",
    "\n"
   ]
  },
  {
   "cell_type": "markdown",
   "metadata": {
    "id": "hMR1tP5d0q1F"
   },
   "source": [
    "## Agregar datos por usuario\n",
    "\n",
    "[Ahora que los datos están limpios, agrega los datos por usuario y por periodo para que solo haya un registro por usuario y por periodo. Esto facilitará mucho el análisis posterior.]"
   ]
  },
  {
   "cell_type": "code",
   "execution_count": 27,
   "metadata": {
    "id": "A332cedB0q1G"
   },
   "outputs": [],
   "source": [
    "\n",
    "\n",
    "# Calcula el número de llamadas hechas por cada usuario al mes. Guarda el resultado.\n",
    "\n"
   ]
  },
  {
   "cell_type": "markdown",
   "metadata": {},
   "source": [
    "<div class=\"alert alert-block alert-warning\">\n",
    "<b>Comentario del revisor. (Iteración 1) </b> <a class=\"tocSkip\"></a>\n",
    "\n",
    "Perfecto! Pero mira, esto puedes agregarlo a la parte anterior en la sección de enriquecer los datos, pues acá si que estas transformando los datos estructuralmente al agregar nuevas columnas."
   ]
  },
  {
   "cell_type": "code",
   "execution_count": 28,
   "metadata": {},
   "outputs": [
    {
     "name": "stdout",
     "output_type": "stream",
     "text": [
      "      user_id  month  id\n",
      "0        1000     12  16\n",
      "1        1001      8  27\n",
      "2        1001      9  49\n",
      "3        1001     10  65\n",
      "4        1001     11  64\n",
      "...       ...    ...  ..\n",
      "2253     1498     12  39\n",
      "2254     1499      9  41\n",
      "2255     1499     10  53\n",
      "2256     1499     11  45\n",
      "2257     1499     12  65\n",
      "\n",
      "[2258 rows x 3 columns]\n"
     ]
    }
   ],
   "source": [
    "calls_by_user = calls.groupby(['user_id', 'month'])['id'].count().reset_index()\n",
    "print(calls_by_user)"
   ]
  },
  {
   "cell_type": "code",
   "execution_count": 29,
   "metadata": {
    "id": "aw2cmuql0q1G"
   },
   "outputs": [
    {
     "name": "stdout",
     "output_type": "stream",
     "text": [
      "      user_id  month  duration\n",
      "0        1000     12       124\n",
      "1        1001      8       182\n",
      "2        1001      9       315\n",
      "3        1001     10       393\n",
      "4        1001     11       426\n",
      "...       ...    ...       ...\n",
      "2253     1498     12       339\n",
      "2254     1499      9       346\n",
      "2255     1499     10       385\n",
      "2256     1499     11       308\n",
      "2257     1499     12       496\n",
      "\n",
      "[2258 rows x 3 columns]\n"
     ]
    }
   ],
   "source": [
    "min_by_user = calls.groupby(['user_id', 'month'])['duration'].sum().reset_index()\n",
    "print(min_by_user)# Calcula la cantidad de minutos usados por cada usuario al mes. Guarda el resultado.\n",
    "\n"
   ]
  },
  {
   "cell_type": "code",
   "execution_count": 30,
   "metadata": {},
   "outputs": [
    {
     "data": {
      "text/html": [
       "<div>\n",
       "<style scoped>\n",
       "    .dataframe tbody tr th:only-of-type {\n",
       "        vertical-align: middle;\n",
       "    }\n",
       "\n",
       "    .dataframe tbody tr th {\n",
       "        vertical-align: top;\n",
       "    }\n",
       "\n",
       "    .dataframe thead th {\n",
       "        text-align: right;\n",
       "    }\n",
       "</style>\n",
       "<table border=\"1\" class=\"dataframe\">\n",
       "  <thead>\n",
       "    <tr style=\"text-align: right;\">\n",
       "      <th></th>\n",
       "      <th>id</th>\n",
       "      <th>user_id</th>\n",
       "      <th>message_date</th>\n",
       "      <th>month</th>\n",
       "    </tr>\n",
       "  </thead>\n",
       "  <tbody>\n",
       "    <tr>\n",
       "      <th>0</th>\n",
       "      <td>1000_125</td>\n",
       "      <td>1000</td>\n",
       "      <td>2018-12-27</td>\n",
       "      <td>12</td>\n",
       "    </tr>\n",
       "    <tr>\n",
       "      <th>1</th>\n",
       "      <td>1000_160</td>\n",
       "      <td>1000</td>\n",
       "      <td>2018-12-31</td>\n",
       "      <td>12</td>\n",
       "    </tr>\n",
       "    <tr>\n",
       "      <th>2</th>\n",
       "      <td>1000_223</td>\n",
       "      <td>1000</td>\n",
       "      <td>2018-12-31</td>\n",
       "      <td>12</td>\n",
       "    </tr>\n",
       "    <tr>\n",
       "      <th>3</th>\n",
       "      <td>1000_251</td>\n",
       "      <td>1000</td>\n",
       "      <td>2018-12-27</td>\n",
       "      <td>12</td>\n",
       "    </tr>\n",
       "    <tr>\n",
       "      <th>4</th>\n",
       "      <td>1000_255</td>\n",
       "      <td>1000</td>\n",
       "      <td>2018-12-26</td>\n",
       "      <td>12</td>\n",
       "    </tr>\n",
       "    <tr>\n",
       "      <th>...</th>\n",
       "      <td>...</td>\n",
       "      <td>...</td>\n",
       "      <td>...</td>\n",
       "      <td>...</td>\n",
       "    </tr>\n",
       "    <tr>\n",
       "      <th>76046</th>\n",
       "      <td>1497_526</td>\n",
       "      <td>1497</td>\n",
       "      <td>2018-12-24</td>\n",
       "      <td>12</td>\n",
       "    </tr>\n",
       "    <tr>\n",
       "      <th>76047</th>\n",
       "      <td>1497_536</td>\n",
       "      <td>1497</td>\n",
       "      <td>2018-12-24</td>\n",
       "      <td>12</td>\n",
       "    </tr>\n",
       "    <tr>\n",
       "      <th>76048</th>\n",
       "      <td>1497_547</td>\n",
       "      <td>1497</td>\n",
       "      <td>2018-12-31</td>\n",
       "      <td>12</td>\n",
       "    </tr>\n",
       "    <tr>\n",
       "      <th>76049</th>\n",
       "      <td>1497_558</td>\n",
       "      <td>1497</td>\n",
       "      <td>2018-12-24</td>\n",
       "      <td>12</td>\n",
       "    </tr>\n",
       "    <tr>\n",
       "      <th>76050</th>\n",
       "      <td>1497_613</td>\n",
       "      <td>1497</td>\n",
       "      <td>2018-12-23</td>\n",
       "      <td>12</td>\n",
       "    </tr>\n",
       "  </tbody>\n",
       "</table>\n",
       "<p>76051 rows × 4 columns</p>\n",
       "</div>"
      ],
      "text/plain": [
       "             id  user_id message_date  month\n",
       "0      1000_125     1000   2018-12-27     12\n",
       "1      1000_160     1000   2018-12-31     12\n",
       "2      1000_223     1000   2018-12-31     12\n",
       "3      1000_251     1000   2018-12-27     12\n",
       "4      1000_255     1000   2018-12-26     12\n",
       "...         ...      ...          ...    ...\n",
       "76046  1497_526     1497   2018-12-24     12\n",
       "76047  1497_536     1497   2018-12-24     12\n",
       "76048  1497_547     1497   2018-12-31     12\n",
       "76049  1497_558     1497   2018-12-24     12\n",
       "76050  1497_613     1497   2018-12-23     12\n",
       "\n",
       "[76051 rows x 4 columns]"
      ]
     },
     "execution_count": 30,
     "metadata": {},
     "output_type": "execute_result"
    }
   ],
   "source": [
    "messages"
   ]
  },
  {
   "cell_type": "markdown",
   "metadata": {},
   "source": [
    "<div class=\"alert alert-block alert-success\">\n",
    "<b>Comentario del revisor. (Iteración 1) </b> <a class=\"tocSkip\"></a>\n",
    "\n",
    "Perfecto! Hasta acá haces un buen uso de la agrupación para resolver el problema que se plantea! "
   ]
  },
  {
   "cell_type": "code",
   "execution_count": 31,
   "metadata": {
    "id": "CcQvNHn60q1G"
   },
   "outputs": [],
   "source": [
    "# Calcula el número de mensajes enviados por cada usuario al mes. Guarda el resultado.\n",
    "\n"
   ]
  },
  {
   "cell_type": "markdown",
   "metadata": {},
   "source": [
    "<div class=\"alert alert-block alert-warning\">\n",
    "<b>Comentario del revisor. (Iteración 1) </b> <a class=\"tocSkip\"></a>\n",
    "\n",
    "Perfecto! Pero mira, esto puedes agregarlo a la parte anterior en la sección de enriquecer los datos, pues acá si que estas transformando los datos estructuralmente al agregar nuevas columnas."
   ]
  },
  {
   "cell_type": "code",
   "execution_count": 32,
   "metadata": {},
   "outputs": [
    {
     "name": "stdout",
     "output_type": "stream",
     "text": [
      "      user_id  month  id\n",
      "0        1000     12  11\n",
      "1        1001      8  30\n",
      "2        1001      9  44\n",
      "3        1001     10  53\n",
      "4        1001     11  36\n",
      "...       ...    ...  ..\n",
      "1801     1496      9  21\n",
      "1802     1496     10  18\n",
      "1803     1496     11  13\n",
      "1804     1496     12  11\n",
      "1805     1497     12  50\n",
      "\n",
      "[1806 rows x 3 columns]\n"
     ]
    }
   ],
   "source": [
    "\n",
    "messages_by_user = messages.groupby(['user_id', 'month'])['id'].count().reset_index()\n",
    "print(messages_by_user)"
   ]
  },
  {
   "cell_type": "code",
   "execution_count": null,
   "metadata": {},
   "outputs": [],
   "source": []
  },
  {
   "cell_type": "markdown",
   "metadata": {},
   "source": [
    "<div class=\"alert alert-block alert-warning\">\n",
    "<b>Comentario del revisor. (Iteración 1) </b> <a class=\"tocSkip\"></a>\n",
    "\n",
    "Perfecto! Pero mira, esto puedes agregarlo a la parte anterior en la sección de enriquecer los datos, pues acá si que estas transformando los datos estructuralmente al agregar nuevas columnas."
   ]
  },
  {
   "cell_type": "code",
   "execution_count": 33,
   "metadata": {
    "id": "H1AqN2eG0q1H"
   },
   "outputs": [
    {
     "name": "stdout",
     "output_type": "stream",
     "text": [
      "      user_id  month   mb_used\n",
      "0        1000     12   1901.47\n",
      "1        1001      8   6919.15\n",
      "2        1001      9  13314.82\n",
      "3        1001     10  22330.49\n",
      "4        1001     11  18504.30\n",
      "...       ...    ...       ...\n",
      "2272     1498     12  23137.69\n",
      "2273     1499      9  12984.76\n",
      "2274     1499     10  19492.43\n",
      "2275     1499     11  16813.83\n",
      "2276     1499     12  22059.21\n",
      "\n",
      "[2277 rows x 3 columns]\n"
     ]
    }
   ],
   "source": [
    "internet_by_user = internet.groupby(['user_id', 'month'])['mb_used'].sum().reset_index()\n",
    "print(internet_by_user)# Calcula el volumen del tráfico de Internet usado por cada usuario al mes. Guarda el resultado.\n",
    "\n"
   ]
  },
  {
   "cell_type": "code",
   "execution_count": 34,
   "metadata": {},
   "outputs": [
    {
     "data": {
      "text/html": [
       "<div>\n",
       "<style scoped>\n",
       "    .dataframe tbody tr th:only-of-type {\n",
       "        vertical-align: middle;\n",
       "    }\n",
       "\n",
       "    .dataframe tbody tr th {\n",
       "        vertical-align: top;\n",
       "    }\n",
       "\n",
       "    .dataframe thead th {\n",
       "        text-align: right;\n",
       "    }\n",
       "</style>\n",
       "<table border=\"1\" class=\"dataframe\">\n",
       "  <thead>\n",
       "    <tr style=\"text-align: right;\">\n",
       "      <th></th>\n",
       "      <th>id</th>\n",
       "      <th>user_id</th>\n",
       "      <th>session_date</th>\n",
       "      <th>mb_used</th>\n",
       "      <th>gb_used</th>\n",
       "      <th>month</th>\n",
       "    </tr>\n",
       "  </thead>\n",
       "  <tbody>\n",
       "    <tr>\n",
       "      <th>0</th>\n",
       "      <td>1000_13</td>\n",
       "      <td>1000</td>\n",
       "      <td>2018-12-29</td>\n",
       "      <td>89.86</td>\n",
       "      <td>1</td>\n",
       "      <td>12</td>\n",
       "    </tr>\n",
       "    <tr>\n",
       "      <th>1</th>\n",
       "      <td>1000_204</td>\n",
       "      <td>1000</td>\n",
       "      <td>2018-12-31</td>\n",
       "      <td>0.00</td>\n",
       "      <td>0</td>\n",
       "      <td>12</td>\n",
       "    </tr>\n",
       "    <tr>\n",
       "      <th>2</th>\n",
       "      <td>1000_379</td>\n",
       "      <td>1000</td>\n",
       "      <td>2018-12-28</td>\n",
       "      <td>660.40</td>\n",
       "      <td>1</td>\n",
       "      <td>12</td>\n",
       "    </tr>\n",
       "    <tr>\n",
       "      <th>3</th>\n",
       "      <td>1000_413</td>\n",
       "      <td>1000</td>\n",
       "      <td>2018-12-26</td>\n",
       "      <td>270.99</td>\n",
       "      <td>1</td>\n",
       "      <td>12</td>\n",
       "    </tr>\n",
       "    <tr>\n",
       "      <th>4</th>\n",
       "      <td>1000_442</td>\n",
       "      <td>1000</td>\n",
       "      <td>2018-12-27</td>\n",
       "      <td>880.22</td>\n",
       "      <td>1</td>\n",
       "      <td>12</td>\n",
       "    </tr>\n",
       "    <tr>\n",
       "      <th>...</th>\n",
       "      <td>...</td>\n",
       "      <td>...</td>\n",
       "      <td>...</td>\n",
       "      <td>...</td>\n",
       "      <td>...</td>\n",
       "      <td>...</td>\n",
       "    </tr>\n",
       "    <tr>\n",
       "      <th>104820</th>\n",
       "      <td>1499_215</td>\n",
       "      <td>1499</td>\n",
       "      <td>2018-10-20</td>\n",
       "      <td>218.06</td>\n",
       "      <td>1</td>\n",
       "      <td>10</td>\n",
       "    </tr>\n",
       "    <tr>\n",
       "      <th>104821</th>\n",
       "      <td>1499_216</td>\n",
       "      <td>1499</td>\n",
       "      <td>2018-12-30</td>\n",
       "      <td>304.72</td>\n",
       "      <td>1</td>\n",
       "      <td>12</td>\n",
       "    </tr>\n",
       "    <tr>\n",
       "      <th>104822</th>\n",
       "      <td>1499_217</td>\n",
       "      <td>1499</td>\n",
       "      <td>2018-09-22</td>\n",
       "      <td>292.75</td>\n",
       "      <td>1</td>\n",
       "      <td>9</td>\n",
       "    </tr>\n",
       "    <tr>\n",
       "      <th>104823</th>\n",
       "      <td>1499_218</td>\n",
       "      <td>1499</td>\n",
       "      <td>2018-12-07</td>\n",
       "      <td>0.00</td>\n",
       "      <td>0</td>\n",
       "      <td>12</td>\n",
       "    </tr>\n",
       "    <tr>\n",
       "      <th>104824</th>\n",
       "      <td>1499_219</td>\n",
       "      <td>1499</td>\n",
       "      <td>2018-12-24</td>\n",
       "      <td>758.31</td>\n",
       "      <td>1</td>\n",
       "      <td>12</td>\n",
       "    </tr>\n",
       "  </tbody>\n",
       "</table>\n",
       "<p>104825 rows × 6 columns</p>\n",
       "</div>"
      ],
      "text/plain": [
       "              id  user_id session_date  mb_used  gb_used  month\n",
       "0        1000_13     1000   2018-12-29    89.86        1     12\n",
       "1       1000_204     1000   2018-12-31     0.00        0     12\n",
       "2       1000_379     1000   2018-12-28   660.40        1     12\n",
       "3       1000_413     1000   2018-12-26   270.99        1     12\n",
       "4       1000_442     1000   2018-12-27   880.22        1     12\n",
       "...          ...      ...          ...      ...      ...    ...\n",
       "104820  1499_215     1499   2018-10-20   218.06        1     10\n",
       "104821  1499_216     1499   2018-12-30   304.72        1     12\n",
       "104822  1499_217     1499   2018-09-22   292.75        1      9\n",
       "104823  1499_218     1499   2018-12-07     0.00        0     12\n",
       "104824  1499_219     1499   2018-12-24   758.31        1     12\n",
       "\n",
       "[104825 rows x 6 columns]"
      ]
     },
     "execution_count": 34,
     "metadata": {},
     "output_type": "execute_result"
    }
   ],
   "source": [
    "internet"
   ]
  },
  {
   "cell_type": "markdown",
   "metadata": {},
   "source": [
    "<div class=\"alert alert-block alert-warning\">\n",
    "<b>Comentario del revisor. (Iteración 1) </b> <a class=\"tocSkip\"></a>\n",
    "\n",
    "Muchas felicidades Estela! Manejas muy bien el uso de las agrupaciones para resolver los problemas, solo te recomiendo colocar las transformaciones en la sección correspondiente para tener un código más organizado."
   ]
  },
  {
   "cell_type": "markdown",
   "metadata": {
    "id": "VDfYXnj80q1H"
   },
   "source": [
    "[Junta los datos agregados en un DataFrame para que haya un registro que represente lo que consumió un usuario único en un mes determinado.]"
   ]
  },
  {
   "cell_type": "code",
   "execution_count": 35,
   "metadata": {
    "id": "FW99ykyf0q1H"
   },
   "outputs": [
    {
     "name": "stdout",
     "output_type": "stream",
     "text": [
      "      user_id  month  id  duration\n",
      "0        1000     12  16       124\n",
      "1        1001      8  27       182\n",
      "2        1001      9  49       315\n",
      "3        1001     10  65       393\n",
      "4        1001     11  64       426\n",
      "...       ...    ...  ..       ...\n",
      "2253     1498     12  39       339\n",
      "2254     1499      9  41       346\n",
      "2255     1499     10  53       385\n",
      "2256     1499     11  45       308\n",
      "2257     1499     12  65       496\n",
      "\n",
      "[2258 rows x 4 columns]\n"
     ]
    }
   ],
   "source": [
    "first_merge= pd.merge(calls_by_user, min_by_user, on = ['user_id', 'month'], how='inner')# Fusiona los datos de llamadas, minutos, mensajes e Internet con base en user_id y month\n",
    "print(first_merge)\n"
   ]
  },
  {
   "cell_type": "code",
   "execution_count": 36,
   "metadata": {},
   "outputs": [
    {
     "name": "stdout",
     "output_type": "stream",
     "text": [
      "      user_id  month  id_x  duration  id_y\n",
      "0        1000     12    16       124    11\n",
      "1        1001      8    27       182    30\n",
      "2        1001      9    49       315    44\n",
      "3        1001     10    65       393    53\n",
      "4        1001     11    64       426    36\n",
      "...       ...    ...   ...       ...   ...\n",
      "1768     1496      9    52       414    21\n",
      "1769     1496     10    46       317    18\n",
      "1770     1496     11    39       308    13\n",
      "1771     1496     12    40       294    11\n",
      "1772     1497     12    54       300    50\n",
      "\n",
      "[1773 rows x 5 columns]\n"
     ]
    }
   ],
   "source": [
    "second_merge= pd.merge(first_merge, messages_by_user, on = ['user_id', 'month'], how='inner')# Fusiona los datos de llamadas, minutos, mensajes e Internet con base en user_id y month\n",
    "print(second_merge)"
   ]
  },
  {
   "cell_type": "code",
   "execution_count": 37,
   "metadata": {},
   "outputs": [
    {
     "name": "stdout",
     "output_type": "stream",
     "text": [
      "      user_id  month  id_x  duration  id_y   mb_used\n",
      "0        1000     12    16       124    11   1901.47\n",
      "1        1001      8    27       182    30   6919.15\n",
      "2        1001      9    49       315    44  13314.82\n",
      "3        1001     10    65       393    53  22330.49\n",
      "4        1001     11    64       426    36  18504.30\n",
      "...       ...    ...   ...       ...   ...       ...\n",
      "1754     1496      9    52       414    21  16389.27\n",
      "1755     1496     10    46       317    18  14287.36\n",
      "1756     1496     11    39       308    13   8547.36\n",
      "1757     1496     12    40       294    11  16438.99\n",
      "1758     1497     12    54       300    50  11106.55\n",
      "\n",
      "[1759 rows x 6 columns]\n"
     ]
    }
   ],
   "source": [
    "third_merge = pd.merge(second_merge, internet_by_user, on = ['user_id', 'month'], how='inner')# Fusiona los datos de llamadas, minutos, mensajes e Internet con base en user_id y month\n",
    "print(third_merge)"
   ]
  },
  {
   "cell_type": "markdown",
   "metadata": {},
   "source": []
  },
  {
   "cell_type": "code",
   "execution_count": 38,
   "metadata": {},
   "outputs": [],
   "source": [
    "users['reg_date'] = pd.to_datetime(users['reg_date'])\n",
    "users['month'] = users['reg_date'].dt.month"
   ]
  },
  {
   "cell_type": "markdown",
   "metadata": {},
   "source": [
    "<div class=\"alert alert-block alert-warning\">\n",
    "<b>Comentario del revisor. (Iteración 1) </b> <a class=\"tocSkip\"></a>\n",
    "\n",
    "Perfecto! Pero mira, esto puedes agregarlo a la parte anterior en la sección de enriquecer los datos, pues acá si que estas transformando los datos estructuralmente al agregar nuevas columnas."
   ]
  },
  {
   "cell_type": "code",
   "execution_count": 39,
   "metadata": {},
   "outputs": [
    {
     "name": "stdout",
     "output_type": "stream",
     "text": [
      "     user_id  month      plan\n",
      "0       1000     12  ultimate\n",
      "1       1001      8      surf\n",
      "2       1002     10      surf\n",
      "3       1003      1      surf\n",
      "4       1004      5      surf\n",
      "..       ...    ...       ...\n",
      "495     1495      9      surf\n",
      "496     1496      2      surf\n",
      "497     1497     12  ultimate\n",
      "498     1498      2      surf\n",
      "499     1499      5      surf\n",
      "\n",
      "[500 rows x 3 columns]\n"
     ]
    }
   ],
   "source": [
    "users_plan = users.groupby(['user_id', 'month'])['plan'].sum().reset_index()\n",
    "print(users_plan)"
   ]
  },
  {
   "cell_type": "code",
   "execution_count": 40,
   "metadata": {
    "id": "0dNOXHag0q1H"
   },
   "outputs": [
    {
     "name": "stdout",
     "output_type": "stream",
     "text": [
      "     user_id  month  id_x  duration  id_y   mb_used      plan\n",
      "0       1000     12    16       124    11   1901.47  ultimate\n",
      "1       1001      8    27       182    30   6919.15      surf\n",
      "2       1002     10    11        59    15   6552.01      surf\n",
      "3       1004      5    21       193     7   6547.21      surf\n",
      "4       1006     11     2        10    15   2068.37  ultimate\n",
      "..       ...    ...   ...       ...   ...       ...       ...\n",
      "181     1479     11    83       574     1   4123.18      surf\n",
      "182     1480     12    70       541    51   8805.51      surf\n",
      "183     1481     12     6        36     3   1265.78      surf\n",
      "184     1486     12    45       347    10  20312.83      surf\n",
      "185     1497     12    54       300    50  11106.55  ultimate\n",
      "\n",
      "[186 rows x 7 columns]\n"
     ]
    }
   ],
   "source": [
    "plan_type = pd.merge(third_merge, users_plan, on = ['user_id', 'month'], how='inner')# Añade la información de la tarifa\n",
    "print(plan_type)\n"
   ]
  },
  {
   "cell_type": "code",
   "execution_count": 41,
   "metadata": {},
   "outputs": [
    {
     "data": {
      "text/html": [
       "<div>\n",
       "<style scoped>\n",
       "    .dataframe tbody tr th:only-of-type {\n",
       "        vertical-align: middle;\n",
       "    }\n",
       "\n",
       "    .dataframe tbody tr th {\n",
       "        vertical-align: top;\n",
       "    }\n",
       "\n",
       "    .dataframe thead th {\n",
       "        text-align: right;\n",
       "    }\n",
       "</style>\n",
       "<table border=\"1\" class=\"dataframe\">\n",
       "  <thead>\n",
       "    <tr style=\"text-align: right;\">\n",
       "      <th></th>\n",
       "      <th>user_id</th>\n",
       "      <th>month</th>\n",
       "      <th>id_x</th>\n",
       "      <th>duration</th>\n",
       "      <th>id_y</th>\n",
       "      <th>mb_used</th>\n",
       "      <th>plan</th>\n",
       "      <th>messages_included</th>\n",
       "      <th>mb_per_month_included</th>\n",
       "      <th>minutes_included</th>\n",
       "      <th>usd_monthly_pay</th>\n",
       "      <th>usd_per_gb</th>\n",
       "      <th>usd_per_message</th>\n",
       "      <th>usd_per_minute</th>\n",
       "      <th>plan_name</th>\n",
       "    </tr>\n",
       "  </thead>\n",
       "  <tbody>\n",
       "    <tr>\n",
       "      <th>0</th>\n",
       "      <td>1000</td>\n",
       "      <td>12</td>\n",
       "      <td>16</td>\n",
       "      <td>124</td>\n",
       "      <td>11</td>\n",
       "      <td>1901.47</td>\n",
       "      <td>ultimate</td>\n",
       "      <td>1000</td>\n",
       "      <td>30720</td>\n",
       "      <td>3000</td>\n",
       "      <td>70</td>\n",
       "      <td>7</td>\n",
       "      <td>1</td>\n",
       "      <td>1</td>\n",
       "      <td>ultimate</td>\n",
       "    </tr>\n",
       "    <tr>\n",
       "      <th>1</th>\n",
       "      <td>1006</td>\n",
       "      <td>11</td>\n",
       "      <td>2</td>\n",
       "      <td>10</td>\n",
       "      <td>15</td>\n",
       "      <td>2068.37</td>\n",
       "      <td>ultimate</td>\n",
       "      <td>1000</td>\n",
       "      <td>30720</td>\n",
       "      <td>3000</td>\n",
       "      <td>70</td>\n",
       "      <td>7</td>\n",
       "      <td>1</td>\n",
       "      <td>1</td>\n",
       "      <td>ultimate</td>\n",
       "    </tr>\n",
       "    <tr>\n",
       "      <th>2</th>\n",
       "      <td>1013</td>\n",
       "      <td>12</td>\n",
       "      <td>35</td>\n",
       "      <td>219</td>\n",
       "      <td>16</td>\n",
       "      <td>20113.92</td>\n",
       "      <td>ultimate</td>\n",
       "      <td>1000</td>\n",
       "      <td>30720</td>\n",
       "      <td>3000</td>\n",
       "      <td>70</td>\n",
       "      <td>7</td>\n",
       "      <td>1</td>\n",
       "      <td>1</td>\n",
       "      <td>ultimate</td>\n",
       "    </tr>\n",
       "    <tr>\n",
       "      <th>3</th>\n",
       "      <td>1026</td>\n",
       "      <td>7</td>\n",
       "      <td>23</td>\n",
       "      <td>163</td>\n",
       "      <td>9</td>\n",
       "      <td>4822.35</td>\n",
       "      <td>ultimate</td>\n",
       "      <td>1000</td>\n",
       "      <td>30720</td>\n",
       "      <td>3000</td>\n",
       "      <td>70</td>\n",
       "      <td>7</td>\n",
       "      <td>1</td>\n",
       "      <td>1</td>\n",
       "      <td>ultimate</td>\n",
       "    </tr>\n",
       "    <tr>\n",
       "      <th>4</th>\n",
       "      <td>1031</td>\n",
       "      <td>7</td>\n",
       "      <td>36</td>\n",
       "      <td>304</td>\n",
       "      <td>1</td>\n",
       "      <td>10653.04</td>\n",
       "      <td>ultimate</td>\n",
       "      <td>1000</td>\n",
       "      <td>30720</td>\n",
       "      <td>3000</td>\n",
       "      <td>70</td>\n",
       "      <td>7</td>\n",
       "      <td>1</td>\n",
       "      <td>1</td>\n",
       "      <td>ultimate</td>\n",
       "    </tr>\n",
       "    <tr>\n",
       "      <th>...</th>\n",
       "      <td>...</td>\n",
       "      <td>...</td>\n",
       "      <td>...</td>\n",
       "      <td>...</td>\n",
       "      <td>...</td>\n",
       "      <td>...</td>\n",
       "      <td>...</td>\n",
       "      <td>...</td>\n",
       "      <td>...</td>\n",
       "      <td>...</td>\n",
       "      <td>...</td>\n",
       "      <td>...</td>\n",
       "      <td>...</td>\n",
       "      <td>...</td>\n",
       "      <td>...</td>\n",
       "    </tr>\n",
       "    <tr>\n",
       "      <th>181</th>\n",
       "      <td>1474</td>\n",
       "      <td>8</td>\n",
       "      <td>11</td>\n",
       "      <td>96</td>\n",
       "      <td>6</td>\n",
       "      <td>5336.52</td>\n",
       "      <td>surf</td>\n",
       "      <td>50</td>\n",
       "      <td>15360</td>\n",
       "      <td>500</td>\n",
       "      <td>20</td>\n",
       "      <td>10</td>\n",
       "      <td>1</td>\n",
       "      <td>1</td>\n",
       "      <td>surf</td>\n",
       "    </tr>\n",
       "    <tr>\n",
       "      <th>182</th>\n",
       "      <td>1479</td>\n",
       "      <td>11</td>\n",
       "      <td>83</td>\n",
       "      <td>574</td>\n",
       "      <td>1</td>\n",
       "      <td>4123.18</td>\n",
       "      <td>surf</td>\n",
       "      <td>50</td>\n",
       "      <td>15360</td>\n",
       "      <td>500</td>\n",
       "      <td>20</td>\n",
       "      <td>10</td>\n",
       "      <td>1</td>\n",
       "      <td>1</td>\n",
       "      <td>surf</td>\n",
       "    </tr>\n",
       "    <tr>\n",
       "      <th>183</th>\n",
       "      <td>1480</td>\n",
       "      <td>12</td>\n",
       "      <td>70</td>\n",
       "      <td>541</td>\n",
       "      <td>51</td>\n",
       "      <td>8805.51</td>\n",
       "      <td>surf</td>\n",
       "      <td>50</td>\n",
       "      <td>15360</td>\n",
       "      <td>500</td>\n",
       "      <td>20</td>\n",
       "      <td>10</td>\n",
       "      <td>1</td>\n",
       "      <td>1</td>\n",
       "      <td>surf</td>\n",
       "    </tr>\n",
       "    <tr>\n",
       "      <th>184</th>\n",
       "      <td>1481</td>\n",
       "      <td>12</td>\n",
       "      <td>6</td>\n",
       "      <td>36</td>\n",
       "      <td>3</td>\n",
       "      <td>1265.78</td>\n",
       "      <td>surf</td>\n",
       "      <td>50</td>\n",
       "      <td>15360</td>\n",
       "      <td>500</td>\n",
       "      <td>20</td>\n",
       "      <td>10</td>\n",
       "      <td>1</td>\n",
       "      <td>1</td>\n",
       "      <td>surf</td>\n",
       "    </tr>\n",
       "    <tr>\n",
       "      <th>185</th>\n",
       "      <td>1486</td>\n",
       "      <td>12</td>\n",
       "      <td>45</td>\n",
       "      <td>347</td>\n",
       "      <td>10</td>\n",
       "      <td>20312.83</td>\n",
       "      <td>surf</td>\n",
       "      <td>50</td>\n",
       "      <td>15360</td>\n",
       "      <td>500</td>\n",
       "      <td>20</td>\n",
       "      <td>10</td>\n",
       "      <td>1</td>\n",
       "      <td>1</td>\n",
       "      <td>surf</td>\n",
       "    </tr>\n",
       "  </tbody>\n",
       "</table>\n",
       "<p>186 rows × 15 columns</p>\n",
       "</div>"
      ],
      "text/plain": [
       "     user_id  month  id_x  duration  id_y   mb_used      plan  \\\n",
       "0       1000     12    16       124    11   1901.47  ultimate   \n",
       "1       1006     11     2        10    15   2068.37  ultimate   \n",
       "2       1013     12    35       219    16  20113.92  ultimate   \n",
       "3       1026      7    23       163     9   4822.35  ultimate   \n",
       "4       1031      7    36       304     1  10653.04  ultimate   \n",
       "..       ...    ...   ...       ...   ...       ...       ...   \n",
       "181     1474      8    11        96     6   5336.52      surf   \n",
       "182     1479     11    83       574     1   4123.18      surf   \n",
       "183     1480     12    70       541    51   8805.51      surf   \n",
       "184     1481     12     6        36     3   1265.78      surf   \n",
       "185     1486     12    45       347    10  20312.83      surf   \n",
       "\n",
       "     messages_included  mb_per_month_included  minutes_included  \\\n",
       "0                 1000                  30720              3000   \n",
       "1                 1000                  30720              3000   \n",
       "2                 1000                  30720              3000   \n",
       "3                 1000                  30720              3000   \n",
       "4                 1000                  30720              3000   \n",
       "..                 ...                    ...               ...   \n",
       "181                 50                  15360               500   \n",
       "182                 50                  15360               500   \n",
       "183                 50                  15360               500   \n",
       "184                 50                  15360               500   \n",
       "185                 50                  15360               500   \n",
       "\n",
       "     usd_monthly_pay  usd_per_gb  usd_per_message  usd_per_minute plan_name  \n",
       "0                 70           7                1               1  ultimate  \n",
       "1                 70           7                1               1  ultimate  \n",
       "2                 70           7                1               1  ultimate  \n",
       "3                 70           7                1               1  ultimate  \n",
       "4                 70           7                1               1  ultimate  \n",
       "..               ...         ...              ...             ...       ...  \n",
       "181               20          10                1               1      surf  \n",
       "182               20          10                1               1      surf  \n",
       "183               20          10                1               1      surf  \n",
       "184               20          10                1               1      surf  \n",
       "185               20          10                1               1      surf  \n",
       "\n",
       "[186 rows x 15 columns]"
      ]
     },
     "execution_count": 41,
     "metadata": {},
     "output_type": "execute_result"
    }
   ],
   "source": [
    "plan = pd.merge(plan_type, plans, left_on = 'plan', right_on= 'plan_name', how='inner')# Añade la información de la tarifa\n",
    "plan\n",
    "\n"
   ]
  },
  {
   "cell_type": "markdown",
   "metadata": {},
   "source": [
    "<div class=\"alert alert-block alert-success\">\n",
    "<b>Comentario del revisor. (Iteración 1) </b> <a class=\"tocSkip\"></a>\n",
    "\n",
    "Excelente! Se nota que tienes un buen manejo del uso de la función merge para unir dataframes! Te felicito por ello!"
   ]
  },
  {
   "cell_type": "markdown",
   "metadata": {
    "id": "1IwGo4wg0q1I"
   },
   "source": [
    "[Calcula los ingresos mensuales por usuario (resta el límite del paquete gratuito del número total de llamadas, mensajes de texto y datos; multiplica el resultado por el valor del plan de llamadas; añade la tarifa mensual en función del plan de llamadas). Nota: Dadas las condiciones del plan, ¡esto podría no ser tan trivial como un par de líneas! Así que no pasa nada si dedicas algo de tiempo a ello.]"
   ]
  },
  {
   "cell_type": "code",
   "execution_count": 42,
   "metadata": {
    "scrolled": false
   },
   "outputs": [
    {
     "data": {
      "text/html": [
       "<div>\n",
       "<style scoped>\n",
       "    .dataframe tbody tr th:only-of-type {\n",
       "        vertical-align: middle;\n",
       "    }\n",
       "\n",
       "    .dataframe tbody tr th {\n",
       "        vertical-align: top;\n",
       "    }\n",
       "\n",
       "    .dataframe thead th {\n",
       "        text-align: right;\n",
       "    }\n",
       "</style>\n",
       "<table border=\"1\" class=\"dataframe\">\n",
       "  <thead>\n",
       "    <tr style=\"text-align: right;\">\n",
       "      <th></th>\n",
       "      <th>user_id</th>\n",
       "      <th>month</th>\n",
       "      <th>id_x</th>\n",
       "      <th>duration</th>\n",
       "      <th>id_y</th>\n",
       "      <th>mb_used</th>\n",
       "      <th>plan</th>\n",
       "      <th>messages_included</th>\n",
       "      <th>mb_per_month_included</th>\n",
       "      <th>minutes_included</th>\n",
       "      <th>usd_monthly_pay</th>\n",
       "      <th>usd_per_gb</th>\n",
       "      <th>usd_per_message</th>\n",
       "      <th>usd_per_minute</th>\n",
       "      <th>plan_name</th>\n",
       "      <th>incomes</th>\n",
       "    </tr>\n",
       "  </thead>\n",
       "  <tbody>\n",
       "    <tr>\n",
       "      <th>0</th>\n",
       "      <td>1000</td>\n",
       "      <td>12</td>\n",
       "      <td>16</td>\n",
       "      <td>124</td>\n",
       "      <td>11</td>\n",
       "      <td>1901.47</td>\n",
       "      <td>ultimate</td>\n",
       "      <td>1000</td>\n",
       "      <td>30720</td>\n",
       "      <td>3000</td>\n",
       "      <td>70</td>\n",
       "      <td>7</td>\n",
       "      <td>1</td>\n",
       "      <td>1</td>\n",
       "      <td>ultimate</td>\n",
       "      <td>13170.29</td>\n",
       "    </tr>\n",
       "    <tr>\n",
       "      <th>1</th>\n",
       "      <td>1006</td>\n",
       "      <td>11</td>\n",
       "      <td>2</td>\n",
       "      <td>10</td>\n",
       "      <td>15</td>\n",
       "      <td>2068.37</td>\n",
       "      <td>ultimate</td>\n",
       "      <td>1000</td>\n",
       "      <td>30720</td>\n",
       "      <td>3000</td>\n",
       "      <td>70</td>\n",
       "      <td>7</td>\n",
       "      <td>1</td>\n",
       "      <td>1</td>\n",
       "      <td>ultimate</td>\n",
       "      <td>14338.59</td>\n",
       "    </tr>\n",
       "    <tr>\n",
       "      <th>2</th>\n",
       "      <td>1013</td>\n",
       "      <td>12</td>\n",
       "      <td>35</td>\n",
       "      <td>219</td>\n",
       "      <td>16</td>\n",
       "      <td>20113.92</td>\n",
       "      <td>ultimate</td>\n",
       "      <td>1000</td>\n",
       "      <td>30720</td>\n",
       "      <td>3000</td>\n",
       "      <td>70</td>\n",
       "      <td>7</td>\n",
       "      <td>1</td>\n",
       "      <td>1</td>\n",
       "      <td>ultimate</td>\n",
       "      <td>140657.44</td>\n",
       "    </tr>\n",
       "    <tr>\n",
       "      <th>3</th>\n",
       "      <td>1026</td>\n",
       "      <td>7</td>\n",
       "      <td>23</td>\n",
       "      <td>163</td>\n",
       "      <td>9</td>\n",
       "      <td>4822.35</td>\n",
       "      <td>ultimate</td>\n",
       "      <td>1000</td>\n",
       "      <td>30720</td>\n",
       "      <td>3000</td>\n",
       "      <td>70</td>\n",
       "      <td>7</td>\n",
       "      <td>1</td>\n",
       "      <td>1</td>\n",
       "      <td>ultimate</td>\n",
       "      <td>33616.45</td>\n",
       "    </tr>\n",
       "    <tr>\n",
       "      <th>4</th>\n",
       "      <td>1031</td>\n",
       "      <td>7</td>\n",
       "      <td>36</td>\n",
       "      <td>304</td>\n",
       "      <td>1</td>\n",
       "      <td>10653.04</td>\n",
       "      <td>ultimate</td>\n",
       "      <td>1000</td>\n",
       "      <td>30720</td>\n",
       "      <td>3000</td>\n",
       "      <td>70</td>\n",
       "      <td>7</td>\n",
       "      <td>1</td>\n",
       "      <td>1</td>\n",
       "      <td>ultimate</td>\n",
       "      <td>74431.28</td>\n",
       "    </tr>\n",
       "    <tr>\n",
       "      <th>...</th>\n",
       "      <td>...</td>\n",
       "      <td>...</td>\n",
       "      <td>...</td>\n",
       "      <td>...</td>\n",
       "      <td>...</td>\n",
       "      <td>...</td>\n",
       "      <td>...</td>\n",
       "      <td>...</td>\n",
       "      <td>...</td>\n",
       "      <td>...</td>\n",
       "      <td>...</td>\n",
       "      <td>...</td>\n",
       "      <td>...</td>\n",
       "      <td>...</td>\n",
       "      <td>...</td>\n",
       "      <td>...</td>\n",
       "    </tr>\n",
       "    <tr>\n",
       "      <th>181</th>\n",
       "      <td>1474</td>\n",
       "      <td>8</td>\n",
       "      <td>11</td>\n",
       "      <td>96</td>\n",
       "      <td>6</td>\n",
       "      <td>5336.52</td>\n",
       "      <td>surf</td>\n",
       "      <td>50</td>\n",
       "      <td>15360</td>\n",
       "      <td>500</td>\n",
       "      <td>20</td>\n",
       "      <td>10</td>\n",
       "      <td>1</td>\n",
       "      <td>1</td>\n",
       "      <td>surf</td>\n",
       "      <td>53235.20</td>\n",
       "    </tr>\n",
       "    <tr>\n",
       "      <th>182</th>\n",
       "      <td>1479</td>\n",
       "      <td>11</td>\n",
       "      <td>83</td>\n",
       "      <td>574</td>\n",
       "      <td>1</td>\n",
       "      <td>4123.18</td>\n",
       "      <td>surf</td>\n",
       "      <td>50</td>\n",
       "      <td>15360</td>\n",
       "      <td>500</td>\n",
       "      <td>20</td>\n",
       "      <td>10</td>\n",
       "      <td>1</td>\n",
       "      <td>1</td>\n",
       "      <td>surf</td>\n",
       "      <td>41104.02</td>\n",
       "    </tr>\n",
       "    <tr>\n",
       "      <th>183</th>\n",
       "      <td>1480</td>\n",
       "      <td>12</td>\n",
       "      <td>70</td>\n",
       "      <td>541</td>\n",
       "      <td>51</td>\n",
       "      <td>8805.51</td>\n",
       "      <td>surf</td>\n",
       "      <td>50</td>\n",
       "      <td>15360</td>\n",
       "      <td>500</td>\n",
       "      <td>20</td>\n",
       "      <td>10</td>\n",
       "      <td>1</td>\n",
       "      <td>1</td>\n",
       "      <td>surf</td>\n",
       "      <td>87926.36</td>\n",
       "    </tr>\n",
       "    <tr>\n",
       "      <th>184</th>\n",
       "      <td>1481</td>\n",
       "      <td>12</td>\n",
       "      <td>6</td>\n",
       "      <td>36</td>\n",
       "      <td>3</td>\n",
       "      <td>1265.78</td>\n",
       "      <td>surf</td>\n",
       "      <td>50</td>\n",
       "      <td>15360</td>\n",
       "      <td>500</td>\n",
       "      <td>20</td>\n",
       "      <td>10</td>\n",
       "      <td>1</td>\n",
       "      <td>1</td>\n",
       "      <td>surf</td>\n",
       "      <td>12527.80</td>\n",
       "    </tr>\n",
       "    <tr>\n",
       "      <th>185</th>\n",
       "      <td>1486</td>\n",
       "      <td>12</td>\n",
       "      <td>45</td>\n",
       "      <td>347</td>\n",
       "      <td>10</td>\n",
       "      <td>20312.83</td>\n",
       "      <td>surf</td>\n",
       "      <td>50</td>\n",
       "      <td>15360</td>\n",
       "      <td>500</td>\n",
       "      <td>20</td>\n",
       "      <td>10</td>\n",
       "      <td>1</td>\n",
       "      <td>1</td>\n",
       "      <td>surf</td>\n",
       "      <td>202998.30</td>\n",
       "    </tr>\n",
       "  </tbody>\n",
       "</table>\n",
       "<p>186 rows × 16 columns</p>\n",
       "</div>"
      ],
      "text/plain": [
       "     user_id  month  id_x  duration  id_y   mb_used      plan  \\\n",
       "0       1000     12    16       124    11   1901.47  ultimate   \n",
       "1       1006     11     2        10    15   2068.37  ultimate   \n",
       "2       1013     12    35       219    16  20113.92  ultimate   \n",
       "3       1026      7    23       163     9   4822.35  ultimate   \n",
       "4       1031      7    36       304     1  10653.04  ultimate   \n",
       "..       ...    ...   ...       ...   ...       ...       ...   \n",
       "181     1474      8    11        96     6   5336.52      surf   \n",
       "182     1479     11    83       574     1   4123.18      surf   \n",
       "183     1480     12    70       541    51   8805.51      surf   \n",
       "184     1481     12     6        36     3   1265.78      surf   \n",
       "185     1486     12    45       347    10  20312.83      surf   \n",
       "\n",
       "     messages_included  mb_per_month_included  minutes_included  \\\n",
       "0                 1000                  30720              3000   \n",
       "1                 1000                  30720              3000   \n",
       "2                 1000                  30720              3000   \n",
       "3                 1000                  30720              3000   \n",
       "4                 1000                  30720              3000   \n",
       "..                 ...                    ...               ...   \n",
       "181                 50                  15360               500   \n",
       "182                 50                  15360               500   \n",
       "183                 50                  15360               500   \n",
       "184                 50                  15360               500   \n",
       "185                 50                  15360               500   \n",
       "\n",
       "     usd_monthly_pay  usd_per_gb  usd_per_message  usd_per_minute plan_name  \\\n",
       "0                 70           7                1               1  ultimate   \n",
       "1                 70           7                1               1  ultimate   \n",
       "2                 70           7                1               1  ultimate   \n",
       "3                 70           7                1               1  ultimate   \n",
       "4                 70           7                1               1  ultimate   \n",
       "..               ...         ...              ...             ...       ...   \n",
       "181               20          10                1               1      surf   \n",
       "182               20          10                1               1      surf   \n",
       "183               20          10                1               1      surf   \n",
       "184               20          10                1               1      surf   \n",
       "185               20          10                1               1      surf   \n",
       "\n",
       "       incomes  \n",
       "0     13170.29  \n",
       "1     14338.59  \n",
       "2    140657.44  \n",
       "3     33616.45  \n",
       "4     74431.28  \n",
       "..         ...  \n",
       "181   53235.20  \n",
       "182   41104.02  \n",
       "183   87926.36  \n",
       "184   12527.80  \n",
       "185  202998.30  \n",
       "\n",
       "[186 rows x 16 columns]"
      ]
     },
     "execution_count": 42,
     "metadata": {},
     "output_type": "execute_result"
    }
   ],
   "source": [
    "def calcular_ingresos(row):\n",
    "    \n",
    "    if row['plan'] == 'surf':\n",
    "        ingresos = 20 \n",
    "        \n",
    "        if row['duration'] > 500:\n",
    "           ingresos = (row['duration'] - 500) * .03 + ingresos\n",
    "        \n",
    "        if row['id_y'] > 50:\n",
    "            ingresos = (row['id_y'] - 50) * .03 + ingresos\n",
    "        \n",
    "        if row['mb_used'] > 15:\n",
    "            ingresos = (row['mb_used'] - 15) * 10 + ingresos\n",
    "            \n",
    "    if row['plan'] == 'ultimate':\n",
    "        ingresos = 70 \n",
    "        \n",
    "        if row['duration'] > 3000:\n",
    "           ingresos = (row['duration'] - 3000) * .01 + ingresos\n",
    "        \n",
    "        if row['id_y'] > 1000:\n",
    "            ingresos = (row['id_y'] - 1000) * .01 + ingresos\n",
    "        \n",
    "        if row['mb_used'] > 30:\n",
    "            ingresos = (row['mb_used'] - 30) * 7 + ingresos\n",
    "            \n",
    "   \n",
    "    row['incomes'] = ingresos\n",
    "    return row\n",
    "\n",
    "incomes_by_user = plan.apply(calcular_ingresos, axis=1)\n",
    "incomes_by_user\n"
   ]
  },
  {
   "cell_type": "markdown",
   "metadata": {},
   "source": []
  },
  {
   "cell_type": "markdown",
   "metadata": {},
   "source": [
    "<div class=\"alert alert-block alert-warning\">\n",
    "<b>Comentario del revisor. (Iteración 1) </b> <a class=\"tocSkip\"></a>\n",
    "\n",
    "Ten cuidado aquí Estela. Te recomiendo leer con cuidado las instrucciones. Justo ahí se encuentra el secreto de como resolver este punto. Mira: \n",
    "    \n",
    "    resta el límite del paquete gratuito del número total de llamadas, mensajes de texto y datos; multiplica el resultado por el valor del plan de llamadas; añade la tarifa mensual en función del plan de llamadas\n",
    "    \n",
    "Con esto puedes resolver este punto, no te preocupes, entiendo que puede no resultar sencillo, pero es parte del aprendizaje y del crecimiento superar problemas dificiles. \n",
    "\n",
    "</div>\n"
   ]
  },
  {
   "cell_type": "code",
   "execution_count": 43,
   "metadata": {
    "id": "5FGCf_c60q1I"
   },
   "outputs": [],
   "source": [
    "  # Calcula el ingreso mensual para cada usuario\n",
    "\n"
   ]
  },
  {
   "cell_type": "markdown",
   "metadata": {},
   "source": [
    "<div class=\"alert alert-block alert-success\">\n",
    "<b>Comentario del revisor. (Iteración 3) </b> <a class=\"tocSkip\"></a>\n",
    "\n",
    "De acuerdo!"
   ]
  },
  {
   "cell_type": "markdown",
   "metadata": {},
   "source": [
    "<div class=\"alert alert-block alert-danger\">\n",
    "<b>Comentario del revisor. (Iteración 2) </b> <a class=\"tocSkip\"></a>\n",
    "</div>\n",
    "\n",
    "Me parece que este punto no lo viste Estela\n",
    "    \n",
    "<div class=\"alert alert-block alert-info\">\n",
    "<b>si, le habia dejado un comentario, ya se hizo la multiplicación y la resta como lo piden las intrucciones, incluso lo revisé con una asesora y parece que está bien.</b> <a class=\"tocSkip\"></a>\n",
    "</div>\n",
    "    "
   ]
  },
  {
   "cell_type": "markdown",
   "metadata": {},
   "source": [
    "<div class=\"alert alert-block alert-warning\">\n",
    "<b>Comentario del revisor. (Iteración 1) </b> <a class=\"tocSkip\"></a>\n",
    "\n",
    "Ooops! Parece que se te pasó resolver este punto. Una vez que hagas el punto pasado este y la habilidad que tienes de agrupación harán que sea mucho más sencillo."
   ]
  },
  {
   "cell_type": "markdown",
   "metadata": {
    "id": "-jtyHzJb0q1I"
   },
   "source": [
    "## Estudia el comportamiento de usuario"
   ]
  },
  {
   "cell_type": "markdown",
   "metadata": {
    "id": "AxU3Y0N70q1J"
   },
   "source": [
    "[Calcula algunas estadísticas descriptivas para los datos agregados y fusionados que nos sean útiles y que muestren un panorama general captado por los datos. Dibuja gráficos útiles para facilitar la comprensión. Dado que la tarea principal es comparar las tarifas y decidir cuál es más rentable, las estadísticas y gráficas deben calcularse por tarifa.]\n",
    "\n",
    "[En los comentarios hallarás pistas relevantes para las llamadas, pero no las hay para los mensajes e Internet. Sin embargo, el principio del estudio estadístico que se aplica para ellos es el mismo que para las llamadas.]"
   ]
  },
  {
   "cell_type": "markdown",
   "metadata": {
    "id": "vtW4CJEe0q1J"
   },
   "source": [
    "### Llamadas"
   ]
  },
  {
   "cell_type": "code",
   "execution_count": 44,
   "metadata": {
    "id": "Jf5v5--k0q1J"
   },
   "outputs": [
    {
     "data": {
      "text/html": [
       "<div>\n",
       "<style scoped>\n",
       "    .dataframe tbody tr th:only-of-type {\n",
       "        vertical-align: middle;\n",
       "    }\n",
       "\n",
       "    .dataframe tbody tr th {\n",
       "        vertical-align: top;\n",
       "    }\n",
       "\n",
       "    .dataframe thead th {\n",
       "        text-align: right;\n",
       "    }\n",
       "</style>\n",
       "<table border=\"1\" class=\"dataframe\">\n",
       "  <thead>\n",
       "    <tr style=\"text-align: right;\">\n",
       "      <th></th>\n",
       "      <th>month</th>\n",
       "      <th>surf</th>\n",
       "      <th>ultimate</th>\n",
       "    </tr>\n",
       "  </thead>\n",
       "  <tbody>\n",
       "    <tr>\n",
       "      <th>0</th>\n",
       "      <td>1</td>\n",
       "      <td>292.000000</td>\n",
       "      <td>197.666667</td>\n",
       "    </tr>\n",
       "    <tr>\n",
       "      <th>1</th>\n",
       "      <td>2</td>\n",
       "      <td>134.000000</td>\n",
       "      <td>90.000000</td>\n",
       "    </tr>\n",
       "    <tr>\n",
       "      <th>2</th>\n",
       "      <td>3</td>\n",
       "      <td>263.800000</td>\n",
       "      <td>215.400000</td>\n",
       "    </tr>\n",
       "    <tr>\n",
       "      <th>3</th>\n",
       "      <td>4</td>\n",
       "      <td>280.181818</td>\n",
       "      <td>187.750000</td>\n",
       "    </tr>\n",
       "    <tr>\n",
       "      <th>4</th>\n",
       "      <td>5</td>\n",
       "      <td>150.200000</td>\n",
       "      <td>295.900000</td>\n",
       "    </tr>\n",
       "    <tr>\n",
       "      <th>5</th>\n",
       "      <td>6</td>\n",
       "      <td>173.625000</td>\n",
       "      <td>136.000000</td>\n",
       "    </tr>\n",
       "    <tr>\n",
       "      <th>6</th>\n",
       "      <td>7</td>\n",
       "      <td>196.300000</td>\n",
       "      <td>287.200000</td>\n",
       "    </tr>\n",
       "    <tr>\n",
       "      <th>7</th>\n",
       "      <td>8</td>\n",
       "      <td>227.357143</td>\n",
       "      <td>378.333333</td>\n",
       "    </tr>\n",
       "    <tr>\n",
       "      <th>8</th>\n",
       "      <td>9</td>\n",
       "      <td>172.545455</td>\n",
       "      <td>333.285714</td>\n",
       "    </tr>\n",
       "    <tr>\n",
       "      <th>9</th>\n",
       "      <td>10</td>\n",
       "      <td>227.727273</td>\n",
       "      <td>169.333333</td>\n",
       "    </tr>\n",
       "    <tr>\n",
       "      <th>10</th>\n",
       "      <td>11</td>\n",
       "      <td>314.733333</td>\n",
       "      <td>141.857143</td>\n",
       "    </tr>\n",
       "    <tr>\n",
       "      <th>11</th>\n",
       "      <td>12</td>\n",
       "      <td>347.260870</td>\n",
       "      <td>NaN</td>\n",
       "    </tr>\n",
       "  </tbody>\n",
       "</table>\n",
       "</div>"
      ],
      "text/plain": [
       "    month        surf    ultimate\n",
       "0       1  292.000000  197.666667\n",
       "1       2  134.000000   90.000000\n",
       "2       3  263.800000  215.400000\n",
       "3       4  280.181818  187.750000\n",
       "4       5  150.200000  295.900000\n",
       "5       6  173.625000  136.000000\n",
       "6       7  196.300000  287.200000\n",
       "7       8  227.357143  378.333333\n",
       "8       9  172.545455  333.285714\n",
       "9      10  227.727273  169.333333\n",
       "10     11  314.733333  141.857143\n",
       "11     12  347.260870         NaN"
      ]
     },
     "execution_count": 44,
     "metadata": {},
     "output_type": "execute_result"
    }
   ],
   "source": [
    "surf = incomes_by_user[incomes_by_user['plan'] == 'surf']# Compara la duración promedio de llamadas por cada plan y por cada mes. Traza un gráfico de barras para visualizarla.\n",
    "\n",
    "ultimate = incomes_by_user[incomes_by_user['plan'] == 'ultimate']# Compara la duración promedio de llamadas por cada plan y por cada mes. Traza un gráfico de barras para visualizarla.\n",
    "\n",
    "mean_s = surf.groupby(['month'])['duration'].mean().reset_index()\n",
    "mean_s\n",
    "\n",
    "mean_u = ultimate.groupby(['month'])['duration'].mean().reset_index()\n",
    "mean_u.drop(['month'], axis=1, inplace=True)\n",
    "mean_u\n",
    "\n",
    "mean = pd.concat([mean_s, mean_u], axis=1)\n",
    "mean.columns=['month', 'surf', 'ultimate']\n",
    "mean"
   ]
  },
  {
   "cell_type": "markdown",
   "metadata": {},
   "source": [
    "<div class=\"alert alert-block alert-success\">\n",
    "<b>Comentario del revisor. (Iteración 2) </b> <a class=\"tocSkip\"></a>\n",
    "\n",
    "Perfecto!"
   ]
  },
  {
   "cell_type": "markdown",
   "metadata": {},
   "source": [
    "<div class=\"alert alert-block alert-warning\">\n",
    "<b>Comentario del revisor. (Iteración 1) </b> <a class=\"tocSkip\"></a>\n",
    "\n",
    "Creo que aquí querías llamar al dataframe incomes_by_user que definiste atrás."
   ]
  },
  {
   "cell_type": "code",
   "execution_count": 45,
   "metadata": {},
   "outputs": [
    {
     "data": {
      "image/png": "[encoded data removed]",
      "text/plain": [
       "<Figure size 640x480 with 1 Axes>"
      ]
     },
     "metadata": {},
     "output_type": "display_data"
    }
   ],
   "source": [
    "mean.plot(kind='bar', title='mean duration for each plan and month', x='month', ylabel='duration')\n",
    "plt.show()"
   ]
  },
  {
   "cell_type": "markdown",
   "metadata": {},
   "source": [
    "<div class=\"alert alert-block alert-success\">\n",
    "<b>Comentario del revisor. (Iteración 2) </b> <a class=\"tocSkip\"></a>\n",
    "\n",
    "Veo que ahora el eje x corresponde ya al mes, en esta ocasión me parece que olvidaste el nombre dle eje y."
   ]
  },
  {
   "cell_type": "markdown",
   "metadata": {},
   "source": [
    "<div class=\"alert alert-block alert-warning\">\n",
    "<b>Comentario del revisor. (Iteración 1) </b> <a class=\"tocSkip\"></a>\n",
    "\n",
    "Cuidado Estela! Tuviste un error a la hora de nombrar los ejes de este gráfico. Me parece que están intercambiados. Además te recomiendo graficar por plan, para poder visualizar como se comportan cada uno."
   ]
  },
  {
   "cell_type": "code",
   "execution_count": 46,
   "metadata": {
    "id": "QoLqW1S_0q1J"
   },
   "outputs": [],
   "source": [
    "# Compara el número de minutos mensuales que necesitan los usuarios de cada plan. Traza un histograma.\n",
    "\n"
   ]
  },
  {
   "cell_type": "code",
   "execution_count": 47,
   "metadata": {},
   "outputs": [
    {
     "data": {
      "text/html": [
       "<div>\n",
       "<style scoped>\n",
       "    .dataframe tbody tr th:only-of-type {\n",
       "        vertical-align: middle;\n",
       "    }\n",
       "\n",
       "    .dataframe tbody tr th {\n",
       "        vertical-align: top;\n",
       "    }\n",
       "\n",
       "    .dataframe thead th {\n",
       "        text-align: right;\n",
       "    }\n",
       "</style>\n",
       "<table border=\"1\" class=\"dataframe\">\n",
       "  <thead>\n",
       "    <tr style=\"text-align: right;\">\n",
       "      <th></th>\n",
       "      <th>month</th>\n",
       "      <th>surf</th>\n",
       "      <th>ultimate</th>\n",
       "    </tr>\n",
       "  </thead>\n",
       "  <tbody>\n",
       "    <tr>\n",
       "      <th>0</th>\n",
       "      <td>1</td>\n",
       "      <td>292</td>\n",
       "      <td>593.0</td>\n",
       "    </tr>\n",
       "    <tr>\n",
       "      <th>1</th>\n",
       "      <td>2</td>\n",
       "      <td>402</td>\n",
       "      <td>90.0</td>\n",
       "    </tr>\n",
       "    <tr>\n",
       "      <th>2</th>\n",
       "      <td>3</td>\n",
       "      <td>1319</td>\n",
       "      <td>1077.0</td>\n",
       "    </tr>\n",
       "    <tr>\n",
       "      <th>3</th>\n",
       "      <td>4</td>\n",
       "      <td>3082</td>\n",
       "      <td>751.0</td>\n",
       "    </tr>\n",
       "    <tr>\n",
       "      <th>4</th>\n",
       "      <td>5</td>\n",
       "      <td>751</td>\n",
       "      <td>2959.0</td>\n",
       "    </tr>\n",
       "    <tr>\n",
       "      <th>5</th>\n",
       "      <td>6</td>\n",
       "      <td>1389</td>\n",
       "      <td>544.0</td>\n",
       "    </tr>\n",
       "    <tr>\n",
       "      <th>6</th>\n",
       "      <td>7</td>\n",
       "      <td>1963</td>\n",
       "      <td>1436.0</td>\n",
       "    </tr>\n",
       "    <tr>\n",
       "      <th>7</th>\n",
       "      <td>8</td>\n",
       "      <td>3183</td>\n",
       "      <td>2270.0</td>\n",
       "    </tr>\n",
       "    <tr>\n",
       "      <th>8</th>\n",
       "      <td>9</td>\n",
       "      <td>1898</td>\n",
       "      <td>2333.0</td>\n",
       "    </tr>\n",
       "    <tr>\n",
       "      <th>9</th>\n",
       "      <td>10</td>\n",
       "      <td>5010</td>\n",
       "      <td>1016.0</td>\n",
       "    </tr>\n",
       "    <tr>\n",
       "      <th>10</th>\n",
       "      <td>11</td>\n",
       "      <td>4721</td>\n",
       "      <td>993.0</td>\n",
       "    </tr>\n",
       "    <tr>\n",
       "      <th>11</th>\n",
       "      <td>12</td>\n",
       "      <td>7987</td>\n",
       "      <td>NaN</td>\n",
       "    </tr>\n",
       "  </tbody>\n",
       "</table>\n",
       "</div>"
      ],
      "text/plain": [
       "    month  surf  ultimate\n",
       "0       1   292     593.0\n",
       "1       2   402      90.0\n",
       "2       3  1319    1077.0\n",
       "3       4  3082     751.0\n",
       "4       5   751    2959.0\n",
       "5       6  1389     544.0\n",
       "6       7  1963    1436.0\n",
       "7       8  3183    2270.0\n",
       "8       9  1898    2333.0\n",
       "9      10  5010    1016.0\n",
       "10     11  4721     993.0\n",
       "11     12  7987       NaN"
      ]
     },
     "execution_count": 47,
     "metadata": {},
     "output_type": "execute_result"
    }
   ],
   "source": [
    "min_surf = surf.groupby(['month'])['duration'].sum().reset_index()\n",
    "\n",
    "min_ultimate = ultimate.groupby(['month'])['duration'].sum().reset_index()\n",
    "min_ultimate.drop(['month'], axis=1, inplace=True)\n",
    "\n",
    "min_month = pd.concat([min_surf, min_ultimate], axis=1)\n",
    "min_month.columns=['month','surf', 'ultimate']\n",
    "min_month"
   ]
  },
  {
   "cell_type": "markdown",
   "metadata": {},
   "source": [
    "<div class=\"alert alert-block alert-success\">\n",
    "<b>Comentario del revisor. (Iteración 2) </b> <a class=\"tocSkip\"></a>\n",
    "\n",
    "Se ve muy bien!"
   ]
  },
  {
   "cell_type": "markdown",
   "metadata": {},
   "source": [
    "<div class=\"alert alert-block alert-warning\">\n",
    "<b>Comentario del revisor. (Iteración 1) </b> <a class=\"tocSkip\"></a>\n",
    "\n",
    "Creo que aquí querías llamar al dataframe incomes_by_user que definiste atrás."
   ]
  },
  {
   "cell_type": "code",
   "execution_count": 48,
   "metadata": {},
   "outputs": [
    {
     "data": {
      "text/plain": [
       "array([[<AxesSubplot:title={'center':'month'}>,\n",
       "        <AxesSubplot:title={'center':'surf'}>],\n",
       "       [<AxesSubplot:title={'center':'ultimate'}>, <AxesSubplot:>]],\n",
       "      dtype=object)"
      ]
     },
     "execution_count": 48,
     "metadata": {},
     "output_type": "execute_result"
    },
    {
     "data": {
      "image/png": "[encoded data removed]",
      "text/plain": [
       "<Figure size 640x480 with 4 Axes>"
      ]
     },
     "metadata": {},
     "output_type": "display_data"
    }
   ],
   "source": [
    "min_month.hist(bins=10, alpha=0.5)"
   ]
  },
  {
   "cell_type": "markdown",
   "metadata": {},
   "source": [
    "<div class=\"alert alert-block alert-success\">\n",
    "<b>Comentario del revisor. (Iteración 2) </b> <a class=\"tocSkip\"></a>\n",
    "\n",
    "Los gráficos ya están, recuerda ir haciendo anotaciones de lo que vas viendo y concluyendo de cada uno de ellos."
   ]
  },
  {
   "cell_type": "markdown",
   "metadata": {},
   "source": [
    "<div class=\"alert alert-block alert-warning\">\n",
    "<b>Comentario del revisor. (Iteración 1) </b> <a class=\"tocSkip\"></a>\n",
    "\n",
    "Una vez que hayas corregido el problema con el dataframe incomes_by_user, este en automático arrojará un gráfico."
   ]
  },
  {
   "cell_type": "markdown",
   "metadata": {
    "id": "bLS9T8OH0q1K"
   },
   "source": [
    "[Calcula la media y la variable de la duración de las llamadas para averiguar si los usuarios de los distintos planes se comportan de forma diferente al realizar sus llamadas.]"
   ]
  },
  {
   "cell_type": "code",
   "execution_count": 49,
   "metadata": {
    "id": "oSndbAnt0q1K"
   },
   "outputs": [
    {
     "name": "stdout",
     "output_type": "stream",
     "text": [
      "month          6.500000\n",
      "surf        2666.416667\n",
      "ultimate    1278.363636\n",
      "dtype: float64\n",
      "month       1.191667e+01\n",
      "surf        4.785726e+06\n",
      "ultimate    7.122851e+05\n",
      "dtype: float64\n"
     ]
    }
   ],
   "source": [
    "print(min_month.mean())\n",
    "print(np.var(min_month))\n",
    "# Calcula la media y la varianza de la duración mensual de llamadas.\n",
    "\n"
   ]
  },
  {
   "cell_type": "code",
   "execution_count": 50,
   "metadata": {
    "id": "nZzoRUKc0q1K"
   },
   "outputs": [
    {
     "data": {
      "image/png": "[encoded data removed]",
      "text/plain": [
       "<Figure size 640x480 with 1 Axes>"
      ]
     },
     "metadata": {},
     "output_type": "display_data"
    }
   ],
   "source": [
    "min_month.boxplot(['surf', 'ultimate'])\n",
    "plt.show()    # Traza un diagrama de caja para visualizar la distribución de la duración mensual de llamadas\n",
    "\n"
   ]
  },
  {
   "cell_type": "markdown",
   "metadata": {},
   "source": [
    "<div class=\"alert alert-block alert-success\">\n",
    "<b>Comentario del revisor. (Iteración 3) </b> <a class=\"tocSkip\"></a>\n",
    "\n",
    "Perfecto! Ahora se ve mucho mejor!"
   ]
  },
  {
   "cell_type": "markdown",
   "metadata": {},
   "source": [
    "<div class=\"alert alert-block alert-warning\">\n",
    "<b>Comentario del revisor. (Iteración 2) </b> <a class=\"tocSkip\"></a>\n",
    "\n",
    "No olvides quitar la variable month al graficar el boxplot. En esta ocasión solo nos interesa graficar el comportamiento de surf y ultimate para poder compararlos."
   ]
  },
  {
   "cell_type": "markdown",
   "metadata": {},
   "source": [
    "<div class=\"alert alert-block alert-warning\">\n",
    "<b>Comentario del revisor. (Iteración 1) </b> <a class=\"tocSkip\"></a>\n",
    "\n",
    "Mucho cuidado Estela, no deberías de graficar un box plot para los id, estos son identificadores, no tienen ninguna información que pueda aportar al análisis."
   ]
  },
  {
   "cell_type": "markdown",
   "metadata": {
    "id": "r627zBO50q1K"
   },
   "source": [
    "[Elabora las conclusiones sobre el comportamiento de los usuarios con respecto a las llamadas. ¿Su comportamiento varía en función del plan?]\n",
    "\n",
    "\n",
    "las personas que tienen plan ultimate hacen menos llamadas que las que tienen un plan surf, estos también puede ser debido a que más usuarios tienen el plan surf, esto puede sesgar los datos. "
   ]
  },
  {
   "cell_type": "markdown",
   "metadata": {
    "id": "8idKy8Wh0q1L"
   },
   "source": [
    "### Mensajes"
   ]
  },
  {
   "cell_type": "code",
   "execution_count": 51,
   "metadata": {
    "id": "NXLxiTit0q1L"
   },
   "outputs": [
    {
     "name": "stdout",
     "output_type": "stream",
     "text": [
      "     user_id      plan  month  id_y\n",
      "0       1000  ultimate     12    11\n",
      "1       1001      surf      8    30\n",
      "2       1002      surf     10    15\n",
      "3       1004      surf      5     7\n",
      "4       1006  ultimate     11    15\n",
      "..       ...       ...    ...   ...\n",
      "181     1479      surf     11     1\n",
      "182     1480      surf     12    51\n",
      "183     1481      surf     12     3\n",
      "184     1486      surf     12    10\n",
      "185     1497  ultimate     12    50\n",
      "\n",
      "[186 rows x 4 columns]\n"
     ]
    },
    {
     "data": {
      "text/html": [
       "<div>\n",
       "<style scoped>\n",
       "    .dataframe tbody tr th:only-of-type {\n",
       "        vertical-align: middle;\n",
       "    }\n",
       "\n",
       "    .dataframe tbody tr th {\n",
       "        vertical-align: top;\n",
       "    }\n",
       "\n",
       "    .dataframe thead th {\n",
       "        text-align: right;\n",
       "    }\n",
       "</style>\n",
       "<table border=\"1\" class=\"dataframe\">\n",
       "  <thead>\n",
       "    <tr style=\"text-align: right;\">\n",
       "      <th></th>\n",
       "      <th>month</th>\n",
       "      <th>surf</th>\n",
       "      <th>ultimate</th>\n",
       "    </tr>\n",
       "  </thead>\n",
       "  <tbody>\n",
       "    <tr>\n",
       "      <th>0</th>\n",
       "      <td>1</td>\n",
       "      <td>21.000000</td>\n",
       "      <td>20.666667</td>\n",
       "    </tr>\n",
       "    <tr>\n",
       "      <th>1</th>\n",
       "      <td>2</td>\n",
       "      <td>7.000000</td>\n",
       "      <td>8.000000</td>\n",
       "    </tr>\n",
       "    <tr>\n",
       "      <th>2</th>\n",
       "      <td>3</td>\n",
       "      <td>19.000000</td>\n",
       "      <td>30.000000</td>\n",
       "    </tr>\n",
       "    <tr>\n",
       "      <th>3</th>\n",
       "      <td>4</td>\n",
       "      <td>28.272727</td>\n",
       "      <td>23.000000</td>\n",
       "    </tr>\n",
       "    <tr>\n",
       "      <th>4</th>\n",
       "      <td>5</td>\n",
       "      <td>8.800000</td>\n",
       "      <td>32.300000</td>\n",
       "    </tr>\n",
       "    <tr>\n",
       "      <th>5</th>\n",
       "      <td>6</td>\n",
       "      <td>17.500000</td>\n",
       "      <td>10.750000</td>\n",
       "    </tr>\n",
       "    <tr>\n",
       "      <th>6</th>\n",
       "      <td>7</td>\n",
       "      <td>19.100000</td>\n",
       "      <td>34.800000</td>\n",
       "    </tr>\n",
       "    <tr>\n",
       "      <th>7</th>\n",
       "      <td>8</td>\n",
       "      <td>27.285714</td>\n",
       "      <td>30.000000</td>\n",
       "    </tr>\n",
       "    <tr>\n",
       "      <th>8</th>\n",
       "      <td>9</td>\n",
       "      <td>13.727273</td>\n",
       "      <td>22.285714</td>\n",
       "    </tr>\n",
       "    <tr>\n",
       "      <th>9</th>\n",
       "      <td>10</td>\n",
       "      <td>27.954545</td>\n",
       "      <td>21.666667</td>\n",
       "    </tr>\n",
       "    <tr>\n",
       "      <th>10</th>\n",
       "      <td>11</td>\n",
       "      <td>19.333333</td>\n",
       "      <td>36.285714</td>\n",
       "    </tr>\n",
       "    <tr>\n",
       "      <th>11</th>\n",
       "      <td>12</td>\n",
       "      <td>34.521739</td>\n",
       "      <td>NaN</td>\n",
       "    </tr>\n",
       "  </tbody>\n",
       "</table>\n",
       "</div>"
      ],
      "text/plain": [
       "    month       surf   ultimate\n",
       "0       1  21.000000  20.666667\n",
       "1       2   7.000000   8.000000\n",
       "2       3  19.000000  30.000000\n",
       "3       4  28.272727  23.000000\n",
       "4       5   8.800000  32.300000\n",
       "5       6  17.500000  10.750000\n",
       "6       7  19.100000  34.800000\n",
       "7       8  27.285714  30.000000\n",
       "8       9  13.727273  22.285714\n",
       "9      10  27.954545  21.666667\n",
       "10     11  19.333333  36.285714\n",
       "11     12  34.521739        NaN"
      ]
     },
     "execution_count": 51,
     "metadata": {},
     "output_type": "execute_result"
    }
   ],
   "source": [
    "messages_sent = incomes_by_user.groupby(['user_id', 'plan', 'month',])['id_y'].sum().reset_index()\n",
    "print(messages_sent)# Comprara el número de mensajes que tienden a enviar cada mes los usuarios de cada plan\n",
    "\n",
    "mean_s_messages = surf.groupby(['month'])['id_y'].mean().reset_index()\n",
    "\n",
    "\n",
    "mean_u_messages = ultimate.groupby(['month'])['id_y'].mean().reset_index()\n",
    "mean_u_messages.drop(['month'], axis=1, inplace=True)\n",
    "\n",
    "\n",
    "mean_messages = pd.concat([mean_s_messages, mean_u_messages], axis=1)\n",
    "mean_messages.columns=['month', 'surf', 'ultimate']\n",
    "mean_messages"
   ]
  },
  {
   "cell_type": "markdown",
   "metadata": {},
   "source": [
    "<div class=\"alert alert-block alert-success\">\n",
    "<b>Comentario del revisor. (Iteración 2) </b> <a class=\"tocSkip\"></a>\n",
    "\n",
    "Perfecto! "
   ]
  },
  {
   "cell_type": "markdown",
   "metadata": {},
   "source": [
    "<div class=\"alert alert-block alert-warning\">\n",
    "<b>Comentario del revisor. (Iteración 1) </b> <a class=\"tocSkip\"></a>\n",
    "\n",
    "Creo que aquí querías llamar al dataframe incomes_by_user que definiste atrás."
   ]
  },
  {
   "cell_type": "code",
   "execution_count": 52,
   "metadata": {
    "id": "GRI_R7xF0q1L"
   },
   "outputs": [
    {
     "data": {
      "image/png": "[encoded data removed]",
      "text/plain": [
       "<Figure size 640x480 with 1 Axes>"
      ]
     },
     "metadata": {},
     "output_type": "display_data"
    }
   ],
   "source": [
    "mean_messages.plot(kind='bar', title='messages sent per user and plan', x='month')\n",
    "plt.show()\n",
    "\n"
   ]
  },
  {
   "cell_type": "code",
   "execution_count": 53,
   "metadata": {
    "id": "dtFwCGAp0q1M",
    "scrolled": true
   },
   "outputs": [
    {
     "data": {
      "text/plain": [
       "array([[<AxesSubplot:title={'center':'month'}>,\n",
       "        <AxesSubplot:title={'center':'surf'}>],\n",
       "       [<AxesSubplot:title={'center':'ultimate'}>, <AxesSubplot:>]],\n",
       "      dtype=object)"
      ]
     },
     "execution_count": 53,
     "metadata": {},
     "output_type": "execute_result"
    },
    {
     "data": {
      "image/png": "[encoded data removed]",
      "text/plain": [
       "<Figure size 640x480 with 4 Axes>"
      ]
     },
     "metadata": {},
     "output_type": "display_data"
    }
   ],
   "source": [
    "mean_messages.hist(bins=10, alpha=0.5)"
   ]
  },
  {
   "cell_type": "code",
   "execution_count": 54,
   "metadata": {},
   "outputs": [
    {
     "name": "stdout",
     "output_type": "stream",
     "text": [
      "month        6.500000\n",
      "surf        20.291278\n",
      "ultimate    24.523160\n",
      "dtype: float64\n",
      "month       11.916667\n",
      "surf        61.495732\n",
      "ultimate    77.955904\n",
      "dtype: float64\n"
     ]
    }
   ],
   "source": [
    "print(mean_messages.mean())\n",
    "print(np.var(mean_messages))"
   ]
  },
  {
   "cell_type": "code",
   "execution_count": 55,
   "metadata": {},
   "outputs": [
    {
     "data": {
      "image/png": "[encoded data removed]",
      "text/plain": [
       "<Figure size 640x480 with 1 Axes>"
      ]
     },
     "metadata": {},
     "output_type": "display_data"
    }
   ],
   "source": [
    "mean_messages.boxplot(['surf', 'ultimate'])\n",
    "plt.show()"
   ]
  },
  {
   "cell_type": "markdown",
   "metadata": {},
   "source": [
    "<div class=\"alert alert-block alert-success\">\n",
    "<b>Comentario del revisor. (Iteración 3) </b> <a class=\"tocSkip\"></a>\n",
    "\n",
    "Muy bien!"
   ]
  },
  {
   "cell_type": "markdown",
   "metadata": {},
   "source": [
    "<div class=\"alert alert-block alert-warning\">\n",
    "<b>Comentario del revisor. (Iteración 2) </b> <a class=\"tocSkip\"></a>\n",
    "\n",
    "No olvides quitar la variable month al graficar el boxplot. En esta ocasión solo nos interesa graficar el comportamiento de surf y ultimate para poder compararlos."
   ]
  },
  {
   "cell_type": "markdown",
   "metadata": {},
   "source": [
    "<div class=\"alert alert-block alert-warning\">\n",
    "<b>Comentario del revisor. (Iteración 1) </b> <a class=\"tocSkip\"></a>\n",
    "\n",
    "Te recomiendo corregir el error del dataframe incomes_by_user y con eso se podrán visualizar los gráficos correctos!"
   ]
  },
  {
   "cell_type": "markdown",
   "metadata": {
    "id": "390SSL480q1M"
   },
   "source": [
    "[Elabora las conclusiones sobre el comportamiento de los usuarios con respecto a los mensajes. ¿Su comportamiento varía en función del plan?]\n",
    "\n",
    "los usuarios que tienen el plan ultimate envian mucho más mensajes que los que tienen surf. "
   ]
  },
  {
   "cell_type": "markdown",
   "metadata": {
    "id": "42YSypXz0q1M"
   },
   "source": [
    "### Internet"
   ]
  },
  {
   "cell_type": "code",
   "execution_count": 56,
   "metadata": {
    "id": "lSuKPtjh0q1M"
   },
   "outputs": [
    {
     "data": {
      "text/html": [
       "<div>\n",
       "<style scoped>\n",
       "    .dataframe tbody tr th:only-of-type {\n",
       "        vertical-align: middle;\n",
       "    }\n",
       "\n",
       "    .dataframe tbody tr th {\n",
       "        vertical-align: top;\n",
       "    }\n",
       "\n",
       "    .dataframe thead th {\n",
       "        text-align: right;\n",
       "    }\n",
       "</style>\n",
       "<table border=\"1\" class=\"dataframe\">\n",
       "  <thead>\n",
       "    <tr style=\"text-align: right;\">\n",
       "      <th></th>\n",
       "      <th>user_id</th>\n",
       "      <th>surf</th>\n",
       "      <th>ultimate</th>\n",
       "    </tr>\n",
       "  </thead>\n",
       "  <tbody>\n",
       "    <tr>\n",
       "      <th>0</th>\n",
       "      <td>1001</td>\n",
       "      <td>6919.15</td>\n",
       "      <td>1901.47</td>\n",
       "    </tr>\n",
       "    <tr>\n",
       "      <th>1</th>\n",
       "      <td>1002</td>\n",
       "      <td>6552.01</td>\n",
       "      <td>2068.37</td>\n",
       "    </tr>\n",
       "    <tr>\n",
       "      <th>2</th>\n",
       "      <td>1004</td>\n",
       "      <td>6547.21</td>\n",
       "      <td>20113.92</td>\n",
       "    </tr>\n",
       "    <tr>\n",
       "      <th>3</th>\n",
       "      <td>1014</td>\n",
       "      <td>1175.59</td>\n",
       "      <td>4822.35</td>\n",
       "    </tr>\n",
       "    <tr>\n",
       "      <th>4</th>\n",
       "      <td>1015</td>\n",
       "      <td>17495.12</td>\n",
       "      <td>10653.04</td>\n",
       "    </tr>\n",
       "    <tr>\n",
       "      <th>...</th>\n",
       "      <td>...</td>\n",
       "      <td>...</td>\n",
       "      <td>...</td>\n",
       "    </tr>\n",
       "    <tr>\n",
       "      <th>123</th>\n",
       "      <td>1474</td>\n",
       "      <td>5336.52</td>\n",
       "      <td>NaN</td>\n",
       "    </tr>\n",
       "    <tr>\n",
       "      <th>124</th>\n",
       "      <td>1479</td>\n",
       "      <td>4123.18</td>\n",
       "      <td>NaN</td>\n",
       "    </tr>\n",
       "    <tr>\n",
       "      <th>125</th>\n",
       "      <td>1480</td>\n",
       "      <td>8805.51</td>\n",
       "      <td>NaN</td>\n",
       "    </tr>\n",
       "    <tr>\n",
       "      <th>126</th>\n",
       "      <td>1481</td>\n",
       "      <td>1265.78</td>\n",
       "      <td>NaN</td>\n",
       "    </tr>\n",
       "    <tr>\n",
       "      <th>127</th>\n",
       "      <td>1486</td>\n",
       "      <td>20312.83</td>\n",
       "      <td>NaN</td>\n",
       "    </tr>\n",
       "  </tbody>\n",
       "</table>\n",
       "<p>128 rows × 3 columns</p>\n",
       "</div>"
      ],
      "text/plain": [
       "     user_id      surf  ultimate\n",
       "0       1001   6919.15   1901.47\n",
       "1       1002   6552.01   2068.37\n",
       "2       1004   6547.21  20113.92\n",
       "3       1014   1175.59   4822.35\n",
       "4       1015  17495.12  10653.04\n",
       "..       ...       ...       ...\n",
       "123     1474   5336.52       NaN\n",
       "124     1479   4123.18       NaN\n",
       "125     1480   8805.51       NaN\n",
       "126     1481   1265.78       NaN\n",
       "127     1486  20312.83       NaN\n",
       "\n",
       "[128 rows x 3 columns]"
      ]
     },
     "execution_count": 56,
     "metadata": {},
     "output_type": "execute_result"
    }
   ],
   "source": [
    "intenet_s = surf.groupby(['user_id'])['mb_used'].sum().reset_index()\n",
    "\n",
    "\n",
    "internet_u = ultimate.groupby(['user_id'])['mb_used'].sum().reset_index()\n",
    "internet_u.drop(['user_id'], axis=1, inplace=True)\n",
    "mean_u\n",
    "\n",
    "internet_used = pd.concat([intenet_s, internet_u], axis=1)\n",
    "internet_used.columns=['user_id', 'surf', 'ultimate']\n",
    "internet_used\n",
    "\n",
    "# Compara la cantidad de tráfico de Internet consumido por usuarios por plan"
   ]
  },
  {
   "cell_type": "markdown",
   "metadata": {
    "id": "wnh8jYXi0q1N"
   },
   "source": [
    "<div class=\"alert alert-block alert-success\">\n",
    "<b>Comentario del revisor. (Iteración 3) </b> <a class=\"tocSkip\"></a>\n",
    "\n",
    "de acuerdo!"
   ]
  },
  {
   "cell_type": "markdown",
   "metadata": {},
   "source": [
    "<div class=\"alert alert-block alert-warning\">\n",
    "<b>Comentario del revisor. (Iteración 2) </b> <a class=\"tocSkip\"></a>\n",
    "\n",
    "Está perfecto haber agregado este gráfico, sin embargo siempre hay que intentar hacerlos lo más legibles posibles, por ejemplo si te interesa graficar el comportamiento de cada user, puedes optar por graficar el top 10.  O realizar un histograma."
   ]
  },
  {
   "cell_type": "code",
   "execution_count": 57,
   "metadata": {
    "id": "5VlyJ9ry0q1N"
   },
   "outputs": [
    {
     "data": {
      "text/plain": [
       "array([[<AxesSubplot:title={'center':'user_id'}>,\n",
       "        <AxesSubplot:title={'center':'surf'}>],\n",
       "       [<AxesSubplot:title={'center':'ultimate'}>, <AxesSubplot:>]],\n",
       "      dtype=object)"
      ]
     },
     "execution_count": 57,
     "metadata": {},
     "output_type": "execute_result"
    },
    {
     "data": {
      "image/png": "[encoded data removed]",
      "text/plain": [
       "<Figure size 640x480 with 4 Axes>"
      ]
     },
     "metadata": {},
     "output_type": "display_data"
    }
   ],
   "source": [
    "internet_used.hist(bins=10, alpha=0.5)"
   ]
  },
  {
   "cell_type": "code",
   "execution_count": 58,
   "metadata": {},
   "outputs": [
    {
     "name": "stdout",
     "output_type": "stream",
     "text": [
      "user_id     1226.460938\n",
      "surf        9241.557187\n",
      "ultimate    8654.625172\n",
      "dtype: float64\n",
      "user_id     1.969540e+04\n",
      "surf        3.640243e+07\n",
      "ultimate    3.103794e+07\n",
      "dtype: float64\n"
     ]
    }
   ],
   "source": [
    "print(internet_used.mean())\n",
    "print(np.var(internet_used))"
   ]
  },
  {
   "cell_type": "markdown",
   "metadata": {
    "id": "UN9zwuMP0q1N"
   },
   "source": [
    "[Elabora las conclusiones sobre cómo los usuarios tienden a consumir el tráfico de Internet. ¿Su comportamiento varía en función del plan?]\n",
    "\n",
    "los usuarios que tienen el plan surf, suelen consumir más intenet que los usuarios con ultimatum. Sin embargo el promedio de consumo de los usuarios surf no excede a lo ya incluido en el plan, aunque podemos también observar que la media esta sesigada por valores máximos muy altos. Se les podría hacer una invitacióin a los que consumen mucho más de considerar cambiarse al plan ultimatum"
   ]
  },
  {
   "cell_type": "code",
   "execution_count": 59,
   "metadata": {},
   "outputs": [
    {
     "data": {
      "image/png": "[encoded data removed]",
      "text/plain": [
       "<Figure size 640x480 with 1 Axes>"
      ]
     },
     "metadata": {},
     "output_type": "display_data"
    }
   ],
   "source": [
    "internet_used.boxplot(['surf', 'ultimate'])\n",
    "plt.show()"
   ]
  },
  {
   "cell_type": "markdown",
   "metadata": {},
   "source": [
    "<div class=\"alert alert-block alert-success\">\n",
    "<b>Comentario del revisor. (Iteración 3) </b> <a class=\"tocSkip\"></a>\n",
    "\n",
    "Perfecto Estela!"
   ]
  },
  {
   "cell_type": "markdown",
   "metadata": {},
   "source": [
    "<div class=\"alert alert-block alert-warning\">\n",
    "<b>Comentario del revisor. (Iteración 2) </b> <a class=\"tocSkip\"></a>\n",
    "\n",
    "No olvides quitar la variable month al graficar el boxplot. En esta ocasión solo nos interesa graficar el comportamiento de surf y ultimate para poder compararlos."
   ]
  },
  {
   "cell_type": "markdown",
   "metadata": {},
   "source": [
    "<div class=\"alert alert-block alert-warning\">\n",
    "<b>Comentario del revisor. (Iteración 1) </b> <a class=\"tocSkip\"></a>\n",
    "\n",
    "Te recomiendo corregir el error del dataframe incomes_by_user y con eso se podrán visualizar los gráficos correctos!"
   ]
  },
  {
   "cell_type": "markdown",
   "metadata": {
    "id": "tCijq3260q1N"
   },
   "source": [
    "## Ingreso"
   ]
  },
  {
   "cell_type": "markdown",
   "metadata": {
    "id": "9nq5IAcy0q1O"
   },
   "source": [
    "[Del mismo modo que has estudiado el comportamiento de los usuarios, describe estadísticamente los ingresos de los planes.]"
   ]
  },
  {
   "cell_type": "code",
   "execution_count": 66,
   "metadata": {
    "id": "tz-dq_V00q1O"
   },
   "outputs": [
    {
     "data": {
      "text/html": [
       "<div>\n",
       "<style scoped>\n",
       "    .dataframe tbody tr th:only-of-type {\n",
       "        vertical-align: middle;\n",
       "    }\n",
       "\n",
       "    .dataframe tbody tr th {\n",
       "        vertical-align: top;\n",
       "    }\n",
       "\n",
       "    .dataframe thead th {\n",
       "        text-align: right;\n",
       "    }\n",
       "</style>\n",
       "<table border=\"1\" class=\"dataframe\">\n",
       "  <thead>\n",
       "    <tr style=\"text-align: right;\">\n",
       "      <th></th>\n",
       "      <th>month</th>\n",
       "      <th>surf</th>\n",
       "      <th>ultimate</th>\n",
       "    </tr>\n",
       "  </thead>\n",
       "  <tbody>\n",
       "    <tr>\n",
       "      <th>0</th>\n",
       "      <td>1</td>\n",
       "      <td>78817.90</td>\n",
       "      <td>145597.20</td>\n",
       "    </tr>\n",
       "    <tr>\n",
       "      <th>1</th>\n",
       "      <td>2</td>\n",
       "      <td>239253.70</td>\n",
       "      <td>34686.33</td>\n",
       "    </tr>\n",
       "    <tr>\n",
       "      <th>2</th>\n",
       "      <td>3</td>\n",
       "      <td>446888.20</td>\n",
       "      <td>327454.54</td>\n",
       "    </tr>\n",
       "    <tr>\n",
       "      <th>3</th>\n",
       "      <td>4</td>\n",
       "      <td>977238.06</td>\n",
       "      <td>212093.77</td>\n",
       "    </tr>\n",
       "    <tr>\n",
       "      <th>4</th>\n",
       "      <td>5</td>\n",
       "      <td>303094.20</td>\n",
       "      <td>679760.83</td>\n",
       "    </tr>\n",
       "    <tr>\n",
       "      <th>5</th>\n",
       "      <td>6</td>\n",
       "      <td>872735.00</td>\n",
       "      <td>167939.94</td>\n",
       "    </tr>\n",
       "    <tr>\n",
       "      <th>6</th>\n",
       "      <td>7</td>\n",
       "      <td>1111357.68</td>\n",
       "      <td>261854.11</td>\n",
       "    </tr>\n",
       "    <tr>\n",
       "      <th>7</th>\n",
       "      <td>8</td>\n",
       "      <td>1244653.04</td>\n",
       "      <td>472110.87</td>\n",
       "    </tr>\n",
       "    <tr>\n",
       "      <th>8</th>\n",
       "      <td>9</td>\n",
       "      <td>816368.60</td>\n",
       "      <td>477610.63</td>\n",
       "    </tr>\n",
       "    <tr>\n",
       "      <th>9</th>\n",
       "      <td>10</td>\n",
       "      <td>1903151.08</td>\n",
       "      <td>222527.06</td>\n",
       "    </tr>\n",
       "    <tr>\n",
       "      <th>10</th>\n",
       "      <td>11</td>\n",
       "      <td>1221970.69</td>\n",
       "      <td>504022.54</td>\n",
       "    </tr>\n",
       "    <tr>\n",
       "      <th>11</th>\n",
       "      <td>12</td>\n",
       "      <td>2597107.49</td>\n",
       "      <td>NaN</td>\n",
       "    </tr>\n",
       "  </tbody>\n",
       "</table>\n",
       "</div>"
      ],
      "text/plain": [
       "    month        surf   ultimate\n",
       "0       1    78817.90  145597.20\n",
       "1       2   239253.70   34686.33\n",
       "2       3   446888.20  327454.54\n",
       "3       4   977238.06  212093.77\n",
       "4       5   303094.20  679760.83\n",
       "5       6   872735.00  167939.94\n",
       "6       7  1111357.68  261854.11\n",
       "7       8  1244653.04  472110.87\n",
       "8       9   816368.60  477610.63\n",
       "9      10  1903151.08  222527.06\n",
       "10     11  1221970.69  504022.54\n",
       "11     12  2597107.49        NaN"
      ]
     },
     "execution_count": 66,
     "metadata": {},
     "output_type": "execute_result"
    }
   ],
   "source": [
    "incomes_s = surf.groupby(['month'])['incomes'].sum().reset_index()\n",
    "\n",
    "\n",
    "incomes_u = ultimate.groupby(['month'])['incomes'].sum().reset_index()\n",
    "incomes_u.drop(['month'], axis=1, inplace=True)\n",
    "\n",
    "\n",
    "plans_behavior = pd.concat([incomes_s, incomes_u], axis=1)\n",
    "plans_behavior.columns=['month','surf', 'ultimate']\n",
    "\n",
    "plans_behavior\n"
   ]
  },
  {
   "cell_type": "code",
   "execution_count": 67,
   "metadata": {
    "id": "0Y1v8ZUz0q1P"
   },
   "outputs": [
    {
     "data": {
      "image/png": "[encoded data removed]",
      "text/plain": [
       "<Figure size 640x480 with 1 Axes>"
      ]
     },
     "metadata": {},
     "output_type": "display_data"
    }
   ],
   "source": [
    "plans_behavior.plot(kind='bar', title='incomes per user', x='month')\n",
    "plt.show()"
   ]
  },
  {
   "cell_type": "code",
   "execution_count": 68,
   "metadata": {
    "id": "bYmwxyVh0q1P"
   },
   "outputs": [
    {
     "data": {
      "text/plain": [
       "array([[<AxesSubplot:title={'center':'month'}>,\n",
       "        <AxesSubplot:title={'center':'surf'}>],\n",
       "       [<AxesSubplot:title={'center':'ultimate'}>, <AxesSubplot:>]],\n",
       "      dtype=object)"
      ]
     },
     "execution_count": 68,
     "metadata": {},
     "output_type": "execute_result"
    },
    {
     "data": {
      "image/png": "[encoded data removed]",
      "text/plain": [
       "<Figure size 640x480 with 4 Axes>"
      ]
     },
     "metadata": {},
     "output_type": "display_data"
    }
   ],
   "source": [
    "plans_behavior.hist(bins=10, alpha=0.5)"
   ]
  },
  {
   "cell_type": "code",
   "execution_count": 69,
   "metadata": {},
   "outputs": [
    {
     "name": "stdout",
     "output_type": "stream",
     "text": [
      "month            6.500000\n",
      "surf        984386.303333\n",
      "ultimate    318696.165455\n",
      "dtype: float64\n",
      "month       1.191667e+01\n",
      "surf        4.795327e+11\n",
      "ultimate    3.370691e+10\n",
      "dtype: float64\n"
     ]
    }
   ],
   "source": [
    "print(plans_behavior.mean())\n",
    "print(np.var(plans_behavior))"
   ]
  },
  {
   "cell_type": "code",
   "execution_count": 71,
   "metadata": {},
   "outputs": [
    {
     "data": {
      "image/png": "[encoded data removed]",
      "text/plain": [
       "<Figure size 640x480 with 1 Axes>"
      ]
     },
     "metadata": {},
     "output_type": "display_data"
    }
   ],
   "source": [
    "plans_behavior.boxplot(['surf', 'ultimate'])\n",
    "plt.show()"
   ]
  },
  {
   "cell_type": "markdown",
   "metadata": {},
   "source": [
    "<div class=\"alert alert-block alert-success\">\n",
    "<b>Comentario del revisor. (Iteración 3) </b> <a class=\"tocSkip\"></a>\n",
    "\n",
    "Muy bien!!!"
   ]
  },
  {
   "cell_type": "markdown",
   "metadata": {},
   "source": [
    "<div class=\"alert alert-block alert-warning\">\n",
    "<b>Comentario del revisor. (Iteración 2) </b> <a class=\"tocSkip\"></a>\n",
    "\n",
    "No olvides quitar la variable month al graficar el boxplot. En esta ocasión solo nos interesa graficar el comportamiento de surf y ultimate para poder compararlos."
   ]
  },
  {
   "cell_type": "markdown",
   "metadata": {},
   "source": [
    "<div class=\"alert alert-block alert-warning\">\n",
    "<b>Comentario del revisor. (Iteración 1) </b> <a class=\"tocSkip\"></a>\n",
    "\n",
    "Te recomiendo corregir el error del dataframe incomes_by_user y con eso se podrán visualizar los gráficos correctos!"
   ]
  },
  {
   "cell_type": "markdown",
   "metadata": {
    "id": "KAFidcXZ0q1P"
   },
   "source": [
    "\n",
    "[Elabora las conclusiones sobre cómo difiere el ingreso entre los planes.]\n",
    "\n",
    "los ingresos de los usurios que tienen el plan surf, son considerablemente mayores que los de ultimate. Esto puede ser a que hay mayor cantidad de clientes con el plan surf y aparte que al tener menos minutos, internet y mensajes se exceden más y tienen que pagar más de su tarifa inicial. "
   ]
  },
  {
   "cell_type": "markdown",
   "metadata": {
    "id": "ajJ7VKeI0q1Q"
   },
   "source": [
    "## Prueba las hipótesis estadísticas"
   ]
  },
  {
   "cell_type": "markdown",
   "metadata": {
    "id": "AdXAZ-yL0q1Q"
   },
   "source": [
    "[Prueba la hipótesis de que son diferentes los ingresos promedio procedentes de los usuarios de los planes de llamada Ultimate y Surf.]"
   ]
  },
  {
   "cell_type": "markdown",
   "metadata": {
    "id": "IQwa_hsh0q1Q"
   },
   "source": [
    "[Elabora las hipótesis nula y alternativa, escoge la prueba estadística, determina el valor alfa.]"
   ]
  },
  {
   "cell_type": "code",
   "execution_count": 66,
   "metadata": {},
   "outputs": [
    {
     "data": {
      "text/html": [
       "<div>\n",
       "<style scoped>\n",
       "    .dataframe tbody tr th:only-of-type {\n",
       "        vertical-align: middle;\n",
       "    }\n",
       "\n",
       "    .dataframe tbody tr th {\n",
       "        vertical-align: top;\n",
       "    }\n",
       "\n",
       "    .dataframe thead th {\n",
       "        text-align: right;\n",
       "    }\n",
       "</style>\n",
       "<table border=\"1\" class=\"dataframe\">\n",
       "  <thead>\n",
       "    <tr style=\"text-align: right;\">\n",
       "      <th></th>\n",
       "      <th>plan</th>\n",
       "      <th>incomes</th>\n",
       "    </tr>\n",
       "  </thead>\n",
       "  <tbody>\n",
       "    <tr>\n",
       "      <th>0</th>\n",
       "      <td>surf</td>\n",
       "      <td>92286.215937</td>\n",
       "    </tr>\n",
       "    <tr>\n",
       "      <th>1</th>\n",
       "      <td>ultimate</td>\n",
       "      <td>60442.376207</td>\n",
       "    </tr>\n",
       "  </tbody>\n",
       "</table>\n",
       "</div>"
      ],
      "text/plain": [
       "       plan       incomes\n",
       "0      surf  92286.215937\n",
       "1  ultimate  60442.376207"
      ]
     },
     "execution_count": 66,
     "metadata": {},
     "output_type": "execute_result"
    }
   ],
   "source": [
    "plans_mean = incomes_by_user.groupby('plan')['incomes'].mean().reset_index()\n",
    "plans_mean"
   ]
  },
  {
   "cell_type": "code",
   "execution_count": 67,
   "metadata": {
    "id": "nFoPNlPq0q1R"
   },
   "outputs": [
    {
     "name": "stdout",
     "output_type": "stream",
     "text": [
      "valor p:  0.0003224267153389843\n",
      "Rechazamos la hipótesis nula\n"
     ]
    }
   ],
   "source": [
    "\n",
    "\n",
    "alpha = 0.05\n",
    "\n",
    "ingresos_ultimate= incomes_by_user[incomes_by_user['plan']=='ultimate']['incomes']\n",
    "ingresos_surf= incomes_by_user[incomes_by_user['plan']=='surf']['incomes']\n",
    "\n",
    "results = st.ttest_ind(ingresos_ultimate, ingresos_surf, equal_var = True)\n",
    "\n",
    "\n",
    "print('valor p: ', results.pvalue)\n",
    "\n",
    "if results.pvalue < alpha: \n",
    "        print(\"Rechazamos la hipótesis nula\")\n",
    "else:\n",
    "    print(\"No podemos rechazar la hipótesis nula\")# Prueba las hipótesis\n",
    "\n"
   ]
  },
  {
   "cell_type": "markdown",
   "metadata": {},
   "source": [
    "Rechazar la hipotesis nula quiere decir que si hay diferencia entre el promedio de llamadas de los dos planes"
   ]
  },
  {
   "cell_type": "code",
   "execution_count": 69,
   "metadata": {},
   "outputs": [
    {
     "data": {
      "text/plain": [
       "Index(['user_id', 'first_name', 'last_name', 'age', 'city', 'reg_date', 'plan',\n",
       "       'churn_date', 'month'],\n",
       "      dtype='object')"
      ]
     },
     "execution_count": 69,
     "metadata": {},
     "output_type": "execute_result"
    }
   ],
   "source": []
  },
  {
   "cell_type": "markdown",
   "metadata": {},
   "source": [
    "<div class=\"alert alert-block alert-success\">\n",
    "<b>Comentario del revisor. (Iteración 3) </b> <a class=\"tocSkip\"></a>\n",
    "\n",
    "Exacto! Una interpretación del resultado del test ayuda más a los interesados del problema"
   ]
  },
  {
   "cell_type": "markdown",
   "metadata": {},
   "source": [
    "<div class=\"alert alert-block alert-warning\">\n",
    "<b>Comentario del revisor. (Iteración 2) </b> <a class=\"tocSkip\"></a>\n",
    "\n",
    "Perfecto! El test se ve bien. Te recomiendo indagar más en la conclusión ¿Qué significa rechazar la hipótesis nula?"
   ]
  },
  {
   "cell_type": "markdown",
   "metadata": {},
   "source": [
    "<div class=\"alert alert-block alert-warning\">\n",
    "<b>Comentario del revisor. (Iteración 1) </b> <a class=\"tocSkip\"></a>\n",
    "\n",
    "Dos sugerencias en este punto: La primera, si ya tienes plans_mean, usa eso dentro de las variables surf_mean y ultimate_mean mediante el uso de los índices. Ahora, por otro lado, cuando calculas un test t de student, lo debes realizar sobre los datos no sobre el promedio:\n",
    "    \n",
    "    ingresos_ultimate= user_info[user_info['plan_name']=='ultimate']['total_cost']\n",
    "    ingresos_surf= user_info[user_info['plan_name']=='surf']['total_cost']\n",
    "    results = st.ttest_ind(ingresos_ultimate, ingresos_surf, equal_var = True)\n",
    "    \n",
    "De esta forma el test, compara los dos promedios. "
   ]
  },
  {
   "cell_type": "markdown",
   "metadata": {
    "id": "tCcAruM60q1R"
   },
   "source": [
    "[Prueba la hipótesis de que el ingreso promedio de los usuarios del área NY-NJ es diferente al de los usuarios de otras regiones.]"
   ]
  },
  {
   "cell_type": "markdown",
   "metadata": {
    "id": "LsBgitqj0q1R"
   },
   "source": [
    "[Elabora las hipótesis nula y alternativa, escoge la prueba estadística, determina el valor alfa.]"
   ]
  },
  {
   "cell_type": "code",
   "execution_count": 70,
   "metadata": {
    "id": "Cqcj7wrZ0q1S"
   },
   "outputs": [
    {
     "data": {
      "text/html": [
       "<div>\n",
       "<style scoped>\n",
       "    .dataframe tbody tr th:only-of-type {\n",
       "        vertical-align: middle;\n",
       "    }\n",
       "\n",
       "    .dataframe tbody tr th {\n",
       "        vertical-align: top;\n",
       "    }\n",
       "\n",
       "    .dataframe thead th {\n",
       "        text-align: right;\n",
       "    }\n",
       "</style>\n",
       "<table border=\"1\" class=\"dataframe\">\n",
       "  <thead>\n",
       "    <tr style=\"text-align: right;\">\n",
       "      <th></th>\n",
       "      <th>user_id</th>\n",
       "      <th>month_x</th>\n",
       "      <th>id_x</th>\n",
       "      <th>duration</th>\n",
       "      <th>id_y</th>\n",
       "      <th>mb_used</th>\n",
       "      <th>plan_x</th>\n",
       "      <th>messages_included</th>\n",
       "      <th>mb_per_month_included</th>\n",
       "      <th>minutes_included</th>\n",
       "      <th>...</th>\n",
       "      <th>plan_name</th>\n",
       "      <th>incomes</th>\n",
       "      <th>first_name</th>\n",
       "      <th>last_name</th>\n",
       "      <th>age</th>\n",
       "      <th>city</th>\n",
       "      <th>reg_date</th>\n",
       "      <th>plan_y</th>\n",
       "      <th>churn_date</th>\n",
       "      <th>month_y</th>\n",
       "    </tr>\n",
       "  </thead>\n",
       "  <tbody>\n",
       "    <tr>\n",
       "      <th>0</th>\n",
       "      <td>1000</td>\n",
       "      <td>12</td>\n",
       "      <td>16</td>\n",
       "      <td>124</td>\n",
       "      <td>11</td>\n",
       "      <td>1901.47</td>\n",
       "      <td>ultimate</td>\n",
       "      <td>1000</td>\n",
       "      <td>30720</td>\n",
       "      <td>3000</td>\n",
       "      <td>...</td>\n",
       "      <td>ultimate</td>\n",
       "      <td>13170.29</td>\n",
       "      <td>Anamaria</td>\n",
       "      <td>Bauer</td>\n",
       "      <td>45</td>\n",
       "      <td>Atlanta-Sandy Springs-Roswell, GA MSA</td>\n",
       "      <td>2018-12-24</td>\n",
       "      <td>ultimate</td>\n",
       "      <td>NaT</td>\n",
       "      <td>12</td>\n",
       "    </tr>\n",
       "    <tr>\n",
       "      <th>1</th>\n",
       "      <td>1006</td>\n",
       "      <td>11</td>\n",
       "      <td>2</td>\n",
       "      <td>10</td>\n",
       "      <td>15</td>\n",
       "      <td>2068.37</td>\n",
       "      <td>ultimate</td>\n",
       "      <td>1000</td>\n",
       "      <td>30720</td>\n",
       "      <td>3000</td>\n",
       "      <td>...</td>\n",
       "      <td>ultimate</td>\n",
       "      <td>14338.59</td>\n",
       "      <td>Jesusa</td>\n",
       "      <td>Bradford</td>\n",
       "      <td>73</td>\n",
       "      <td>San Francisco-Oakland-Berkeley, CA MSA</td>\n",
       "      <td>2018-11-27</td>\n",
       "      <td>ultimate</td>\n",
       "      <td>2018-12-18</td>\n",
       "      <td>11</td>\n",
       "    </tr>\n",
       "    <tr>\n",
       "      <th>2</th>\n",
       "      <td>1013</td>\n",
       "      <td>12</td>\n",
       "      <td>35</td>\n",
       "      <td>219</td>\n",
       "      <td>16</td>\n",
       "      <td>20113.92</td>\n",
       "      <td>ultimate</td>\n",
       "      <td>1000</td>\n",
       "      <td>30720</td>\n",
       "      <td>3000</td>\n",
       "      <td>...</td>\n",
       "      <td>ultimate</td>\n",
       "      <td>140657.44</td>\n",
       "      <td>Nicolas</td>\n",
       "      <td>Snider</td>\n",
       "      <td>50</td>\n",
       "      <td>Knoxville, TN MSA</td>\n",
       "      <td>2018-12-01</td>\n",
       "      <td>ultimate</td>\n",
       "      <td>NaT</td>\n",
       "      <td>12</td>\n",
       "    </tr>\n",
       "    <tr>\n",
       "      <th>3</th>\n",
       "      <td>1026</td>\n",
       "      <td>7</td>\n",
       "      <td>23</td>\n",
       "      <td>163</td>\n",
       "      <td>9</td>\n",
       "      <td>4822.35</td>\n",
       "      <td>ultimate</td>\n",
       "      <td>1000</td>\n",
       "      <td>30720</td>\n",
       "      <td>3000</td>\n",
       "      <td>...</td>\n",
       "      <td>ultimate</td>\n",
       "      <td>33616.45</td>\n",
       "      <td>Meggan</td>\n",
       "      <td>Hamilton</td>\n",
       "      <td>49</td>\n",
       "      <td>Houston-The Woodlands-Sugar Land, TX MSA</td>\n",
       "      <td>2018-07-20</td>\n",
       "      <td>ultimate</td>\n",
       "      <td>NaT</td>\n",
       "      <td>7</td>\n",
       "    </tr>\n",
       "    <tr>\n",
       "      <th>4</th>\n",
       "      <td>1031</td>\n",
       "      <td>7</td>\n",
       "      <td>36</td>\n",
       "      <td>304</td>\n",
       "      <td>1</td>\n",
       "      <td>10653.04</td>\n",
       "      <td>ultimate</td>\n",
       "      <td>1000</td>\n",
       "      <td>30720</td>\n",
       "      <td>3000</td>\n",
       "      <td>...</td>\n",
       "      <td>ultimate</td>\n",
       "      <td>74431.28</td>\n",
       "      <td>Lane</td>\n",
       "      <td>Martin</td>\n",
       "      <td>52</td>\n",
       "      <td>New York-Newark-Jersey City, NY-NJ-PA MSA</td>\n",
       "      <td>2018-07-15</td>\n",
       "      <td>ultimate</td>\n",
       "      <td>NaT</td>\n",
       "      <td>7</td>\n",
       "    </tr>\n",
       "    <tr>\n",
       "      <th>...</th>\n",
       "      <td>...</td>\n",
       "      <td>...</td>\n",
       "      <td>...</td>\n",
       "      <td>...</td>\n",
       "      <td>...</td>\n",
       "      <td>...</td>\n",
       "      <td>...</td>\n",
       "      <td>...</td>\n",
       "      <td>...</td>\n",
       "      <td>...</td>\n",
       "      <td>...</td>\n",
       "      <td>...</td>\n",
       "      <td>...</td>\n",
       "      <td>...</td>\n",
       "      <td>...</td>\n",
       "      <td>...</td>\n",
       "      <td>...</td>\n",
       "      <td>...</td>\n",
       "      <td>...</td>\n",
       "      <td>...</td>\n",
       "      <td>...</td>\n",
       "    </tr>\n",
       "    <tr>\n",
       "      <th>181</th>\n",
       "      <td>1474</td>\n",
       "      <td>8</td>\n",
       "      <td>11</td>\n",
       "      <td>96</td>\n",
       "      <td>6</td>\n",
       "      <td>5336.52</td>\n",
       "      <td>surf</td>\n",
       "      <td>50</td>\n",
       "      <td>15360</td>\n",
       "      <td>500</td>\n",
       "      <td>...</td>\n",
       "      <td>surf</td>\n",
       "      <td>53235.20</td>\n",
       "      <td>Randee</td>\n",
       "      <td>Carpenter</td>\n",
       "      <td>26</td>\n",
       "      <td>Bakersfield, CA MSA</td>\n",
       "      <td>2018-08-26</td>\n",
       "      <td>surf</td>\n",
       "      <td>NaT</td>\n",
       "      <td>8</td>\n",
       "    </tr>\n",
       "    <tr>\n",
       "      <th>182</th>\n",
       "      <td>1479</td>\n",
       "      <td>11</td>\n",
       "      <td>83</td>\n",
       "      <td>574</td>\n",
       "      <td>1</td>\n",
       "      <td>4123.18</td>\n",
       "      <td>surf</td>\n",
       "      <td>50</td>\n",
       "      <td>15360</td>\n",
       "      <td>500</td>\n",
       "      <td>...</td>\n",
       "      <td>surf</td>\n",
       "      <td>41104.02</td>\n",
       "      <td>Keesha</td>\n",
       "      <td>Burnett</td>\n",
       "      <td>44</td>\n",
       "      <td>Riverside-San Bernardino-Ontario, CA MSA</td>\n",
       "      <td>2018-11-12</td>\n",
       "      <td>surf</td>\n",
       "      <td>NaT</td>\n",
       "      <td>11</td>\n",
       "    </tr>\n",
       "    <tr>\n",
       "      <th>183</th>\n",
       "      <td>1480</td>\n",
       "      <td>12</td>\n",
       "      <td>70</td>\n",
       "      <td>541</td>\n",
       "      <td>51</td>\n",
       "      <td>8805.51</td>\n",
       "      <td>surf</td>\n",
       "      <td>50</td>\n",
       "      <td>15360</td>\n",
       "      <td>500</td>\n",
       "      <td>...</td>\n",
       "      <td>surf</td>\n",
       "      <td>87926.36</td>\n",
       "      <td>Jasper</td>\n",
       "      <td>Buchanan</td>\n",
       "      <td>46</td>\n",
       "      <td>St. Louis, MO-IL MSA</td>\n",
       "      <td>2018-12-13</td>\n",
       "      <td>surf</td>\n",
       "      <td>NaT</td>\n",
       "      <td>12</td>\n",
       "    </tr>\n",
       "    <tr>\n",
       "      <th>184</th>\n",
       "      <td>1481</td>\n",
       "      <td>12</td>\n",
       "      <td>6</td>\n",
       "      <td>36</td>\n",
       "      <td>3</td>\n",
       "      <td>1265.78</td>\n",
       "      <td>surf</td>\n",
       "      <td>50</td>\n",
       "      <td>15360</td>\n",
       "      <td>500</td>\n",
       "      <td>...</td>\n",
       "      <td>surf</td>\n",
       "      <td>12527.80</td>\n",
       "      <td>Roni</td>\n",
       "      <td>Frye</td>\n",
       "      <td>32</td>\n",
       "      <td>Urban Honolulu, HI MSA</td>\n",
       "      <td>2018-12-27</td>\n",
       "      <td>surf</td>\n",
       "      <td>NaT</td>\n",
       "      <td>12</td>\n",
       "    </tr>\n",
       "    <tr>\n",
       "      <th>185</th>\n",
       "      <td>1486</td>\n",
       "      <td>12</td>\n",
       "      <td>45</td>\n",
       "      <td>347</td>\n",
       "      <td>10</td>\n",
       "      <td>20312.83</td>\n",
       "      <td>surf</td>\n",
       "      <td>50</td>\n",
       "      <td>15360</td>\n",
       "      <td>500</td>\n",
       "      <td>...</td>\n",
       "      <td>surf</td>\n",
       "      <td>202998.30</td>\n",
       "      <td>Sang</td>\n",
       "      <td>Solis</td>\n",
       "      <td>29</td>\n",
       "      <td>Orlando-Kissimmee-Sanford, FL MSA</td>\n",
       "      <td>2018-12-05</td>\n",
       "      <td>surf</td>\n",
       "      <td>NaT</td>\n",
       "      <td>12</td>\n",
       "    </tr>\n",
       "  </tbody>\n",
       "</table>\n",
       "<p>186 rows × 24 columns</p>\n",
       "</div>"
      ],
      "text/plain": [
       "     user_id  month_x  id_x  duration  id_y   mb_used    plan_x  \\\n",
       "0       1000       12    16       124    11   1901.47  ultimate   \n",
       "1       1006       11     2        10    15   2068.37  ultimate   \n",
       "2       1013       12    35       219    16  20113.92  ultimate   \n",
       "3       1026        7    23       163     9   4822.35  ultimate   \n",
       "4       1031        7    36       304     1  10653.04  ultimate   \n",
       "..       ...      ...   ...       ...   ...       ...       ...   \n",
       "181     1474        8    11        96     6   5336.52      surf   \n",
       "182     1479       11    83       574     1   4123.18      surf   \n",
       "183     1480       12    70       541    51   8805.51      surf   \n",
       "184     1481       12     6        36     3   1265.78      surf   \n",
       "185     1486       12    45       347    10  20312.83      surf   \n",
       "\n",
       "     messages_included  mb_per_month_included  minutes_included  ...  \\\n",
       "0                 1000                  30720              3000  ...   \n",
       "1                 1000                  30720              3000  ...   \n",
       "2                 1000                  30720              3000  ...   \n",
       "3                 1000                  30720              3000  ...   \n",
       "4                 1000                  30720              3000  ...   \n",
       "..                 ...                    ...               ...  ...   \n",
       "181                 50                  15360               500  ...   \n",
       "182                 50                  15360               500  ...   \n",
       "183                 50                  15360               500  ...   \n",
       "184                 50                  15360               500  ...   \n",
       "185                 50                  15360               500  ...   \n",
       "\n",
       "     plan_name    incomes  first_name  last_name age  \\\n",
       "0     ultimate   13170.29    Anamaria      Bauer  45   \n",
       "1     ultimate   14338.59      Jesusa   Bradford  73   \n",
       "2     ultimate  140657.44     Nicolas     Snider  50   \n",
       "3     ultimate   33616.45      Meggan   Hamilton  49   \n",
       "4     ultimate   74431.28        Lane     Martin  52   \n",
       "..         ...        ...         ...        ...  ..   \n",
       "181       surf   53235.20      Randee  Carpenter  26   \n",
       "182       surf   41104.02      Keesha    Burnett  44   \n",
       "183       surf   87926.36      Jasper   Buchanan  46   \n",
       "184       surf   12527.80        Roni       Frye  32   \n",
       "185       surf  202998.30        Sang      Solis  29   \n",
       "\n",
       "                                          city   reg_date    plan_y  \\\n",
       "0        Atlanta-Sandy Springs-Roswell, GA MSA 2018-12-24  ultimate   \n",
       "1       San Francisco-Oakland-Berkeley, CA MSA 2018-11-27  ultimate   \n",
       "2                            Knoxville, TN MSA 2018-12-01  ultimate   \n",
       "3     Houston-The Woodlands-Sugar Land, TX MSA 2018-07-20  ultimate   \n",
       "4    New York-Newark-Jersey City, NY-NJ-PA MSA 2018-07-15  ultimate   \n",
       "..                                         ...        ...       ...   \n",
       "181                        Bakersfield, CA MSA 2018-08-26      surf   \n",
       "182   Riverside-San Bernardino-Ontario, CA MSA 2018-11-12      surf   \n",
       "183                       St. Louis, MO-IL MSA 2018-12-13      surf   \n",
       "184                     Urban Honolulu, HI MSA 2018-12-27      surf   \n",
       "185          Orlando-Kissimmee-Sanford, FL MSA 2018-12-05      surf   \n",
       "\n",
       "     churn_date month_y  \n",
       "0           NaT      12  \n",
       "1    2018-12-18      11  \n",
       "2           NaT      12  \n",
       "3           NaT       7  \n",
       "4           NaT       7  \n",
       "..          ...     ...  \n",
       "181         NaT       8  \n",
       "182         NaT      11  \n",
       "183         NaT      12  \n",
       "184         NaT      12  \n",
       "185         NaT      12  \n",
       "\n",
       "[186 rows x 24 columns]"
      ]
     },
     "execution_count": 70,
     "metadata": {},
     "output_type": "execute_result"
    }
   ],
   "source": [
    "city_merge = incomes_by_user.merge(users, on = 'user_id', how='inner')# Añade la información de la tarifa\n",
    "city_merge\n",
    "# Prueba las hipótesis\n",
    "\n"
   ]
  },
  {
   "cell_type": "code",
   "execution_count": 71,
   "metadata": {},
   "outputs": [
    {
     "data": {
      "text/plain": [
       "array(['Atlanta-Sandy Springs-Roswell, GA MSA',\n",
       "       'San Francisco-Oakland-Berkeley, CA MSA', 'Knoxville, TN MSA',\n",
       "       'Houston-The Woodlands-Sugar Land, TX MSA',\n",
       "       'New York-Newark-Jersey City, NY-NJ-PA MSA',\n",
       "       'Chicago-Naperville-Elgin, IL-IN-WI MSA',\n",
       "       'Charlotte-Concord-Gastonia, NC-SC MSA',\n",
       "       'Phoenix-Mesa-Chandler, AZ MSA', 'Grand Rapids-Kentwood, MI MSA',\n",
       "       'Cincinnati, OH-KY-IN MSA',\n",
       "       'Miami-Fort Lauderdale-West Palm Beach, FL MSA',\n",
       "       'Las Vegas-Henderson-Paradise, NV MSA',\n",
       "       'Los Angeles-Long Beach-Anaheim, CA MSA',\n",
       "       'San Antonio-New Braunfels, TX MSA',\n",
       "       'San Diego-Chula Vista-Carlsbad, CA MSA',\n",
       "       'Austin-Round Rock-Georgetown, TX MSA',\n",
       "       'Minneapolis-St. Paul-Bloomington, MN-WI MSA',\n",
       "       'Oklahoma City, OK MSA',\n",
       "       'Philadelphia-Camden-Wilmington, PA-NJ-DE-MD MSA',\n",
       "       'Baton Rouge, LA MSA', 'Detroit-Warren-Dearborn, MI MSA',\n",
       "       'Birmingham-Hoover, AL MSA', 'Charleston-North Charleston, SC MSA',\n",
       "       'Tucson, AZ MSA', 'Seattle-Tacoma-Bellevue, WA MSA',\n",
       "       'San Jose-Sunnyvale-Santa Clara, CA MSA',\n",
       "       'Tampa-St. Petersburg-Clearwater, FL MSA', 'Richmond, VA MSA',\n",
       "       'Indianapolis-Carmel-Anderson, IN MSA', 'Salt Lake City, UT MSA',\n",
       "       'Fresno, CA MSA', 'Pittsburgh, PA MSA',\n",
       "       'Washington-Arlington-Alexandria, DC-VA-MD-WV MSA',\n",
       "       'Dallas-Fort Worth-Arlington, TX MSA',\n",
       "       'Omaha-Council Bluffs, NE-IA MSA',\n",
       "       'Boston-Cambridge-Newton, MA-NH MSA',\n",
       "       'Buffalo-Cheektowaga, NY MSA', 'Memphis, TN-MS-AR MSA',\n",
       "       'Nashville-Davidson–Murfreesboro–Franklin, TN MSA',\n",
       "       'Louisville/Jefferson County, KY-IN MSA',\n",
       "       'Albany-Schenectady-Troy, NY MSA', 'Urban Honolulu, HI MSA',\n",
       "       'El Paso, TX MSA', 'Columbus, OH MSA',\n",
       "       'Riverside-San Bernardino-Ontario, CA MSA',\n",
       "       'New Orleans-Metairie, LA MSA', 'Columbia, SC MSA',\n",
       "       'Milwaukee-Waukesha, WI MSA',\n",
       "       'Oxnard-Thousand Oaks-Ventura, CA MSA',\n",
       "       'Bridgeport-Stamford-Norwalk, CT MSA',\n",
       "       'Providence-Warwick, RI-MA MSA', 'Kansas City, MO-KS MSA',\n",
       "       'Dayton-Kettering, OH MSA', 'New Haven-Milford, CT MSA',\n",
       "       'Virginia Beach-Norfolk-Newport News, VA-NC MSA', 'Tulsa, OK MSA',\n",
       "       'Baltimore-Columbia-Towson, MD MSA',\n",
       "       'Portland-Vancouver-Hillsboro, OR-WA MSA',\n",
       "       'Denver-Aurora-Lakewood, CO MSA', 'Bakersfield, CA MSA',\n",
       "       'St. Louis, MO-IL MSA', 'Orlando-Kissimmee-Sanford, FL MSA'],\n",
       "      dtype=object)"
      ]
     },
     "execution_count": 71,
     "metadata": {},
     "output_type": "execute_result"
    }
   ],
   "source": [
    "city_merge['city'].unique()"
   ]
  },
  {
   "cell_type": "code",
   "execution_count": 80,
   "metadata": {},
   "outputs": [
    {
     "data": {
      "text/plain": [
       "4       74431.28\n",
       "5       69100.01\n",
       "10      49978.18\n",
       "12      36326.99\n",
       "14      95726.47\n",
       "18      57232.21\n",
       "39      29202.46\n",
       "45      66572.24\n",
       "48       1890.42\n",
       "61      11625.90\n",
       "68       9844.20\n",
       "70      91657.50\n",
       "74      65592.30\n",
       "88       5867.80\n",
       "90      75596.30\n",
       "95     233698.30\n",
       "96      77439.30\n",
       "101     19770.20\n",
       "103    116484.60\n",
       "107    174194.65\n",
       "110    124403.00\n",
       "113    118166.93\n",
       "114     79569.80\n",
       "118    110199.06\n",
       "137    116170.50\n",
       "139     48486.70\n",
       "155     40410.10\n",
       "159     16760.10\n",
       "171     67570.10\n",
       "172    219430.78\n",
       "173    159993.80\n",
       "Name: incomes, dtype: float64"
      ]
     },
     "execution_count": 80,
     "metadata": {},
     "output_type": "execute_result"
    }
   ],
   "source": [
    "ny = city_merge[city_merge['city']== 'New York-Newark-Jersey City, NY-NJ-PA MSA'].incomes\n",
    "ny"
   ]
  },
  {
   "cell_type": "code",
   "execution_count": 79,
   "metadata": {},
   "outputs": [
    {
     "data": {
      "text/plain": [
       "0       13170.29\n",
       "1       14338.59\n",
       "2      140657.44\n",
       "3       33616.45\n",
       "6       25567.36\n",
       "         ...    \n",
       "181     53235.20\n",
       "182     41104.02\n",
       "183     87926.36\n",
       "184     12527.80\n",
       "185    202998.30\n",
       "Name: incomes, Length: 155, dtype: float64"
      ]
     },
     "execution_count": 79,
     "metadata": {},
     "output_type": "execute_result"
    }
   ],
   "source": [
    "others = city_merge[city_merge['city'] != 'New York-Newark-Jersey City, NY-NJ-PA MSA'].incomes\n",
    "others"
   ]
  },
  {
   "cell_type": "code",
   "execution_count": 74,
   "metadata": {},
   "outputs": [],
   "source": [
    "ny_mean = ny['incomes'].mean()\n",
    "others_mean = others['incomes'].mean()"
   ]
  },
  {
   "cell_type": "code",
   "execution_count": 75,
   "metadata": {},
   "outputs": [],
   "source": [
    "ny_var = ny['incomes'].var()\n",
    "others_var = others['incomes'].var()"
   ]
  },
  {
   "cell_type": "code",
   "execution_count": 76,
   "metadata": {},
   "outputs": [
    {
     "data": {
      "text/plain": [
       "False"
      ]
     },
     "execution_count": 76,
     "metadata": {},
     "output_type": "execute_result"
    }
   ],
   "source": [
    "if ny_var == others_var:\n",
    "    variance =True\n",
    "else:\n",
    "    variance=False\n",
    "variance"
   ]
  },
  {
   "cell_type": "code",
   "execution_count": 77,
   "metadata": {},
   "outputs": [
    {
     "data": {
      "text/plain": [
       "user_id                   0\n",
       "month_x                   0\n",
       "id_x                      0\n",
       "duration                  0\n",
       "id_y                      0\n",
       "mb_used                   0\n",
       "plan_x                    0\n",
       "messages_included         0\n",
       "mb_per_month_included     0\n",
       "minutes_included          0\n",
       "usd_monthly_pay           0\n",
       "usd_per_gb                0\n",
       "usd_per_message           0\n",
       "usd_per_minute            0\n",
       "plan_name                 0\n",
       "incomes                   0\n",
       "first_name                0\n",
       "last_name                 0\n",
       "age                       0\n",
       "city                      0\n",
       "reg_date                  0\n",
       "plan_y                    0\n",
       "churn_date               29\n",
       "month_y                   0\n",
       "dtype: int64"
      ]
     },
     "execution_count": 77,
     "metadata": {},
     "output_type": "execute_result"
    }
   ],
   "source": [
    "ny.isnull().sum()\n"
   ]
  },
  {
   "cell_type": "code",
   "execution_count": 81,
   "metadata": {},
   "outputs": [
    {
     "name": "stdout",
     "output_type": "stream",
     "text": [
      "valor p: 0.7641409723520617\n",
      "No podemos rechazar la hipótesis nula: los ingresos no fueron significativamente inferiores\n"
     ]
    }
   ],
   "source": [
    "\n",
    "\n",
    "alpha = 0.05 # indica el nivel de significación estadística\n",
    "\n",
    "results = st.ttest_ind(ny, others, equal_var=variance, nan_policy='omit')\n",
    "\n",
    "print('valor p:', results.pvalue)\n",
    "\n",
    "if results.pvalue < alpha: # compara el valor obtenido y el nivel crítico de significación estadística\n",
    "    # y verifica si la media muestral está en el lado correcto del interested_value):\n",
    "    print(\n",
    "        \"Rechazamos la hipótesis nula: los ingresos fueron significativamente inferiores a 800 dólares\"\n",
    "    )\n",
    "else:\n",
    "    print(\n",
    "        \"No podemos rechazar la hipótesis nula: los ingresos no fueron significativamente inferiores\"\n",
    "    )"
   ]
  },
  {
   "cell_type": "markdown",
   "metadata": {},
   "source": [
    "<div class=\"alert alert-block alert-success\">\n",
    "<b>Comentario del revisor. (Iteración 3) </b> <a class=\"tocSkip\"></a>\n",
    "\n",
    "Perfecto!"
   ]
  },
  {
   "cell_type": "markdown",
   "metadata": {},
   "source": [
    "<div class=\"alert alert-block alert-warning\">\n",
    "<b>Comentario del revisor. (Iteración 2) </b> <a class=\"tocSkip\"></a>\n",
    "\n",
    "Mira Estela, estás obteniendo como pval un nulo, significa que algo no está del todo correcto. Intenta resolverlo, tu puedes!"
   ]
  },
  {
   "cell_type": "markdown",
   "metadata": {},
   "source": [
    "<div class=\"alert alert-block alert-warning\">\n",
    "<b>Comentario del revisor. (Iteración 1) </b> <a class=\"tocSkip\"></a>\n",
    "\n",
    "Ten cuidado acá al contrario del test anterior, estas metiendo un dataframe completo en el test y solo debería ser sobre una columna."
   ]
  },
  {
   "cell_type": "markdown",
   "metadata": {
    "id": "bbTR8UQO0q1T"
   },
   "source": [
    "## Conclusión general\n",
    "\n",
    "[En esta sección final, enumera tus conclusiones importantes. Asegúrate de que estas abarquen todas las decisiones (suposiciones) importantes que adoptaste y que determinaron la forma elegida para procesar y analizar los datos.]\n",
    "\n",
    "\n",
    "podemos observar en la comparación de cada plan quu en cuanto a llamadas, surf supera a ultimate, pero en mensages y uno se internet, ultimate supera a surf. Lo cual es de esperarse, ya que deben contrarlo sabiendo que ocuparan más estos servicios. Pero en cuanto a ls ingresos, son mayores los que entran de los usuarios con el plan surf que por los de ultimate. Aunque la prueba de hipostesis rechaza que sean diferentes. \n",
    "\n",
    "por otro lado, la prueba de hipotesis de que los ingresos de NY y NJ son mayores a las otras areas no pudo rechazarse. "
   ]
  },
  {
   "cell_type": "markdown",
   "metadata": {},
   "source": [
    "<div class=\"alert alert-block alert-success\">\n",
    "<b>Comentario del revisor. (Iteración 2) </b> <a class=\"tocSkip\"></a>\n",
    "\n",
    "Te felicito! Esta vez colocaste tus conclusiones y muy atinadas por cierto!"
   ]
  },
  {
   "cell_type": "markdown",
   "metadata": {},
   "source": [
    "<div class=\"alert alert-block alert-warning\">\n",
    "<b>Comentario del revisor. (Iteración 1) </b> <a class=\"tocSkip\"></a>\n",
    "\n",
    "Tal vez se te pasó. Pero es muy importante ir agragando los principales insights que vamos observando del análisis, pero principalmente, la conclusión general debe ser un resumen de los hallazgos más importantes que hemos detectado a lo largo de nuestro análisis."
   ]
  }
 ],
 "metadata": {
  "ExecuteTimeLog": [
   {
    "duration": 828,
    "start_time": "2021-11-16T09:21:11.304Z"
   },
   {
    "duration": 893,
    "start_time": "2021-11-16T09:21:17.728Z"
   },
   {
    "duration": 1150,
    "start_time": "2021-11-16T09:21:29.568Z"
   },
   {
    "duration": 3,
    "start_time": "2021-11-16T09:24:14.495Z"
   },
   {
    "duration": 120,
    "start_time": "2021-11-16T09:24:46.630Z"
   },
   {
    "duration": 3,
    "start_time": "2021-11-16T09:28:27.882Z"
   },
   {
    "duration": 4,
    "start_time": "2021-11-16T09:29:54.281Z"
   },
   {
    "duration": 3,
    "start_time": "2021-11-16T09:30:45.936Z"
   },
   {
    "duration": 4,
    "start_time": "2021-11-16T09:31:06.300Z"
   },
   {
    "duration": 113,
    "start_time": "2021-11-16T09:31:37.208Z"
   },
   {
    "duration": 143,
    "start_time": "2021-11-16T09:31:48.656Z"
   },
   {
    "duration": 98,
    "start_time": "2021-11-16T09:31:55.678Z"
   },
   {
    "duration": 3,
    "start_time": "2021-11-16T09:32:08.535Z"
   },
   {
    "duration": 111,
    "start_time": "2021-11-16T09:32:10.120Z"
   },
   {
    "duration": 3,
    "start_time": "2021-11-16T09:32:15.732Z"
   },
   {
    "duration": 4,
    "start_time": "2021-11-16T09:32:29.423Z"
   },
   {
    "duration": 3,
    "start_time": "2021-11-16T10:03:03.074Z"
   },
   {
    "duration": 3,
    "start_time": "2021-11-16T10:10:01.288Z"
   },
   {
    "duration": 3,
    "start_time": "2021-11-16T10:10:46.923Z"
   },
   {
    "duration": 121,
    "start_time": "2021-11-16T10:37:46.494Z"
   },
   {
    "duration": 125,
    "start_time": "2021-11-16T10:38:20.632Z"
   },
   {
    "duration": 112,
    "start_time": "2021-11-16T10:46:53.001Z"
   },
   {
    "duration": 110,
    "start_time": "2021-11-16T10:48:25.775Z"
   },
   {
    "duration": 3,
    "start_time": "2021-11-16T10:50:18.720Z"
   },
   {
    "duration": 4,
    "start_time": "2021-11-16T10:50:37.649Z"
   },
   {
    "duration": 2,
    "start_time": "2021-11-16T10:50:51.884Z"
   },
   {
    "duration": 3,
    "start_time": "2021-11-16T10:51:56.237Z"
   },
   {
    "duration": 101,
    "start_time": "2021-11-16T10:53:13.791Z"
   },
   {
    "duration": 3,
    "start_time": "2021-11-16T10:55:59.186Z"
   },
   {
    "duration": 3,
    "start_time": "2021-11-16T10:56:10.751Z"
   },
   {
    "duration": 3,
    "start_time": "2021-11-16T10:56:49.038Z"
   },
   {
    "duration": 3,
    "start_time": "2021-11-16T10:56:49.174Z"
   },
   {
    "duration": 4,
    "start_time": "2021-11-16T10:56:49.414Z"
   },
   {
    "duration": 3,
    "start_time": "2021-11-16T10:56:49.680Z"
   },
   {
    "duration": 3,
    "start_time": "2021-11-16T10:56:50.370Z"
   },
   {
    "duration": 114,
    "start_time": "2021-11-16T10:59:34.518Z"
   },
   {
    "duration": 3,
    "start_time": "2021-11-16T11:01:41.201Z"
   },
   {
    "duration": 116,
    "start_time": "2021-11-16T11:01:48.754Z"
   },
   {
    "duration": 3,
    "start_time": "2021-11-16T11:02:16.685Z"
   },
   {
    "duration": 3,
    "start_time": "2021-11-16T11:02:19.479Z"
   },
   {
    "duration": 3,
    "start_time": "2021-11-16T11:02:47.067Z"
   },
   {
    "duration": 3,
    "start_time": "2021-11-16T11:02:49.353Z"
   },
   {
    "duration": 3,
    "start_time": "2021-11-16T11:03:07.835Z"
   },
   {
    "duration": 3,
    "start_time": "2021-11-16T11:03:07.953Z"
   },
   {
    "duration": 112,
    "start_time": "2021-11-16T11:07:52.072Z"
   },
   {
    "duration": 187,
    "start_time": "2021-11-16T11:09:23.468Z"
   },
   {
    "duration": 4,
    "start_time": "2021-11-16T11:10:01.455Z"
   },
   {
    "duration": 3,
    "start_time": "2021-11-16T11:10:05.069Z"
   },
   {
    "duration": 4,
    "start_time": "2021-11-16T11:10:13.376Z"
   },
   {
    "duration": 3,
    "start_time": "2021-11-16T11:10:14.434Z"
   },
   {
    "duration": 3,
    "start_time": "2021-11-16T11:10:22.853Z"
   },
   {
    "duration": 4,
    "start_time": "2021-11-16T11:27:29.279Z"
   },
   {
    "duration": 4,
    "start_time": "2021-11-16T11:29:08.919Z"
   },
   {
    "duration": 118,
    "start_time": "2021-11-16T11:29:46.703Z"
   },
   {
    "duration": 437,
    "start_time": "2021-11-16T11:36:02.181Z"
   },
   {
    "duration": 157,
    "start_time": "2021-11-16T11:36:14.388Z"
   },
   {
    "duration": 207,
    "start_time": "2021-11-16T11:47:15.898Z"
   },
   {
    "duration": 3,
    "start_time": "2021-11-16T11:53:52.092Z"
   },
   {
    "duration": 3,
    "start_time": "2021-11-16T11:53:52.236Z"
   },
   {
    "duration": 3,
    "start_time": "2021-11-16T11:59:12.005Z"
   },
   {
    "duration": 112,
    "start_time": "2021-11-16T12:00:33.446Z"
   },
   {
    "duration": 3,
    "start_time": "2021-11-16T12:02:14.453Z"
   },
   {
    "duration": 3,
    "start_time": "2021-11-16T12:02:39.512Z"
   },
   {
    "duration": 106,
    "start_time": "2021-11-16T12:03:03.460Z"
   },
   {
    "duration": 3,
    "start_time": "2021-11-17T20:37:21.139Z"
   },
   {
    "duration": 3,
    "start_time": "2021-11-17T20:37:22.229Z"
   },
   {
    "duration": 3,
    "start_time": "2021-11-17T20:38:38.806Z"
   },
   {
    "duration": 3,
    "start_time": "2021-11-17T20:38:41.958Z"
   },
   {
    "duration": 3,
    "start_time": "2021-11-17T20:43:46.551Z"
   },
   {
    "duration": 4,
    "start_time": "2021-11-17T20:58:21.835Z"
   },
   {
    "duration": 3,
    "start_time": "2021-11-17T20:59:21.872Z"
   },
   {
    "duration": 4,
    "start_time": "2021-11-17T20:59:45.352Z"
   },
   {
    "duration": 4,
    "start_time": "2021-11-17T20:59:49.646Z"
   },
   {
    "duration": 159,
    "start_time": "2021-11-17T21:02:26.949Z"
   },
   {
    "duration": 3,
    "start_time": "2021-11-17T21:03:53.461Z"
   },
   {
    "duration": 3,
    "start_time": "2021-11-17T21:03:53.694Z"
   },
   {
    "duration": 3,
    "start_time": "2021-11-17T21:05:28.145Z"
   },
   {
    "duration": 116,
    "start_time": "2021-11-17T21:05:57.787Z"
   },
   {
    "duration": 3,
    "start_time": "2021-11-17T21:06:37.993Z"
   },
   {
    "duration": 3,
    "start_time": "2021-11-17T21:06:38.261Z"
   },
   {
    "duration": 3,
    "start_time": "2021-11-17T21:11:54.358Z"
   },
   {
    "duration": 3,
    "start_time": "2021-11-17T21:12:43.846Z"
   },
   {
    "duration": 4,
    "start_time": "2021-11-17T21:13:08.773Z"
   },
   {
    "duration": 3,
    "start_time": "2021-11-17T21:14:44.441Z"
   },
   {
    "duration": 3,
    "start_time": "2021-11-17T21:15:42.059Z"
   },
   {
    "duration": 4,
    "start_time": "2021-11-17T21:15:51.995Z"
   },
   {
    "duration": 3,
    "start_time": "2021-11-17T21:15:53.923Z"
   },
   {
    "duration": 3,
    "start_time": "2021-11-17T21:15:55.282Z"
   },
   {
    "duration": 3,
    "start_time": "2021-11-17T21:16:28.492Z"
   },
   {
    "duration": 3,
    "start_time": "2021-11-17T21:16:32.603Z"
   },
   {
    "duration": 3,
    "start_time": "2021-11-17T21:17:06.941Z"
   },
   {
    "duration": 98,
    "start_time": "2021-11-17T21:18:05.733Z"
   },
   {
    "duration": 4,
    "start_time": "2021-11-17T21:21:35.255Z"
   },
   {
    "duration": 3,
    "start_time": "2021-11-17T21:21:37.804Z"
   },
   {
    "duration": 4,
    "start_time": "2021-11-17T21:23:06.071Z"
   },
   {
    "duration": 3,
    "start_time": "2021-11-17T21:23:24.799Z"
   },
   {
    "duration": 3,
    "start_time": "2021-11-17T21:23:32.591Z"
   },
   {
    "duration": 98,
    "start_time": "2021-11-17T21:28:31.559Z"
   },
   {
    "duration": 3,
    "start_time": "2021-11-17T21:28:45.448Z"
   },
   {
    "duration": 3,
    "start_time": "2021-11-17T21:29:17.303Z"
   },
   {
    "duration": 3,
    "start_time": "2021-11-17T21:29:29.617Z"
   },
   {
    "duration": 3,
    "start_time": "2021-11-17T21:29:32.681Z"
   },
   {
    "duration": 3,
    "start_time": "2021-11-17T21:36:11.474Z"
   },
   {
    "duration": 3,
    "start_time": "2021-11-17T21:36:14.791Z"
   },
   {
    "duration": 3,
    "start_time": "2021-11-17T21:36:53.943Z"
   },
   {
    "duration": 3,
    "start_time": "2021-11-17T21:36:56.165Z"
   },
   {
    "duration": 4,
    "start_time": "2021-11-17T21:37:16.590Z"
   },
   {
    "duration": 3,
    "start_time": "2021-11-17T21:37:22.702Z"
   },
   {
    "duration": 4,
    "start_time": "2021-11-17T21:38:03.479Z"
   },
   {
    "duration": 3,
    "start_time": "2021-11-17T21:38:08.601Z"
   },
   {
    "duration": 3,
    "start_time": "2021-11-17T21:38:12.928Z"
   },
   {
    "duration": 3,
    "start_time": "2021-11-17T21:38:48.896Z"
   },
   {
    "duration": 2,
    "start_time": "2021-11-17T21:38:49.171Z"
   },
   {
    "duration": 4,
    "start_time": "2021-11-17T21:39:57.889Z"
   },
   {
    "duration": 3,
    "start_time": "2021-11-17T21:39:58.057Z"
   },
   {
    "duration": 3,
    "start_time": "2021-11-17T21:41:20.108Z"
   },
   {
    "duration": 3,
    "start_time": "2021-11-17T21:41:20.629Z"
   },
   {
    "duration": 3,
    "start_time": "2021-11-17T21:42:49.136Z"
   },
   {
    "duration": 3,
    "start_time": "2021-11-17T21:43:15.137Z"
   },
   {
    "duration": 4,
    "start_time": "2021-11-17T21:43:16.766Z"
   },
   {
    "duration": 4,
    "start_time": "2021-11-17T21:43:31.711Z"
   },
   {
    "duration": 3,
    "start_time": "2021-11-17T21:43:36.312Z"
   },
   {
    "duration": 4,
    "start_time": "2021-11-17T21:45:08.825Z"
   },
   {
    "duration": 4,
    "start_time": "2021-11-17T21:45:10.119Z"
   },
   {
    "duration": 4,
    "start_time": "2021-11-17T21:45:13.748Z"
   },
   {
    "duration": 3,
    "start_time": "2021-11-17T21:45:22.219Z"
   },
   {
    "duration": 3,
    "start_time": "2021-11-17T21:45:33.412Z"
   },
   {
    "duration": 2,
    "start_time": "2021-11-17T21:46:01.885Z"
   },
   {
    "duration": 3,
    "start_time": "2021-11-17T21:46:03.628Z"
   },
   {
    "duration": 107,
    "start_time": "2021-11-17T21:47:32.512Z"
   },
   {
    "duration": 103,
    "start_time": "2021-11-17T21:50:36.243Z"
   },
   {
    "duration": 3,
    "start_time": "2021-11-18T06:28:31.440Z"
   },
   {
    "duration": 3,
    "start_time": "2021-11-18T06:29:00.168Z"
   },
   {
    "duration": 3,
    "start_time": "2021-11-18T06:31:27.008Z"
   },
   {
    "duration": 2,
    "start_time": "2021-11-18T06:35:34.288Z"
   },
   {
    "duration": 2,
    "start_time": "2021-11-18T06:38:04.527Z"
   },
   {
    "duration": 158,
    "start_time": "2024-09-30T00:58:40.004Z"
   },
   {
    "duration": 2158,
    "start_time": "2024-09-30T00:58:43.091Z"
   },
   {
    "duration": 220,
    "start_time": "2024-09-30T00:58:45.669Z"
   },
   {
    "duration": 17,
    "start_time": "2024-09-30T00:59:55.333Z"
   },
   {
    "duration": 54,
    "start_time": "2024-09-30T01:00:16.224Z"
   },
   {
    "duration": 31,
    "start_time": "2024-09-30T01:00:31.244Z"
   },
   {
    "duration": 36,
    "start_time": "2024-09-30T01:02:02.178Z"
   },
   {
    "duration": 98,
    "start_time": "2024-09-30T01:02:18.259Z"
   },
   {
    "duration": 78,
    "start_time": "2024-09-30T01:02:49.850Z"
   },
   {
    "duration": 5,
    "start_time": "2024-09-30T01:04:12.762Z"
   },
   {
    "duration": 5,
    "start_time": "2024-09-30T01:04:24.171Z"
   },
   {
    "duration": 5,
    "start_time": "2024-09-30T01:04:32.790Z"
   },
   {
    "duration": 79,
    "start_time": "2024-09-30T01:07:55.774Z"
   },
   {
    "duration": 158,
    "start_time": "2024-09-30T18:49:26.043Z"
   },
   {
    "duration": 2169,
    "start_time": "2024-09-30T19:23:57.338Z"
   },
   {
    "duration": 43,
    "start_time": "2024-09-30T19:24:08.777Z"
   },
   {
    "duration": 12,
    "start_time": "2024-09-30T19:24:26.672Z"
   },
   {
    "duration": 229,
    "start_time": "2024-09-30T19:24:41.093Z"
   },
   {
    "duration": 396,
    "start_time": "2024-09-30T19:24:46.581Z"
   },
   {
    "duration": 4,
    "start_time": "2024-09-30T19:24:57.450Z"
   },
   {
    "duration": 4,
    "start_time": "2024-09-30T19:26:03.274Z"
   },
   {
    "duration": 6,
    "start_time": "2024-09-30T19:27:43.627Z"
   },
   {
    "duration": 6,
    "start_time": "2024-09-30T19:28:23.902Z"
   },
   {
    "duration": 6,
    "start_time": "2024-09-30T19:28:31.998Z"
   },
   {
    "duration": 11,
    "start_time": "2024-09-30T19:29:56.907Z"
   },
   {
    "duration": 20,
    "start_time": "2024-09-30T19:30:37.621Z"
   },
   {
    "duration": 17,
    "start_time": "2024-09-30T19:31:32.621Z"
   },
   {
    "duration": 10,
    "start_time": "2024-09-30T19:31:51.787Z"
   },
   {
    "duration": 13,
    "start_time": "2024-09-30T19:35:54.152Z"
   },
   {
    "duration": 5,
    "start_time": "2024-09-30T19:36:02.048Z"
   },
   {
    "duration": 23,
    "start_time": "2024-09-30T19:39:23.807Z"
   },
   {
    "duration": 6,
    "start_time": "2024-09-30T19:40:14.124Z"
   },
   {
    "duration": 6,
    "start_time": "2024-09-30T19:40:18.872Z"
   },
   {
    "duration": 7,
    "start_time": "2024-09-30T19:40:36.428Z"
   },
   {
    "duration": 5,
    "start_time": "2024-09-30T19:41:32.552Z"
   },
   {
    "duration": 5,
    "start_time": "2024-09-30T19:41:35.131Z"
   },
   {
    "duration": 5,
    "start_time": "2024-09-30T19:41:43.519Z"
   },
   {
    "duration": 28,
    "start_time": "2024-09-30T19:42:53.415Z"
   },
   {
    "duration": 7,
    "start_time": "2024-09-30T19:43:11.622Z"
   },
   {
    "duration": 36,
    "start_time": "2024-09-30T19:46:04.865Z"
   },
   {
    "duration": 53,
    "start_time": "2024-09-30T19:47:30.021Z"
   },
   {
    "duration": 39,
    "start_time": "2024-09-30T19:48:34.731Z"
   },
   {
    "duration": 5,
    "start_time": "2024-09-30T19:48:48.323Z"
   },
   {
    "duration": 19,
    "start_time": "2024-09-30T19:49:30.901Z"
   },
   {
    "duration": 7,
    "start_time": "2024-09-30T19:49:56.460Z"
   },
   {
    "duration": 18,
    "start_time": "2024-09-30T19:51:59.912Z"
   },
   {
    "duration": 12,
    "start_time": "2024-09-30T19:53:13.692Z"
   },
   {
    "duration": 17,
    "start_time": "2024-09-30T19:55:48.280Z"
   },
   {
    "duration": 17,
    "start_time": "2024-09-30T19:55:58.844Z"
   },
   {
    "duration": 20,
    "start_time": "2024-09-30T19:56:10.871Z"
   },
   {
    "duration": 25,
    "start_time": "2024-09-30T19:56:38.393Z"
   },
   {
    "duration": 9,
    "start_time": "2024-09-30T19:57:29.805Z"
   },
   {
    "duration": 2193,
    "start_time": "2024-09-30T23:49:03.666Z"
   },
   {
    "duration": 228,
    "start_time": "2024-09-30T23:49:06.630Z"
   },
   {
    "duration": 111,
    "start_time": "2024-09-30T23:49:46.505Z"
   },
   {
    "duration": 11,
    "start_time": "2024-09-30T23:50:12.772Z"
   },
   {
    "duration": 34,
    "start_time": "2024-09-30T23:50:19.609Z"
   },
   {
    "duration": 9,
    "start_time": "2024-09-30T23:52:03.086Z"
   },
   {
    "duration": 5,
    "start_time": "2024-09-30T23:52:16.478Z"
   },
   {
    "duration": 5,
    "start_time": "2024-09-30T23:55:05.579Z"
   },
   {
    "duration": 3,
    "start_time": "2024-10-01T01:12:34.629Z"
   },
   {
    "duration": 521,
    "start_time": "2024-10-01T01:20:57.940Z"
   },
   {
    "duration": 41,
    "start_time": "2024-10-01T01:23:09.273Z"
   },
   {
    "duration": 26,
    "start_time": "2024-10-01T01:23:53.534Z"
   },
   {
    "duration": 39,
    "start_time": "2024-10-01T01:24:16.368Z"
   },
   {
    "duration": 2269,
    "start_time": "2024-10-02T02:21:58.086Z"
   },
   {
    "duration": 248,
    "start_time": "2024-10-02T02:22:00.814Z"
   },
   {
    "duration": 24,
    "start_time": "2024-10-02T02:22:11.746Z"
   },
   {
    "duration": 258,
    "start_time": "2024-10-02T02:22:13.414Z"
   },
   {
    "duration": 188,
    "start_time": "2024-10-02T02:26:41.465Z"
   },
   {
    "duration": 183,
    "start_time": "2024-10-02T02:26:56.874Z"
   },
   {
    "duration": 38,
    "start_time": "2024-10-02T02:29:22.849Z"
   },
   {
    "duration": 30,
    "start_time": "2024-10-02T02:29:35.833Z"
   },
   {
    "duration": 8,
    "start_time": "2024-10-02T02:30:15.713Z"
   },
   {
    "duration": 11,
    "start_time": "2024-10-02T02:32:20.661Z"
   },
   {
    "duration": 13,
    "start_time": "2024-10-02T02:33:04.260Z"
   },
   {
    "duration": 11,
    "start_time": "2024-10-02T02:34:56.105Z"
   },
   {
    "duration": 8,
    "start_time": "2024-10-02T02:35:31.534Z"
   },
   {
    "duration": 8,
    "start_time": "2024-10-02T02:36:06.346Z"
   },
   {
    "duration": 10,
    "start_time": "2024-10-02T02:37:34.454Z"
   },
   {
    "duration": 7,
    "start_time": "2024-10-02T02:38:44.775Z"
   },
   {
    "duration": 14,
    "start_time": "2024-10-02T02:43:50.099Z"
   },
   {
    "duration": 13,
    "start_time": "2024-10-02T02:44:14.685Z"
   },
   {
    "duration": 2068,
    "start_time": "2024-10-02T02:46:25.572Z"
   },
   {
    "duration": 5,
    "start_time": "2024-10-02T02:47:53.778Z"
   },
   {
    "duration": 159,
    "start_time": "2024-10-02T02:49:08.194Z"
   },
   {
    "duration": 476,
    "start_time": "2024-10-02T02:49:18.799Z"
   },
   {
    "duration": 3,
    "start_time": "2024-10-02T02:49:23.532Z"
   },
   {
    "duration": 244,
    "start_time": "2024-10-02T02:49:30.347Z"
   },
   {
    "duration": 44,
    "start_time": "2024-10-02T02:49:36.776Z"
   },
   {
    "duration": 2290,
    "start_time": "2024-10-02T02:49:41.883Z"
   },
   {
    "duration": 160,
    "start_time": "2024-10-02T02:50:55.927Z"
   },
   {
    "duration": 470,
    "start_time": "2024-10-02T02:51:04.220Z"
   },
   {
    "duration": 253,
    "start_time": "2024-10-02T02:51:05.241Z"
   },
   {
    "duration": 85,
    "start_time": "2024-10-02T02:51:08.095Z"
   },
   {
    "duration": 5,
    "start_time": "2024-10-02T02:51:08.914Z"
   },
   {
    "duration": 4,
    "start_time": "2024-10-02T02:51:11.206Z"
   },
   {
    "duration": 6,
    "start_time": "2024-10-02T02:51:12.920Z"
   },
   {
    "duration": 18,
    "start_time": "2024-10-02T02:51:14.550Z"
   },
   {
    "duration": 10,
    "start_time": "2024-10-02T02:51:15.204Z"
   },
   {
    "duration": 5,
    "start_time": "2024-10-02T02:51:17.301Z"
   },
   {
    "duration": 6,
    "start_time": "2024-10-02T02:51:18.477Z"
   },
   {
    "duration": 29,
    "start_time": "2024-10-02T02:51:19.922Z"
   },
   {
    "duration": 7,
    "start_time": "2024-10-02T02:51:20.651Z"
   },
   {
    "duration": 30,
    "start_time": "2024-10-02T02:51:22.975Z"
   },
   {
    "duration": 6,
    "start_time": "2024-10-02T02:51:25.480Z"
   },
   {
    "duration": 19,
    "start_time": "2024-10-02T02:51:26.928Z"
   },
   {
    "duration": 6,
    "start_time": "2024-10-02T02:51:27.598Z"
   },
   {
    "duration": 17,
    "start_time": "2024-10-02T02:51:30.142Z"
   },
   {
    "duration": 18,
    "start_time": "2024-10-02T02:51:31.956Z"
   },
   {
    "duration": 24,
    "start_time": "2024-10-02T02:51:33.311Z"
   },
   {
    "duration": 7,
    "start_time": "2024-10-02T02:51:33.929Z"
   },
   {
    "duration": 43,
    "start_time": "2024-10-02T02:51:36.297Z"
   },
   {
    "duration": 11,
    "start_time": "2024-10-02T02:51:37.519Z"
   },
   {
    "duration": 4,
    "start_time": "2024-10-02T02:51:38.586Z"
   },
   {
    "duration": 22,
    "start_time": "2024-10-02T02:51:40.021Z"
   },
   {
    "duration": 209,
    "start_time": "2024-10-02T02:51:40.757Z"
   },
   {
    "duration": 9,
    "start_time": "2024-10-02T02:51:44.774Z"
   },
   {
    "duration": 13,
    "start_time": "2024-10-02T02:51:45.861Z"
   },
   {
    "duration": 8,
    "start_time": "2024-10-02T02:51:48.314Z"
   },
   {
    "duration": 8,
    "start_time": "2024-10-02T02:51:49.348Z"
   },
   {
    "duration": 12,
    "start_time": "2024-10-02T02:51:50.085Z"
   },
   {
    "duration": 2065,
    "start_time": "2024-10-02T02:51:51.397Z"
   },
   {
    "duration": 157,
    "start_time": "2024-10-02T02:52:04.897Z"
   },
   {
    "duration": 12,
    "start_time": "2024-10-02T02:52:45.667Z"
   },
   {
    "duration": 466,
    "start_time": "2024-10-02T03:08:24.306Z"
   },
   {
    "duration": 249,
    "start_time": "2024-10-02T03:08:26.801Z"
   },
   {
    "duration": 82,
    "start_time": "2024-10-02T03:08:29.151Z"
   },
   {
    "duration": 5,
    "start_time": "2024-10-02T03:08:29.870Z"
   },
   {
    "duration": 6,
    "start_time": "2024-10-02T03:08:32.334Z"
   },
   {
    "duration": 5,
    "start_time": "2024-10-02T03:08:34.263Z"
   },
   {
    "duration": 16,
    "start_time": "2024-10-02T03:08:36.363Z"
   },
   {
    "duration": 10,
    "start_time": "2024-10-02T03:08:42.060Z"
   },
   {
    "duration": 6,
    "start_time": "2024-10-02T03:08:50.296Z"
   },
   {
    "duration": 6,
    "start_time": "2024-10-02T03:08:52.062Z"
   },
   {
    "duration": 30,
    "start_time": "2024-10-02T03:08:53.258Z"
   },
   {
    "duration": 8,
    "start_time": "2024-10-02T03:08:53.828Z"
   },
   {
    "duration": 31,
    "start_time": "2024-10-02T03:08:56.046Z"
   },
   {
    "duration": 5,
    "start_time": "2024-10-02T03:08:57.774Z"
   },
   {
    "duration": 21,
    "start_time": "2024-10-02T03:08:58.938Z"
   },
   {
    "duration": 7,
    "start_time": "2024-10-02T03:08:59.569Z"
   },
   {
    "duration": 16,
    "start_time": "2024-10-02T03:09:01.915Z"
   },
   {
    "duration": 17,
    "start_time": "2024-10-02T03:09:03.656Z"
   },
   {
    "duration": 25,
    "start_time": "2024-10-02T03:09:04.833Z"
   },
   {
    "duration": 8,
    "start_time": "2024-10-02T03:09:05.402Z"
   },
   {
    "duration": 34,
    "start_time": "2024-10-02T03:09:07.475Z"
   },
   {
    "duration": 6,
    "start_time": "2024-10-02T03:09:09.015Z"
   },
   {
    "duration": 4,
    "start_time": "2024-10-02T03:09:10.642Z"
   },
   {
    "duration": 25,
    "start_time": "2024-10-02T03:09:11.823Z"
   },
   {
    "duration": 200,
    "start_time": "2024-10-02T03:09:12.451Z"
   },
   {
    "duration": 8,
    "start_time": "2024-10-02T03:09:13.145Z"
   },
   {
    "duration": 14,
    "start_time": "2024-10-02T03:09:13.857Z"
   },
   {
    "duration": 8,
    "start_time": "2024-10-02T03:09:14.532Z"
   },
   {
    "duration": 9,
    "start_time": "2024-10-02T03:09:16.351Z"
   },
   {
    "duration": 12,
    "start_time": "2024-10-02T03:09:17.045Z"
   },
   {
    "duration": 2083,
    "start_time": "2024-10-02T03:09:18.429Z"
   },
   {
    "duration": 157,
    "start_time": "2024-10-02T03:09:39.467Z"
   },
   {
    "duration": 436,
    "start_time": "2024-10-02T03:09:45.732Z"
   },
   {
    "duration": 240,
    "start_time": "2024-10-02T03:09:49.167Z"
   },
   {
    "duration": 2208,
    "start_time": "2024-10-02T03:09:58.471Z"
   },
   {
    "duration": 155,
    "start_time": "2024-10-02T03:10:32.345Z"
   },
   {
    "duration": 2292,
    "start_time": "2024-10-02T19:25:57.063Z"
   },
   {
    "duration": 273,
    "start_time": "2024-10-02T19:25:59.357Z"
   },
   {
    "duration": 86,
    "start_time": "2024-10-02T19:26:00.472Z"
   },
   {
    "duration": 5,
    "start_time": "2024-10-02T19:26:01.427Z"
   },
   {
    "duration": 5,
    "start_time": "2024-10-02T19:26:03.561Z"
   },
   {
    "duration": 5,
    "start_time": "2024-10-02T19:26:04.931Z"
   },
   {
    "duration": 19,
    "start_time": "2024-10-02T19:26:05.985Z"
   },
   {
    "duration": 10,
    "start_time": "2024-10-02T19:26:06.157Z"
   },
   {
    "duration": 6,
    "start_time": "2024-10-02T19:26:07.250Z"
   },
   {
    "duration": 6,
    "start_time": "2024-10-02T19:26:07.959Z"
   },
   {
    "duration": 30,
    "start_time": "2024-10-02T19:26:08.792Z"
   },
   {
    "duration": 8,
    "start_time": "2024-10-02T19:26:09.345Z"
   },
   {
    "duration": 32,
    "start_time": "2024-10-02T19:26:10.622Z"
   },
   {
    "duration": 4,
    "start_time": "2024-10-02T19:26:11.890Z"
   },
   {
    "duration": 24,
    "start_time": "2024-10-02T19:27:06.231Z"
   },
   {
    "duration": 6,
    "start_time": "2024-10-02T19:27:06.902Z"
   },
   {
    "duration": 17,
    "start_time": "2024-10-02T19:27:09.274Z"
   },
   {
    "duration": 20,
    "start_time": "2024-10-02T19:27:12.118Z"
   },
   {
    "duration": 27,
    "start_time": "2024-10-02T19:27:13.519Z"
   },
   {
    "duration": 8,
    "start_time": "2024-10-02T19:27:14.323Z"
   },
   {
    "duration": 39,
    "start_time": "2024-10-02T19:27:16.505Z"
   },
   {
    "duration": 7,
    "start_time": "2024-10-02T19:27:18.357Z"
   },
   {
    "duration": 4,
    "start_time": "2024-10-02T19:27:21.688Z"
   },
   {
    "duration": 24,
    "start_time": "2024-10-02T19:27:24.210Z"
   },
   {
    "duration": 184,
    "start_time": "2024-10-02T19:27:24.939Z"
   },
   {
    "duration": 8,
    "start_time": "2024-10-02T19:27:25.681Z"
   },
   {
    "duration": 13,
    "start_time": "2024-10-02T19:27:26.512Z"
   },
   {
    "duration": 8,
    "start_time": "2024-10-02T19:27:27.325Z"
   },
   {
    "duration": 9,
    "start_time": "2024-10-02T19:27:29.463Z"
   },
   {
    "duration": 12,
    "start_time": "2024-10-02T19:27:30.254Z"
   },
   {
    "duration": 2098,
    "start_time": "2024-10-02T19:27:31.695Z"
   },
   {
    "duration": 432,
    "start_time": "2024-10-02T19:27:48.524Z"
   },
   {
    "duration": 295,
    "start_time": "2024-10-02T19:27:49.662Z"
   },
   {
    "duration": 93,
    "start_time": "2024-10-02T19:28:03.292Z"
   },
   {
    "duration": 5,
    "start_time": "2024-10-02T19:28:03.808Z"
   },
   {
    "duration": 5,
    "start_time": "2024-10-02T19:28:05.760Z"
   },
   {
    "duration": 5,
    "start_time": "2024-10-02T19:28:07.451Z"
   },
   {
    "duration": 17,
    "start_time": "2024-10-02T19:28:08.469Z"
   },
   {
    "duration": 13,
    "start_time": "2024-10-02T19:28:09.075Z"
   },
   {
    "duration": 6,
    "start_time": "2024-10-02T19:28:11.317Z"
   },
   {
    "duration": 5,
    "start_time": "2024-10-02T19:28:14.823Z"
   },
   {
    "duration": 32,
    "start_time": "2024-10-02T19:28:16.022Z"
   },
   {
    "duration": 9,
    "start_time": "2024-10-02T19:28:16.473Z"
   },
   {
    "duration": 34,
    "start_time": "2024-10-02T19:28:18.297Z"
   },
   {
    "duration": 5,
    "start_time": "2024-10-02T19:28:19.725Z"
   },
   {
    "duration": 19,
    "start_time": "2024-10-02T19:28:20.867Z"
   },
   {
    "duration": 8,
    "start_time": "2024-10-02T19:28:21.373Z"
   },
   {
    "duration": 16,
    "start_time": "2024-10-02T19:28:23.489Z"
   },
   {
    "duration": 18,
    "start_time": "2024-10-02T19:28:24.957Z"
   },
   {
    "duration": 7,
    "start_time": "2024-10-02T19:28:59.014Z"
   },
   {
    "duration": 198,
    "start_time": "2024-10-02T19:29:57.655Z"
   },
   {
    "duration": 14,
    "start_time": "2024-10-02T19:30:12.931Z"
   },
   {
    "duration": 12,
    "start_time": "2024-10-02T19:31:06.419Z"
   },
   {
    "duration": 13,
    "start_time": "2024-10-02T19:31:27.981Z"
   },
   {
    "duration": 79,
    "start_time": "2024-10-02T19:31:47.312Z"
   },
   {
    "duration": 19,
    "start_time": "2024-10-02T19:32:07.030Z"
   },
   {
    "duration": 48,
    "start_time": "2024-10-02T19:32:17.300Z"
   },
   {
    "duration": 4,
    "start_time": "2024-10-02T19:32:28.916Z"
   },
   {
    "duration": 19,
    "start_time": "2024-10-02T19:32:40.962Z"
   },
   {
    "duration": 3,
    "start_time": "2024-10-02T19:33:00.289Z"
   },
   {
    "duration": 3,
    "start_time": "2024-10-02T19:33:03.472Z"
   },
   {
    "duration": 47,
    "start_time": "2024-10-02T19:33:24.341Z"
   },
   {
    "duration": 4,
    "start_time": "2024-10-02T19:33:30.503Z"
   },
   {
    "duration": 28,
    "start_time": "2024-10-02T19:58:19.256Z"
   },
   {
    "duration": 6,
    "start_time": "2024-10-02T19:59:23.993Z"
   },
   {
    "duration": 5,
    "start_time": "2024-10-02T19:59:26.858Z"
   },
   {
    "duration": 6,
    "start_time": "2024-10-02T20:01:11.438Z"
   },
   {
    "duration": 3,
    "start_time": "2024-10-02T20:11:28.628Z"
   },
   {
    "duration": 167,
    "start_time": "2024-10-02T20:11:30.032Z"
   },
   {
    "duration": 37,
    "start_time": "2024-10-02T20:11:31.950Z"
   },
   {
    "duration": 5,
    "start_time": "2024-10-02T20:11:32.508Z"
   },
   {
    "duration": 5,
    "start_time": "2024-10-02T20:11:33.781Z"
   },
   {
    "duration": 5,
    "start_time": "2024-10-02T20:11:34.778Z"
   },
   {
    "duration": 17,
    "start_time": "2024-10-02T20:11:35.495Z"
   },
   {
    "duration": 10,
    "start_time": "2024-10-02T20:11:35.722Z"
   },
   {
    "duration": 6,
    "start_time": "2024-10-02T20:11:36.968Z"
   },
   {
    "duration": 6,
    "start_time": "2024-10-02T20:11:37.812Z"
   },
   {
    "duration": 30,
    "start_time": "2024-10-02T20:11:38.450Z"
   },
   {
    "duration": 8,
    "start_time": "2024-10-02T20:11:38.752Z"
   },
   {
    "duration": 30,
    "start_time": "2024-10-02T20:11:40.067Z"
   },
   {
    "duration": 4,
    "start_time": "2024-10-02T20:11:40.925Z"
   },
   {
    "duration": 20,
    "start_time": "2024-10-02T20:11:41.583Z"
   },
   {
    "duration": 7,
    "start_time": "2024-10-02T20:11:41.930Z"
   },
   {
    "duration": 17,
    "start_time": "2024-10-02T20:11:43.360Z"
   },
   {
    "duration": 19,
    "start_time": "2024-10-02T20:11:44.362Z"
   },
   {
    "duration": 29,
    "start_time": "2024-10-02T20:11:49.730Z"
   },
   {
    "duration": 9,
    "start_time": "2024-10-02T20:11:50.389Z"
   },
   {
    "duration": 38,
    "start_time": "2024-10-02T20:12:03.824Z"
   },
   {
    "duration": 13,
    "start_time": "2024-10-02T20:12:05.423Z"
   },
   {
    "duration": 3,
    "start_time": "2024-10-02T20:12:07.636Z"
   },
   {
    "duration": 23,
    "start_time": "2024-10-02T20:12:08.779Z"
   },
   {
    "duration": 191,
    "start_time": "2024-10-02T20:12:09.538Z"
   },
   {
    "duration": 10,
    "start_time": "2024-10-02T20:12:10.131Z"
   },
   {
    "duration": 14,
    "start_time": "2024-10-02T20:12:11.192Z"
   },
   {
    "duration": 8,
    "start_time": "2024-10-02T20:12:11.760Z"
   },
   {
    "duration": 8,
    "start_time": "2024-10-02T20:12:12.321Z"
   },
   {
    "duration": 14,
    "start_time": "2024-10-02T20:12:13.136Z"
   },
   {
    "duration": 2090,
    "start_time": "2024-10-02T20:12:14.954Z"
   },
   {
    "duration": 5,
    "start_time": "2024-10-02T20:12:21.831Z"
   },
   {
    "duration": 16,
    "start_time": "2024-10-02T20:13:09.892Z"
   },
   {
    "duration": 168,
    "start_time": "2024-10-02T20:18:38.667Z"
   },
   {
    "duration": 537,
    "start_time": "2024-10-02T20:18:47.746Z"
   },
   {
    "duration": 290,
    "start_time": "2024-10-02T20:18:48.365Z"
   },
   {
    "duration": 30,
    "start_time": "2024-10-02T20:18:50.018Z"
   },
   {
    "duration": 5,
    "start_time": "2024-10-02T20:18:51.399Z"
   },
   {
    "duration": 5,
    "start_time": "2024-10-02T20:18:53.380Z"
   },
   {
    "duration": 7,
    "start_time": "2024-10-02T20:18:54.969Z"
   },
   {
    "duration": 16,
    "start_time": "2024-10-02T20:18:55.974Z"
   },
   {
    "duration": 10,
    "start_time": "2024-10-02T20:18:56.646Z"
   },
   {
    "duration": 6,
    "start_time": "2024-10-02T20:19:01.162Z"
   },
   {
    "duration": 6,
    "start_time": "2024-10-02T20:19:05.709Z"
   },
   {
    "duration": 31,
    "start_time": "2024-10-02T20:19:06.994Z"
   },
   {
    "duration": 8,
    "start_time": "2024-10-02T20:19:07.554Z"
   },
   {
    "duration": 40,
    "start_time": "2024-10-02T20:19:09.725Z"
   },
   {
    "duration": 5,
    "start_time": "2024-10-02T20:19:11.274Z"
   },
   {
    "duration": 19,
    "start_time": "2024-10-02T20:19:12.491Z"
   },
   {
    "duration": 9,
    "start_time": "2024-10-02T20:19:13.151Z"
   },
   {
    "duration": 17,
    "start_time": "2024-10-02T20:19:15.330Z"
   },
   {
    "duration": 17,
    "start_time": "2024-10-02T20:19:16.850Z"
   },
   {
    "duration": 29,
    "start_time": "2024-10-02T20:19:17.930Z"
   },
   {
    "duration": 9,
    "start_time": "2024-10-02T20:19:18.421Z"
   },
   {
    "duration": 41,
    "start_time": "2024-10-02T20:19:20.501Z"
   },
   {
    "duration": 11,
    "start_time": "2024-10-02T20:19:21.908Z"
   },
   {
    "duration": 4,
    "start_time": "2024-10-02T20:19:23.545Z"
   },
   {
    "duration": 22,
    "start_time": "2024-10-02T20:19:24.592Z"
   },
   {
    "duration": 188,
    "start_time": "2024-10-02T20:19:25.166Z"
   },
   {
    "duration": 9,
    "start_time": "2024-10-02T20:19:25.708Z"
   },
   {
    "duration": 15,
    "start_time": "2024-10-02T20:19:26.378Z"
   },
   {
    "duration": 9,
    "start_time": "2024-10-02T20:19:27.154Z"
   },
   {
    "duration": 7,
    "start_time": "2024-10-02T20:19:27.638Z"
   },
   {
    "duration": 12,
    "start_time": "2024-10-02T20:19:29.303Z"
   },
   {
    "duration": 2097,
    "start_time": "2024-10-02T20:19:30.554Z"
   },
   {
    "duration": 4,
    "start_time": "2024-10-02T20:19:32.653Z"
   },
   {
    "duration": 192,
    "start_time": "2024-10-02T20:19:45.769Z"
   },
   {
    "duration": 2161,
    "start_time": "2024-10-02T23:18:03.535Z"
   },
   {
    "duration": 245,
    "start_time": "2024-10-02T23:18:05.698Z"
   },
   {
    "duration": 30,
    "start_time": "2024-10-02T23:18:05.945Z"
   },
   {
    "duration": 4,
    "start_time": "2024-10-02T23:18:05.977Z"
   },
   {
    "duration": 4,
    "start_time": "2024-10-02T23:18:05.984Z"
   },
   {
    "duration": 5,
    "start_time": "2024-10-02T23:18:05.990Z"
   },
   {
    "duration": 14,
    "start_time": "2024-10-02T23:18:05.997Z"
   },
   {
    "duration": 37,
    "start_time": "2024-10-02T23:18:06.013Z"
   },
   {
    "duration": 5,
    "start_time": "2024-10-02T23:18:06.052Z"
   },
   {
    "duration": 5,
    "start_time": "2024-10-02T23:18:06.060Z"
   },
   {
    "duration": 28,
    "start_time": "2024-10-02T23:18:06.067Z"
   },
   {
    "duration": 7,
    "start_time": "2024-10-02T23:18:06.097Z"
   },
   {
    "duration": 62,
    "start_time": "2024-10-02T23:18:06.106Z"
   },
   {
    "duration": 5,
    "start_time": "2024-10-02T23:18:06.171Z"
   },
   {
    "duration": 18,
    "start_time": "2024-10-02T23:18:06.177Z"
   },
   {
    "duration": 6,
    "start_time": "2024-10-02T23:18:06.197Z"
   },
   {
    "duration": 42,
    "start_time": "2024-10-02T23:18:06.205Z"
   },
   {
    "duration": 18,
    "start_time": "2024-10-02T23:18:06.249Z"
   },
   {
    "duration": 24,
    "start_time": "2024-10-02T23:18:06.269Z"
   },
   {
    "duration": 7,
    "start_time": "2024-10-02T23:18:06.294Z"
   },
   {
    "duration": 58,
    "start_time": "2024-10-02T23:18:06.303Z"
   },
   {
    "duration": 6,
    "start_time": "2024-10-02T23:18:06.363Z"
   },
   {
    "duration": 3,
    "start_time": "2024-10-02T23:18:06.371Z"
   },
   {
    "duration": 22,
    "start_time": "2024-10-02T23:18:06.375Z"
   },
   {
    "duration": 18,
    "start_time": "2024-10-02T23:18:08.879Z"
   },
   {
    "duration": 8,
    "start_time": "2024-10-02T23:18:48.065Z"
   },
   {
    "duration": 13,
    "start_time": "2024-10-02T23:19:02.461Z"
   },
   {
    "duration": 7,
    "start_time": "2024-10-02T23:19:03.080Z"
   },
   {
    "duration": 14,
    "start_time": "2024-10-02T23:20:25.535Z"
   },
   {
    "duration": 12,
    "start_time": "2024-10-02T23:21:03.960Z"
   },
   {
    "duration": 12,
    "start_time": "2024-10-02T23:21:29.071Z"
   },
   {
    "duration": 496,
    "start_time": "2024-10-02T23:22:36.630Z"
   },
   {
    "duration": 18,
    "start_time": "2024-10-02T23:23:45.314Z"
   },
   {
    "duration": 13,
    "start_time": "2024-10-02T23:23:47.450Z"
   },
   {
    "duration": 70,
    "start_time": "2024-10-02T23:28:59.018Z"
   },
   {
    "duration": 9,
    "start_time": "2024-10-02T23:29:05.579Z"
   },
   {
    "duration": 13,
    "start_time": "2024-10-02T23:30:01.967Z"
   },
   {
    "duration": 43,
    "start_time": "2024-10-02T23:30:50.693Z"
   },
   {
    "duration": 22,
    "start_time": "2024-10-02T23:31:46.005Z"
   },
   {
    "duration": 6,
    "start_time": "2024-10-02T23:31:56.080Z"
   },
   {
    "duration": 13,
    "start_time": "2024-10-02T23:33:02.462Z"
   },
   {
    "duration": 39,
    "start_time": "2024-10-02T23:33:29.569Z"
   },
   {
    "duration": 8,
    "start_time": "2024-10-02T23:35:41.039Z"
   },
   {
    "duration": 121,
    "start_time": "2024-10-02T23:35:51.031Z"
   },
   {
    "duration": 4,
    "start_time": "2024-10-02T23:35:55.722Z"
   },
   {
    "duration": 22,
    "start_time": "2024-10-02T23:35:57.142Z"
   },
   {
    "duration": 24,
    "start_time": "2024-10-02T23:36:36.660Z"
   },
   {
    "duration": 8,
    "start_time": "2024-10-02T23:37:40.278Z"
   },
   {
    "duration": 51,
    "start_time": "2024-10-02T23:38:20.136Z"
   },
   {
    "duration": 49,
    "start_time": "2024-10-02T23:39:12.639Z"
   },
   {
    "duration": 8,
    "start_time": "2024-10-02T23:39:21.308Z"
   },
   {
    "duration": 45,
    "start_time": "2024-10-02T23:39:50.602Z"
   },
   {
    "duration": 53,
    "start_time": "2024-10-02T23:40:07.477Z"
   },
   {
    "duration": 13,
    "start_time": "2024-10-02T23:40:21.705Z"
   },
   {
    "duration": 52,
    "start_time": "2024-10-02T23:40:33.405Z"
   },
   {
    "duration": 18,
    "start_time": "2024-10-02T23:44:28.812Z"
   },
   {
    "duration": 4,
    "start_time": "2024-10-02T23:47:53.726Z"
   },
   {
    "duration": 16,
    "start_time": "2024-10-02T23:48:12.791Z"
   },
   {
    "duration": 15,
    "start_time": "2024-10-02T23:48:33.796Z"
   },
   {
    "duration": 14,
    "start_time": "2024-10-02T23:49:04.910Z"
   },
   {
    "duration": 43,
    "start_time": "2024-10-02T23:49:44.590Z"
   },
   {
    "duration": 16,
    "start_time": "2024-10-02T23:49:49.017Z"
   },
   {
    "duration": 16,
    "start_time": "2024-10-02T23:49:49.508Z"
   },
   {
    "duration": 2122,
    "start_time": "2024-10-03T19:53:03.796Z"
   },
   {
    "duration": 272,
    "start_time": "2024-10-03T19:53:05.920Z"
   },
   {
    "duration": 27,
    "start_time": "2024-10-03T19:53:06.194Z"
   },
   {
    "duration": 5,
    "start_time": "2024-10-03T19:53:06.223Z"
   },
   {
    "duration": 5,
    "start_time": "2024-10-03T19:53:06.229Z"
   },
   {
    "duration": 5,
    "start_time": "2024-10-03T19:53:06.235Z"
   },
   {
    "duration": 15,
    "start_time": "2024-10-03T19:53:06.241Z"
   },
   {
    "duration": 9,
    "start_time": "2024-10-03T19:53:06.258Z"
   },
   {
    "duration": 5,
    "start_time": "2024-10-03T19:53:06.269Z"
   },
   {
    "duration": 6,
    "start_time": "2024-10-03T19:53:06.308Z"
   },
   {
    "duration": 28,
    "start_time": "2024-10-03T19:53:06.316Z"
   },
   {
    "duration": 8,
    "start_time": "2024-10-03T19:53:06.345Z"
   },
   {
    "duration": 58,
    "start_time": "2024-10-03T19:53:06.354Z"
   },
   {
    "duration": 5,
    "start_time": "2024-10-03T19:53:06.414Z"
   },
   {
    "duration": 18,
    "start_time": "2024-10-03T19:53:06.421Z"
   },
   {
    "duration": 6,
    "start_time": "2024-10-03T19:53:06.441Z"
   },
   {
    "duration": 16,
    "start_time": "2024-10-03T19:53:06.449Z"
   },
   {
    "duration": 51,
    "start_time": "2024-10-03T19:53:06.467Z"
   },
   {
    "duration": 28,
    "start_time": "2024-10-03T19:53:06.520Z"
   },
   {
    "duration": 8,
    "start_time": "2024-10-03T19:53:06.549Z"
   },
   {
    "duration": 61,
    "start_time": "2024-10-03T19:53:06.559Z"
   },
   {
    "duration": 7,
    "start_time": "2024-10-03T19:53:06.621Z"
   },
   {
    "duration": 3,
    "start_time": "2024-10-03T19:53:06.629Z"
   },
   {
    "duration": 23,
    "start_time": "2024-10-03T19:53:06.634Z"
   },
   {
    "duration": 17,
    "start_time": "2024-10-03T19:53:06.659Z"
   },
   {
    "duration": 39,
    "start_time": "2024-10-03T19:53:06.677Z"
   },
   {
    "duration": 9,
    "start_time": "2024-10-03T19:53:06.717Z"
   },
   {
    "duration": 13,
    "start_time": "2024-10-03T19:53:06.729Z"
   },
   {
    "duration": 12,
    "start_time": "2024-10-03T19:53:06.744Z"
   },
   {
    "duration": 16,
    "start_time": "2024-10-03T19:53:06.758Z"
   },
   {
    "duration": 41,
    "start_time": "2024-10-03T19:53:06.776Z"
   },
   {
    "duration": 12,
    "start_time": "2024-10-03T19:53:06.819Z"
   },
   {
    "duration": 8,
    "start_time": "2024-10-03T19:53:06.833Z"
   },
   {
    "duration": 12,
    "start_time": "2024-10-03T19:53:06.842Z"
   },
   {
    "duration": 70,
    "start_time": "2024-10-03T19:53:06.856Z"
   },
   {
    "duration": 4,
    "start_time": "2024-10-03T19:53:06.928Z"
   },
   {
    "duration": 49,
    "start_time": "2024-10-03T19:53:06.934Z"
   },
   {
    "duration": 79,
    "start_time": "2024-10-03T19:53:06.985Z"
   },
   {
    "duration": 17,
    "start_time": "2024-10-03T19:53:07.065Z"
   },
   {
    "duration": 7,
    "start_time": "2024-10-03T19:54:29.608Z"
   },
   {
    "duration": 218,
    "start_time": "2024-10-03T19:58:12.279Z"
   },
   {
    "duration": 14,
    "start_time": "2024-10-03T20:00:38.982Z"
   },
   {
    "duration": 599,
    "start_time": "2024-10-03T20:00:52.445Z"
   },
   {
    "duration": 281,
    "start_time": "2024-10-03T20:01:55.919Z"
   },
   {
    "duration": 181,
    "start_time": "2024-10-03T20:02:30.049Z"
   },
   {
    "duration": 60,
    "start_time": "2024-10-03T20:02:57.217Z"
   },
   {
    "duration": 66,
    "start_time": "2024-10-03T20:03:11.834Z"
   },
   {
    "duration": 67,
    "start_time": "2024-10-03T20:03:33.440Z"
   },
   {
    "duration": 5,
    "start_time": "2024-10-03T20:06:53.183Z"
   },
   {
    "duration": 12,
    "start_time": "2024-10-03T20:07:16.474Z"
   },
   {
    "duration": 271,
    "start_time": "2024-10-03T20:07:23.404Z"
   },
   {
    "duration": 34,
    "start_time": "2024-10-03T20:08:30.994Z"
   },
   {
    "duration": 34,
    "start_time": "2024-10-03T20:08:38.164Z"
   },
   {
    "duration": 5,
    "start_time": "2024-10-03T20:08:52.598Z"
   },
   {
    "duration": 15,
    "start_time": "2024-10-03T20:12:05.332Z"
   },
   {
    "duration": 16,
    "start_time": "2024-10-03T20:12:13.766Z"
   },
   {
    "duration": 68,
    "start_time": "2024-10-03T20:12:54.769Z"
   },
   {
    "duration": 661,
    "start_time": "2024-10-03T20:16:46.373Z"
   },
   {
    "duration": 152,
    "start_time": "2024-10-03T20:16:59.382Z"
   },
   {
    "duration": 212,
    "start_time": "2024-10-03T20:17:06.754Z"
   },
   {
    "duration": 227,
    "start_time": "2024-10-03T20:18:24.828Z"
   },
   {
    "duration": 67,
    "start_time": "2024-10-03T20:22:29.869Z"
   },
   {
    "duration": 13,
    "start_time": "2024-10-03T20:23:10.686Z"
   },
   {
    "duration": 126,
    "start_time": "2024-10-03T20:23:25.653Z"
   },
   {
    "duration": 2135,
    "start_time": "2024-10-04T02:22:19.453Z"
   },
   {
    "duration": 259,
    "start_time": "2024-10-04T02:22:21.590Z"
   },
   {
    "duration": 28,
    "start_time": "2024-10-04T02:22:21.851Z"
   },
   {
    "duration": 8,
    "start_time": "2024-10-04T02:22:21.881Z"
   },
   {
    "duration": 6,
    "start_time": "2024-10-04T02:22:21.894Z"
   },
   {
    "duration": 7,
    "start_time": "2024-10-04T02:22:21.903Z"
   },
   {
    "duration": 18,
    "start_time": "2024-10-04T02:22:21.924Z"
   },
   {
    "duration": 10,
    "start_time": "2024-10-04T02:22:21.944Z"
   },
   {
    "duration": 6,
    "start_time": "2024-10-04T02:22:21.955Z"
   },
   {
    "duration": 5,
    "start_time": "2024-10-04T02:22:21.962Z"
   },
   {
    "duration": 61,
    "start_time": "2024-10-04T02:22:21.969Z"
   },
   {
    "duration": 7,
    "start_time": "2024-10-04T02:22:22.032Z"
   },
   {
    "duration": 32,
    "start_time": "2024-10-04T02:22:22.041Z"
   },
   {
    "duration": 5,
    "start_time": "2024-10-04T02:22:22.077Z"
   },
   {
    "duration": 44,
    "start_time": "2024-10-04T02:22:22.084Z"
   },
   {
    "duration": 6,
    "start_time": "2024-10-04T02:22:22.130Z"
   },
   {
    "duration": 15,
    "start_time": "2024-10-04T02:22:22.138Z"
   },
   {
    "duration": 17,
    "start_time": "2024-10-04T02:22:22.154Z"
   },
   {
    "duration": 52,
    "start_time": "2024-10-04T02:22:22.172Z"
   },
   {
    "duration": 14,
    "start_time": "2024-10-04T02:22:22.226Z"
   },
   {
    "duration": 46,
    "start_time": "2024-10-04T02:22:22.241Z"
   },
   {
    "duration": 7,
    "start_time": "2024-10-04T02:22:22.288Z"
   },
   {
    "duration": 4,
    "start_time": "2024-10-04T02:22:22.297Z"
   },
   {
    "duration": 43,
    "start_time": "2024-10-04T02:22:22.302Z"
   },
   {
    "duration": 17,
    "start_time": "2024-10-04T02:22:22.347Z"
   },
   {
    "duration": 14,
    "start_time": "2024-10-04T02:22:22.367Z"
   },
   {
    "duration": 9,
    "start_time": "2024-10-04T02:22:22.382Z"
   },
   {
    "duration": 38,
    "start_time": "2024-10-04T02:22:22.393Z"
   },
   {
    "duration": 12,
    "start_time": "2024-10-04T02:22:22.433Z"
   },
   {
    "duration": 18,
    "start_time": "2024-10-04T02:22:22.446Z"
   },
   {
    "duration": 11,
    "start_time": "2024-10-04T02:22:22.465Z"
   },
   {
    "duration": 11,
    "start_time": "2024-10-04T02:22:22.478Z"
   },
   {
    "duration": 35,
    "start_time": "2024-10-04T02:22:22.492Z"
   },
   {
    "duration": 12,
    "start_time": "2024-10-04T02:22:22.528Z"
   },
   {
    "duration": 43,
    "start_time": "2024-10-04T02:22:22.541Z"
   },
   {
    "duration": 5,
    "start_time": "2024-10-04T02:22:22.585Z"
   },
   {
    "duration": 70,
    "start_time": "2024-10-04T02:22:22.592Z"
   },
   {
    "duration": 75,
    "start_time": "2024-10-04T02:22:22.664Z"
   },
   {
    "duration": 5,
    "start_time": "2024-10-04T02:22:22.741Z"
   },
   {
    "duration": 92,
    "start_time": "2024-10-04T02:22:22.748Z"
   },
   {
    "duration": 619,
    "start_time": "2024-10-04T02:22:22.844Z"
   },
   {
    "duration": 0,
    "start_time": "2024-10-04T02:22:23.464Z"
   },
   {
    "duration": 0,
    "start_time": "2024-10-04T02:22:23.467Z"
   },
   {
    "duration": 0,
    "start_time": "2024-10-04T02:22:23.468Z"
   },
   {
    "duration": 0,
    "start_time": "2024-10-04T02:22:23.470Z"
   },
   {
    "duration": 1,
    "start_time": "2024-10-04T02:22:23.471Z"
   },
   {
    "duration": 107,
    "start_time": "2024-10-04T02:22:28.643Z"
   },
   {
    "duration": 13,
    "start_time": "2024-10-04T02:34:45.595Z"
   },
   {
    "duration": 2,
    "start_time": "2024-10-04T02:34:51.370Z"
   },
   {
    "duration": 141,
    "start_time": "2024-10-04T02:34:51.374Z"
   },
   {
    "duration": 24,
    "start_time": "2024-10-04T02:34:51.518Z"
   },
   {
    "duration": 5,
    "start_time": "2024-10-04T02:34:51.543Z"
   },
   {
    "duration": 4,
    "start_time": "2024-10-04T02:34:51.551Z"
   },
   {
    "duration": 5,
    "start_time": "2024-10-04T02:34:51.556Z"
   },
   {
    "duration": 15,
    "start_time": "2024-10-04T02:34:51.563Z"
   },
   {
    "duration": 45,
    "start_time": "2024-10-04T02:34:51.579Z"
   },
   {
    "duration": 5,
    "start_time": "2024-10-04T02:34:51.625Z"
   },
   {
    "duration": 5,
    "start_time": "2024-10-04T02:34:51.632Z"
   },
   {
    "duration": 26,
    "start_time": "2024-10-04T02:34:51.639Z"
   },
   {
    "duration": 7,
    "start_time": "2024-10-04T02:34:51.666Z"
   },
   {
    "duration": 53,
    "start_time": "2024-10-04T02:34:51.675Z"
   },
   {
    "duration": 5,
    "start_time": "2024-10-04T02:34:51.730Z"
   },
   {
    "duration": 19,
    "start_time": "2024-10-04T02:34:51.737Z"
   },
   {
    "duration": 6,
    "start_time": "2024-10-04T02:34:51.757Z"
   },
   {
    "duration": 15,
    "start_time": "2024-10-04T02:34:51.765Z"
   },
   {
    "duration": 50,
    "start_time": "2024-10-04T02:34:51.782Z"
   },
   {
    "duration": 24,
    "start_time": "2024-10-04T02:34:51.833Z"
   },
   {
    "duration": 7,
    "start_time": "2024-10-04T02:34:51.859Z"
   },
   {
    "duration": 56,
    "start_time": "2024-10-04T02:34:51.868Z"
   },
   {
    "duration": 5,
    "start_time": "2024-10-04T02:34:51.926Z"
   },
   {
    "duration": 3,
    "start_time": "2024-10-04T02:34:51.933Z"
   },
   {
    "duration": 21,
    "start_time": "2024-10-04T02:34:51.937Z"
   },
   {
    "duration": 14,
    "start_time": "2024-10-04T02:34:51.960Z"
   },
   {
    "duration": 13,
    "start_time": "2024-10-04T02:34:51.975Z"
   },
   {
    "duration": 40,
    "start_time": "2024-10-04T02:34:51.989Z"
   },
   {
    "duration": 12,
    "start_time": "2024-10-04T02:34:52.031Z"
   },
   {
    "duration": 9,
    "start_time": "2024-10-04T02:34:52.048Z"
   },
   {
    "duration": 16,
    "start_time": "2024-10-04T02:34:52.059Z"
   },
   {
    "duration": 10,
    "start_time": "2024-10-04T02:34:52.076Z"
   },
   {
    "duration": 41,
    "start_time": "2024-10-04T02:34:52.087Z"
   },
   {
    "duration": 7,
    "start_time": "2024-10-04T02:34:52.130Z"
   },
   {
    "duration": 10,
    "start_time": "2024-10-04T02:34:52.139Z"
   },
   {
    "duration": 38,
    "start_time": "2024-10-04T02:34:52.150Z"
   },
   {
    "duration": 4,
    "start_time": "2024-10-04T02:34:52.190Z"
   },
   {
    "duration": 83,
    "start_time": "2024-10-04T02:34:52.196Z"
   },
   {
    "duration": 70,
    "start_time": "2024-10-04T02:34:52.281Z"
   },
   {
    "duration": 6,
    "start_time": "2024-10-04T02:34:52.353Z"
   },
   {
    "duration": 92,
    "start_time": "2024-10-04T02:34:52.361Z"
   },
   {
    "duration": 232,
    "start_time": "2024-10-04T02:34:52.455Z"
   },
   {
    "duration": 0,
    "start_time": "2024-10-04T02:34:52.689Z"
   },
   {
    "duration": 0,
    "start_time": "2024-10-04T02:34:52.690Z"
   },
   {
    "duration": 0,
    "start_time": "2024-10-04T02:34:52.692Z"
   },
   {
    "duration": 1,
    "start_time": "2024-10-04T02:34:52.693Z"
   },
   {
    "duration": 12,
    "start_time": "2024-10-04T02:34:56.898Z"
   },
   {
    "duration": 50,
    "start_time": "2024-10-04T02:35:02.178Z"
   },
   {
    "duration": 162,
    "start_time": "2024-10-04T02:35:10.458Z"
   },
   {
    "duration": 41,
    "start_time": "2024-10-04T02:35:40.396Z"
   },
   {
    "duration": 51,
    "start_time": "2024-10-04T02:35:57.251Z"
   },
   {
    "duration": 6,
    "start_time": "2024-10-04T02:36:25.262Z"
   },
   {
    "duration": 5,
    "start_time": "2024-10-04T02:36:56.863Z"
   },
   {
    "duration": 51,
    "start_time": "2024-10-04T02:39:58.508Z"
   },
   {
    "duration": 226,
    "start_time": "2024-10-04T02:40:01.675Z"
   },
   {
    "duration": 5,
    "start_time": "2024-10-04T02:44:23.164Z"
   },
   {
    "duration": 15,
    "start_time": "2024-10-04T02:49:52.627Z"
   },
   {
    "duration": 290,
    "start_time": "2024-10-04T02:50:21.370Z"
   },
   {
    "duration": 41,
    "start_time": "2024-10-04T02:50:29.570Z"
   },
   {
    "duration": 42591,
    "start_time": "2024-10-04T02:50:44.920Z"
   },
   {
    "duration": 6,
    "start_time": "2024-10-04T03:06:16.976Z"
   },
   {
    "duration": 6,
    "start_time": "2024-10-04T03:08:47.479Z"
   },
   {
    "duration": 219,
    "start_time": "2024-10-04T03:10:56.309Z"
   },
   {
    "duration": 173,
    "start_time": "2024-10-04T03:12:17.184Z"
   },
   {
    "duration": 184,
    "start_time": "2024-10-04T03:13:49.952Z"
   },
   {
    "duration": 2460,
    "start_time": "2024-10-04T16:32:37.046Z"
   },
   {
    "duration": 243,
    "start_time": "2024-10-04T16:32:39.509Z"
   },
   {
    "duration": 28,
    "start_time": "2024-10-04T16:32:39.754Z"
   },
   {
    "duration": 5,
    "start_time": "2024-10-04T16:32:39.783Z"
   },
   {
    "duration": 5,
    "start_time": "2024-10-04T16:32:39.790Z"
   },
   {
    "duration": 12,
    "start_time": "2024-10-04T16:32:39.796Z"
   },
   {
    "duration": 15,
    "start_time": "2024-10-04T16:32:39.809Z"
   },
   {
    "duration": 12,
    "start_time": "2024-10-04T16:32:39.825Z"
   },
   {
    "duration": 17,
    "start_time": "2024-10-04T16:32:39.838Z"
   },
   {
    "duration": 5,
    "start_time": "2024-10-04T16:32:39.857Z"
   },
   {
    "duration": 43,
    "start_time": "2024-10-04T16:32:39.864Z"
   },
   {
    "duration": 7,
    "start_time": "2024-10-04T16:32:39.908Z"
   },
   {
    "duration": 32,
    "start_time": "2024-10-04T16:32:39.917Z"
   },
   {
    "duration": 4,
    "start_time": "2024-10-04T16:32:39.954Z"
   },
   {
    "duration": 17,
    "start_time": "2024-10-04T16:32:39.960Z"
   },
   {
    "duration": 6,
    "start_time": "2024-10-04T16:32:40.005Z"
   },
   {
    "duration": 16,
    "start_time": "2024-10-04T16:32:40.013Z"
   },
   {
    "duration": 16,
    "start_time": "2024-10-04T16:32:40.031Z"
   },
   {
    "duration": 24,
    "start_time": "2024-10-04T16:32:40.049Z"
   },
   {
    "duration": 36,
    "start_time": "2024-10-04T16:32:40.074Z"
   },
   {
    "duration": 34,
    "start_time": "2024-10-04T16:32:40.112Z"
   },
   {
    "duration": 6,
    "start_time": "2024-10-04T16:32:40.149Z"
   },
   {
    "duration": 3,
    "start_time": "2024-10-04T16:32:40.157Z"
   },
   {
    "duration": 51,
    "start_time": "2024-10-04T16:32:40.162Z"
   },
   {
    "duration": 18,
    "start_time": "2024-10-04T16:32:40.215Z"
   },
   {
    "duration": 14,
    "start_time": "2024-10-04T16:32:40.235Z"
   },
   {
    "duration": 8,
    "start_time": "2024-10-04T16:32:40.251Z"
   },
   {
    "duration": 13,
    "start_time": "2024-10-04T16:32:40.261Z"
   },
   {
    "duration": 37,
    "start_time": "2024-10-04T16:32:40.276Z"
   },
   {
    "duration": 18,
    "start_time": "2024-10-04T16:32:40.314Z"
   },
   {
    "duration": 12,
    "start_time": "2024-10-04T16:32:40.333Z"
   },
   {
    "duration": 11,
    "start_time": "2024-10-04T16:32:40.346Z"
   },
   {
    "duration": 7,
    "start_time": "2024-10-04T16:32:40.359Z"
   },
   {
    "duration": 47,
    "start_time": "2024-10-04T16:32:40.368Z"
   },
   {
    "duration": 42,
    "start_time": "2024-10-04T16:32:40.416Z"
   },
   {
    "duration": 5,
    "start_time": "2024-10-04T16:32:40.460Z"
   },
   {
    "duration": 67,
    "start_time": "2024-10-04T16:32:40.467Z"
   },
   {
    "duration": 72,
    "start_time": "2024-10-04T16:32:40.536Z"
   },
   {
    "duration": 6,
    "start_time": "2024-10-04T16:32:40.610Z"
   },
   {
    "duration": 628,
    "start_time": "2024-10-04T16:32:40.619Z"
   },
   {
    "duration": 0,
    "start_time": "2024-10-04T16:32:41.249Z"
   },
   {
    "duration": 0,
    "start_time": "2024-10-04T16:32:41.251Z"
   },
   {
    "duration": 0,
    "start_time": "2024-10-04T16:32:41.252Z"
   },
   {
    "duration": 0,
    "start_time": "2024-10-04T16:32:41.252Z"
   },
   {
    "duration": 0,
    "start_time": "2024-10-04T16:32:41.254Z"
   },
   {
    "duration": 0,
    "start_time": "2024-10-04T16:32:41.254Z"
   },
   {
    "duration": 0,
    "start_time": "2024-10-04T16:32:41.256Z"
   },
   {
    "duration": 0,
    "start_time": "2024-10-04T16:32:41.257Z"
   },
   {
    "duration": 0,
    "start_time": "2024-10-04T16:32:41.259Z"
   },
   {
    "duration": 0,
    "start_time": "2024-10-04T16:32:41.260Z"
   },
   {
    "duration": 0,
    "start_time": "2024-10-04T16:32:41.262Z"
   },
   {
    "duration": 0,
    "start_time": "2024-10-04T16:32:41.263Z"
   },
   {
    "duration": 8,
    "start_time": "2024-10-04T16:33:09.291Z"
   },
   {
    "duration": 9,
    "start_time": "2024-10-04T16:37:20.386Z"
   },
   {
    "duration": 10,
    "start_time": "2024-10-04T16:37:21.800Z"
   },
   {
    "duration": 4,
    "start_time": "2024-10-04T16:37:22.777Z"
   },
   {
    "duration": 45,
    "start_time": "2024-10-04T16:37:23.566Z"
   },
   {
    "duration": 10,
    "start_time": "2024-10-04T16:37:24.417Z"
   },
   {
    "duration": 9,
    "start_time": "2024-10-04T16:41:02.876Z"
   },
   {
    "duration": 17,
    "start_time": "2024-10-04T16:41:11.392Z"
   },
   {
    "duration": 87,
    "start_time": "2024-10-04T17:08:54.662Z"
   },
   {
    "duration": 111,
    "start_time": "2024-10-04T17:09:08.814Z"
   },
   {
    "duration": 162,
    "start_time": "2024-10-04T19:06:54.346Z"
   },
   {
    "duration": 2469,
    "start_time": "2024-10-04T19:06:59.477Z"
   },
   {
    "duration": 265,
    "start_time": "2024-10-04T19:07:01.948Z"
   },
   {
    "duration": 28,
    "start_time": "2024-10-04T19:07:02.215Z"
   },
   {
    "duration": 5,
    "start_time": "2024-10-04T19:07:02.244Z"
   },
   {
    "duration": 5,
    "start_time": "2024-10-04T19:07:02.251Z"
   },
   {
    "duration": 5,
    "start_time": "2024-10-04T19:07:02.257Z"
   },
   {
    "duration": 15,
    "start_time": "2024-10-04T19:07:02.263Z"
   },
   {
    "duration": 9,
    "start_time": "2024-10-04T19:07:02.305Z"
   },
   {
    "duration": 5,
    "start_time": "2024-10-04T19:07:02.316Z"
   },
   {
    "duration": 5,
    "start_time": "2024-10-04T19:07:02.323Z"
   },
   {
    "duration": 27,
    "start_time": "2024-10-04T19:07:02.330Z"
   },
   {
    "duration": 7,
    "start_time": "2024-10-04T19:07:02.359Z"
   },
   {
    "duration": 68,
    "start_time": "2024-10-04T19:07:02.368Z"
   },
   {
    "duration": 8,
    "start_time": "2024-10-04T19:07:02.440Z"
   },
   {
    "duration": 19,
    "start_time": "2024-10-04T19:07:02.450Z"
   },
   {
    "duration": 6,
    "start_time": "2024-10-04T19:07:02.471Z"
   },
   {
    "duration": 40,
    "start_time": "2024-10-04T19:07:02.479Z"
   },
   {
    "duration": 18,
    "start_time": "2024-10-04T19:07:02.521Z"
   },
   {
    "duration": 24,
    "start_time": "2024-10-04T19:07:02.540Z"
   },
   {
    "duration": 7,
    "start_time": "2024-10-04T19:07:02.566Z"
   },
   {
    "duration": 69,
    "start_time": "2024-10-04T19:07:02.575Z"
   },
   {
    "duration": 7,
    "start_time": "2024-10-04T19:07:02.646Z"
   },
   {
    "duration": 3,
    "start_time": "2024-10-04T19:07:02.656Z"
   },
   {
    "duration": 23,
    "start_time": "2024-10-04T19:07:02.661Z"
   },
   {
    "duration": 19,
    "start_time": "2024-10-04T19:07:02.706Z"
   },
   {
    "duration": 15,
    "start_time": "2024-10-04T19:07:02.727Z"
   },
   {
    "duration": 9,
    "start_time": "2024-10-04T19:07:02.744Z"
   },
   {
    "duration": 13,
    "start_time": "2024-10-04T19:07:02.754Z"
   },
   {
    "duration": 42,
    "start_time": "2024-10-04T19:07:02.770Z"
   },
   {
    "duration": 22,
    "start_time": "2024-10-04T19:07:02.813Z"
   },
   {
    "duration": 11,
    "start_time": "2024-10-04T19:07:02.836Z"
   },
   {
    "duration": 11,
    "start_time": "2024-10-04T19:07:02.850Z"
   },
   {
    "duration": 7,
    "start_time": "2024-10-04T19:07:02.863Z"
   },
   {
    "duration": 35,
    "start_time": "2024-10-04T19:07:02.872Z"
   },
   {
    "duration": 8,
    "start_time": "2024-10-04T19:07:02.909Z"
   },
   {
    "duration": 4,
    "start_time": "2024-10-04T19:07:02.919Z"
   },
   {
    "duration": 50,
    "start_time": "2024-10-04T19:07:02.925Z"
   },
   {
    "duration": 37,
    "start_time": "2024-10-04T19:07:02.977Z"
   },
   {
    "duration": 17,
    "start_time": "2024-10-04T19:07:03.017Z"
   },
   {
    "duration": 96,
    "start_time": "2024-10-04T19:07:10.757Z"
   },
   {
    "duration": 92,
    "start_time": "2024-10-04T19:07:18.199Z"
   },
   {
    "duration": 127,
    "start_time": "2024-10-04T19:07:23.004Z"
   },
   {
    "duration": 106,
    "start_time": "2024-10-04T19:07:56.800Z"
   },
   {
    "duration": 69,
    "start_time": "2024-10-04T19:08:21.423Z"
   },
   {
    "duration": 8,
    "start_time": "2024-10-04T19:08:36.663Z"
   },
   {
    "duration": 213,
    "start_time": "2024-10-04T19:08:45.505Z"
   },
   {
    "duration": 8,
    "start_time": "2024-10-04T19:09:07.640Z"
   },
   {
    "duration": 161,
    "start_time": "2024-10-04T19:09:12.050Z"
   },
   {
    "duration": 178,
    "start_time": "2024-10-04T19:09:20.136Z"
   },
   {
    "duration": 7,
    "start_time": "2024-10-04T19:09:31.375Z"
   },
   {
    "duration": 158,
    "start_time": "2024-10-04T19:09:46.475Z"
   },
   {
    "duration": 8,
    "start_time": "2024-10-04T19:13:03.422Z"
   },
   {
    "duration": 11,
    "start_time": "2024-10-04T19:14:08.812Z"
   },
   {
    "duration": 16,
    "start_time": "2024-10-04T19:15:01.622Z"
   },
   {
    "duration": 2171,
    "start_time": "2024-10-04T19:15:52.953Z"
   },
   {
    "duration": 307,
    "start_time": "2024-10-04T19:18:36.583Z"
   },
   {
    "duration": 5,
    "start_time": "2024-10-04T19:38:34.701Z"
   },
   {
    "duration": 3,
    "start_time": "2024-10-04T19:38:48.926Z"
   },
   {
    "duration": 155,
    "start_time": "2024-10-04T19:38:48.933Z"
   },
   {
    "duration": 25,
    "start_time": "2024-10-04T19:38:49.090Z"
   },
   {
    "duration": 5,
    "start_time": "2024-10-04T19:38:49.117Z"
   },
   {
    "duration": 4,
    "start_time": "2024-10-04T19:38:49.124Z"
   },
   {
    "duration": 4,
    "start_time": "2024-10-04T19:38:49.130Z"
   },
   {
    "duration": 15,
    "start_time": "2024-10-04T19:38:49.136Z"
   },
   {
    "duration": 9,
    "start_time": "2024-10-04T19:38:49.153Z"
   },
   {
    "duration": 5,
    "start_time": "2024-10-04T19:38:49.163Z"
   },
   {
    "duration": 5,
    "start_time": "2024-10-04T19:38:49.207Z"
   },
   {
    "duration": 30,
    "start_time": "2024-10-04T19:38:49.217Z"
   },
   {
    "duration": 7,
    "start_time": "2024-10-04T19:38:49.249Z"
   },
   {
    "duration": 57,
    "start_time": "2024-10-04T19:38:49.258Z"
   },
   {
    "duration": 5,
    "start_time": "2024-10-04T19:38:49.317Z"
   },
   {
    "duration": 19,
    "start_time": "2024-10-04T19:38:49.323Z"
   },
   {
    "duration": 6,
    "start_time": "2024-10-04T19:38:49.344Z"
   },
   {
    "duration": 15,
    "start_time": "2024-10-04T19:38:49.352Z"
   },
   {
    "duration": 44,
    "start_time": "2024-10-04T19:38:49.368Z"
   },
   {
    "duration": 25,
    "start_time": "2024-10-04T19:38:49.414Z"
   },
   {
    "duration": 9,
    "start_time": "2024-10-04T19:38:49.441Z"
   },
   {
    "duration": 52,
    "start_time": "2024-10-04T19:38:49.454Z"
   },
   {
    "duration": 5,
    "start_time": "2024-10-04T19:38:49.508Z"
   },
   {
    "duration": 6,
    "start_time": "2024-10-04T19:38:49.515Z"
   },
   {
    "duration": 22,
    "start_time": "2024-10-04T19:38:49.522Z"
   },
   {
    "duration": 16,
    "start_time": "2024-10-04T19:38:49.545Z"
   },
   {
    "duration": 42,
    "start_time": "2024-10-04T19:38:49.563Z"
   },
   {
    "duration": 8,
    "start_time": "2024-10-04T19:38:49.607Z"
   },
   {
    "duration": 110,
    "start_time": "2024-10-04T19:38:49.617Z"
   },
   {
    "duration": 10,
    "start_time": "2024-10-04T19:38:49.731Z"
   },
   {
    "duration": 16,
    "start_time": "2024-10-04T19:38:49.743Z"
   },
   {
    "duration": 10,
    "start_time": "2024-10-04T19:38:49.760Z"
   },
   {
    "duration": 36,
    "start_time": "2024-10-04T19:38:49.772Z"
   },
   {
    "duration": 7,
    "start_time": "2024-10-04T19:38:49.811Z"
   },
   {
    "duration": 8,
    "start_time": "2024-10-04T19:38:49.819Z"
   },
   {
    "duration": 8,
    "start_time": "2024-10-04T19:38:49.828Z"
   },
   {
    "duration": 4,
    "start_time": "2024-10-04T19:38:49.837Z"
   },
   {
    "duration": 78,
    "start_time": "2024-10-04T19:38:49.843Z"
   },
   {
    "duration": 10,
    "start_time": "2024-10-04T19:38:49.922Z"
   },
   {
    "duration": 16,
    "start_time": "2024-10-04T19:38:49.933Z"
   },
   {
    "duration": 118,
    "start_time": "2024-10-04T19:38:49.950Z"
   },
   {
    "duration": 3,
    "start_time": "2024-10-04T19:38:50.069Z"
   },
   {
    "duration": 7,
    "start_time": "2024-10-04T19:38:50.074Z"
   },
   {
    "duration": 4,
    "start_time": "2024-10-04T19:38:52.536Z"
   },
   {
    "duration": 3,
    "start_time": "2024-10-04T19:39:26.311Z"
   },
   {
    "duration": 336,
    "start_time": "2024-10-04T19:40:16.471Z"
   },
   {
    "duration": 175,
    "start_time": "2024-10-04T19:40:42.735Z"
   },
   {
    "duration": 593,
    "start_time": "2024-10-04T19:45:09.117Z"
   },
   {
    "duration": 210,
    "start_time": "2024-10-04T19:46:16.253Z"
   },
   {
    "duration": 182,
    "start_time": "2024-10-04T19:46:29.560Z"
   },
   {
    "duration": 497,
    "start_time": "2024-10-04T19:46:53.484Z"
   },
   {
    "duration": 101,
    "start_time": "2024-10-04T19:47:05.995Z"
   },
   {
    "duration": 1622,
    "start_time": "2024-10-04T19:50:42.718Z"
   },
   {
    "duration": 1767,
    "start_time": "2024-10-04T19:51:54.189Z"
   },
   {
    "duration": 1617,
    "start_time": "2024-10-04T19:52:14.897Z"
   },
   {
    "duration": 246,
    "start_time": "2024-10-04T19:52:52.879Z"
   },
   {
    "duration": 1624,
    "start_time": "2024-10-04T19:53:02.763Z"
   },
   {
    "duration": 373,
    "start_time": "2024-10-04T19:53:45.667Z"
   },
   {
    "duration": 5,
    "start_time": "2024-10-04T19:54:33.681Z"
   },
   {
    "duration": 95,
    "start_time": "2024-10-04T19:55:11.077Z"
   },
   {
    "duration": 53,
    "start_time": "2024-10-04T19:55:19.430Z"
   },
   {
    "duration": 2483,
    "start_time": "2024-10-06T19:06:06.683Z"
   },
   {
    "duration": 242,
    "start_time": "2024-10-06T19:06:09.169Z"
   },
   {
    "duration": 29,
    "start_time": "2024-10-06T19:06:09.413Z"
   },
   {
    "duration": 5,
    "start_time": "2024-10-06T19:06:09.443Z"
   },
   {
    "duration": 4,
    "start_time": "2024-10-06T19:06:09.451Z"
   },
   {
    "duration": 5,
    "start_time": "2024-10-06T19:06:09.457Z"
   },
   {
    "duration": 16,
    "start_time": "2024-10-06T19:06:09.464Z"
   },
   {
    "duration": 10,
    "start_time": "2024-10-06T19:06:09.481Z"
   },
   {
    "duration": 6,
    "start_time": "2024-10-06T19:06:09.524Z"
   },
   {
    "duration": 5,
    "start_time": "2024-10-06T19:06:09.531Z"
   },
   {
    "duration": 28,
    "start_time": "2024-10-06T19:06:09.537Z"
   },
   {
    "duration": 7,
    "start_time": "2024-10-06T19:06:09.567Z"
   },
   {
    "duration": 59,
    "start_time": "2024-10-06T19:06:09.576Z"
   },
   {
    "duration": 4,
    "start_time": "2024-10-06T19:06:09.638Z"
   },
   {
    "duration": 23,
    "start_time": "2024-10-06T19:06:09.644Z"
   },
   {
    "duration": 7,
    "start_time": "2024-10-06T19:06:09.668Z"
   },
   {
    "duration": 15,
    "start_time": "2024-10-06T19:06:09.676Z"
   },
   {
    "duration": 41,
    "start_time": "2024-10-06T19:06:09.693Z"
   },
   {
    "duration": 25,
    "start_time": "2024-10-06T19:06:09.736Z"
   },
   {
    "duration": 7,
    "start_time": "2024-10-06T19:06:09.763Z"
   },
   {
    "duration": 54,
    "start_time": "2024-10-06T19:06:09.771Z"
   },
   {
    "duration": 6,
    "start_time": "2024-10-06T19:06:09.827Z"
   },
   {
    "duration": 3,
    "start_time": "2024-10-06T19:06:09.835Z"
   },
   {
    "duration": 22,
    "start_time": "2024-10-06T19:06:09.840Z"
   },
   {
    "duration": 16,
    "start_time": "2024-10-06T19:06:09.863Z"
   },
   {
    "duration": 43,
    "start_time": "2024-10-06T19:06:09.881Z"
   },
   {
    "duration": 8,
    "start_time": "2024-10-06T19:06:09.926Z"
   },
   {
    "duration": 13,
    "start_time": "2024-10-06T19:06:09.935Z"
   },
   {
    "duration": 11,
    "start_time": "2024-10-06T19:06:09.950Z"
   },
   {
    "duration": 16,
    "start_time": "2024-10-06T19:06:09.963Z"
   },
   {
    "duration": 10,
    "start_time": "2024-10-06T19:06:09.981Z"
   },
   {
    "duration": 40,
    "start_time": "2024-10-06T19:06:09.993Z"
   },
   {
    "duration": 7,
    "start_time": "2024-10-06T19:06:10.035Z"
   },
   {
    "duration": 8,
    "start_time": "2024-10-06T19:06:10.044Z"
   },
   {
    "duration": 7,
    "start_time": "2024-10-06T19:06:10.054Z"
   },
   {
    "duration": 4,
    "start_time": "2024-10-06T19:06:10.063Z"
   },
   {
    "duration": 84,
    "start_time": "2024-10-06T19:06:10.068Z"
   },
   {
    "duration": 8,
    "start_time": "2024-10-06T19:06:10.153Z"
   },
   {
    "duration": 15,
    "start_time": "2024-10-06T19:06:10.163Z"
   },
   {
    "duration": 120,
    "start_time": "2024-10-06T19:06:10.180Z"
   },
   {
    "duration": 2,
    "start_time": "2024-10-06T19:06:10.303Z"
   },
   {
    "duration": 19,
    "start_time": "2024-10-06T19:06:10.307Z"
   },
   {
    "duration": 192,
    "start_time": "2024-10-06T19:06:10.328Z"
   },
   {
    "duration": 7,
    "start_time": "2024-10-06T19:06:10.522Z"
   },
   {
    "duration": 199,
    "start_time": "2024-10-06T19:06:10.531Z"
   },
   {
    "duration": 5,
    "start_time": "2024-10-06T19:06:10.731Z"
   },
   {
    "duration": 114,
    "start_time": "2024-10-06T19:06:10.738Z"
   },
   {
    "duration": 10,
    "start_time": "2024-10-06T19:06:10.853Z"
   },
   {
    "duration": 1671,
    "start_time": "2024-10-06T19:06:10.864Z"
   },
   {
    "duration": 9,
    "start_time": "2024-10-06T19:07:10.414Z"
   },
   {
    "duration": 628,
    "start_time": "2024-10-06T19:07:32.530Z"
   },
   {
    "duration": 1762,
    "start_time": "2024-10-06T19:08:06.950Z"
   },
   {
    "duration": 9,
    "start_time": "2024-10-06T19:09:23.197Z"
   },
   {
    "duration": 1655,
    "start_time": "2024-10-06T19:10:06.447Z"
   },
   {
    "duration": 215,
    "start_time": "2024-10-06T19:10:24.311Z"
   },
   {
    "duration": 226,
    "start_time": "2024-10-06T19:10:33.752Z"
   },
   {
    "duration": 6,
    "start_time": "2024-10-06T19:11:22.857Z"
   },
   {
    "duration": 103,
    "start_time": "2024-10-06T19:11:44.557Z"
   },
   {
    "duration": 17,
    "start_time": "2024-10-06T19:12:05.504Z"
   },
   {
    "duration": 91,
    "start_time": "2024-10-06T19:12:16.143Z"
   },
   {
    "duration": 5,
    "start_time": "2024-10-06T19:14:25.257Z"
   },
   {
    "duration": 4,
    "start_time": "2024-10-06T19:14:34.930Z"
   },
   {
    "duration": 4,
    "start_time": "2024-10-06T19:15:08.518Z"
   },
   {
    "duration": 13,
    "start_time": "2024-10-06T19:15:14.064Z"
   },
   {
    "duration": 51,
    "start_time": "2024-10-06T19:16:15.480Z"
   },
   {
    "duration": 1602,
    "start_time": "2024-10-06T19:16:41.404Z"
   },
   {
    "duration": 211,
    "start_time": "2024-10-06T19:17:10.916Z"
   },
   {
    "duration": 7,
    "start_time": "2024-10-06T19:17:48.406Z"
   },
   {
    "duration": 5,
    "start_time": "2024-10-06T19:17:52.655Z"
   },
   {
    "duration": 92,
    "start_time": "2024-10-06T19:18:22.307Z"
   },
   {
    "duration": 670,
    "start_time": "2024-10-06T19:18:31.226Z"
   },
   {
    "duration": 54,
    "start_time": "2024-10-06T19:19:10.943Z"
   },
   {
    "duration": 792,
    "start_time": "2024-10-06T19:47:44.736Z"
   },
   {
    "duration": 157,
    "start_time": "2024-10-06T19:47:45.530Z"
   },
   {
    "duration": 28,
    "start_time": "2024-10-06T19:47:45.688Z"
   },
   {
    "duration": 7,
    "start_time": "2024-10-06T19:47:45.718Z"
   },
   {
    "duration": 5,
    "start_time": "2024-10-06T19:47:45.726Z"
   },
   {
    "duration": 6,
    "start_time": "2024-10-06T19:47:45.733Z"
   },
   {
    "duration": 16,
    "start_time": "2024-10-06T19:47:45.740Z"
   },
   {
    "duration": 9,
    "start_time": "2024-10-06T19:47:45.757Z"
   },
   {
    "duration": 4,
    "start_time": "2024-10-06T19:47:45.768Z"
   },
   {
    "duration": 4,
    "start_time": "2024-10-06T19:47:45.776Z"
   },
   {
    "duration": 67,
    "start_time": "2024-10-06T19:47:45.782Z"
   },
   {
    "duration": 7,
    "start_time": "2024-10-06T19:47:45.851Z"
   },
   {
    "duration": 29,
    "start_time": "2024-10-06T19:47:45.859Z"
   },
   {
    "duration": 4,
    "start_time": "2024-10-06T19:47:45.890Z"
   },
   {
    "duration": 42,
    "start_time": "2024-10-06T19:47:45.896Z"
   },
   {
    "duration": 7,
    "start_time": "2024-10-06T19:47:45.940Z"
   },
   {
    "duration": 15,
    "start_time": "2024-10-06T19:47:45.948Z"
   },
   {
    "duration": 16,
    "start_time": "2024-10-06T19:47:45.965Z"
   },
   {
    "duration": 48,
    "start_time": "2024-10-06T19:47:45.983Z"
   },
   {
    "duration": 8,
    "start_time": "2024-10-06T19:47:46.033Z"
   },
   {
    "duration": 33,
    "start_time": "2024-10-06T19:47:46.042Z"
   },
   {
    "duration": 6,
    "start_time": "2024-10-06T19:47:46.077Z"
   },
   {
    "duration": 3,
    "start_time": "2024-10-06T19:47:46.085Z"
   },
   {
    "duration": 51,
    "start_time": "2024-10-06T19:47:46.090Z"
   },
   {
    "duration": 17,
    "start_time": "2024-10-06T19:47:46.142Z"
   },
   {
    "duration": 12,
    "start_time": "2024-10-06T19:47:46.161Z"
   },
   {
    "duration": 8,
    "start_time": "2024-10-06T19:47:46.175Z"
   },
   {
    "duration": 36,
    "start_time": "2024-10-06T19:47:46.188Z"
   },
   {
    "duration": 14,
    "start_time": "2024-10-06T19:47:46.226Z"
   },
   {
    "duration": 20,
    "start_time": "2024-10-06T19:47:46.242Z"
   },
   {
    "duration": 11,
    "start_time": "2024-10-06T19:47:46.264Z"
   },
   {
    "duration": 11,
    "start_time": "2024-10-06T19:47:46.277Z"
   },
   {
    "duration": 38,
    "start_time": "2024-10-06T19:47:46.290Z"
   },
   {
    "duration": 8,
    "start_time": "2024-10-06T19:47:46.330Z"
   },
   {
    "duration": 8,
    "start_time": "2024-10-06T19:47:46.339Z"
   },
   {
    "duration": 4,
    "start_time": "2024-10-06T19:47:46.348Z"
   },
   {
    "duration": 78,
    "start_time": "2024-10-06T19:47:46.353Z"
   },
   {
    "duration": 13,
    "start_time": "2024-10-06T19:47:46.432Z"
   },
   {
    "duration": 16,
    "start_time": "2024-10-06T19:47:46.446Z"
   },
   {
    "duration": 120,
    "start_time": "2024-10-06T19:47:46.464Z"
   },
   {
    "duration": 3,
    "start_time": "2024-10-06T19:47:46.587Z"
   },
   {
    "duration": 8,
    "start_time": "2024-10-06T19:47:46.593Z"
   },
   {
    "duration": 198,
    "start_time": "2024-10-06T19:47:46.603Z"
   },
   {
    "duration": 7,
    "start_time": "2024-10-06T19:47:46.804Z"
   },
   {
    "duration": 199,
    "start_time": "2024-10-06T19:47:46.813Z"
   },
   {
    "duration": 9,
    "start_time": "2024-10-06T19:47:47.016Z"
   },
   {
    "duration": 148,
    "start_time": "2024-10-06T19:47:47.027Z"
   },
   {
    "duration": 9,
    "start_time": "2024-10-06T19:47:47.177Z"
   },
   {
    "duration": 1688,
    "start_time": "2024-10-06T19:47:47.189Z"
   },
   {
    "duration": 219,
    "start_time": "2024-10-06T19:47:48.878Z"
   },
   {
    "duration": 5,
    "start_time": "2024-10-06T19:47:49.099Z"
   },
   {
    "duration": 109,
    "start_time": "2024-10-06T19:47:49.106Z"
   },
   {
    "duration": 14,
    "start_time": "2024-10-06T19:47:49.217Z"
   },
   {
    "duration": 1735,
    "start_time": "2024-10-06T19:47:49.232Z"
   },
   {
    "duration": 225,
    "start_time": "2024-10-06T19:47:50.969Z"
   },
   {
    "duration": 6,
    "start_time": "2024-10-06T19:47:51.196Z"
   },
   {
    "duration": 98,
    "start_time": "2024-10-06T19:47:51.203Z"
   },
   {
    "duration": 23,
    "start_time": "2024-10-06T19:47:51.302Z"
   },
   {
    "duration": 1659,
    "start_time": "2024-10-06T19:47:51.326Z"
   },
   {
    "duration": 290,
    "start_time": "2024-10-06T19:47:52.987Z"
   },
   {
    "duration": 6,
    "start_time": "2024-10-06T19:47:53.278Z"
   },
   {
    "duration": 107,
    "start_time": "2024-10-06T19:47:53.286Z"
   },
   {
    "duration": 604,
    "start_time": "2024-10-06T19:47:53.395Z"
   },
   {
    "duration": 0,
    "start_time": "2024-10-06T19:47:54.001Z"
   },
   {
    "duration": 15,
    "start_time": "2024-10-06T19:51:06.856Z"
   },
   {
    "duration": 17,
    "start_time": "2024-10-06T19:51:54.930Z"
   },
   {
    "duration": 103,
    "start_time": "2024-10-06T19:52:46.087Z"
   },
   {
    "duration": 13,
    "start_time": "2024-10-06T19:52:55.020Z"
   },
   {
    "duration": 401,
    "start_time": "2024-10-06T19:53:02.338Z"
   },
   {
    "duration": 57,
    "start_time": "2024-10-06T19:53:49.369Z"
   },
   {
    "duration": 56,
    "start_time": "2024-10-06T19:54:04.809Z"
   },
   {
    "duration": 58,
    "start_time": "2024-10-06T19:54:10.238Z"
   },
   {
    "duration": 55,
    "start_time": "2024-10-06T19:55:04.022Z"
   },
   {
    "duration": 3,
    "start_time": "2024-10-06T19:55:34.520Z"
   },
   {
    "duration": 161,
    "start_time": "2024-10-06T19:55:34.525Z"
   },
   {
    "duration": 38,
    "start_time": "2024-10-06T19:55:34.688Z"
   },
   {
    "duration": 6,
    "start_time": "2024-10-06T19:55:34.728Z"
   },
   {
    "duration": 5,
    "start_time": "2024-10-06T19:55:34.736Z"
   },
   {
    "duration": 5,
    "start_time": "2024-10-06T19:55:34.742Z"
   },
   {
    "duration": 15,
    "start_time": "2024-10-06T19:55:34.749Z"
   },
   {
    "duration": 9,
    "start_time": "2024-10-06T19:55:34.765Z"
   },
   {
    "duration": 5,
    "start_time": "2024-10-06T19:55:34.776Z"
   },
   {
    "duration": 43,
    "start_time": "2024-10-06T19:55:34.783Z"
   },
   {
    "duration": 26,
    "start_time": "2024-10-06T19:55:34.830Z"
   },
   {
    "duration": 7,
    "start_time": "2024-10-06T19:55:34.858Z"
   },
   {
    "duration": 58,
    "start_time": "2024-10-06T19:55:34.867Z"
   },
   {
    "duration": 5,
    "start_time": "2024-10-06T19:55:34.926Z"
   },
   {
    "duration": 21,
    "start_time": "2024-10-06T19:55:34.933Z"
   },
   {
    "duration": 9,
    "start_time": "2024-10-06T19:55:34.956Z"
   },
   {
    "duration": 15,
    "start_time": "2024-10-06T19:55:34.967Z"
   },
   {
    "duration": 45,
    "start_time": "2024-10-06T19:55:34.984Z"
   },
   {
    "duration": 24,
    "start_time": "2024-10-06T19:55:35.030Z"
   },
   {
    "duration": 7,
    "start_time": "2024-10-06T19:55:35.055Z"
   },
   {
    "duration": 35,
    "start_time": "2024-10-06T19:55:35.064Z"
   },
   {
    "duration": 6,
    "start_time": "2024-10-06T19:55:35.123Z"
   },
   {
    "duration": 4,
    "start_time": "2024-10-06T19:55:35.130Z"
   },
   {
    "duration": 23,
    "start_time": "2024-10-06T19:55:35.135Z"
   },
   {
    "duration": 18,
    "start_time": "2024-10-06T19:55:35.160Z"
   },
   {
    "duration": 44,
    "start_time": "2024-10-06T19:55:35.180Z"
   },
   {
    "duration": 9,
    "start_time": "2024-10-06T19:55:35.226Z"
   },
   {
    "duration": 12,
    "start_time": "2024-10-06T19:55:35.237Z"
   },
   {
    "duration": 11,
    "start_time": "2024-10-06T19:55:35.253Z"
   },
   {
    "duration": 16,
    "start_time": "2024-10-06T19:55:35.265Z"
   },
   {
    "duration": 10,
    "start_time": "2024-10-06T19:55:35.282Z"
   },
   {
    "duration": 40,
    "start_time": "2024-10-06T19:55:35.293Z"
   },
   {
    "duration": 8,
    "start_time": "2024-10-06T19:55:35.335Z"
   },
   {
    "duration": 7,
    "start_time": "2024-10-06T19:55:35.344Z"
   },
   {
    "duration": 8,
    "start_time": "2024-10-06T19:55:35.352Z"
   },
   {
    "duration": 4,
    "start_time": "2024-10-06T19:55:35.361Z"
   },
   {
    "duration": 73,
    "start_time": "2024-10-06T19:55:35.366Z"
   },
   {
    "duration": 8,
    "start_time": "2024-10-06T19:55:35.440Z"
   },
   {
    "duration": 14,
    "start_time": "2024-10-06T19:55:35.450Z"
   },
   {
    "duration": 120,
    "start_time": "2024-10-06T19:55:35.466Z"
   },
   {
    "duration": 2,
    "start_time": "2024-10-06T19:55:35.588Z"
   },
   {
    "duration": 7,
    "start_time": "2024-10-06T19:55:35.591Z"
   },
   {
    "duration": 199,
    "start_time": "2024-10-06T19:55:35.600Z"
   },
   {
    "duration": 8,
    "start_time": "2024-10-06T19:55:35.801Z"
   },
   {
    "duration": 203,
    "start_time": "2024-10-06T19:55:35.811Z"
   },
   {
    "duration": 11,
    "start_time": "2024-10-06T19:55:36.016Z"
   },
   {
    "duration": 108,
    "start_time": "2024-10-06T19:55:36.028Z"
   },
   {
    "duration": 9,
    "start_time": "2024-10-06T19:55:36.138Z"
   },
   {
    "duration": 1633,
    "start_time": "2024-10-06T19:55:36.148Z"
   },
   {
    "duration": 350,
    "start_time": "2024-10-06T19:55:37.782Z"
   },
   {
    "duration": 7,
    "start_time": "2024-10-06T19:55:38.134Z"
   },
   {
    "duration": 110,
    "start_time": "2024-10-06T19:55:38.142Z"
   },
   {
    "duration": 11,
    "start_time": "2024-10-06T19:55:38.254Z"
   },
   {
    "duration": 1644,
    "start_time": "2024-10-06T19:55:38.266Z"
   },
   {
    "duration": 219,
    "start_time": "2024-10-06T19:55:39.913Z"
   },
   {
    "duration": 5,
    "start_time": "2024-10-06T19:55:40.134Z"
   },
   {
    "duration": 103,
    "start_time": "2024-10-06T19:55:40.141Z"
   },
   {
    "duration": 12,
    "start_time": "2024-10-06T19:55:40.246Z"
   },
   {
    "duration": 1764,
    "start_time": "2024-10-06T19:55:40.260Z"
   },
   {
    "duration": 225,
    "start_time": "2024-10-06T19:55:42.025Z"
   },
   {
    "duration": 5,
    "start_time": "2024-10-06T19:55:42.252Z"
   },
   {
    "duration": 111,
    "start_time": "2024-10-06T19:55:42.259Z"
   },
   {
    "duration": 56,
    "start_time": "2024-10-06T19:56:16.828Z"
   },
   {
    "duration": 8,
    "start_time": "2024-10-06T19:56:41.113Z"
   },
   {
    "duration": 4,
    "start_time": "2024-10-06T19:58:41.553Z"
   },
   {
    "duration": 4,
    "start_time": "2024-10-06T20:07:05.809Z"
   },
   {
    "duration": 3,
    "start_time": "2024-10-06T20:07:11.804Z"
   },
   {
    "duration": 3,
    "start_time": "2024-10-06T20:07:23.321Z"
   },
   {
    "duration": 19,
    "start_time": "2024-10-06T20:07:39.397Z"
   },
   {
    "duration": 18,
    "start_time": "2024-10-06T20:07:59.035Z"
   },
   {
    "duration": 21,
    "start_time": "2024-10-06T20:09:22.066Z"
   },
   {
    "duration": 7,
    "start_time": "2024-10-06T20:10:27.450Z"
   },
   {
    "duration": 355,
    "start_time": "2024-10-06T20:11:57.037Z"
   },
   {
    "duration": 116,
    "start_time": "2024-10-06T20:12:12.050Z"
   },
   {
    "duration": 6,
    "start_time": "2024-10-06T20:12:29.978Z"
   },
   {
    "duration": 7,
    "start_time": "2024-10-06T20:12:49.619Z"
   },
   {
    "duration": 17,
    "start_time": "2024-10-06T20:16:03.432Z"
   },
   {
    "duration": 16,
    "start_time": "2024-10-06T20:16:17.378Z"
   },
   {
    "duration": 5,
    "start_time": "2024-10-06T20:16:24.248Z"
   },
   {
    "duration": 15,
    "start_time": "2024-10-06T20:16:41.938Z"
   },
   {
    "duration": 92,
    "start_time": "2024-10-06T20:16:49.336Z"
   },
   {
    "duration": 2488,
    "start_time": "2024-10-07T19:05:44.728Z"
   },
   {
    "duration": 235,
    "start_time": "2024-10-07T19:05:47.219Z"
   },
   {
    "duration": 28,
    "start_time": "2024-10-07T19:05:47.456Z"
   },
   {
    "duration": 5,
    "start_time": "2024-10-07T19:05:47.485Z"
   },
   {
    "duration": 6,
    "start_time": "2024-10-07T19:05:47.493Z"
   },
   {
    "duration": 8,
    "start_time": "2024-10-07T19:05:47.500Z"
   },
   {
    "duration": 19,
    "start_time": "2024-10-07T19:05:47.527Z"
   },
   {
    "duration": 12,
    "start_time": "2024-10-07T19:05:47.548Z"
   },
   {
    "duration": 5,
    "start_time": "2024-10-07T19:05:47.561Z"
   },
   {
    "duration": 5,
    "start_time": "2024-10-07T19:05:47.569Z"
   },
   {
    "duration": 61,
    "start_time": "2024-10-07T19:05:47.576Z"
   },
   {
    "duration": 8,
    "start_time": "2024-10-07T19:05:47.639Z"
   },
   {
    "duration": 30,
    "start_time": "2024-10-07T19:05:47.649Z"
   },
   {
    "duration": 5,
    "start_time": "2024-10-07T19:05:47.682Z"
   },
   {
    "duration": 50,
    "start_time": "2024-10-07T19:05:47.688Z"
   },
   {
    "duration": 10,
    "start_time": "2024-10-07T19:05:47.740Z"
   },
   {
    "duration": 16,
    "start_time": "2024-10-07T19:05:47.752Z"
   },
   {
    "duration": 17,
    "start_time": "2024-10-07T19:05:47.771Z"
   },
   {
    "duration": 50,
    "start_time": "2024-10-07T19:05:47.790Z"
   },
   {
    "duration": 14,
    "start_time": "2024-10-07T19:05:47.842Z"
   },
   {
    "duration": 35,
    "start_time": "2024-10-07T19:05:47.857Z"
   },
   {
    "duration": 9,
    "start_time": "2024-10-07T19:05:47.893Z"
   },
   {
    "duration": 20,
    "start_time": "2024-10-07T19:05:47.904Z"
   },
   {
    "duration": 33,
    "start_time": "2024-10-07T19:05:47.927Z"
   },
   {
    "duration": 25,
    "start_time": "2024-10-07T19:05:47.962Z"
   },
   {
    "duration": 40,
    "start_time": "2024-10-07T19:05:47.989Z"
   },
   {
    "duration": 9,
    "start_time": "2024-10-07T19:05:48.031Z"
   },
   {
    "duration": 13,
    "start_time": "2024-10-07T19:05:48.044Z"
   },
   {
    "duration": 11,
    "start_time": "2024-10-07T19:05:48.059Z"
   },
   {
    "duration": 17,
    "start_time": "2024-10-07T19:05:48.071Z"
   },
   {
    "duration": 35,
    "start_time": "2024-10-07T19:05:48.089Z"
   },
   {
    "duration": 13,
    "start_time": "2024-10-07T19:05:48.126Z"
   },
   {
    "duration": 7,
    "start_time": "2024-10-07T19:05:48.141Z"
   },
   {
    "duration": 7,
    "start_time": "2024-10-07T19:05:48.150Z"
   },
   {
    "duration": 8,
    "start_time": "2024-10-07T19:05:48.158Z"
   },
   {
    "duration": 4,
    "start_time": "2024-10-07T19:05:48.168Z"
   },
   {
    "duration": 85,
    "start_time": "2024-10-07T19:05:48.174Z"
   },
   {
    "duration": 8,
    "start_time": "2024-10-07T19:05:48.262Z"
   },
   {
    "duration": 15,
    "start_time": "2024-10-07T19:05:48.272Z"
   },
   {
    "duration": 148,
    "start_time": "2024-10-07T19:05:48.288Z"
   },
   {
    "duration": 2,
    "start_time": "2024-10-07T19:05:48.443Z"
   },
   {
    "duration": 285,
    "start_time": "2024-10-07T19:05:48.447Z"
   },
   {
    "duration": 0,
    "start_time": "2024-10-07T19:05:48.734Z"
   },
   {
    "duration": 0,
    "start_time": "2024-10-07T19:05:48.737Z"
   },
   {
    "duration": 0,
    "start_time": "2024-10-07T19:05:48.738Z"
   },
   {
    "duration": 0,
    "start_time": "2024-10-07T19:05:48.739Z"
   },
   {
    "duration": 0,
    "start_time": "2024-10-07T19:05:48.741Z"
   },
   {
    "duration": 0,
    "start_time": "2024-10-07T19:05:48.742Z"
   },
   {
    "duration": 0,
    "start_time": "2024-10-07T19:05:48.744Z"
   },
   {
    "duration": 0,
    "start_time": "2024-10-07T19:05:48.745Z"
   },
   {
    "duration": 0,
    "start_time": "2024-10-07T19:05:48.746Z"
   },
   {
    "duration": 0,
    "start_time": "2024-10-07T19:05:48.747Z"
   },
   {
    "duration": 0,
    "start_time": "2024-10-07T19:05:48.748Z"
   },
   {
    "duration": 0,
    "start_time": "2024-10-07T19:05:48.750Z"
   },
   {
    "duration": 0,
    "start_time": "2024-10-07T19:05:48.751Z"
   },
   {
    "duration": 0,
    "start_time": "2024-10-07T19:05:48.751Z"
   },
   {
    "duration": 0,
    "start_time": "2024-10-07T19:05:48.753Z"
   },
   {
    "duration": 0,
    "start_time": "2024-10-07T19:05:48.755Z"
   },
   {
    "duration": 0,
    "start_time": "2024-10-07T19:05:48.757Z"
   },
   {
    "duration": 1,
    "start_time": "2024-10-07T19:05:48.758Z"
   },
   {
    "duration": 0,
    "start_time": "2024-10-07T19:05:48.760Z"
   },
   {
    "duration": 0,
    "start_time": "2024-10-07T19:05:48.761Z"
   },
   {
    "duration": 0,
    "start_time": "2024-10-07T19:05:48.763Z"
   },
   {
    "duration": 0,
    "start_time": "2024-10-07T19:05:48.764Z"
   },
   {
    "duration": 0,
    "start_time": "2024-10-07T19:05:48.766Z"
   },
   {
    "duration": 0,
    "start_time": "2024-10-07T19:05:48.768Z"
   },
   {
    "duration": 15,
    "start_time": "2024-10-07T19:05:57.373Z"
   },
   {
    "duration": 19,
    "start_time": "2024-10-07T19:06:16.576Z"
   },
   {
    "duration": 108,
    "start_time": "2024-10-07T19:06:30.441Z"
   },
   {
    "duration": 2550,
    "start_time": "2024-10-08T07:36:17.079Z"
   },
   {
    "duration": 243,
    "start_time": "2024-10-08T07:36:20.443Z"
   },
   {
    "duration": 9,
    "start_time": "2024-10-08T07:36:55.773Z"
   },
   {
    "duration": 29,
    "start_time": "2024-10-08T07:37:33.033Z"
   },
   {
    "duration": 6,
    "start_time": "2024-10-08T07:37:36.239Z"
   },
   {
    "duration": 5,
    "start_time": "2024-10-08T07:40:55.495Z"
   },
   {
    "duration": 4,
    "start_time": "2024-10-08T07:44:02.723Z"
   },
   {
    "duration": 3,
    "start_time": "2024-10-08T07:49:58.044Z"
   },
   {
    "duration": 179,
    "start_time": "2024-10-08T07:49:58.053Z"
   },
   {
    "duration": 24,
    "start_time": "2024-10-08T07:49:58.233Z"
   },
   {
    "duration": 5,
    "start_time": "2024-10-08T07:49:58.259Z"
   },
   {
    "duration": 4,
    "start_time": "2024-10-08T07:49:58.267Z"
   },
   {
    "duration": 6,
    "start_time": "2024-10-08T07:49:58.273Z"
   },
   {
    "duration": 40,
    "start_time": "2024-10-08T07:49:58.281Z"
   },
   {
    "duration": 10,
    "start_time": "2024-10-08T07:49:58.323Z"
   },
   {
    "duration": 6,
    "start_time": "2024-10-08T07:49:58.334Z"
   },
   {
    "duration": 5,
    "start_time": "2024-10-08T07:49:58.342Z"
   },
   {
    "duration": 28,
    "start_time": "2024-10-08T07:49:58.349Z"
   },
   {
    "duration": 8,
    "start_time": "2024-10-08T07:49:58.409Z"
   },
   {
    "duration": 30,
    "start_time": "2024-10-08T07:49:58.419Z"
   },
   {
    "duration": 4,
    "start_time": "2024-10-08T07:49:58.452Z"
   },
   {
    "duration": 18,
    "start_time": "2024-10-08T07:49:58.458Z"
   },
   {
    "duration": 35,
    "start_time": "2024-10-08T07:49:58.478Z"
   },
   {
    "duration": 15,
    "start_time": "2024-10-08T07:49:58.515Z"
   },
   {
    "duration": 18,
    "start_time": "2024-10-08T07:49:58.532Z"
   },
   {
    "duration": 27,
    "start_time": "2024-10-08T07:49:58.551Z"
   },
   {
    "duration": 37,
    "start_time": "2024-10-08T07:49:58.579Z"
   },
   {
    "duration": 39,
    "start_time": "2024-10-08T07:49:58.618Z"
   },
   {
    "duration": 12,
    "start_time": "2024-10-08T07:50:00.872Z"
   },
   {
    "duration": 5,
    "start_time": "2024-10-08T07:50:11.252Z"
   },
   {
    "duration": 22,
    "start_time": "2024-10-08T07:52:23.671Z"
   },
   {
    "duration": 17,
    "start_time": "2024-10-08T07:55:08.539Z"
   },
   {
    "duration": 15,
    "start_time": "2024-10-08T07:55:10.819Z"
   },
   {
    "duration": 5,
    "start_time": "2024-10-08T07:55:28.470Z"
   },
   {
    "duration": 4,
    "start_time": "2024-10-08T07:56:34.811Z"
   },
   {
    "duration": 9,
    "start_time": "2024-10-08T08:02:11.744Z"
   },
   {
    "duration": 210,
    "start_time": "2024-10-08T08:02:21.687Z"
   },
   {
    "duration": 353,
    "start_time": "2024-10-08T08:02:28.536Z"
   },
   {
    "duration": 14,
    "start_time": "2024-10-08T08:02:36.217Z"
   },
   {
    "duration": 13,
    "start_time": "2024-10-08T08:02:37.663Z"
   },
   {
    "duration": 20,
    "start_time": "2024-10-08T08:02:39.903Z"
   },
   {
    "duration": 12,
    "start_time": "2024-10-08T08:02:41.304Z"
   },
   {
    "duration": 12,
    "start_time": "2024-10-08T08:02:43.198Z"
   },
   {
    "duration": 9,
    "start_time": "2024-10-08T08:02:45.304Z"
   },
   {
    "duration": 11,
    "start_time": "2024-10-08T08:02:47.311Z"
   },
   {
    "duration": 10,
    "start_time": "2024-10-08T08:02:49.563Z"
   },
   {
    "duration": 5,
    "start_time": "2024-10-08T08:02:58.442Z"
   },
   {
    "duration": 6,
    "start_time": "2024-10-08T08:03:05.467Z"
   },
   {
    "duration": 53,
    "start_time": "2024-10-08T08:03:26.542Z"
   },
   {
    "duration": 14,
    "start_time": "2024-10-08T08:15:34.123Z"
   },
   {
    "duration": 14,
    "start_time": "2024-10-08T08:17:37.052Z"
   },
   {
    "duration": 20,
    "start_time": "2024-10-08T08:17:41.268Z"
   },
   {
    "duration": 14,
    "start_time": "2024-10-08T08:17:48.265Z"
   },
   {
    "duration": 10,
    "start_time": "2024-10-08T08:17:51.567Z"
   },
   {
    "duration": 18,
    "start_time": "2024-10-08T08:17:54.142Z"
   },
   {
    "duration": 103,
    "start_time": "2024-10-08T08:17:56.463Z"
   },
   {
    "duration": 8,
    "start_time": "2024-10-08T08:18:02.393Z"
   },
   {
    "duration": 14,
    "start_time": "2024-10-08T08:18:05.148Z"
   },
   {
    "duration": 4,
    "start_time": "2024-10-08T08:18:29.897Z"
   },
   {
    "duration": 191,
    "start_time": "2024-10-08T08:18:50.593Z"
   },
   {
    "duration": 16,
    "start_time": "2024-10-08T08:18:54.456Z"
   },
   {
    "duration": 5,
    "start_time": "2024-10-08T08:19:06.019Z"
   },
   {
    "duration": 13,
    "start_time": "2024-10-08T08:19:09.987Z"
   },
   {
    "duration": 14,
    "start_time": "2024-10-08T08:20:24.442Z"
   },
   {
    "duration": 112,
    "start_time": "2024-10-08T08:20:29.749Z"
   },
   {
    "duration": 102,
    "start_time": "2024-10-08T08:23:59.580Z"
   },
   {
    "duration": 16,
    "start_time": "2024-10-08T08:25:20.003Z"
   },
   {
    "duration": 14,
    "start_time": "2024-10-08T08:25:23.677Z"
   },
   {
    "duration": 8,
    "start_time": "2024-10-08T08:25:33.364Z"
   },
   {
    "duration": 8,
    "start_time": "2024-10-08T08:25:36.957Z"
   },
   {
    "duration": 19,
    "start_time": "2024-10-08T08:30:09.175Z"
   },
   {
    "duration": 7,
    "start_time": "2024-10-08T08:30:15.632Z"
   },
   {
    "duration": 108,
    "start_time": "2024-10-08T08:30:20.609Z"
   },
   {
    "duration": 4,
    "start_time": "2024-10-08T08:31:42.349Z"
   },
   {
    "duration": 2404,
    "start_time": "2024-10-09T16:53:33.096Z"
   },
   {
    "duration": 278,
    "start_time": "2024-10-09T16:53:35.502Z"
   },
   {
    "duration": 28,
    "start_time": "2024-10-09T16:53:35.781Z"
   },
   {
    "duration": 5,
    "start_time": "2024-10-09T16:53:35.810Z"
   },
   {
    "duration": 4,
    "start_time": "2024-10-09T16:53:35.818Z"
   },
   {
    "duration": 4,
    "start_time": "2024-10-09T16:53:35.824Z"
   },
   {
    "duration": 15,
    "start_time": "2024-10-09T16:53:35.830Z"
   },
   {
    "duration": 9,
    "start_time": "2024-10-09T16:53:35.847Z"
   },
   {
    "duration": 5,
    "start_time": "2024-10-09T16:53:35.857Z"
   },
   {
    "duration": 5,
    "start_time": "2024-10-09T16:53:35.863Z"
   },
   {
    "duration": 56,
    "start_time": "2024-10-09T16:53:35.869Z"
   },
   {
    "duration": 7,
    "start_time": "2024-10-09T16:53:35.927Z"
   },
   {
    "duration": 31,
    "start_time": "2024-10-09T16:53:35.936Z"
   },
   {
    "duration": 4,
    "start_time": "2024-10-09T16:53:35.970Z"
   },
   {
    "duration": 17,
    "start_time": "2024-10-09T16:53:35.976Z"
   },
   {
    "duration": 6,
    "start_time": "2024-10-09T16:53:36.024Z"
   },
   {
    "duration": 15,
    "start_time": "2024-10-09T16:53:36.032Z"
   },
   {
    "duration": 16,
    "start_time": "2024-10-09T16:53:36.049Z"
   },
   {
    "duration": 25,
    "start_time": "2024-10-09T16:53:36.066Z"
   },
   {
    "duration": 35,
    "start_time": "2024-10-09T16:53:36.093Z"
   },
   {
    "duration": 33,
    "start_time": "2024-10-09T16:53:36.130Z"
   },
   {
    "duration": 5,
    "start_time": "2024-10-09T16:53:36.165Z"
   },
   {
    "duration": 3,
    "start_time": "2024-10-09T16:53:36.172Z"
   },
   {
    "duration": 47,
    "start_time": "2024-10-09T16:53:36.177Z"
   },
   {
    "duration": 17,
    "start_time": "2024-10-09T16:53:36.226Z"
   },
   {
    "duration": 14,
    "start_time": "2024-10-09T16:53:36.244Z"
   },
   {
    "duration": 7,
    "start_time": "2024-10-09T16:53:36.260Z"
   },
   {
    "duration": 12,
    "start_time": "2024-10-09T16:53:36.269Z"
   },
   {
    "duration": 41,
    "start_time": "2024-10-09T16:53:36.283Z"
   },
   {
    "duration": 15,
    "start_time": "2024-10-09T16:53:36.326Z"
   },
   {
    "duration": 11,
    "start_time": "2024-10-09T16:53:36.343Z"
   },
   {
    "duration": 11,
    "start_time": "2024-10-09T16:53:36.355Z"
   },
   {
    "duration": 8,
    "start_time": "2024-10-09T16:53:36.368Z"
   },
   {
    "duration": 8,
    "start_time": "2024-10-09T16:53:36.377Z"
   },
   {
    "duration": 40,
    "start_time": "2024-10-09T16:53:36.386Z"
   },
   {
    "duration": 4,
    "start_time": "2024-10-09T16:53:36.429Z"
   },
   {
    "duration": 47,
    "start_time": "2024-10-09T16:53:36.434Z"
   },
   {
    "duration": 8,
    "start_time": "2024-10-09T16:53:36.482Z"
   },
   {
    "duration": 43,
    "start_time": "2024-10-09T16:53:36.491Z"
   },
   {
    "duration": 208,
    "start_time": "2024-10-09T16:53:43.447Z"
   },
   {
    "duration": 13,
    "start_time": "2024-10-09T16:54:15.672Z"
   },
   {
    "duration": 13,
    "start_time": "2024-10-09T16:55:11.904Z"
   },
   {
    "duration": 105,
    "start_time": "2024-10-09T16:55:20.677Z"
   },
   {
    "duration": 8,
    "start_time": "2024-10-09T16:55:25.485Z"
   },
   {
    "duration": 192,
    "start_time": "2024-10-09T16:55:41.710Z"
   },
   {
    "duration": 15,
    "start_time": "2024-10-09T16:59:56.786Z"
   },
   {
    "duration": 10,
    "start_time": "2024-10-09T17:00:10.685Z"
   },
   {
    "duration": 16,
    "start_time": "2024-10-09T17:00:21.815Z"
   },
   {
    "duration": 21,
    "start_time": "2024-10-09T17:00:38.983Z"
   },
   {
    "duration": 19,
    "start_time": "2024-10-09T17:01:48.824Z"
   },
   {
    "duration": 9,
    "start_time": "2024-10-09T17:02:21.381Z"
   },
   {
    "duration": 13,
    "start_time": "2024-10-09T17:04:11.616Z"
   },
   {
    "duration": 13,
    "start_time": "2024-10-09T17:05:28.505Z"
   },
   {
    "duration": 43,
    "start_time": "2024-10-09T17:05:47.064Z"
   },
   {
    "duration": 661,
    "start_time": "2024-10-09T17:08:09.168Z"
   },
   {
    "duration": 9,
    "start_time": "2024-10-09T17:08:50.009Z"
   },
   {
    "duration": 12,
    "start_time": "2024-10-09T17:08:54.764Z"
   },
   {
    "duration": 41,
    "start_time": "2024-10-09T17:09:10.014Z"
   },
   {
    "duration": 69,
    "start_time": "2024-10-09T17:09:39.820Z"
   },
   {
    "duration": 12,
    "start_time": "2024-10-09T17:09:46.322Z"
   },
   {
    "duration": 14,
    "start_time": "2024-10-09T17:09:54.957Z"
   },
   {
    "duration": 14,
    "start_time": "2024-10-09T17:11:18.693Z"
   },
   {
    "duration": 105,
    "start_time": "2024-10-09T17:11:26.598Z"
   },
   {
    "duration": 167,
    "start_time": "2024-10-09T17:11:39.459Z"
   },
   {
    "duration": 149,
    "start_time": "2024-10-09T17:12:14.060Z"
   },
   {
    "duration": 179,
    "start_time": "2024-10-09T19:04:57.041Z"
   },
   {
    "duration": 2800,
    "start_time": "2024-10-09T19:05:01.035Z"
   },
   {
    "duration": 295,
    "start_time": "2024-10-09T19:05:03.838Z"
   },
   {
    "duration": 40,
    "start_time": "2024-10-09T19:05:04.134Z"
   },
   {
    "duration": 5,
    "start_time": "2024-10-09T19:05:04.176Z"
   },
   {
    "duration": 4,
    "start_time": "2024-10-09T19:05:04.184Z"
   },
   {
    "duration": 5,
    "start_time": "2024-10-09T19:05:04.190Z"
   },
   {
    "duration": 16,
    "start_time": "2024-10-09T19:05:04.197Z"
   },
   {
    "duration": 30,
    "start_time": "2024-10-09T19:05:04.214Z"
   },
   {
    "duration": 9,
    "start_time": "2024-10-09T19:05:04.246Z"
   },
   {
    "duration": 7,
    "start_time": "2024-10-09T19:05:04.257Z"
   },
   {
    "duration": 32,
    "start_time": "2024-10-09T19:05:04.267Z"
   },
   {
    "duration": 7,
    "start_time": "2024-10-09T19:05:04.300Z"
   },
   {
    "duration": 69,
    "start_time": "2024-10-09T19:05:04.309Z"
   },
   {
    "duration": 7,
    "start_time": "2024-10-09T19:05:04.385Z"
   },
   {
    "duration": 20,
    "start_time": "2024-10-09T19:05:04.395Z"
   },
   {
    "duration": 27,
    "start_time": "2024-10-09T19:05:04.417Z"
   },
   {
    "duration": 33,
    "start_time": "2024-10-09T19:05:04.445Z"
   },
   {
    "duration": 16,
    "start_time": "2024-10-09T19:05:04.481Z"
   },
   {
    "duration": 25,
    "start_time": "2024-10-09T19:05:04.499Z"
   },
   {
    "duration": 32,
    "start_time": "2024-10-09T19:05:04.526Z"
   },
   {
    "duration": 43,
    "start_time": "2024-10-09T19:05:04.560Z"
   },
   {
    "duration": 6,
    "start_time": "2024-10-09T19:05:04.605Z"
   },
   {
    "duration": 4,
    "start_time": "2024-10-09T19:05:04.614Z"
   },
   {
    "duration": 43,
    "start_time": "2024-10-09T19:05:04.621Z"
   },
   {
    "duration": 25,
    "start_time": "2024-10-09T19:05:04.666Z"
   },
   {
    "duration": 14,
    "start_time": "2024-10-09T19:05:04.693Z"
   },
   {
    "duration": 8,
    "start_time": "2024-10-09T19:05:04.709Z"
   },
   {
    "duration": 19,
    "start_time": "2024-10-09T19:05:04.744Z"
   },
   {
    "duration": 15,
    "start_time": "2024-10-09T19:05:04.768Z"
   },
   {
    "duration": 17,
    "start_time": "2024-10-09T19:05:04.785Z"
   },
   {
    "duration": 11,
    "start_time": "2024-10-09T19:05:04.804Z"
   },
   {
    "duration": 28,
    "start_time": "2024-10-09T19:05:04.816Z"
   },
   {
    "duration": 11,
    "start_time": "2024-10-09T19:05:04.845Z"
   },
   {
    "duration": 9,
    "start_time": "2024-10-09T19:05:04.858Z"
   },
   {
    "duration": 21,
    "start_time": "2024-10-09T19:05:04.869Z"
   },
   {
    "duration": 5,
    "start_time": "2024-10-09T19:05:04.891Z"
   },
   {
    "duration": 71,
    "start_time": "2024-10-09T19:05:04.899Z"
   },
   {
    "duration": 9,
    "start_time": "2024-10-09T19:05:04.972Z"
   },
   {
    "duration": 14,
    "start_time": "2024-10-09T19:05:04.983Z"
   },
   {
    "duration": 131,
    "start_time": "2024-10-09T19:05:04.999Z"
   },
   {
    "duration": 2,
    "start_time": "2024-10-09T19:05:05.135Z"
   },
   {
    "duration": 28,
    "start_time": "2024-10-09T19:05:05.138Z"
   },
   {
    "duration": 192,
    "start_time": "2024-10-09T19:05:05.169Z"
   },
   {
    "duration": 7,
    "start_time": "2024-10-09T19:05:35.826Z"
   },
   {
    "duration": 28,
    "start_time": "2024-10-09T19:06:35.750Z"
   },
   {
    "duration": 8,
    "start_time": "2024-10-09T19:08:59.393Z"
   },
   {
    "duration": 85,
    "start_time": "2024-10-09T19:09:14.624Z"
   },
   {
    "duration": 216,
    "start_time": "2024-10-09T19:09:22.024Z"
   },
   {
    "duration": 433,
    "start_time": "2024-10-09T19:12:46.917Z"
   },
   {
    "duration": 52,
    "start_time": "2024-10-09T19:14:51.635Z"
   },
   {
    "duration": 13,
    "start_time": "2024-10-09T19:15:08.523Z"
   },
   {
    "duration": 224,
    "start_time": "2024-10-09T19:15:19.210Z"
   },
   {
    "duration": 471,
    "start_time": "2024-10-09T19:15:40.236Z"
   },
   {
    "duration": 222,
    "start_time": "2024-10-09T19:16:31.527Z"
   },
   {
    "duration": 13,
    "start_time": "2024-10-09T19:16:45.005Z"
   },
   {
    "duration": 366,
    "start_time": "2024-10-09T19:16:49.113Z"
   },
   {
    "duration": 7,
    "start_time": "2024-10-09T19:16:54.646Z"
   },
   {
    "duration": 132,
    "start_time": "2024-10-09T19:17:47.412Z"
   },
   {
    "duration": 52,
    "start_time": "2024-10-09T19:22:23.128Z"
   },
   {
    "duration": 42,
    "start_time": "2024-10-09T19:22:31.602Z"
   },
   {
    "duration": 13,
    "start_time": "2024-10-09T19:23:28.907Z"
   },
   {
    "duration": 285,
    "start_time": "2024-10-09T19:23:32.844Z"
   },
   {
    "duration": 131,
    "start_time": "2024-10-09T19:24:10.139Z"
   },
   {
    "duration": 11,
    "start_time": "2024-10-09T19:25:58.421Z"
   },
   {
    "duration": 1771,
    "start_time": "2024-10-09T19:26:02.934Z"
   },
   {
    "duration": 32,
    "start_time": "2024-10-09T19:27:41.573Z"
   },
   {
    "duration": 18,
    "start_time": "2024-10-09T19:28:26.368Z"
   },
   {
    "duration": 150,
    "start_time": "2024-10-09T19:28:53.013Z"
   },
   {
    "duration": 236,
    "start_time": "2024-10-09T19:28:53.165Z"
   },
   {
    "duration": 222,
    "start_time": "2024-10-09T19:29:09.676Z"
   },
   {
    "duration": 6,
    "start_time": "2024-10-09T19:31:31.739Z"
   },
   {
    "duration": 101,
    "start_time": "2024-10-09T19:31:40.921Z"
   },
   {
    "duration": 19,
    "start_time": "2024-10-09T19:45:17.787Z"
   },
   {
    "duration": 21,
    "start_time": "2024-10-09T19:45:45.317Z"
   },
   {
    "duration": 1585,
    "start_time": "2024-10-09T19:46:08.866Z"
   },
   {
    "duration": 1556,
    "start_time": "2024-10-09T19:46:19.927Z"
   },
   {
    "duration": 5,
    "start_time": "2024-10-09T19:46:33.946Z"
   },
   {
    "duration": 1617,
    "start_time": "2024-10-09T19:46:41.489Z"
   },
   {
    "duration": 549,
    "start_time": "2024-10-09T19:46:59.206Z"
   },
   {
    "duration": 3,
    "start_time": "2024-10-09T19:47:09.696Z"
   },
   {
    "duration": 1465,
    "start_time": "2024-10-09T19:47:15.595Z"
   },
   {
    "duration": 697,
    "start_time": "2024-10-09T19:47:38.583Z"
   },
   {
    "duration": 1995,
    "start_time": "2024-10-09T19:54:06.259Z"
   },
   {
    "duration": 277,
    "start_time": "2024-10-09T19:54:30.058Z"
   },
   {
    "duration": 6,
    "start_time": "2024-10-09T19:54:47.498Z"
   },
   {
    "duration": 125,
    "start_time": "2024-10-09T19:55:13.147Z"
   },
   {
    "duration": 44,
    "start_time": "2024-10-09T20:03:12.743Z"
   },
   {
    "duration": 53,
    "start_time": "2024-10-09T20:03:51.808Z"
   },
   {
    "duration": 16,
    "start_time": "2024-10-09T20:04:16.770Z"
   },
   {
    "duration": 1565,
    "start_time": "2024-10-09T20:04:32.847Z"
   },
   {
    "duration": 1903,
    "start_time": "2024-10-09T20:04:54.872Z"
   },
   {
    "duration": 198,
    "start_time": "2024-10-09T20:06:00.432Z"
   },
   {
    "duration": 25,
    "start_time": "2024-10-09T20:19:45.623Z"
   },
   {
    "duration": 1485,
    "start_time": "2024-10-09T20:19:57.773Z"
   },
   {
    "duration": 16,
    "start_time": "2024-10-09T20:23:29.155Z"
   },
   {
    "duration": 2613,
    "start_time": "2024-10-10T00:12:42.298Z"
   },
   {
    "duration": 291,
    "start_time": "2024-10-10T00:12:44.913Z"
   },
   {
    "duration": 29,
    "start_time": "2024-10-10T00:12:45.206Z"
   },
   {
    "duration": 6,
    "start_time": "2024-10-10T00:12:45.237Z"
   },
   {
    "duration": 4,
    "start_time": "2024-10-10T00:12:45.246Z"
   },
   {
    "duration": 6,
    "start_time": "2024-10-10T00:12:45.252Z"
   },
   {
    "duration": 17,
    "start_time": "2024-10-10T00:12:45.259Z"
   },
   {
    "duration": 11,
    "start_time": "2024-10-10T00:12:45.278Z"
   },
   {
    "duration": 45,
    "start_time": "2024-10-10T00:12:45.291Z"
   },
   {
    "duration": 7,
    "start_time": "2024-10-10T00:12:45.338Z"
   },
   {
    "duration": 30,
    "start_time": "2024-10-10T00:12:45.348Z"
   },
   {
    "duration": 8,
    "start_time": "2024-10-10T00:12:45.380Z"
   },
   {
    "duration": 64,
    "start_time": "2024-10-10T00:12:45.389Z"
   },
   {
    "duration": 5,
    "start_time": "2024-10-10T00:12:45.456Z"
   },
   {
    "duration": 19,
    "start_time": "2024-10-10T00:12:45.463Z"
   },
   {
    "duration": 6,
    "start_time": "2024-10-10T00:12:45.484Z"
   },
   {
    "duration": 44,
    "start_time": "2024-10-10T00:12:45.492Z"
   },
   {
    "duration": 18,
    "start_time": "2024-10-10T00:12:45.538Z"
   },
   {
    "duration": 26,
    "start_time": "2024-10-10T00:12:45.558Z"
   },
   {
    "duration": 8,
    "start_time": "2024-10-10T00:12:45.586Z"
   },
   {
    "duration": 68,
    "start_time": "2024-10-10T00:12:45.595Z"
   },
   {
    "duration": 7,
    "start_time": "2024-10-10T00:12:45.665Z"
   },
   {
    "duration": 4,
    "start_time": "2024-10-10T00:12:45.673Z"
   },
   {
    "duration": 23,
    "start_time": "2024-10-10T00:12:45.679Z"
   },
   {
    "duration": 43,
    "start_time": "2024-10-10T00:12:45.704Z"
   },
   {
    "duration": 14,
    "start_time": "2024-10-10T00:12:45.749Z"
   },
   {
    "duration": 8,
    "start_time": "2024-10-10T00:12:45.765Z"
   },
   {
    "duration": 14,
    "start_time": "2024-10-10T00:12:45.777Z"
   },
   {
    "duration": 39,
    "start_time": "2024-10-10T00:12:45.792Z"
   },
   {
    "duration": 19,
    "start_time": "2024-10-10T00:12:45.833Z"
   },
   {
    "duration": 12,
    "start_time": "2024-10-10T00:12:45.853Z"
   },
   {
    "duration": 11,
    "start_time": "2024-10-10T00:12:45.867Z"
   },
   {
    "duration": 8,
    "start_time": "2024-10-10T00:12:45.880Z"
   },
   {
    "duration": 9,
    "start_time": "2024-10-10T00:12:45.889Z"
   },
   {
    "duration": 9,
    "start_time": "2024-10-10T00:12:45.931Z"
   },
   {
    "duration": 5,
    "start_time": "2024-10-10T00:12:45.942Z"
   },
   {
    "duration": 52,
    "start_time": "2024-10-10T00:12:45.949Z"
   },
   {
    "duration": 35,
    "start_time": "2024-10-10T00:12:46.003Z"
   },
   {
    "duration": 18,
    "start_time": "2024-10-10T00:12:46.041Z"
   },
   {
    "duration": 134,
    "start_time": "2024-10-10T00:12:46.061Z"
   },
   {
    "duration": 2,
    "start_time": "2024-10-10T00:12:46.200Z"
   },
   {
    "duration": 14,
    "start_time": "2024-10-10T00:12:46.204Z"
   },
   {
    "duration": 180,
    "start_time": "2024-10-10T00:12:46.231Z"
   },
   {
    "duration": 2,
    "start_time": "2024-10-10T00:12:46.414Z"
   },
   {
    "duration": 25,
    "start_time": "2024-10-10T00:12:46.418Z"
   },
   {
    "duration": 251,
    "start_time": "2024-10-10T00:12:46.445Z"
   },
   {
    "duration": 6,
    "start_time": "2024-10-10T00:12:46.698Z"
   },
   {
    "duration": 118,
    "start_time": "2024-10-10T00:12:46.706Z"
   },
   {
    "duration": 79,
    "start_time": "2024-10-10T00:12:46.831Z"
   },
   {
    "duration": 174,
    "start_time": "2024-10-10T00:12:46.912Z"
   },
   {
    "duration": 225,
    "start_time": "2024-10-10T00:12:47.088Z"
   },
   {
    "duration": 6,
    "start_time": "2024-10-10T00:12:47.315Z"
   },
   {
    "duration": 113,
    "start_time": "2024-10-10T00:12:47.323Z"
   },
   {
    "duration": 16,
    "start_time": "2024-10-10T00:12:47.438Z"
   },
   {
    "duration": 137,
    "start_time": "2024-10-10T00:13:57.595Z"
   },
   {
    "duration": 13,
    "start_time": "2024-10-10T00:14:13.358Z"
   },
   {
    "duration": 15,
    "start_time": "2024-10-10T00:14:39.022Z"
   },
   {
    "duration": 15,
    "start_time": "2024-10-10T00:15:07.605Z"
   },
   {
    "duration": 13,
    "start_time": "2024-10-10T00:15:57.474Z"
   },
   {
    "duration": 2445,
    "start_time": "2024-10-11T18:43:56.305Z"
   },
   {
    "duration": 258,
    "start_time": "2024-10-11T18:43:58.752Z"
   },
   {
    "duration": 29,
    "start_time": "2024-10-11T18:43:59.012Z"
   },
   {
    "duration": 5,
    "start_time": "2024-10-11T18:43:59.042Z"
   },
   {
    "duration": 5,
    "start_time": "2024-10-11T18:43:59.049Z"
   },
   {
    "duration": 5,
    "start_time": "2024-10-11T18:43:59.056Z"
   },
   {
    "duration": 48,
    "start_time": "2024-10-11T18:43:59.063Z"
   },
   {
    "duration": 10,
    "start_time": "2024-10-11T18:43:59.114Z"
   },
   {
    "duration": 6,
    "start_time": "2024-10-11T18:43:59.125Z"
   },
   {
    "duration": 5,
    "start_time": "2024-10-11T18:43:59.134Z"
   },
   {
    "duration": 28,
    "start_time": "2024-10-11T18:43:59.141Z"
   },
   {
    "duration": 7,
    "start_time": "2024-10-11T18:43:59.171Z"
   },
   {
    "duration": 64,
    "start_time": "2024-10-11T18:43:59.180Z"
   },
   {
    "duration": 5,
    "start_time": "2024-10-11T18:43:59.247Z"
   },
   {
    "duration": 19,
    "start_time": "2024-10-11T18:43:59.253Z"
   },
   {
    "duration": 7,
    "start_time": "2024-10-11T18:43:59.273Z"
   },
   {
    "duration": 15,
    "start_time": "2024-10-11T18:43:59.313Z"
   },
   {
    "duration": 16,
    "start_time": "2024-10-11T18:43:59.330Z"
   },
   {
    "duration": 25,
    "start_time": "2024-10-11T18:43:59.348Z"
   },
   {
    "duration": 7,
    "start_time": "2024-10-11T18:43:59.374Z"
   },
   {
    "duration": 36,
    "start_time": "2024-10-11T18:43:59.411Z"
   },
   {
    "duration": 6,
    "start_time": "2024-10-11T18:43:59.448Z"
   },
   {
    "duration": 3,
    "start_time": "2024-10-11T18:43:59.456Z"
   },
   {
    "duration": 22,
    "start_time": "2024-10-11T18:43:59.460Z"
   },
   {
    "duration": 42,
    "start_time": "2024-10-11T18:43:59.484Z"
   },
   {
    "duration": 15,
    "start_time": "2024-10-11T18:43:59.528Z"
   },
   {
    "duration": 8,
    "start_time": "2024-10-11T18:43:59.546Z"
   },
   {
    "duration": 13,
    "start_time": "2024-10-11T18:43:59.556Z"
   },
   {
    "duration": 41,
    "start_time": "2024-10-11T18:43:59.571Z"
   },
   {
    "duration": 18,
    "start_time": "2024-10-11T18:43:59.614Z"
   },
   {
    "duration": 12,
    "start_time": "2024-10-11T18:43:59.633Z"
   },
   {
    "duration": 10,
    "start_time": "2024-10-11T18:43:59.647Z"
   },
   {
    "duration": 8,
    "start_time": "2024-10-11T18:43:59.658Z"
   },
   {
    "duration": 8,
    "start_time": "2024-10-11T18:43:59.667Z"
   },
   {
    "duration": 42,
    "start_time": "2024-10-11T18:43:59.677Z"
   },
   {
    "duration": 4,
    "start_time": "2024-10-11T18:43:59.720Z"
   },
   {
    "duration": 47,
    "start_time": "2024-10-11T18:43:59.726Z"
   },
   {
    "duration": 9,
    "start_time": "2024-10-11T18:43:59.774Z"
   },
   {
    "duration": 41,
    "start_time": "2024-10-11T18:43:59.785Z"
   },
   {
    "duration": 119,
    "start_time": "2024-10-11T18:43:59.828Z"
   },
   {
    "duration": 2,
    "start_time": "2024-10-11T18:43:59.955Z"
   },
   {
    "duration": 26,
    "start_time": "2024-10-11T18:43:59.959Z"
   },
   {
    "duration": 173,
    "start_time": "2024-10-11T18:43:59.986Z"
   },
   {
    "duration": 2,
    "start_time": "2024-10-11T18:44:00.161Z"
   },
   {
    "duration": 13,
    "start_time": "2024-10-11T18:44:00.165Z"
   },
   {
    "duration": 259,
    "start_time": "2024-10-11T18:44:00.179Z"
   },
   {
    "duration": 6,
    "start_time": "2024-10-11T18:44:00.440Z"
   },
   {
    "duration": 117,
    "start_time": "2024-10-11T18:44:00.448Z"
   },
   {
    "duration": 80,
    "start_time": "2024-10-11T18:44:00.567Z"
   },
   {
    "duration": 157,
    "start_time": "2024-10-11T18:44:00.649Z"
   },
   {
    "duration": 223,
    "start_time": "2024-10-11T18:44:00.812Z"
   },
   {
    "duration": 6,
    "start_time": "2024-10-11T18:44:01.037Z"
   },
   {
    "duration": 120,
    "start_time": "2024-10-11T18:44:01.045Z"
   },
   {
    "duration": 14,
    "start_time": "2024-10-11T18:44:01.167Z"
   },
   {
    "duration": 1420,
    "start_time": "2024-10-11T18:44:01.182Z"
   },
   {
    "duration": 283,
    "start_time": "2024-10-11T18:44:02.604Z"
   },
   {
    "duration": 6,
    "start_time": "2024-10-11T18:44:02.889Z"
   },
   {
    "duration": 99,
    "start_time": "2024-10-11T18:44:02.896Z"
   },
   {
    "duration": 131,
    "start_time": "2024-10-11T18:44:11.057Z"
   },
   {
    "duration": 13,
    "start_time": "2024-10-11T18:44:20.219Z"
   },
   {
    "duration": 12,
    "start_time": "2024-10-11T18:44:40.154Z"
   },
   {
    "duration": 109,
    "start_time": "2024-10-11T18:45:08.174Z"
   },
   {
    "duration": 19,
    "start_time": "2024-10-11T18:45:18.286Z"
   },
   {
    "duration": 19,
    "start_time": "2024-10-11T18:45:33.560Z"
   },
   {
    "duration": 13,
    "start_time": "2024-10-11T18:45:39.324Z"
   },
   {
    "duration": 147,
    "start_time": "2024-10-11T18:45:43.077Z"
   },
   {
    "duration": 13,
    "start_time": "2024-10-11T18:46:23.761Z"
   },
   {
    "duration": 464,
    "start_time": "2024-10-11T18:46:31.804Z"
   },
   {
    "duration": 49,
    "start_time": "2024-10-11T18:46:38.869Z"
   },
   {
    "duration": 12,
    "start_time": "2024-10-11T18:47:01.877Z"
   },
   {
    "duration": 147,
    "start_time": "2024-10-11T18:47:05.641Z"
   },
   {
    "duration": 254,
    "start_time": "2024-10-11T18:47:12.244Z"
   },
   {
    "duration": 7,
    "start_time": "2024-10-11T18:47:16.519Z"
   },
   {
    "duration": 199,
    "start_time": "2024-10-11T18:47:20.744Z"
   },
   {
    "duration": 9,
    "start_time": "2024-10-11T18:49:39.497Z"
   },
   {
    "duration": 16,
    "start_time": "2024-10-11T18:51:40.879Z"
   },
   {
    "duration": 16,
    "start_time": "2024-10-11T18:53:06.495Z"
   },
   {
    "duration": 16,
    "start_time": "2024-10-11T18:54:06.354Z"
   },
   {
    "duration": 16,
    "start_time": "2024-10-11T18:54:55.543Z"
   },
   {
    "duration": 104,
    "start_time": "2024-10-11T18:55:10.936Z"
   },
   {
    "duration": 16,
    "start_time": "2024-10-11T18:55:24.129Z"
   },
   {
    "duration": 14,
    "start_time": "2024-10-11T18:55:34.326Z"
   },
   {
    "duration": 7,
    "start_time": "2024-10-11T18:55:44.301Z"
   },
   {
    "duration": 19,
    "start_time": "2024-10-11T19:08:24.885Z"
   },
   {
    "duration": 15,
    "start_time": "2024-10-11T19:10:42.367Z"
   },
   {
    "duration": 19,
    "start_time": "2024-10-11T19:11:33.972Z"
   },
   {
    "duration": 7,
    "start_time": "2024-10-11T19:11:37.448Z"
   },
   {
    "duration": 4,
    "start_time": "2024-10-11T19:11:40.621Z"
   },
   {
    "duration": 157,
    "start_time": "2024-10-11T22:23:15.623Z"
   },
   {
    "duration": 2430,
    "start_time": "2024-10-11T22:23:23.718Z"
   },
   {
    "duration": 259,
    "start_time": "2024-10-11T22:23:26.150Z"
   },
   {
    "duration": 28,
    "start_time": "2024-10-11T22:23:26.411Z"
   },
   {
    "duration": 5,
    "start_time": "2024-10-11T22:23:26.440Z"
   },
   {
    "duration": 4,
    "start_time": "2024-10-11T22:23:26.447Z"
   },
   {
    "duration": 5,
    "start_time": "2024-10-11T22:23:26.453Z"
   },
   {
    "duration": 452,
    "start_time": "2024-10-11T22:23:31.026Z"
   },
   {
    "duration": 40,
    "start_time": "2024-10-11T22:23:58.893Z"
   },
   {
    "duration": 56,
    "start_time": "2024-10-11T22:28:56.980Z"
   },
   {
    "duration": 3,
    "start_time": "2024-10-11T22:29:14.249Z"
   },
   {
    "duration": 156,
    "start_time": "2024-10-11T22:29:14.255Z"
   },
   {
    "duration": 24,
    "start_time": "2024-10-11T22:29:14.412Z"
   },
   {
    "duration": 4,
    "start_time": "2024-10-11T22:29:14.438Z"
   },
   {
    "duration": 4,
    "start_time": "2024-10-11T22:29:14.445Z"
   },
   {
    "duration": 6,
    "start_time": "2024-10-11T22:29:14.451Z"
   },
   {
    "duration": 36,
    "start_time": "2024-10-11T22:29:14.459Z"
   },
   {
    "duration": 10,
    "start_time": "2024-10-11T22:29:14.497Z"
   },
   {
    "duration": 86,
    "start_time": "2024-10-11T22:29:14.509Z"
   },
   {
    "duration": 6,
    "start_time": "2024-10-11T22:29:14.597Z"
   },
   {
    "duration": 27,
    "start_time": "2024-10-11T22:29:14.605Z"
   },
   {
    "duration": 7,
    "start_time": "2024-10-11T22:29:14.633Z"
   },
   {
    "duration": 18,
    "start_time": "2024-10-11T22:29:22.953Z"
   },
   {
    "duration": 41,
    "start_time": "2024-10-11T22:30:19.779Z"
   },
   {
    "duration": 3,
    "start_time": "2024-10-11T22:30:25.459Z"
   },
   {
    "duration": 162,
    "start_time": "2024-10-11T22:30:25.465Z"
   },
   {
    "duration": 24,
    "start_time": "2024-10-11T22:30:25.629Z"
   },
   {
    "duration": 5,
    "start_time": "2024-10-11T22:30:25.654Z"
   },
   {
    "duration": 4,
    "start_time": "2024-10-11T22:30:25.661Z"
   },
   {
    "duration": 22,
    "start_time": "2024-10-11T22:30:25.667Z"
   },
   {
    "duration": 15,
    "start_time": "2024-10-11T22:30:25.691Z"
   },
   {
    "duration": 8,
    "start_time": "2024-10-11T22:30:25.709Z"
   },
   {
    "duration": 4,
    "start_time": "2024-10-11T22:30:25.719Z"
   },
   {
    "duration": 4,
    "start_time": "2024-10-11T22:30:25.725Z"
   },
   {
    "duration": 63,
    "start_time": "2024-10-11T22:30:25.731Z"
   },
   {
    "duration": 7,
    "start_time": "2024-10-11T22:30:25.796Z"
   },
   {
    "duration": 15,
    "start_time": "2024-10-11T22:30:25.804Z"
   },
   {
    "duration": 4,
    "start_time": "2024-10-11T22:30:25.823Z"
   },
   {
    "duration": 19,
    "start_time": "2024-10-11T22:30:25.828Z"
   },
   {
    "duration": 38,
    "start_time": "2024-10-11T22:30:25.848Z"
   },
   {
    "duration": 43,
    "start_time": "2024-10-11T22:30:30.740Z"
   },
   {
    "duration": 41,
    "start_time": "2024-10-11T22:30:51.970Z"
   },
   {
    "duration": 14,
    "start_time": "2024-10-11T22:32:28.196Z"
   },
   {
    "duration": 44,
    "start_time": "2024-10-11T22:37:22.871Z"
   },
   {
    "duration": 11,
    "start_time": "2024-10-11T22:39:07.413Z"
   },
   {
    "duration": 14,
    "start_time": "2024-10-11T22:39:55.139Z"
   },
   {
    "duration": 9,
    "start_time": "2024-10-12T09:15:46.768Z"
   },
   {
    "duration": 2535,
    "start_time": "2024-10-14T01:43:10.204Z"
   },
   {
    "duration": 253,
    "start_time": "2024-10-14T01:43:12.741Z"
   },
   {
    "duration": 29,
    "start_time": "2024-10-14T01:43:12.996Z"
   },
   {
    "duration": 4,
    "start_time": "2024-10-14T01:43:13.027Z"
   },
   {
    "duration": 4,
    "start_time": "2024-10-14T01:43:13.034Z"
   },
   {
    "duration": 8,
    "start_time": "2024-10-14T01:43:13.039Z"
   },
   {
    "duration": 17,
    "start_time": "2024-10-14T01:43:13.048Z"
   },
   {
    "duration": 9,
    "start_time": "2024-10-14T01:43:13.066Z"
   },
   {
    "duration": 5,
    "start_time": "2024-10-14T01:43:13.077Z"
   },
   {
    "duration": 5,
    "start_time": "2024-10-14T01:43:13.084Z"
   },
   {
    "duration": 70,
    "start_time": "2024-10-14T01:43:13.091Z"
   },
   {
    "duration": 7,
    "start_time": "2024-10-14T01:43:13.163Z"
   },
   {
    "duration": 18,
    "start_time": "2024-10-14T01:43:13.172Z"
   },
   {
    "duration": 5,
    "start_time": "2024-10-14T01:43:13.194Z"
   },
   {
    "duration": 45,
    "start_time": "2024-10-14T01:43:13.200Z"
   },
   {
    "duration": 19,
    "start_time": "2024-10-14T01:43:13.247Z"
   },
   {
    "duration": 6,
    "start_time": "2024-10-14T01:43:13.267Z"
   },
   {
    "duration": 11,
    "start_time": "2024-10-14T01:43:13.275Z"
   },
   {
    "duration": 16,
    "start_time": "2024-10-14T01:43:13.288Z"
   },
   {
    "duration": 43,
    "start_time": "2024-10-14T01:43:13.306Z"
   },
   {
    "duration": 25,
    "start_time": "2024-10-14T01:43:13.350Z"
   },
   {
    "duration": 7,
    "start_time": "2024-10-14T01:43:13.377Z"
   },
   {
    "duration": 13,
    "start_time": "2024-10-14T01:43:13.386Z"
   },
   {
    "duration": 7,
    "start_time": "2024-10-14T01:43:13.400Z"
   },
   {
    "duration": 43,
    "start_time": "2024-10-14T01:43:13.408Z"
   },
   {
    "duration": 4,
    "start_time": "2024-10-14T01:43:13.452Z"
   },
   {
    "duration": 3,
    "start_time": "2024-10-14T01:43:13.457Z"
   },
   {
    "duration": 19,
    "start_time": "2024-10-14T01:43:13.461Z"
   },
   {
    "duration": 15,
    "start_time": "2024-10-14T01:43:13.481Z"
   },
   {
    "duration": 12,
    "start_time": "2024-10-14T01:43:13.497Z"
   },
   {
    "duration": 2,
    "start_time": "2024-10-14T01:43:13.543Z"
   },
   {
    "duration": 13,
    "start_time": "2024-10-14T01:43:13.547Z"
   },
   {
    "duration": 12,
    "start_time": "2024-10-14T01:43:13.561Z"
   },
   {
    "duration": 12,
    "start_time": "2024-10-14T01:43:13.574Z"
   },
   {
    "duration": 7,
    "start_time": "2024-10-14T01:43:13.589Z"
   },
   {
    "duration": 8,
    "start_time": "2024-10-14T01:43:13.597Z"
   },
   {
    "duration": 43,
    "start_time": "2024-10-14T01:43:13.606Z"
   },
   {
    "duration": 4,
    "start_time": "2024-10-14T01:43:13.651Z"
   },
   {
    "duration": 48,
    "start_time": "2024-10-14T01:43:13.657Z"
   },
   {
    "duration": 36,
    "start_time": "2024-10-14T01:43:13.707Z"
   },
   {
    "duration": 17,
    "start_time": "2024-10-14T01:43:13.746Z"
   },
   {
    "duration": 119,
    "start_time": "2024-10-14T01:43:13.764Z"
   },
   {
    "duration": 2,
    "start_time": "2024-10-14T01:43:13.885Z"
   },
   {
    "duration": 14,
    "start_time": "2024-10-14T01:43:13.889Z"
   },
   {
    "duration": 0,
    "start_time": "2024-10-14T01:44:01.483Z"
   },
   {
    "duration": 164,
    "start_time": "2024-10-14T01:45:12.899Z"
   },
   {
    "duration": 5,
    "start_time": "2024-10-14T01:50:03.651Z"
   },
   {
    "duration": 3,
    "start_time": "2024-10-14T01:51:42.678Z"
   },
   {
    "duration": 3,
    "start_time": "2024-10-14T01:52:13.269Z"
   },
   {
    "duration": 3,
    "start_time": "2024-10-14T01:54:46.943Z"
   },
   {
    "duration": 16,
    "start_time": "2024-10-14T01:55:07.014Z"
   },
   {
    "duration": 15,
    "start_time": "2024-10-14T01:55:46.966Z"
   },
   {
    "duration": 299,
    "start_time": "2024-10-14T01:55:54.928Z"
   },
   {
    "duration": 101,
    "start_time": "2024-10-14T01:56:46.822Z"
   },
   {
    "duration": 208,
    "start_time": "2024-10-14T01:57:20.450Z"
   },
   {
    "duration": 90,
    "start_time": "2024-10-14T01:57:44.625Z"
   },
   {
    "duration": 148,
    "start_time": "2024-10-14T01:58:31.214Z"
   },
   {
    "duration": 118,
    "start_time": "2024-10-14T01:59:52.943Z"
   },
   {
    "duration": 97,
    "start_time": "2024-10-14T02:00:43.607Z"
   },
   {
    "duration": 2516,
    "start_time": "2024-10-14T02:23:24.300Z"
   },
   {
    "duration": 267,
    "start_time": "2024-10-14T02:23:26.818Z"
   },
   {
    "duration": 28,
    "start_time": "2024-10-14T02:23:27.087Z"
   },
   {
    "duration": 5,
    "start_time": "2024-10-14T02:23:27.117Z"
   },
   {
    "duration": 4,
    "start_time": "2024-10-14T02:23:27.124Z"
   },
   {
    "duration": 6,
    "start_time": "2024-10-14T02:23:27.130Z"
   },
   {
    "duration": 50,
    "start_time": "2024-10-14T02:23:27.138Z"
   },
   {
    "duration": 13,
    "start_time": "2024-10-14T02:23:27.190Z"
   },
   {
    "duration": 6,
    "start_time": "2024-10-14T02:23:27.205Z"
   },
   {
    "duration": 7,
    "start_time": "2024-10-14T02:23:27.212Z"
   },
   {
    "duration": 52,
    "start_time": "2024-10-14T02:23:27.221Z"
   },
   {
    "duration": 8,
    "start_time": "2024-10-14T02:23:27.275Z"
   },
   {
    "duration": 17,
    "start_time": "2024-10-14T02:23:27.285Z"
   },
   {
    "duration": 5,
    "start_time": "2024-10-14T02:23:27.306Z"
   },
   {
    "duration": 16,
    "start_time": "2024-10-14T02:23:27.312Z"
   },
   {
    "duration": 50,
    "start_time": "2024-10-14T02:23:27.330Z"
   },
   {
    "duration": 6,
    "start_time": "2024-10-14T02:23:27.382Z"
   },
   {
    "duration": 10,
    "start_time": "2024-10-14T02:23:27.390Z"
   },
   {
    "duration": 16,
    "start_time": "2024-10-14T02:23:27.402Z"
   },
   {
    "duration": 12,
    "start_time": "2024-10-14T02:23:27.419Z"
   },
   {
    "duration": 51,
    "start_time": "2024-10-14T02:23:27.432Z"
   },
   {
    "duration": 7,
    "start_time": "2024-10-14T02:23:27.485Z"
   },
   {
    "duration": 12,
    "start_time": "2024-10-14T02:23:27.495Z"
   },
   {
    "duration": 5,
    "start_time": "2024-10-14T02:23:27.509Z"
   },
   {
    "duration": 14,
    "start_time": "2024-10-14T02:23:27.516Z"
   },
   {
    "duration": 3,
    "start_time": "2024-10-14T02:23:27.531Z"
   },
   {
    "duration": 36,
    "start_time": "2024-10-14T02:23:27.535Z"
   },
   {
    "duration": 20,
    "start_time": "2024-10-14T02:23:27.573Z"
   },
   {
    "duration": 14,
    "start_time": "2024-10-14T02:23:27.594Z"
   },
   {
    "duration": 10,
    "start_time": "2024-10-14T02:23:27.610Z"
   },
   {
    "duration": 2,
    "start_time": "2024-10-14T02:23:27.622Z"
   },
   {
    "duration": 11,
    "start_time": "2024-10-14T02:23:27.625Z"
   },
   {
    "duration": 12,
    "start_time": "2024-10-14T02:23:27.671Z"
   },
   {
    "duration": 10,
    "start_time": "2024-10-14T02:23:27.685Z"
   },
   {
    "duration": 8,
    "start_time": "2024-10-14T02:23:27.697Z"
   },
   {
    "duration": 8,
    "start_time": "2024-10-14T02:23:27.706Z"
   },
   {
    "duration": 11,
    "start_time": "2024-10-14T02:23:27.715Z"
   },
   {
    "duration": 5,
    "start_time": "2024-10-14T02:23:27.728Z"
   },
   {
    "duration": 50,
    "start_time": "2024-10-14T02:23:27.770Z"
   },
   {
    "duration": 9,
    "start_time": "2024-10-14T02:23:27.821Z"
   },
   {
    "duration": 41,
    "start_time": "2024-10-14T02:23:27.835Z"
   },
   {
    "duration": 111,
    "start_time": "2024-10-14T02:23:27.878Z"
   },
   {
    "duration": 2,
    "start_time": "2024-10-14T02:23:27.991Z"
   },
   {
    "duration": 13,
    "start_time": "2024-10-14T02:23:27.995Z"
   },
   {
    "duration": 180,
    "start_time": "2024-10-14T02:23:28.009Z"
   },
   {
    "duration": 3,
    "start_time": "2024-10-14T02:23:28.190Z"
   },
   {
    "duration": 13,
    "start_time": "2024-10-14T02:23:28.195Z"
   },
   {
    "duration": 252,
    "start_time": "2024-10-14T02:23:28.209Z"
   },
   {
    "duration": 9,
    "start_time": "2024-10-14T02:23:28.462Z"
   },
   {
    "duration": 103,
    "start_time": "2024-10-14T02:23:28.473Z"
   },
   {
    "duration": 18,
    "start_time": "2024-10-14T02:23:28.578Z"
   },
   {
    "duration": 168,
    "start_time": "2024-10-14T02:23:28.598Z"
   },
   {
    "duration": 269,
    "start_time": "2024-10-14T02:23:28.768Z"
   },
   {
    "duration": 5,
    "start_time": "2024-10-14T02:23:29.039Z"
   },
   {
    "duration": 85,
    "start_time": "2024-10-14T02:23:34.786Z"
   },
   {
    "duration": 213,
    "start_time": "2024-10-14T02:24:36.001Z"
   },
   {
    "duration": 14,
    "start_time": "2024-10-14T02:24:46.089Z"
   },
   {
    "duration": 84,
    "start_time": "2024-10-14T02:24:52.771Z"
   },
   {
    "duration": 14,
    "start_time": "2024-10-14T02:25:13.361Z"
   },
   {
    "duration": 11,
    "start_time": "2024-10-14T02:25:56.343Z"
   },
   {
    "duration": 2,
    "start_time": "2024-10-14T02:25:56.357Z"
   },
   {
    "duration": 154,
    "start_time": "2024-10-14T02:25:56.361Z"
   },
   {
    "duration": 30,
    "start_time": "2024-10-14T02:25:56.517Z"
   },
   {
    "duration": 6,
    "start_time": "2024-10-14T02:25:56.549Z"
   },
   {
    "duration": 13,
    "start_time": "2024-10-14T02:25:56.562Z"
   },
   {
    "duration": 7,
    "start_time": "2024-10-14T02:25:56.578Z"
   },
   {
    "duration": 22,
    "start_time": "2024-10-14T02:25:56.588Z"
   },
   {
    "duration": 9,
    "start_time": "2024-10-14T02:25:56.613Z"
   },
   {
    "duration": 6,
    "start_time": "2024-10-14T02:25:56.624Z"
   },
   {
    "duration": 6,
    "start_time": "2024-10-14T02:25:56.632Z"
   },
   {
    "duration": 34,
    "start_time": "2024-10-14T02:25:56.671Z"
   },
   {
    "duration": 8,
    "start_time": "2024-10-14T02:25:56.707Z"
   },
   {
    "duration": 18,
    "start_time": "2024-10-14T02:25:56.717Z"
   },
   {
    "duration": 35,
    "start_time": "2024-10-14T02:25:56.738Z"
   },
   {
    "duration": 23,
    "start_time": "2024-10-14T02:25:56.775Z"
   },
   {
    "duration": 25,
    "start_time": "2024-10-14T02:25:56.800Z"
   },
   {
    "duration": 9,
    "start_time": "2024-10-14T02:25:56.827Z"
   },
   {
    "duration": 40,
    "start_time": "2024-10-14T02:25:56.841Z"
   },
   {
    "duration": 28,
    "start_time": "2024-10-14T02:25:56.883Z"
   },
   {
    "duration": 127,
    "start_time": "2024-10-14T02:25:56.914Z"
   },
   {
    "duration": 33,
    "start_time": "2024-10-14T02:25:57.043Z"
   },
   {
    "duration": 14,
    "start_time": "2024-10-14T02:25:57.078Z"
   },
   {
    "duration": 14,
    "start_time": "2024-10-14T02:25:57.094Z"
   },
   {
    "duration": 7,
    "start_time": "2024-10-14T02:25:57.110Z"
   },
   {
    "duration": 15,
    "start_time": "2024-10-14T02:25:57.118Z"
   },
   {
    "duration": 3,
    "start_time": "2024-10-14T02:25:57.135Z"
   },
   {
    "duration": 3,
    "start_time": "2024-10-14T02:25:57.170Z"
   },
   {
    "duration": 21,
    "start_time": "2024-10-14T02:25:57.181Z"
   },
   {
    "duration": 15,
    "start_time": "2024-10-14T02:25:57.205Z"
   },
   {
    "duration": 12,
    "start_time": "2024-10-14T02:25:57.222Z"
   },
   {
    "duration": 2,
    "start_time": "2024-10-14T02:25:57.237Z"
   },
   {
    "duration": 44,
    "start_time": "2024-10-14T02:25:57.241Z"
   },
   {
    "duration": 14,
    "start_time": "2024-10-14T02:25:57.287Z"
   },
   {
    "duration": 13,
    "start_time": "2024-10-14T02:25:57.303Z"
   },
   {
    "duration": 9,
    "start_time": "2024-10-14T02:25:57.318Z"
   },
   {
    "duration": 43,
    "start_time": "2024-10-14T02:25:57.329Z"
   },
   {
    "duration": 17,
    "start_time": "2024-10-14T02:25:57.377Z"
   },
   {
    "duration": 8,
    "start_time": "2024-10-14T02:25:57.396Z"
   },
   {
    "duration": 83,
    "start_time": "2024-10-14T02:25:57.406Z"
   },
   {
    "duration": 10,
    "start_time": "2024-10-14T02:25:57.916Z"
   },
   {
    "duration": 18,
    "start_time": "2024-10-14T02:25:57.928Z"
   },
   {
    "duration": 101,
    "start_time": "2024-10-14T02:25:57.948Z"
   },
   {
    "duration": 2,
    "start_time": "2024-10-14T02:25:58.051Z"
   },
   {
    "duration": 21,
    "start_time": "2024-10-14T02:25:58.056Z"
   },
   {
    "duration": 165,
    "start_time": "2024-10-14T02:25:58.078Z"
   },
   {
    "duration": 3,
    "start_time": "2024-10-14T02:25:58.244Z"
   },
   {
    "duration": 23,
    "start_time": "2024-10-14T02:25:58.248Z"
   },
   {
    "duration": 255,
    "start_time": "2024-10-14T02:25:58.273Z"
   },
   {
    "duration": 5,
    "start_time": "2024-10-14T02:25:58.530Z"
   },
   {
    "duration": 105,
    "start_time": "2024-10-14T02:25:58.538Z"
   },
   {
    "duration": 26,
    "start_time": "2024-10-14T02:25:58.646Z"
   },
   {
    "duration": 157,
    "start_time": "2024-10-14T02:25:58.673Z"
   },
   {
    "duration": 230,
    "start_time": "2024-10-14T02:25:58.834Z"
   },
   {
    "duration": 5,
    "start_time": "2024-10-14T02:25:59.071Z"
   },
   {
    "duration": 96,
    "start_time": "2024-10-14T02:25:59.079Z"
   },
   {
    "duration": 14,
    "start_time": "2024-10-14T02:25:59.176Z"
   },
   {
    "duration": 293,
    "start_time": "2024-10-14T02:25:59.192Z"
   },
   {
    "duration": 6,
    "start_time": "2024-10-14T02:25:59.487Z"
   },
   {
    "duration": 104,
    "start_time": "2024-10-14T02:25:59.495Z"
   },
   {
    "duration": 490,
    "start_time": "2024-10-14T02:25:59.601Z"
   },
   {
    "duration": 2538,
    "start_time": "2024-10-14T16:10:52.543Z"
   },
   {
    "duration": 210,
    "start_time": "2024-10-14T16:10:55.083Z"
   },
   {
    "duration": 28,
    "start_time": "2024-10-14T16:10:55.295Z"
   },
   {
    "duration": 5,
    "start_time": "2024-10-14T16:10:55.324Z"
   },
   {
    "duration": 4,
    "start_time": "2024-10-14T16:10:55.331Z"
   },
   {
    "duration": 5,
    "start_time": "2024-10-14T16:10:55.337Z"
   },
   {
    "duration": 15,
    "start_time": "2024-10-14T16:10:55.344Z"
   },
   {
    "duration": 43,
    "start_time": "2024-10-14T16:10:55.361Z"
   },
   {
    "duration": 6,
    "start_time": "2024-10-14T16:10:55.407Z"
   },
   {
    "duration": 5,
    "start_time": "2024-10-14T16:10:55.415Z"
   },
   {
    "duration": 29,
    "start_time": "2024-10-14T16:10:55.422Z"
   },
   {
    "duration": 8,
    "start_time": "2024-10-14T16:10:55.453Z"
   },
   {
    "duration": 51,
    "start_time": "2024-10-14T16:10:55.463Z"
   },
   {
    "duration": 5,
    "start_time": "2024-10-14T16:10:55.518Z"
   },
   {
    "duration": 17,
    "start_time": "2024-10-14T16:10:55.524Z"
   },
   {
    "duration": 19,
    "start_time": "2024-10-14T16:10:55.542Z"
   },
   {
    "duration": 7,
    "start_time": "2024-10-14T16:10:55.563Z"
   },
   {
    "duration": 39,
    "start_time": "2024-10-14T16:10:55.572Z"
   },
   {
    "duration": 19,
    "start_time": "2024-10-14T16:10:55.613Z"
   },
   {
    "duration": 13,
    "start_time": "2024-10-14T16:10:55.634Z"
   },
   {
    "duration": 25,
    "start_time": "2024-10-14T16:10:55.648Z"
   },
   {
    "duration": 37,
    "start_time": "2024-10-14T16:10:55.675Z"
   },
   {
    "duration": 14,
    "start_time": "2024-10-14T16:10:55.714Z"
   },
   {
    "duration": 7,
    "start_time": "2024-10-14T16:10:55.729Z"
   },
   {
    "duration": 14,
    "start_time": "2024-10-14T16:10:55.738Z"
   },
   {
    "duration": 3,
    "start_time": "2024-10-14T16:10:55.753Z"
   },
   {
    "duration": 3,
    "start_time": "2024-10-14T16:10:55.757Z"
   },
   {
    "duration": 53,
    "start_time": "2024-10-14T16:10:55.761Z"
   },
   {
    "duration": 19,
    "start_time": "2024-10-14T16:10:55.815Z"
   },
   {
    "duration": 10,
    "start_time": "2024-10-14T16:10:55.836Z"
   },
   {
    "duration": 3,
    "start_time": "2024-10-14T16:10:55.848Z"
   },
   {
    "duration": 13,
    "start_time": "2024-10-14T16:10:55.853Z"
   },
   {
    "duration": 42,
    "start_time": "2024-10-14T16:10:55.868Z"
   },
   {
    "duration": 14,
    "start_time": "2024-10-14T16:10:55.912Z"
   },
   {
    "duration": 8,
    "start_time": "2024-10-14T16:10:55.928Z"
   },
   {
    "duration": 10,
    "start_time": "2024-10-14T16:10:55.938Z"
   },
   {
    "duration": 9,
    "start_time": "2024-10-14T16:10:55.949Z"
   },
   {
    "duration": 4,
    "start_time": "2024-10-14T16:10:55.960Z"
   },
   {
    "duration": 85,
    "start_time": "2024-10-14T16:10:55.966Z"
   },
   {
    "duration": 8,
    "start_time": "2024-10-14T16:10:56.053Z"
   },
   {
    "duration": 17,
    "start_time": "2024-10-14T16:10:56.066Z"
   },
   {
    "duration": 128,
    "start_time": "2024-10-14T16:10:56.085Z"
   },
   {
    "duration": 3,
    "start_time": "2024-10-14T16:10:56.215Z"
   },
   {
    "duration": 18,
    "start_time": "2024-10-14T16:10:56.219Z"
   },
   {
    "duration": 175,
    "start_time": "2024-10-14T16:10:56.239Z"
   },
   {
    "duration": 3,
    "start_time": "2024-10-14T16:10:56.416Z"
   },
   {
    "duration": 12,
    "start_time": "2024-10-14T16:10:56.422Z"
   },
   {
    "duration": 307,
    "start_time": "2024-10-14T16:10:56.436Z"
   },
   {
    "duration": 5,
    "start_time": "2024-10-14T16:10:56.745Z"
   },
   {
    "duration": 108,
    "start_time": "2024-10-14T16:10:56.752Z"
   },
   {
    "duration": 19,
    "start_time": "2024-10-14T16:10:56.862Z"
   },
   {
    "duration": 177,
    "start_time": "2024-10-14T16:10:56.882Z"
   },
   {
    "duration": 229,
    "start_time": "2024-10-14T16:10:57.061Z"
   },
   {
    "duration": 15,
    "start_time": "2024-10-14T16:10:57.292Z"
   },
   {
    "duration": 83,
    "start_time": "2024-10-14T16:10:57.309Z"
   },
   {
    "duration": 15,
    "start_time": "2024-10-14T16:10:57.406Z"
   },
   {
    "duration": 216,
    "start_time": "2024-10-14T16:10:57.422Z"
   },
   {
    "duration": 6,
    "start_time": "2024-10-14T16:10:57.640Z"
   },
   {
    "duration": 100,
    "start_time": "2024-10-14T16:10:57.648Z"
   },
   {
    "duration": 13,
    "start_time": "2024-10-14T16:10:57.750Z"
   },
   {
    "duration": 166,
    "start_time": "2024-10-14T16:10:57.764Z"
   },
   {
    "duration": 323,
    "start_time": "2024-10-14T16:10:57.932Z"
   },
   {
    "duration": 6,
    "start_time": "2024-10-14T16:10:58.257Z"
   },
   {
    "duration": 705,
    "start_time": "2024-10-14T16:10:58.264Z"
   },
   {
    "duration": 0,
    "start_time": "2024-10-14T16:10:58.971Z"
   },
   {
    "duration": 0,
    "start_time": "2024-10-14T16:10:58.972Z"
   },
   {
    "duration": 0,
    "start_time": "2024-10-14T16:10:58.974Z"
   },
   {
    "duration": 2565,
    "start_time": "2024-10-15T14:00:58.261Z"
   },
   {
    "duration": 223,
    "start_time": "2024-10-15T14:01:00.828Z"
   },
   {
    "duration": 31,
    "start_time": "2024-10-15T14:01:01.055Z"
   },
   {
    "duration": 5,
    "start_time": "2024-10-15T14:01:01.088Z"
   },
   {
    "duration": 7,
    "start_time": "2024-10-15T14:01:01.094Z"
   },
   {
    "duration": 5,
    "start_time": "2024-10-15T14:01:01.102Z"
   },
   {
    "duration": 39,
    "start_time": "2024-10-15T14:01:01.108Z"
   },
   {
    "duration": 10,
    "start_time": "2024-10-15T14:01:01.149Z"
   },
   {
    "duration": 5,
    "start_time": "2024-10-15T14:01:01.161Z"
   },
   {
    "duration": 5,
    "start_time": "2024-10-15T14:01:01.169Z"
   },
   {
    "duration": 28,
    "start_time": "2024-10-15T14:01:01.175Z"
   },
   {
    "duration": 40,
    "start_time": "2024-10-15T14:01:01.205Z"
   },
   {
    "duration": 19,
    "start_time": "2024-10-15T14:01:01.247Z"
   },
   {
    "duration": 5,
    "start_time": "2024-10-15T14:01:01.268Z"
   },
   {
    "duration": 17,
    "start_time": "2024-10-15T14:01:01.274Z"
   },
   {
    "duration": 19,
    "start_time": "2024-10-15T14:01:01.292Z"
   },
   {
    "duration": 7,
    "start_time": "2024-10-15T14:01:01.342Z"
   },
   {
    "duration": 12,
    "start_time": "2024-10-15T14:01:01.351Z"
   },
   {
    "duration": 16,
    "start_time": "2024-10-15T14:01:01.365Z"
   },
   {
    "duration": 13,
    "start_time": "2024-10-15T14:01:01.383Z"
   },
   {
    "duration": 55,
    "start_time": "2024-10-15T14:01:01.397Z"
   },
   {
    "duration": 10,
    "start_time": "2024-10-15T14:01:01.454Z"
   },
   {
    "duration": 14,
    "start_time": "2024-10-15T14:01:01.466Z"
   },
   {
    "duration": 6,
    "start_time": "2024-10-15T14:01:01.481Z"
   },
   {
    "duration": 14,
    "start_time": "2024-10-15T14:01:01.489Z"
   },
   {
    "duration": 3,
    "start_time": "2024-10-15T14:01:01.505Z"
   },
   {
    "duration": 2,
    "start_time": "2024-10-15T14:01:01.542Z"
   },
   {
    "duration": 19,
    "start_time": "2024-10-15T14:01:01.549Z"
   },
   {
    "duration": 16,
    "start_time": "2024-10-15T14:01:01.570Z"
   },
   {
    "duration": 10,
    "start_time": "2024-10-15T14:01:01.587Z"
   },
   {
    "duration": 2,
    "start_time": "2024-10-15T14:01:01.599Z"
   },
   {
    "duration": 40,
    "start_time": "2024-10-15T14:01:01.603Z"
   },
   {
    "duration": 10,
    "start_time": "2024-10-15T14:01:01.645Z"
   },
   {
    "duration": 11,
    "start_time": "2024-10-15T14:01:01.657Z"
   },
   {
    "duration": 8,
    "start_time": "2024-10-15T14:01:01.669Z"
   },
   {
    "duration": 8,
    "start_time": "2024-10-15T14:01:01.679Z"
   },
   {
    "duration": 9,
    "start_time": "2024-10-15T14:01:01.689Z"
   },
   {
    "duration": 3,
    "start_time": "2024-10-15T14:01:01.700Z"
   },
   {
    "duration": 51,
    "start_time": "2024-10-15T14:01:01.743Z"
   },
   {
    "duration": 9,
    "start_time": "2024-10-15T14:01:01.797Z"
   },
   {
    "duration": 45,
    "start_time": "2024-10-15T14:01:01.807Z"
   },
   {
    "duration": 114,
    "start_time": "2024-10-15T14:01:01.854Z"
   },
   {
    "duration": 3,
    "start_time": "2024-10-15T14:01:01.970Z"
   },
   {
    "duration": 14,
    "start_time": "2024-10-15T14:01:01.975Z"
   },
   {
    "duration": 202,
    "start_time": "2024-10-15T14:01:01.990Z"
   },
   {
    "duration": 2,
    "start_time": "2024-10-15T14:01:02.194Z"
   },
   {
    "duration": 13,
    "start_time": "2024-10-15T14:01:02.198Z"
   },
   {
    "duration": 304,
    "start_time": "2024-10-15T14:01:02.212Z"
   },
   {
    "duration": 6,
    "start_time": "2024-10-15T14:01:02.519Z"
   },
   {
    "duration": 109,
    "start_time": "2024-10-15T14:01:02.526Z"
   },
   {
    "duration": 23,
    "start_time": "2024-10-15T14:01:02.637Z"
   },
   {
    "duration": 165,
    "start_time": "2024-10-15T14:01:02.662Z"
   },
   {
    "duration": 257,
    "start_time": "2024-10-15T14:01:02.829Z"
   },
   {
    "duration": 6,
    "start_time": "2024-10-15T14:01:03.088Z"
   },
   {
    "duration": 105,
    "start_time": "2024-10-15T14:01:03.096Z"
   },
   {
    "duration": 14,
    "start_time": "2024-10-15T14:01:03.203Z"
   },
   {
    "duration": 220,
    "start_time": "2024-10-15T14:01:03.219Z"
   },
   {
    "duration": 5,
    "start_time": "2024-10-15T14:01:03.443Z"
   },
   {
    "duration": 103,
    "start_time": "2024-10-15T14:01:03.450Z"
   },
   {
    "duration": 13,
    "start_time": "2024-10-15T14:01:03.555Z"
   },
   {
    "duration": 162,
    "start_time": "2024-10-15T14:01:03.569Z"
   },
   {
    "duration": 332,
    "start_time": "2024-10-15T14:01:03.733Z"
   },
   {
    "duration": 5,
    "start_time": "2024-10-15T14:01:04.067Z"
   },
   {
    "duration": 711,
    "start_time": "2024-10-15T14:01:04.074Z"
   },
   {
    "duration": 0,
    "start_time": "2024-10-15T14:01:04.787Z"
   },
   {
    "duration": 0,
    "start_time": "2024-10-15T14:01:04.788Z"
   },
   {
    "duration": 15,
    "start_time": "2024-10-15T14:01:05.934Z"
   },
   {
    "duration": 4,
    "start_time": "2024-10-15T14:01:20.146Z"
   },
   {
    "duration": 4,
    "start_time": "2024-10-15T14:02:06.098Z"
   },
   {
    "duration": 117,
    "start_time": "2024-10-15T14:06:51.408Z"
   },
   {
    "duration": 23,
    "start_time": "2024-10-15T14:07:50.497Z"
   },
   {
    "duration": 32,
    "start_time": "2024-10-15T14:08:21.122Z"
   },
   {
    "duration": 27,
    "start_time": "2024-10-15T14:10:05.897Z"
   },
   {
    "duration": 5,
    "start_time": "2024-10-15T14:11:13.091Z"
   },
   {
    "duration": 4,
    "start_time": "2024-10-15T14:11:55.219Z"
   },
   {
    "duration": 5,
    "start_time": "2024-10-15T14:12:32.427Z"
   },
   {
    "duration": 5,
    "start_time": "2024-10-15T14:12:52.634Z"
   },
   {
    "duration": 4,
    "start_time": "2024-10-15T14:12:59.040Z"
   },
   {
    "duration": 26,
    "start_time": "2024-10-15T14:16:38.929Z"
   },
   {
    "duration": 33,
    "start_time": "2024-10-15T14:19:14.707Z"
   },
   {
    "duration": 24,
    "start_time": "2024-10-15T14:19:40.990Z"
   },
   {
    "duration": 6,
    "start_time": "2024-10-15T14:20:17.175Z"
   },
   {
    "duration": 5,
    "start_time": "2024-10-15T14:20:36.160Z"
   },
   {
    "duration": 5,
    "start_time": "2024-10-15T14:23:25.166Z"
   },
   {
    "duration": 4,
    "start_time": "2024-10-15T14:23:54.609Z"
   },
   {
    "duration": 4,
    "start_time": "2024-10-15T14:24:18.401Z"
   },
   {
    "duration": 424,
    "start_time": "2024-10-15T14:24:21.800Z"
   },
   {
    "duration": 15,
    "start_time": "2024-10-15T14:29:38.997Z"
   },
   {
    "duration": 116,
    "start_time": "2024-10-15T14:30:12.330Z"
   },
   {
    "duration": 8,
    "start_time": "2024-10-15T14:34:02.882Z"
   },
   {
    "duration": 25,
    "start_time": "2024-10-15T14:38:34.913Z"
   },
   {
    "duration": 24,
    "start_time": "2024-10-15T14:39:21.602Z"
   },
   {
    "duration": 5,
    "start_time": "2024-10-15T14:39:40.223Z"
   },
   {
    "duration": 5,
    "start_time": "2024-10-15T14:41:07.390Z"
   },
   {
    "duration": 3,
    "start_time": "2024-10-15T14:42:01.289Z"
   },
   {
    "duration": 2,
    "start_time": "2024-10-15T14:42:04.771Z"
   },
   {
    "duration": 2,
    "start_time": "2024-10-15T14:43:59.485Z"
   },
   {
    "duration": 2,
    "start_time": "2024-10-15T14:44:06.174Z"
   },
   {
    "duration": 3,
    "start_time": "2024-10-15T14:44:18.646Z"
   },
   {
    "duration": 4,
    "start_time": "2024-10-15T14:55:22.331Z"
   },
   {
    "duration": 5,
    "start_time": "2024-10-15T14:55:56.701Z"
   },
   {
    "duration": 4,
    "start_time": "2024-10-15T14:57:28.708Z"
   },
   {
    "duration": 13,
    "start_time": "2024-10-15T14:58:05.964Z"
   },
   {
    "duration": 23,
    "start_time": "2024-10-15T14:58:25.602Z"
   },
   {
    "duration": 6,
    "start_time": "2024-10-15T14:58:36.042Z"
   },
   {
    "duration": 5,
    "start_time": "2024-10-15T15:00:26.136Z"
   },
   {
    "duration": 49,
    "start_time": "2024-10-15T15:00:53.857Z"
   },
   {
    "duration": 3,
    "start_time": "2024-10-15T15:01:46.619Z"
   },
   {
    "duration": 3,
    "start_time": "2024-10-15T15:01:47.554Z"
   },
   {
    "duration": 109,
    "start_time": "2024-10-15T15:01:49.767Z"
   },
   {
    "duration": 25,
    "start_time": "2024-10-15T15:01:58.565Z"
   },
   {
    "duration": 3,
    "start_time": "2024-10-15T15:03:14.075Z"
   },
   {
    "duration": 4,
    "start_time": "2024-10-15T15:04:04.228Z"
   },
   {
    "duration": 49,
    "start_time": "2024-10-15T15:04:18.901Z"
   },
   {
    "duration": 4,
    "start_time": "2024-10-15T15:05:41.522Z"
   },
   {
    "duration": 3,
    "start_time": "2024-10-15T15:05:47.109Z"
   },
   {
    "duration": 3,
    "start_time": "2024-10-15T15:05:47.929Z"
   },
   {
    "duration": 7,
    "start_time": "2024-10-15T15:05:48.998Z"
   },
   {
    "duration": 50,
    "start_time": "2024-10-15T15:05:50.073Z"
   },
   {
    "duration": 38,
    "start_time": "2024-10-15T15:06:27.230Z"
   },
   {
    "duration": 48,
    "start_time": "2024-10-15T15:06:49.152Z"
   },
   {
    "duration": 5,
    "start_time": "2024-10-15T15:07:07.926Z"
   },
   {
    "duration": 5,
    "start_time": "2024-10-15T15:08:35.311Z"
   },
   {
    "duration": 41,
    "start_time": "2024-10-15T15:08:44.640Z"
   },
   {
    "duration": 5,
    "start_time": "2024-10-15T15:09:05.224Z"
   },
   {
    "duration": 4,
    "start_time": "2024-10-15T15:14:49.752Z"
   },
   {
    "duration": 791,
    "start_time": "2024-10-15T15:15:08.593Z"
   },
   {
    "duration": 167,
    "start_time": "2024-10-15T15:15:09.386Z"
   },
   {
    "duration": 27,
    "start_time": "2024-10-15T15:15:09.555Z"
   },
   {
    "duration": 5,
    "start_time": "2024-10-15T15:15:09.584Z"
   },
   {
    "duration": 5,
    "start_time": "2024-10-15T15:15:09.590Z"
   },
   {
    "duration": 5,
    "start_time": "2024-10-15T15:15:09.597Z"
   },
   {
    "duration": 40,
    "start_time": "2024-10-15T15:15:09.604Z"
   },
   {
    "duration": 10,
    "start_time": "2024-10-15T15:15:09.646Z"
   },
   {
    "duration": 6,
    "start_time": "2024-10-15T15:15:09.658Z"
   },
   {
    "duration": 5,
    "start_time": "2024-10-15T15:15:09.667Z"
   },
   {
    "duration": 29,
    "start_time": "2024-10-15T15:15:09.673Z"
   },
   {
    "duration": 40,
    "start_time": "2024-10-15T15:15:09.704Z"
   },
   {
    "duration": 18,
    "start_time": "2024-10-15T15:15:09.745Z"
   },
   {
    "duration": 4,
    "start_time": "2024-10-15T15:15:09.765Z"
   },
   {
    "duration": 17,
    "start_time": "2024-10-15T15:15:09.771Z"
   },
   {
    "duration": 17,
    "start_time": "2024-10-15T15:15:09.789Z"
   },
   {
    "duration": 36,
    "start_time": "2024-10-15T15:15:09.808Z"
   },
   {
    "duration": 11,
    "start_time": "2024-10-15T15:15:09.845Z"
   },
   {
    "duration": 17,
    "start_time": "2024-10-15T15:15:09.858Z"
   },
   {
    "duration": 12,
    "start_time": "2024-10-15T15:15:09.877Z"
   },
   {
    "duration": 52,
    "start_time": "2024-10-15T15:15:09.891Z"
   },
   {
    "duration": 8,
    "start_time": "2024-10-15T15:15:09.945Z"
   },
   {
    "duration": 14,
    "start_time": "2024-10-15T15:15:09.955Z"
   },
   {
    "duration": 6,
    "start_time": "2024-10-15T15:15:09.971Z"
   },
   {
    "duration": 82,
    "start_time": "2024-10-15T15:15:09.979Z"
   },
   {
    "duration": 4,
    "start_time": "2024-10-15T15:15:10.062Z"
   },
   {
    "duration": 2,
    "start_time": "2024-10-15T15:15:10.067Z"
   },
   {
    "duration": 19,
    "start_time": "2024-10-15T15:15:10.075Z"
   },
   {
    "duration": 16,
    "start_time": "2024-10-15T15:15:10.095Z"
   },
   {
    "duration": 39,
    "start_time": "2024-10-15T15:15:10.112Z"
   },
   {
    "duration": 2,
    "start_time": "2024-10-15T15:15:10.153Z"
   },
   {
    "duration": 12,
    "start_time": "2024-10-15T15:15:10.156Z"
   },
   {
    "duration": 10,
    "start_time": "2024-10-15T15:15:10.170Z"
   },
   {
    "duration": 11,
    "start_time": "2024-10-15T15:15:10.181Z"
   },
   {
    "duration": 9,
    "start_time": "2024-10-15T15:15:10.194Z"
   },
   {
    "duration": 47,
    "start_time": "2024-10-15T15:15:10.204Z"
   },
   {
    "duration": 9,
    "start_time": "2024-10-15T15:15:10.253Z"
   },
   {
    "duration": 4,
    "start_time": "2024-10-15T15:15:10.264Z"
   },
   {
    "duration": 73,
    "start_time": "2024-10-15T15:15:10.270Z"
   },
   {
    "duration": 9,
    "start_time": "2024-10-15T15:15:10.345Z"
   },
   {
    "duration": 16,
    "start_time": "2024-10-15T15:15:10.355Z"
   },
   {
    "duration": 133,
    "start_time": "2024-10-15T15:15:10.373Z"
   },
   {
    "duration": 2,
    "start_time": "2024-10-15T15:15:10.508Z"
   },
   {
    "duration": 13,
    "start_time": "2024-10-15T15:15:10.512Z"
   },
   {
    "duration": 181,
    "start_time": "2024-10-15T15:15:10.527Z"
   },
   {
    "duration": 4,
    "start_time": "2024-10-15T15:15:10.710Z"
   },
   {
    "duration": 14,
    "start_time": "2024-10-15T15:15:10.715Z"
   },
   {
    "duration": 244,
    "start_time": "2024-10-15T15:15:10.743Z"
   },
   {
    "duration": 5,
    "start_time": "2024-10-15T15:15:10.990Z"
   },
   {
    "duration": 114,
    "start_time": "2024-10-15T15:15:10.996Z"
   },
   {
    "duration": 31,
    "start_time": "2024-10-15T15:15:11.112Z"
   },
   {
    "duration": 180,
    "start_time": "2024-10-15T15:15:11.145Z"
   },
   {
    "duration": 237,
    "start_time": "2024-10-15T15:15:11.327Z"
   },
   {
    "duration": 6,
    "start_time": "2024-10-15T15:15:11.566Z"
   },
   {
    "duration": 101,
    "start_time": "2024-10-15T15:15:11.574Z"
   },
   {
    "duration": 16,
    "start_time": "2024-10-15T15:15:11.677Z"
   },
   {
    "duration": 289,
    "start_time": "2024-10-15T15:15:11.694Z"
   },
   {
    "duration": 6,
    "start_time": "2024-10-15T15:15:11.987Z"
   },
   {
    "duration": 98,
    "start_time": "2024-10-15T15:15:11.995Z"
   },
   {
    "duration": 13,
    "start_time": "2024-10-15T15:15:12.095Z"
   },
   {
    "duration": 162,
    "start_time": "2024-10-15T15:15:12.110Z"
   },
   {
    "duration": 266,
    "start_time": "2024-10-15T15:15:12.275Z"
   },
   {
    "duration": 5,
    "start_time": "2024-10-15T15:15:12.543Z"
   },
   {
    "duration": 700,
    "start_time": "2024-10-15T15:15:12.550Z"
   },
   {
    "duration": 0,
    "start_time": "2024-10-15T15:15:13.252Z"
   },
   {
    "duration": 0,
    "start_time": "2024-10-15T15:15:13.254Z"
   },
   {
    "duration": 0,
    "start_time": "2024-10-15T15:15:13.255Z"
   },
   {
    "duration": 0,
    "start_time": "2024-10-15T15:15:13.256Z"
   },
   {
    "duration": 0,
    "start_time": "2024-10-15T15:15:13.257Z"
   },
   {
    "duration": 0,
    "start_time": "2024-10-15T15:15:13.258Z"
   },
   {
    "duration": 0,
    "start_time": "2024-10-15T15:15:13.259Z"
   },
   {
    "duration": 0,
    "start_time": "2024-10-15T15:15:13.261Z"
   },
   {
    "duration": 0,
    "start_time": "2024-10-15T15:15:13.262Z"
   },
   {
    "duration": 0,
    "start_time": "2024-10-15T15:15:13.263Z"
   },
   {
    "duration": 0,
    "start_time": "2024-10-15T15:15:13.264Z"
   },
   {
    "duration": 0,
    "start_time": "2024-10-15T15:15:13.265Z"
   },
   {
    "duration": 0,
    "start_time": "2024-10-15T15:15:13.267Z"
   },
   {
    "duration": 16,
    "start_time": "2024-10-15T15:15:22.834Z"
   },
   {
    "duration": 8,
    "start_time": "2024-10-15T15:16:01.322Z"
   },
   {
    "duration": 6,
    "start_time": "2024-10-15T15:16:03.716Z"
   },
   {
    "duration": 3,
    "start_time": "2024-10-15T15:16:04.246Z"
   },
   {
    "duration": 4,
    "start_time": "2024-10-15T15:16:04.676Z"
   },
   {
    "duration": 31,
    "start_time": "2024-10-15T15:16:07.285Z"
   },
   {
    "duration": 5,
    "start_time": "2024-10-15T15:16:08.046Z"
   },
   {
    "duration": 24,
    "start_time": "2024-10-15T15:16:08.637Z"
   },
   {
    "duration": 26,
    "start_time": "2024-10-15T15:16:09.405Z"
   },
   {
    "duration": 3,
    "start_time": "2024-10-15T15:16:10.081Z"
   },
   {
    "duration": 4,
    "start_time": "2024-10-15T15:16:10.601Z"
   },
   {
    "duration": 5,
    "start_time": "2024-10-15T15:16:11.135Z"
   },
   {
    "duration": 6,
    "start_time": "2024-10-15T15:16:11.601Z"
   },
   {
    "duration": 6,
    "start_time": "2024-10-15T15:16:12.204Z"
   },
   {
    "duration": 7,
    "start_time": "2024-10-15T15:16:55.354Z"
   },
   {
    "duration": 5,
    "start_time": "2024-10-15T15:17:06.066Z"
   },
   {
    "duration": 5,
    "start_time": "2024-10-15T15:17:37.857Z"
   },
   {
    "duration": 2581,
    "start_time": "2024-10-15T21:13:43.153Z"
   },
   {
    "duration": 236,
    "start_time": "2024-10-15T21:13:45.737Z"
   },
   {
    "duration": 30,
    "start_time": "2024-10-15T21:13:45.975Z"
   },
   {
    "duration": 5,
    "start_time": "2024-10-15T21:13:46.007Z"
   },
   {
    "duration": 5,
    "start_time": "2024-10-15T21:13:46.016Z"
   },
   {
    "duration": 5,
    "start_time": "2024-10-15T21:13:46.023Z"
   },
   {
    "duration": 16,
    "start_time": "2024-10-15T21:13:46.029Z"
   },
   {
    "duration": 9,
    "start_time": "2024-10-15T21:13:46.047Z"
   },
   {
    "duration": 5,
    "start_time": "2024-10-15T21:13:46.059Z"
   },
   {
    "duration": 5,
    "start_time": "2024-10-15T21:13:46.066Z"
   },
   {
    "duration": 63,
    "start_time": "2024-10-15T21:13:46.072Z"
   },
   {
    "duration": 7,
    "start_time": "2024-10-15T21:13:46.137Z"
   },
   {
    "duration": 18,
    "start_time": "2024-10-15T21:13:46.146Z"
   },
   {
    "duration": 6,
    "start_time": "2024-10-15T21:13:46.169Z"
   },
   {
    "duration": 46,
    "start_time": "2024-10-15T21:13:46.176Z"
   },
   {
    "duration": 20,
    "start_time": "2024-10-15T21:13:46.223Z"
   },
   {
    "duration": 6,
    "start_time": "2024-10-15T21:13:46.244Z"
   },
   {
    "duration": 12,
    "start_time": "2024-10-15T21:13:46.252Z"
   },
   {
    "duration": 48,
    "start_time": "2024-10-15T21:13:46.266Z"
   },
   {
    "duration": 13,
    "start_time": "2024-10-15T21:13:46.316Z"
   },
   {
    "duration": 24,
    "start_time": "2024-10-15T21:13:46.331Z"
   },
   {
    "duration": 7,
    "start_time": "2024-10-15T21:13:46.357Z"
   },
   {
    "duration": 43,
    "start_time": "2024-10-15T21:13:46.366Z"
   },
   {
    "duration": 6,
    "start_time": "2024-10-15T21:13:46.410Z"
   },
   {
    "duration": 14,
    "start_time": "2024-10-15T21:13:46.418Z"
   },
   {
    "duration": 4,
    "start_time": "2024-10-15T21:13:46.433Z"
   },
   {
    "duration": 2,
    "start_time": "2024-10-15T21:13:46.438Z"
   },
   {
    "duration": 18,
    "start_time": "2024-10-15T21:13:46.442Z"
   },
   {
    "duration": 47,
    "start_time": "2024-10-15T21:13:46.462Z"
   },
   {
    "duration": 9,
    "start_time": "2024-10-15T21:13:46.511Z"
   },
   {
    "duration": 3,
    "start_time": "2024-10-15T21:13:46.522Z"
   },
   {
    "duration": 13,
    "start_time": "2024-10-15T21:13:46.527Z"
   },
   {
    "duration": 11,
    "start_time": "2024-10-15T21:13:46.542Z"
   },
   {
    "duration": 11,
    "start_time": "2024-10-15T21:13:46.554Z"
   },
   {
    "duration": 44,
    "start_time": "2024-10-15T21:13:46.567Z"
   },
   {
    "duration": 8,
    "start_time": "2024-10-15T21:13:46.613Z"
   },
   {
    "duration": 8,
    "start_time": "2024-10-15T21:13:46.622Z"
   },
   {
    "duration": 4,
    "start_time": "2024-10-15T21:13:46.632Z"
   },
   {
    "duration": 78,
    "start_time": "2024-10-15T21:13:46.638Z"
   },
   {
    "duration": 8,
    "start_time": "2024-10-15T21:13:46.718Z"
   },
   {
    "duration": 16,
    "start_time": "2024-10-15T21:13:46.731Z"
   },
   {
    "duration": 127,
    "start_time": "2024-10-15T21:13:46.749Z"
   },
   {
    "duration": 2,
    "start_time": "2024-10-15T21:13:46.878Z"
   },
   {
    "duration": 14,
    "start_time": "2024-10-15T21:13:46.881Z"
   },
   {
    "duration": 177,
    "start_time": "2024-10-15T21:13:46.910Z"
   },
   {
    "duration": 2,
    "start_time": "2024-10-15T21:13:47.089Z"
   },
   {
    "duration": 23,
    "start_time": "2024-10-15T21:13:47.093Z"
   },
   {
    "duration": 331,
    "start_time": "2024-10-15T21:13:47.118Z"
   },
   {
    "duration": 5,
    "start_time": "2024-10-15T21:13:47.452Z"
   },
   {
    "duration": 106,
    "start_time": "2024-10-15T21:13:47.459Z"
   },
   {
    "duration": 17,
    "start_time": "2024-10-15T21:13:47.567Z"
   },
   {
    "duration": 167,
    "start_time": "2024-10-15T21:13:47.586Z"
   },
   {
    "duration": 245,
    "start_time": "2024-10-15T21:13:47.754Z"
   },
   {
    "duration": 5,
    "start_time": "2024-10-15T21:13:48.008Z"
   },
   {
    "duration": 95,
    "start_time": "2024-10-15T21:13:48.016Z"
   },
   {
    "duration": 15,
    "start_time": "2024-10-15T21:13:48.113Z"
   },
   {
    "duration": 212,
    "start_time": "2024-10-15T21:13:48.130Z"
   },
   {
    "duration": 5,
    "start_time": "2024-10-15T21:13:48.344Z"
   },
   {
    "duration": 105,
    "start_time": "2024-10-15T21:13:48.351Z"
   },
   {
    "duration": 14,
    "start_time": "2024-10-15T21:13:48.459Z"
   },
   {
    "duration": 161,
    "start_time": "2024-10-15T21:13:48.475Z"
   },
   {
    "duration": 333,
    "start_time": "2024-10-15T21:13:48.638Z"
   },
   {
    "duration": 6,
    "start_time": "2024-10-15T21:13:48.973Z"
   },
   {
    "duration": 93,
    "start_time": "2024-10-15T21:14:45.840Z"
   },
   {
    "duration": 594,
    "start_time": "2024-10-15T21:17:46.241Z"
   },
   {
    "duration": 12,
    "start_time": "2024-10-15T21:17:58.432Z"
   },
   {
    "duration": 149,
    "start_time": "2024-10-15T21:18:04.419Z"
   },
   {
    "duration": 222,
    "start_time": "2024-10-15T21:18:07.897Z"
   },
   {
    "duration": 5,
    "start_time": "2024-10-15T21:18:10.913Z"
   },
   {
    "duration": 94,
    "start_time": "2024-10-15T21:18:13.428Z"
   },
   {
    "duration": 87,
    "start_time": "2024-10-15T21:18:42.843Z"
   }
  ],
  "colab": {
   "provenance": []
  },
  "kernelspec": {
   "display_name": "Python 3 (ipykernel)",
   "language": "python",
   "name": "python3"
  },
  "language_info": {
   "codemirror_mode": {
    "name": "ipython",
    "version": 3
   },
   "file_extension": ".py",
   "mimetype": "text/x-python",
   "name": "python",
   "nbconvert_exporter": "python",
   "pygments_lexer": "ipython3",
   "version": "3.9.19"
  },
  "toc": {
   "base_numbering": 1,
   "nav_menu": {},
   "number_sections": true,
   "sideBar": true,
   "skip_h1_title": false,
   "title_cell": "Table of Contents",
   "title_sidebar": "Contents",
   "toc_cell": false,
   "toc_position": {},
   "toc_section_display": true,
   "toc_window_display": true
  }
 },
 "nbformat": 4,
 "nbformat_minor": 1
}
